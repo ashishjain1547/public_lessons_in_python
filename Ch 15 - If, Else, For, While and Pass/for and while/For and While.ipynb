{
 "cells": [
  {
   "cell_type": "code",
   "execution_count": 1,
   "id": "a30aea49-adaa-40a0-861a-f462b04ab8c2",
   "metadata": {},
   "outputs": [
    {
     "name": "stdout",
     "output_type": "stream",
     "text": [
      "Ashish\n",
      "Lijiya\n",
      "Bala\n"
     ]
    }
   ],
   "source": [
    "l = ['Ashish', 'Lijiya', 'Bala'] \n",
    "for i in l:\n",
    "    print(i)"
   ]
  },
  {
   "cell_type": "code",
   "execution_count": 2,
   "id": "4d881db0-5617-489f-8735-984b4e91ef9a",
   "metadata": {},
   "outputs": [
    {
     "name": "stdout",
     "output_type": "stream",
     "text": [
      "j\n",
      "u\n",
      "s\n",
      "t\n",
      " \n",
      "a\n",
      " \n",
      "s\n",
      "t\n",
      "r\n",
      "i\n",
      "n\n",
      "g\n"
     ]
    }
   ],
   "source": [
    "s = \"just a string\"\n",
    "for i in s:\n",
    "    print(i)"
   ]
  },
  {
   "cell_type": "code",
   "execution_count": 3,
   "id": "a9e92ead-48a5-471c-b7b0-cae5f43b4b2c",
   "metadata": {},
   "outputs": [
    {
     "name": "stdout",
     "output_type": "stream",
     "text": [
      "alpha\n",
      "beta\n",
      "gamma\n"
     ]
    }
   ],
   "source": [
    "t = ('alpha', 'beta', 'gamma')\n",
    "for i in t:\n",
    "    print(i)"
   ]
  },
  {
   "cell_type": "code",
   "execution_count": 4,
   "id": "9c97b204-f513-4f0b-a796-7fac3c4211c3",
   "metadata": {},
   "outputs": [
    {
     "name": "stdout",
     "output_type": "stream",
     "text": [
      "one\n",
      "two\n",
      "three\n"
     ]
    }
   ],
   "source": [
    "d = { 'one': 1, 'two': 2, 'three': 3 }\n",
    "for i in d:\n",
    "    print(i)"
   ]
  },
  {
   "cell_type": "code",
   "execution_count": 5,
   "id": "e62703b3-18e3-44d2-b345-74b948367b4a",
   "metadata": {},
   "outputs": [
    {
     "name": "stdout",
     "output_type": "stream",
     "text": [
      "three\n",
      "two\n",
      "one\n"
     ]
    }
   ],
   "source": [
    "s = {'one', 'two', 'three'}\n",
    "for i in s:\n",
    "    print(i)"
   ]
  },
  {
   "cell_type": "code",
   "execution_count": 2,
   "id": "9ff2af8f-058f-4787-ae12-c8f1449a9e36",
   "metadata": {},
   "outputs": [
    {
     "name": "stdin",
     "output_type": "stream",
     "text": [
      "input range:  21\n"
     ]
    },
    {
     "name": "stdout",
     "output_type": "stream",
     "text": [
      "2\n",
      "4\n",
      "6\n",
      "8\n",
      "10\n",
      "12\n",
      "14\n",
      "16\n",
      "18\n",
      "20\n"
     ]
    }
   ],
   "source": [
    "x = int(input(\"input range: \"))\n",
    "for i in range(1, x):\n",
    "    if i % 2 == 0:\n",
    "        print(i)"
   ]
  },
  {
   "cell_type": "code",
   "execution_count": 12,
   "id": "bd3ad2b1-000d-4c54-a97a-1953cab12728",
   "metadata": {},
   "outputs": [
    {
     "name": "stdin",
     "output_type": "stream",
     "text": [
      "Enter the number:  1\n",
      "Enter the number:  9\n",
      "Enter the number:  22\n",
      "Enter the number:  25\n",
      "Enter the number:  29\n"
     ]
    },
    {
     "name": "stdout",
     "output_type": "stream",
     "text": [
      "sum: 86\n",
      "average: 17.2\n"
     ]
    }
   ],
   "source": [
    "l = []\n",
    "for i in range(5):\n",
    "    l.append(int(input(\"Enter the number: \")))\n",
    "\n",
    "s = sum(l)\n",
    "print(\"sum:\", s)\n",
    "\n",
    "avg = sum(l) / len(l)\n",
    "print(\"average:\", avg)"
   ]
  },
  {
   "cell_type": "code",
   "execution_count": 11,
   "id": "0d1caad4-9fce-4042-96f1-b40ef0cc8511",
   "metadata": {},
   "outputs": [
    {
     "data": {
      "text/plain": [
       "4.5"
      ]
     },
     "execution_count": 11,
     "metadata": {},
     "output_type": "execute_result"
    }
   ],
   "source": [
    "avg"
   ]
  },
  {
   "cell_type": "code",
   "execution_count": 8,
   "id": "ceb79a97-71bc-4d9c-a3de-4cf1063e06fd",
   "metadata": {},
   "outputs": [
    {
     "data": {
      "text/plain": [
       "6"
      ]
     },
     "execution_count": 8,
     "metadata": {},
     "output_type": "execute_result"
    }
   ],
   "source": [
    "random.randrange(1, 10) # start: 1, end: 10 (exclusive)"
   ]
  },
  {
   "cell_type": "code",
   "execution_count": 9,
   "id": "faf4274d-e4e3-4ce9-9554-202a02ae7538",
   "metadata": {},
   "outputs": [
    {
     "name": "stdout",
     "output_type": "stream",
     "text": [
      "[4, 2, 4, 3, 8, 5, 7, 4, 4, 4]\n",
      "45\n",
      "4.5\n"
     ]
    }
   ],
   "source": [
    "import random\n",
    "l = []\n",
    "for i in range(10):\n",
    "    l.append(random.randrange(1, 10))\n",
    "\n",
    "print(l)\n",
    "    \n",
    "s = sum(l)\n",
    "print(s)\n",
    "\n",
    "avg = sum(l) / len(l)\n",
    "print(avg)"
   ]
  },
  {
   "cell_type": "code",
   "execution_count": 5,
   "id": "a0196617-6a1b-4c25-bbe6-589398549fdf",
   "metadata": {},
   "outputs": [
    {
     "name": "stdout",
     "output_type": "stream",
     "text": [
      "1\n",
      "2\n",
      "3\n",
      "4\n",
      "5\n",
      "6\n",
      "7\n",
      "8\n",
      "9\n",
      "10\n"
     ]
    }
   ],
   "source": [
    "\"\"\" \n",
    "for i in range(1, 11):\n",
    "    print(i) \n",
    "\"\"\"\n",
    "\n",
    "\n",
    "i = 1\n",
    "while(i < 11):\n",
    "    print(i, sep=\" \")\n",
    "    i += 1"
   ]
  },
  {
   "cell_type": "code",
   "execution_count": null,
   "id": "4e7ed7c2-49e0-42b3-83fc-c14bbe8295e7",
   "metadata": {},
   "outputs": [],
   "source": []
  }
 ],
 "metadata": {
  "kernelspec": {
   "display_name": "Python 3 (ipykernel)",
   "language": "python",
   "name": "python3"
  },
  "language_info": {
   "codemirror_mode": {
    "name": "ipython",
    "version": 3
   },
   "file_extension": ".py",
   "mimetype": "text/x-python",
   "name": "python",
   "nbconvert_exporter": "python",
   "pygments_lexer": "ipython3",
   "version": "3.9.13"
  }
 },
 "nbformat": 4,
 "nbformat_minor": 5
}
