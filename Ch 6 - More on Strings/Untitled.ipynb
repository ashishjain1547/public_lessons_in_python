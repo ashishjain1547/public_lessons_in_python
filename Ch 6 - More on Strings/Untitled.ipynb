{
 "cells": [
  {
   "cell_type": "code",
   "execution_count": 1,
   "id": "d0a69acd-2f2d-401f-b06e-476e99cfa263",
   "metadata": {},
   "outputs": [],
   "source": [
    "x = \"I love programming\""
   ]
  },
  {
   "cell_type": "code",
   "execution_count": 2,
   "id": "348565f7-a200-4563-b084-165bb343e6da",
   "metadata": {},
   "outputs": [
    {
     "data": {
      "text/plain": [
       "['I', 'love', 'programming']"
      ]
     },
     "execution_count": 2,
     "metadata": {},
     "output_type": "execute_result"
    }
   ],
   "source": [
    "x.split()"
   ]
  },
  {
   "cell_type": "code",
   "execution_count": 3,
   "id": "5ba4d5af-6b51-4dda-a31a-e3bf91a43070",
   "metadata": {},
   "outputs": [],
   "source": [
    "y = \"Suresh,Ashish,Jim,Jack\""
   ]
  },
  {
   "cell_type": "code",
   "execution_count": 5,
   "id": "d9abab4b-4dd3-4f84-aa7f-7dfd5ab89fa8",
   "metadata": {},
   "outputs": [
    {
     "data": {
      "text/plain": [
       "['Suresh', 'Ashish', 'Jim', 'Jack']"
      ]
     },
     "execution_count": 5,
     "metadata": {},
     "output_type": "execute_result"
    }
   ],
   "source": [
    "y.split(\",\")"
   ]
  },
  {
   "cell_type": "code",
   "execution_count": 13,
   "id": "f8db05fe-5e47-4522-a2af-3f4aaa9b4fd4",
   "metadata": {},
   "outputs": [],
   "source": [
    "z = '''\n",
    "Hello, there!\n",
    "Am here to code.\n",
    "Happy Learning!\n",
    "'''"
   ]
  },
  {
   "cell_type": "code",
   "execution_count": 7,
   "id": "2d70629b-e23a-4e44-98ae-830b7abbbf0e",
   "metadata": {},
   "outputs": [
    {
     "data": {
      "text/plain": [
       "'\\nHello, there!\\nAm here to code.\\nHappy Learning!\\n'"
      ]
     },
     "execution_count": 7,
     "metadata": {},
     "output_type": "execute_result"
    }
   ],
   "source": [
    "z"
   ]
  },
  {
   "cell_type": "code",
   "execution_count": 8,
   "id": "5a6d3f7f-39d6-4e50-baac-d02874973ebf",
   "metadata": {},
   "outputs": [
    {
     "data": {
      "text/plain": [
       "['', 'Hello, there!', 'Am here to code.', 'Happy Learning!', '']"
      ]
     },
     "execution_count": 8,
     "metadata": {},
     "output_type": "execute_result"
    }
   ],
   "source": [
    "z.split(\"\\n\")"
   ]
  },
  {
   "cell_type": "code",
   "execution_count": 9,
   "id": "f6a195bb-37d9-4048-a6b5-094f382da8c5",
   "metadata": {},
   "outputs": [
    {
     "data": {
      "text/plain": [
       "['', 'Hello, there!', 'Am here to code.', 'Happy Learning!']"
      ]
     },
     "execution_count": 9,
     "metadata": {},
     "output_type": "execute_result"
    }
   ],
   "source": [
    "z.splitlines()"
   ]
  },
  {
   "cell_type": "code",
   "execution_count": null,
   "id": "33c20e24-0b57-4d7b-ab11-ab4f19844dcd",
   "metadata": {},
   "outputs": [],
   "source": []
  }
 ],
 "metadata": {
  "kernelspec": {
   "display_name": "Python 3 (ipykernel)",
   "language": "python",
   "name": "python3"
  },
  "language_info": {
   "codemirror_mode": {
    "name": "ipython",
    "version": 3
   },
   "file_extension": ".py",
   "mimetype": "text/x-python",
   "name": "python",
   "nbconvert_exporter": "python",
   "pygments_lexer": "ipython3",
   "version": "3.9.13"
  }
 },
 "nbformat": 4,
 "nbformat_minor": 5
}
