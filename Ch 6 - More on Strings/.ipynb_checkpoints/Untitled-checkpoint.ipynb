{
 "cells": [
  {
   "cell_type": "code",
   "execution_count": 4,
   "id": "f6afd2e7-e4fa-4e71-ad9b-f5163ac68a24",
   "metadata": {},
   "outputs": [],
   "source": [
    "import string\n",
    "import re\n",
    "import random"
   ]
  },
  {
   "cell_type": "code",
   "execution_count": 5,
   "id": "3c73d5f4-dfaa-4c4e-bf77-b01095c2668c",
   "metadata": {},
   "outputs": [
    {
     "data": {
      "text/plain": [
       "'abcdefghijklmnopqrstuvwxyz'"
      ]
     },
     "execution_count": 5,
     "metadata": {},
     "output_type": "execute_result"
    }
   ],
   "source": [
    "string.ascii_lowercase"
   ]
  },
  {
   "cell_type": "code",
   "execution_count": 6,
   "id": "550aeabe-a68d-43fd-bdda-c481a88fe145",
   "metadata": {},
   "outputs": [],
   "source": [
    "l = [chr(i) for i in range(ord('a'), ord('z') + 1)]"
   ]
  },
  {
   "cell_type": "code",
   "execution_count": 7,
   "id": "666bddbb-82d9-4971-b0c0-869f4ac63caf",
   "metadata": {},
   "outputs": [
    {
     "name": "stdout",
     "output_type": "stream",
     "text": [
      "['a', 'b', 'c', 'd', 'e', 'f', 'g', 'h', 'i', 'j', 'k', 'l', 'm', 'n', 'o', 'p', 'q', 'r', 's', 't', 'u', 'v', 'w', 'x', 'y', 'z']\n"
     ]
    }
   ],
   "source": [
    "print(l)"
   ]
  },
  {
   "cell_type": "code",
   "execution_count": 8,
   "id": "ec57deab-7a82-43d4-bd5a-4a2e895b2be0",
   "metadata": {},
   "outputs": [
    {
     "name": "stdout",
     "output_type": "stream",
     "text": [
      "abcdefghijklmnopqrstuvwxyz\n"
     ]
    }
   ],
   "source": [
    "s = \"\"\n",
    "for i in range(ord('a'), ord('z') + 1): s += chr(i)\n",
    "print(s)"
   ]
  },
  {
   "cell_type": "code",
   "execution_count": 9,
   "id": "9c3fba1f-694f-4006-a37d-d8f358af29bd",
   "metadata": {},
   "outputs": [
    {
     "name": "stdout",
     "output_type": "stream",
     "text": [
      "0123456789\n",
      "abcdefghijklmnopqrstuvwxyz\n",
      "ABCDEFGHIJKLMNOPQRSTUVWXYZ\n",
      "abcdefghijklmnopqrstuvwxyzABCDEFGHIJKLMNOPQRSTUVWXYZ\n",
      "0123456789abcdefghijklmnopqrstuvwxyzABCDEFGHIJKLMNOPQRSTUVWXYZ!\"#$%&'()*+,-./:;<=>?@[\\]^_`{|}~ \t\n",
      "\u000b",
      "\f",
      "\n",
      "0123456789abcdefABCDEF\n",
      "01234567\n"
     ]
    }
   ],
   "source": [
    "print(string.digits)\n",
    "print(string.ascii_lowercase)\n",
    "print(string.ascii_uppercase)\n",
    "print(string.ascii_letters)\n",
    "print(string.printable)\n",
    "print(string.hexdigits)\n",
    "print(string.octdigits)"
   ]
  },
  {
   "cell_type": "code",
   "execution_count": 10,
   "id": "3a0c607c-be72-4d08-98ec-e0a46d0f3980",
   "metadata": {},
   "outputs": [],
   "source": [
    "x = \"A line about Python String from the book 'Pg 191, Learning Python (O'Reilly, 5e)': Strictly speaking, Python strings are categorized as immutable sequences, meaning that the characters they contain have a left-to-right positional order and that they cannot be changed in place. In fact, strings are the first representative of the larger class of objects called sequences that we will study here. Pay special attention to the sequence operations introduced in this post, because they will work the same on other sequence types we’ll explore later, such as lists and tuples. Note: All string methods returns new values. They do not change the original string.\""
   ]
  },
  {
   "cell_type": "code",
   "execution_count": 11,
   "id": "72ae6e20-2e12-4af6-9ba5-35ed107779c3",
   "metadata": {},
   "outputs": [
    {
     "data": {
      "text/plain": [
       "\"A line about Python String from the book 'Pg 191, Learning Python (O'Reilly, 5e)': Strictly speaking, Python strings are categorized as immutable sequences, meaning that the characters they contain have a left-to-right positional order and that they cannot be changed in place. In fact, strings are the first representative of the larger class of objects called sequences that we will study here. Pay special attention to the sequence operations introduced in this post, because they will work the same on other sequence types we’ll explore later, such as lists and tuples. Note: All string methods returns new values. They do not change the original string.\""
      ]
     },
     "execution_count": 11,
     "metadata": {},
     "output_type": "execute_result"
    }
   ],
   "source": [
    "x"
   ]
  },
  {
   "cell_type": "code",
   "execution_count": 12,
   "id": "e84e2694-0fb6-446c-a048-8d05c994980a",
   "metadata": {},
   "outputs": [
    {
     "data": {
      "text/plain": [
       "39"
      ]
     },
     "execution_count": 12,
     "metadata": {},
     "output_type": "execute_result"
    }
   ],
   "source": [
    "x.count('a')"
   ]
  },
  {
   "cell_type": "code",
   "execution_count": 13,
   "id": "fa4dc516-b367-4238-beaf-bc420bd595bc",
   "metadata": {},
   "outputs": [
    {
     "name": "stdout",
     "output_type": "stream",
     "text": [
      "a 39\n"
     ]
    }
   ],
   "source": [
    "for i in string.ascii_letters: \n",
    "    print(i, x.count(i))\n",
    "    break"
   ]
  },
  {
   "cell_type": "code",
   "execution_count": 14,
   "id": "8d6ecc73-acb2-454a-9fbb-9dffe880a90b",
   "metadata": {},
   "outputs": [
    {
     "name": "stdout",
     "output_type": "stream",
     "text": [
      "658\n",
      "105\n",
      "6\n"
     ]
    }
   ],
   "source": [
    "print(len(x))\n",
    "print(len(x.split()))\n",
    "print(len(x.split(\".\")))"
   ]
  },
  {
   "cell_type": "code",
   "execution_count": 26,
   "id": "a0d6e664-f9f1-4418-8655-634af122e908",
   "metadata": {},
   "outputs": [],
   "source": [
    "import numpy"
   ]
  },
  {
   "cell_type": "code",
   "execution_count": 17,
   "id": "e10371d0-6815-4c62-8edb-a98654ec974c",
   "metadata": {},
   "outputs": [],
   "source": [
    "import dateutil"
   ]
  },
  {
   "cell_type": "code",
   "execution_count": 31,
   "id": "12162d64-fabd-42ba-b55c-0a3746bbdab2",
   "metadata": {},
   "outputs": [
    {
     "data": {
      "text/plain": [
       "'2.8.2'"
      ]
     },
     "execution_count": 31,
     "metadata": {},
     "output_type": "execute_result"
    }
   ],
   "source": [
    "dateutil.__version__"
   ]
  },
  {
   "cell_type": "code",
   "execution_count": 28,
   "id": "205df2e0-64a3-4f77-9d19-15db788a0104",
   "metadata": {},
   "outputs": [
    {
     "name": "stdout",
     "output_type": "stream",
     "text": [
      "\u001b[33mWARNING: Package(s) not found: dateutil\u001b[0m\u001b[33m\n",
      "\u001b[0m"
     ]
    }
   ],
   "source": [
    "!pip show dateutil"
   ]
  },
  {
   "cell_type": "code",
   "execution_count": 24,
   "id": "84e7078c-2ae5-49ee-bf7c-98794f3a4cad",
   "metadata": {},
   "outputs": [],
   "source": [
    "d = dateutil.parser.parse(\"5.1.2015\", dayfirst=True)"
   ]
  },
  {
   "cell_type": "code",
   "execution_count": 25,
   "id": "6d2c22a9-d67b-461f-a51e-032b5f282762",
   "metadata": {},
   "outputs": [
    {
     "name": "stdout",
     "output_type": "stream",
     "text": [
      "5 1 2015\n"
     ]
    }
   ],
   "source": [
    "print(d.day, d.month, d.year)"
   ]
  },
  {
   "cell_type": "code",
   "execution_count": null,
   "id": "d73a7312-684a-45cd-9d46-47bc1bca3626",
   "metadata": {},
   "outputs": [],
   "source": []
  },
  {
   "cell_type": "code",
   "execution_count": 32,
   "id": "abbc001e-511c-402b-9939-387a65e604ac",
   "metadata": {},
   "outputs": [
    {
     "data": {
      "text/plain": [
       "\"A line about Python String from the book 'Pg 191, Learning Python (O'Reilly, 5e)': Strictly speaking, Python strings are categorized as immutable sequences, meaning that the characters they contain have a left-to-right positional order and that they cannot be changed in place. In fact, strings are the first representative of the larger class of objects called sequences that we will study here. Pay special attention to the sequence operations introduced in this post, because they will work the same on other sequence types we’ll explore later, such as lists and tuples. Note: All string methods returns new values. They do not change the original string.\""
      ]
     },
     "execution_count": 32,
     "metadata": {},
     "output_type": "execute_result"
    }
   ],
   "source": [
    "x"
   ]
  },
  {
   "cell_type": "code",
   "execution_count": 33,
   "id": "f7ee0fe8-1ee0-43b7-91c0-8ab05cf751f1",
   "metadata": {},
   "outputs": [
    {
     "name": "stdout",
     "output_type": "stream",
     "text": [
      "that the charac\n"
     ]
    }
   ],
   "source": [
    "x.find('that') # Find method of string class\n",
    "print(x[x.find('that') : x.find('that') + 15])"
   ]
  },
  {
   "cell_type": "code",
   "execution_count": 34,
   "id": "7a1e81aa-9e47-48ec-9a95-c45f7d659dd3",
   "metadata": {},
   "outputs": [
    {
     "data": {
      "text/plain": [
       "3"
      ]
     },
     "execution_count": 34,
     "metadata": {},
     "output_type": "execute_result"
    }
   ],
   "source": [
    "x.find('in')"
   ]
  },
  {
   "cell_type": "code",
   "execution_count": 35,
   "id": "3d8b9400-59a9-4bc2-a97a-fc6d54735ae2",
   "metadata": {},
   "outputs": [
    {
     "name": "stdout",
     "output_type": "stream",
     "text": [
      "String match \"that\" at slice 165:169\n",
      "String match \"that\" at slice 240:244\n",
      "String match \"that\" at slice 372:376\n"
     ]
    }
   ],
   "source": [
    "pattern = 'that'\n",
    "for match in re.finditer(pattern, x):\n",
    "    s = match.start()\n",
    "    e = match.end()\n",
    "    # print('String match \"%s\" at slice %d:%d' % (x[s:e], s, e))\n",
    "    print('String match \"{}\" at slice {}:{}'.format(x[s:e], s, e))"
   ]
  },
  {
   "cell_type": "code",
   "execution_count": 37,
   "id": "017fc710-032b-49ff-8a85-2ac9baf42ac5",
   "metadata": {},
   "outputs": [
    {
     "name": "stdout",
     "output_type": "stream",
     "text": [
      "String match \" in \" at slice 267:271\n",
      "String match \" in \" at slice 456:460\n"
     ]
    }
   ],
   "source": [
    "pattern = ' in '\n",
    "for match in re.finditer(pattern, x):\n",
    "    s = match.start()\n",
    "    e = match.end()\n",
    "    # print('String match \"%s\" at slice %d:%d' % (x[s:e], s, e))\n",
    "    print('String match \"{}\" at slice {}:{}'.format(x[s:e], s, e))"
   ]
  },
  {
   "cell_type": "code",
   "execution_count": 86,
   "id": "3e693fa9-9f70-429e-a576-4bd3cde2867f",
   "metadata": {},
   "outputs": [],
   "source": [
    "country_codes = {\n",
    "    \"+61\": \"Australia\",\n",
    "    \"+91\": \"India\",\n",
    "    \"+92\": \"Pakistan\",\n",
    "    \"+94\": \"Sri Lanka\",\n",
    "}"
   ]
  },
  {
   "cell_type": "code",
   "execution_count": 94,
   "id": "0b13bc32-fcee-4699-b3d7-051756cfeb52",
   "metadata": {},
   "outputs": [],
   "source": [
    "ph_list = []\n",
    "for i in range(20):\n",
    "    ph = \"\"\n",
    "    for i in range(10): ph += str(random.randrange(1, 10))\n",
    "    \n",
    "    ph_list.append(random.choice(list(country_codes.keys())) + ph)"
   ]
  },
  {
   "cell_type": "code",
   "execution_count": 95,
   "id": "6edd2679-a17c-461b-a853-058c60f28999",
   "metadata": {},
   "outputs": [
    {
     "data": {
      "text/plain": [
       "['+916931271267',\n",
       " '+917651179969',\n",
       " '+946537287864',\n",
       " '+943685549868',\n",
       " '+916145595723',\n",
       " '+611998419265',\n",
       " '+916486522229',\n",
       " '+612254354296',\n",
       " '+942451896152',\n",
       " '+928729946665',\n",
       " '+941189538821',\n",
       " '+613157532271',\n",
       " '+927351481817',\n",
       " '+912546373287',\n",
       " '+611138287122',\n",
       " '+617663659431',\n",
       " '+922936984789',\n",
       " '+925542964793',\n",
       " '+919929189699',\n",
       " '+914187412422']"
      ]
     },
     "execution_count": 95,
     "metadata": {},
     "output_type": "execute_result"
    }
   ],
   "source": [
    "ph_list"
   ]
  },
  {
   "cell_type": "code",
   "execution_count": 88,
   "id": "06eb2ba1-9768-48eb-a2a6-9874451fa72a",
   "metadata": {},
   "outputs": [
    {
     "data": {
      "text/plain": [
       "6"
      ]
     },
     "execution_count": 88,
     "metadata": {},
     "output_type": "execute_result"
    }
   ],
   "source": [
    "random.randrange(1,10)"
   ]
  },
  {
   "cell_type": "code",
   "execution_count": 77,
   "id": "9e0686b4-0d64-49a3-861d-7fdf9900799a",
   "metadata": {},
   "outputs": [
    {
     "data": {
      "text/plain": [
       "\"A Line About Python String From The Book 'pg 191, Learning Python (o'reilly, 5e)': Strictly Speaking, Python Strings Are Categorized As Immutable Sequences, Meaning That The Characters They Contain Have A Left-to-right Positional Order And That They Cannot Be Changed In Place. In Fact, Strings Are The First Representative Of The Larger Class Of Objects Called Sequences That We Will Study Here. Pay Special Attention To The Sequence Operations Introduced In This Post, Because They Will Work The Same On Other Sequence Types We’ll Explore Later, Such As Lists And Tuples. Note: All String Methods Returns New Values. They Do Not Change The Original String.\""
      ]
     },
     "execution_count": 77,
     "metadata": {},
     "output_type": "execute_result"
    }
   ],
   "source": [
    "string.capwords(x)"
   ]
  },
  {
   "cell_type": "code",
   "execution_count": null,
   "id": "b10f4c46-2247-438d-8433-735d67086855",
   "metadata": {},
   "outputs": [],
   "source": []
  },
  {
   "cell_type": "code",
   "execution_count": null,
   "id": "6528c31b-a3c7-410d-932c-42c7fa81aedf",
   "metadata": {},
   "outputs": [],
   "source": []
  },
  {
   "cell_type": "code",
   "execution_count": 100,
   "id": "b5f84a35-ad8a-4504-9b6f-9ae9a05a63bc",
   "metadata": {},
   "outputs": [
    {
     "name": "stdout",
     "output_type": "stream",
     "text": [
      "+916931271267 India\n",
      "+917651179969 India\n",
      "+946537287864 Sri Lanka\n",
      "+943685549868 Sri Lanka\n",
      "+916145595723 India\n",
      "+611998419265 Australia\n",
      "+916486522229 India\n",
      "+612254354296 Australia\n",
      "+942451896152 Sri Lanka\n",
      "+928729946665 Pakistan\n",
      "+941189538821 Sri Lanka\n",
      "+613157532271 Australia\n",
      "+927351481817 Pakistan\n",
      "+912546373287 India\n",
      "+611138287122 Australia\n",
      "+617663659431 Australia\n",
      "+922936984789 Pakistan\n",
      "+925542964793 Pakistan\n",
      "+919929189699 India\n",
      "+914187412422 India\n"
     ]
    }
   ],
   "source": [
    "phn = ['+916931271267',\n",
    " '+917651179969',\n",
    " '+946537287864',\n",
    " '+943685549868',\n",
    " '+916145595723',\n",
    " '+611998419265',\n",
    " '+916486522229',\n",
    " '+612254354296',\n",
    " '+942451896152',\n",
    " '+928729946665',\n",
    " '+941189538821',\n",
    " '+613157532271',\n",
    " '+927351481817',\n",
    " '+912546373287',\n",
    " '+611138287122',\n",
    " '+617663659431',\n",
    " '+922936984789',\n",
    " '+925542964793',\n",
    " '+919929189699',\n",
    " '+914187412422']\n",
    "\n",
    "country_codes = {\n",
    "    \"+61\": \"Australia\",\n",
    "    \"+91\": \"India\",\n",
    "    \"+92\": \"Pakistan\",\n",
    "    \"+94\": \"Sri Lanka\",\n",
    "}\n",
    "\n",
    "for i in phn:\n",
    "    # Picking first three characters would be incorrect because\n",
    "    # you have country codes like: +1 (for US, Canada) \n",
    "    # and +254 (for Kenya)\n",
    "    \n",
    "    for j in country_codes:\n",
    "        if (i.startswith(j)):\n",
    "            print(i, country_codes[j])"
   ]
  },
  {
   "cell_type": "code",
   "execution_count": null,
   "id": "ceca3849-d5ce-4499-a401-75649b088c0e",
   "metadata": {},
   "outputs": [],
   "source": []
  },
  {
   "cell_type": "code",
   "execution_count": 102,
   "id": "ffe3ad94-3e29-4573-9ae3-ed904a7908db",
   "metadata": {},
   "outputs": [
    {
     "name": "stdout",
     "output_type": "stream",
     "text": [
      "True\n",
      "False\n"
     ]
    }
   ],
   "source": [
    "print('+917651179969'.startswith('+91'))\n",
    "print('+917651179969'.startswith('+92'))"
   ]
  },
  {
   "cell_type": "code",
   "execution_count": null,
   "id": "00af91cf-2607-4d26-ac1e-ef98f3521cce",
   "metadata": {},
   "outputs": [],
   "source": []
  },
  {
   "cell_type": "code",
   "execution_count": 108,
   "id": "58227aba-ebf6-4187-94de-c7c01877de18",
   "metadata": {},
   "outputs": [],
   "source": [
    "dates_of_birth = ['01/01/2003', '02/01/2004', '07/07/2003',\n",
    "                  '03/02/2003', '04/03/2004', '05/03/2004']"
   ]
  },
  {
   "cell_type": "code",
   "execution_count": 110,
   "id": "f1074157-7e56-44d6-824d-25a09b4a7c3f",
   "metadata": {},
   "outputs": [
    {
     "name": "stdout",
     "output_type": "stream",
     "text": [
      "01/01/2003\n",
      "07/07/2003\n",
      "03/02/2003\n"
     ]
    }
   ],
   "source": [
    "for i in dates_of_birth:\n",
    "    if i.endswith('2003'): print(i)"
   ]
  },
  {
   "cell_type": "code",
   "execution_count": null,
   "id": "d49219dc-4784-4a29-9fb9-1c50a78b95c6",
   "metadata": {},
   "outputs": [],
   "source": []
  },
  {
   "cell_type": "code",
   "execution_count": 1,
   "id": "b3d383d9-dea7-47ec-9450-f9c5a3e73f5a",
   "metadata": {},
   "outputs": [],
   "source": [
    "x = \"I love programming\""
   ]
  },
  {
   "cell_type": "code",
   "execution_count": 2,
   "id": "348565f7-a200-4563-b084-165bb343e6da",
   "metadata": {},
   "outputs": [
    {
     "data": {
      "text/plain": [
       "['I', 'love', 'programming']"
      ]
     },
     "execution_count": 2,
     "metadata": {},
     "output_type": "execute_result"
    }
   ],
   "source": [
    "x.split()"
   ]
  },
  {
   "cell_type": "code",
   "execution_count": 3,
   "id": "5ba4d5af-6b51-4dda-a31a-e3bf91a43070",
   "metadata": {},
   "outputs": [],
   "source": [
    "y = \"Suresh,Ashish,Jim,Jack\""
   ]
  },
  {
   "cell_type": "code",
   "execution_count": 5,
   "id": "d9abab4b-4dd3-4f84-aa7f-7dfd5ab89fa8",
   "metadata": {},
   "outputs": [
    {
     "data": {
      "text/plain": [
       "['Suresh', 'Ashish', 'Jim', 'Jack']"
      ]
     },
     "execution_count": 5,
     "metadata": {},
     "output_type": "execute_result"
    }
   ],
   "source": [
    "y.split(\",\")"
   ]
  },
  {
   "cell_type": "code",
   "execution_count": 38,
   "id": "3f05e6c2-a7e2-4361-8648-2e1008003de5",
   "metadata": {},
   "outputs": [],
   "source": [
    "z = \"Suresh,Ashish.Jim,Jack.Vaibhav\" # Two separators \",\" and \".\""
   ]
  },
  {
   "cell_type": "code",
   "execution_count": 39,
   "id": "befb1aed-f745-46b8-b9b5-54336e5e2e87",
   "metadata": {},
   "outputs": [
    {
     "data": {
      "text/plain": [
       "['Suresh', 'Ashish', 'Jim', 'Jack', 'Vaibhav']"
      ]
     },
     "execution_count": 39,
     "metadata": {},
     "output_type": "execute_result"
    }
   ],
   "source": [
    "re.split(\"[.,]\", z)"
   ]
  },
  {
   "cell_type": "code",
   "execution_count": 44,
   "id": "f8db05fe-5e47-4522-a2af-3f4aaa9b4fd4",
   "metadata": {},
   "outputs": [],
   "source": [
    "z = '''Hello, there!\n",
    "Am here to code.\n",
    "Happy Learning!\n",
    "Here was a multiline string!\n",
    "'''"
   ]
  },
  {
   "cell_type": "code",
   "execution_count": 45,
   "id": "2d70629b-e23a-4e44-98ae-830b7abbbf0e",
   "metadata": {},
   "outputs": [
    {
     "data": {
      "text/plain": [
       "'Hello, there!\\nAm here to code.\\nHappy Learning!\\nHere was a multiline string!\\n'"
      ]
     },
     "execution_count": 45,
     "metadata": {},
     "output_type": "execute_result"
    }
   ],
   "source": [
    "z"
   ]
  },
  {
   "cell_type": "code",
   "execution_count": 46,
   "id": "5a6d3f7f-39d6-4e50-baac-d02874973ebf",
   "metadata": {},
   "outputs": [
    {
     "data": {
      "text/plain": [
       "['Hello, there!',\n",
       " 'Am here to code.',\n",
       " 'Happy Learning!',\n",
       " 'Here was a multiline string!',\n",
       " '']"
      ]
     },
     "execution_count": 46,
     "metadata": {},
     "output_type": "execute_result"
    }
   ],
   "source": [
    "z.split(\"\\n\")"
   ]
  },
  {
   "cell_type": "code",
   "execution_count": 47,
   "id": "f6a195bb-37d9-4048-a6b5-094f382da8c5",
   "metadata": {},
   "outputs": [
    {
     "data": {
      "text/plain": [
       "['Hello, there!',\n",
       " 'Am here to code.',\n",
       " 'Happy Learning!',\n",
       " 'Here was a multiline string!']"
      ]
     },
     "execution_count": 47,
     "metadata": {},
     "output_type": "execute_result"
    }
   ],
   "source": [
    "z.splitlines()"
   ]
  },
  {
   "cell_type": "markdown",
   "id": "ed75749a-32c5-41bd-aec9-adfad6546650",
   "metadata": {},
   "source": [
    "# Form Validation"
   ]
  },
  {
   "cell_type": "code",
   "execution_count": 53,
   "id": "33c20e24-0b57-4d7b-ab11-ab4f19844dcd",
   "metadata": {},
   "outputs": [
    {
     "name": "stdin",
     "output_type": "stream",
     "text": [
      "Enter your age (in years): 5.2\n"
     ]
    }
   ],
   "source": [
    "age = input(\"Enter your age (in years):\")"
   ]
  },
  {
   "cell_type": "code",
   "execution_count": 54,
   "id": "f6f19302-ed89-481b-9c05-02e533ca6f4f",
   "metadata": {},
   "outputs": [
    {
     "data": {
      "text/plain": [
       "False"
      ]
     },
     "execution_count": 54,
     "metadata": {},
     "output_type": "execute_result"
    }
   ],
   "source": [
    "str(age).isdigit()"
   ]
  },
  {
   "cell_type": "code",
   "execution_count": 58,
   "id": "f19a5ff0-6c51-4d5d-802a-7709a2976259",
   "metadata": {},
   "outputs": [
    {
     "name": "stdin",
     "output_type": "stream",
     "text": [
      "Enter your first name: vaibhav\n"
     ]
    }
   ],
   "source": [
    "first_name = input(\"Enter your first name:\")"
   ]
  },
  {
   "cell_type": "code",
   "execution_count": 59,
   "id": "af42902b-d60d-44b7-9764-978d27cf6a2c",
   "metadata": {},
   "outputs": [
    {
     "data": {
      "text/plain": [
       "True"
      ]
     },
     "execution_count": 59,
     "metadata": {},
     "output_type": "execute_result"
    }
   ],
   "source": [
    "first_name.isalpha()"
   ]
  },
  {
   "cell_type": "markdown",
   "id": "f69b05d9-9ca2-49ad-a515-0ce6be790161",
   "metadata": {},
   "source": [
    "# zfill()"
   ]
  },
  {
   "cell_type": "code",
   "execution_count": 1,
   "id": "cb0469de-7b2a-4bd5-a7ee-35a5892761aa",
   "metadata": {},
   "outputs": [],
   "source": [
    "empid_1 = '1015'\n",
    "empid_2 = '99234'\n",
    "empid_3 = '197234'"
   ]
  },
  {
   "cell_type": "code",
   "execution_count": 2,
   "id": "f90feb75-b042-46c7-9aa9-7f7999f38f4b",
   "metadata": {},
   "outputs": [],
   "source": [
    "empids = [empid_1, empid_2, empid_3]"
   ]
  },
  {
   "cell_type": "code",
   "execution_count": 3,
   "id": "54770d18-1f80-4482-92d3-5bdc31fc8f58",
   "metadata": {},
   "outputs": [],
   "source": [
    "formatted_empids = [i.zfill(7) for i in empids] # List comprehension"
   ]
  },
  {
   "cell_type": "code",
   "execution_count": 4,
   "id": "902d3501-ddbc-46a9-91c2-fea34e61659a",
   "metadata": {},
   "outputs": [
    {
     "data": {
      "text/plain": [
       "['0001015', '0099234', '0197234']"
      ]
     },
     "execution_count": 4,
     "metadata": {},
     "output_type": "execute_result"
    }
   ],
   "source": [
    "formatted_empids"
   ]
  },
  {
   "cell_type": "code",
   "execution_count": null,
   "id": "68847dc2-ad05-41b6-afef-a45d42ce3d7e",
   "metadata": {},
   "outputs": [],
   "source": []
  }
 ],
 "metadata": {
  "kernelspec": {
   "display_name": "Python 3 (ipykernel)",
   "language": "python",
   "name": "python3"
  },
  "language_info": {
   "codemirror_mode": {
    "name": "ipython",
    "version": 3
   },
   "file_extension": ".py",
   "mimetype": "text/x-python",
   "name": "python",
   "nbconvert_exporter": "python",
   "pygments_lexer": "ipython3",
   "version": "3.9.13"
  }
 },
 "nbformat": 4,
 "nbformat_minor": 5
}
