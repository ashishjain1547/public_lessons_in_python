{
 "cells": [
  {
   "cell_type": "code",
   "execution_count": 33,
   "id": "d6fa7bd5-8582-4fb7-89af-482c0c647eb1",
   "metadata": {},
   "outputs": [],
   "source": [
    "d = [13, 15, 16, 16, 19, 20, 20, 21, 22, 22, 25, 25, 25, 25, \n",
    "           30, 33, 33, 35, 35, 35, 36, 40, 45, 46, 52, 70]"
   ]
  },
  {
   "cell_type": "code",
   "execution_count": 34,
   "id": "7cc762e3-e74e-4270-a96a-e8f45f4c0d6e",
   "metadata": {},
   "outputs": [
    {
     "data": {
      "text/plain": [
       "774"
      ]
     },
     "execution_count": 34,
     "metadata": {},
     "output_type": "execute_result"
    }
   ],
   "source": [
    "# Sum of all elements using simple built in sum function\n",
    "sum(d)"
   ]
  },
  {
   "cell_type": "code",
   "execution_count": 35,
   "id": "c382120e-60fb-4fc7-82f8-4862729fd87a",
   "metadata": {},
   "outputs": [
    {
     "name": "stdout",
     "output_type": "stream",
     "text": [
      "Counter({25: 4, 35: 3, 16: 2, 20: 2, 22: 2, 33: 2, 13: 1, 15: 1, 19: 1, 21: 1, 30: 1, 36: 1, 40: 1, 45: 1, 46: 1, 52: 1, 70: 1})\n"
     ]
    }
   ],
   "source": [
    "# Getting Count of each items \n",
    "from collections import Counter \n",
    "\n",
    "print(Counter(d))"
   ]
  },
  {
   "cell_type": "code",
   "execution_count": 36,
   "id": "a6936827-9cd2-425b-a00e-72194f99a796",
   "metadata": {},
   "outputs": [],
   "source": [
    "import statistics as st"
   ]
  },
  {
   "cell_type": "code",
   "execution_count": 37,
   "id": "69ee9c54-ca55-4526-a8a6-157588c80a94",
   "metadata": {},
   "outputs": [
    {
     "data": {
      "text/plain": [
       "29.76923076923077"
      ]
     },
     "execution_count": 37,
     "metadata": {},
     "output_type": "execute_result"
    }
   ],
   "source": [
    "# Mean -> Sum of all data items / total no of data items\n",
    "st.mean(d)"
   ]
  },
  {
   "cell_type": "code",
   "execution_count": 38,
   "id": "ac82af6f-64de-4218-a703-30a41ca1aed2",
   "metadata": {},
   "outputs": [
    {
     "data": {
      "text/plain": [
       "25.0"
      ]
     },
     "execution_count": 38,
     "metadata": {},
     "output_type": "execute_result"
    }
   ],
   "source": [
    "# Median -> Average of two items exist in mid of data set \n",
    "\n",
    "st.median(d)"
   ]
  },
  {
   "cell_type": "code",
   "execution_count": 39,
   "id": "0c948756-9353-40d9-8980-787105c583a9",
   "metadata": {},
   "outputs": [
    {
     "data": {
      "text/plain": [
       "25"
      ]
     },
     "execution_count": 39,
     "metadata": {},
     "output_type": "execute_result"
    }
   ],
   "source": [
    "# Mode -> Item with highest frequency of appearance \n",
    "\n",
    "st.mode(d)"
   ]
  },
  {
   "cell_type": "code",
   "execution_count": 42,
   "id": "a5bb9aae-1f4e-445d-949f-660e7eaf1d8c",
   "metadata": {},
   "outputs": [
    {
     "name": "stdout",
     "output_type": "stream",
     "text": [
      "41.5\n"
     ]
    }
   ],
   "source": [
    "# Mid-range -> Average of MaxValue And MinValue item\n",
    "\n",
    "print(st.mean([max(d), min(d)]))"
   ]
  },
  {
   "cell_type": "code",
   "execution_count": 40,
   "id": "3d454719-6b5c-485c-a82f-fa8e9bae4a80",
   "metadata": {},
   "outputs": [
    {
     "name": "stdout",
     "output_type": "stream",
     "text": [
      "Mid Range Value Of Data Set : \n",
      "41.5\n",
      "Quantiles Of Data Set : \n",
      "[20.0, 25.0, 35.25]\n",
      "Std. Deviation Of Data Set : \n",
      "13.158442741624686\n",
      "Variance Of Data Set : \n",
      "173.14461538461538\n"
     ]
    }
   ],
   "source": [
    "# Other Useful statistical measures\n",
    "\n",
    "print(\"Quantiles Of Data Set : \")\n",
    "print(st.quantiles(data = d, n = 4)) # [20.0, 25.0, 35.25]\n",
    "print(\"Std. Deviation Of Data Set : \")\n",
    "print(st.stdev(d))\n",
    "print(\"Variance Of Data Set : \")\n",
    "print(st.variance(d))"
   ]
  },
  {
   "cell_type": "code",
   "execution_count": null,
   "id": "2ca118eb-5fef-4f52-960d-af94f767ed9f",
   "metadata": {},
   "outputs": [],
   "source": []
  },
  {
   "cell_type": "code",
   "execution_count": 21,
   "id": "91cf60ad-2698-4452-bace-87daaee74b93",
   "metadata": {},
   "outputs": [],
   "source": [
    "import pandas as pd"
   ]
  },
  {
   "cell_type": "code",
   "execution_count": 22,
   "id": "a5e4a838-7f99-4f59-86c5-a160d7d4be41",
   "metadata": {},
   "outputs": [],
   "source": [
    "s = pd.Series(d)"
   ]
  },
  {
   "cell_type": "code",
   "execution_count": 11,
   "id": "58f25bef-ff6f-4aa0-9060-9a42468e19d0",
   "metadata": {},
   "outputs": [
    {
     "data": {
      "text/plain": [
       "count    26.000000\n",
       "mean     29.769231\n",
       "std      13.158443\n",
       "min      13.000000\n",
       "25%      20.250000\n",
       "50%      25.000000\n",
       "75%      35.000000\n",
       "max      70.000000\n",
       "dtype: float64"
      ]
     },
     "execution_count": 11,
     "metadata": {},
     "output_type": "execute_result"
    }
   ],
   "source": [
    "s.describe()"
   ]
  },
  {
   "cell_type": "code",
   "execution_count": null,
   "id": "9de41b22-3258-46a3-8b2b-3e929c15928c",
   "metadata": {},
   "outputs": [],
   "source": []
  },
  {
   "cell_type": "code",
   "execution_count": null,
   "id": "16bfe4d5-fa31-4f8e-a42e-2e75fcfcd0f1",
   "metadata": {},
   "outputs": [],
   "source": [
    "df = pd.read_csv('HeightWeight.csv')"
   ]
  },
  {
   "cell_type": "code",
   "execution_count": null,
   "id": "2857ad7e-932a-4e31-b38f-8c3d7cf576cd",
   "metadata": {},
   "outputs": [
    {
     "data": {
      "text/html": [
       "<div>\n",
       "<style scoped>\n",
       "    .dataframe tbody tr th:only-of-type {\n",
       "        vertical-align: middle;\n",
       "    }\n",
       "\n",
       "    .dataframe tbody tr th {\n",
       "        vertical-align: top;\n",
       "    }\n",
       "\n",
       "    .dataframe thead th {\n",
       "        text-align: right;\n",
       "    }\n",
       "</style>\n",
       "<table border=\"1\" class=\"dataframe\">\n",
       "  <thead>\n",
       "    <tr style=\"text-align: right;\">\n",
       "      <th></th>\n",
       "      <th>Index</th>\n",
       "      <th>Height(Inches)</th>\n",
       "      <th>Weight(Pounds)</th>\n",
       "    </tr>\n",
       "  </thead>\n",
       "  <tbody>\n",
       "    <tr>\n",
       "      <th>0</th>\n",
       "      <td>1</td>\n",
       "      <td>65.78331</td>\n",
       "      <td>112.9925</td>\n",
       "    </tr>\n",
       "    <tr>\n",
       "      <th>1</th>\n",
       "      <td>2</td>\n",
       "      <td>71.51521</td>\n",
       "      <td>136.4873</td>\n",
       "    </tr>\n",
       "    <tr>\n",
       "      <th>2</th>\n",
       "      <td>3</td>\n",
       "      <td>69.39874</td>\n",
       "      <td>153.0269</td>\n",
       "    </tr>\n",
       "    <tr>\n",
       "      <th>3</th>\n",
       "      <td>4</td>\n",
       "      <td>68.21660</td>\n",
       "      <td>142.3354</td>\n",
       "    </tr>\n",
       "    <tr>\n",
       "      <th>4</th>\n",
       "      <td>5</td>\n",
       "      <td>67.78781</td>\n",
       "      <td>144.2971</td>\n",
       "    </tr>\n",
       "  </tbody>\n",
       "</table>\n",
       "</div>"
      ],
      "text/plain": [
       "   Index  Height(Inches)  Weight(Pounds)\n",
       "0      1        65.78331        112.9925\n",
       "1      2        71.51521        136.4873\n",
       "2      3        69.39874        153.0269\n",
       "3      4        68.21660        142.3354\n",
       "4      5        67.78781        144.2971"
      ]
     },
     "execution_count": 8,
     "metadata": {},
     "output_type": "execute_result"
    }
   ],
   "source": [
    "df.head()"
   ]
  },
  {
   "cell_type": "code",
   "execution_count": null,
   "id": "f539568b-4824-4d89-a95a-bef79b028e13",
   "metadata": {},
   "outputs": [],
   "source": []
  },
  {
   "cell_type": "raw",
   "id": "c049c36c-1102-4234-8e03-e031ec2a9576",
   "metadata": {},
   "source": [
    "'statistics' is a core Python package. We can use it but now list it.\n",
    "!pip show statistics\n",
    "WARNING: Package(s) not found: statistics"
   ]
  },
  {
   "cell_type": "code",
   "execution_count": 8,
   "id": "a91be771-cae8-4f8f-a3ec-929590344e4a",
   "metadata": {},
   "outputs": [
    {
     "data": {
      "text/plain": [
       "0.5028585206028441"
      ]
     },
     "execution_count": 8,
     "metadata": {},
     "output_type": "execute_result"
    }
   ],
   "source": [
    "st.correlation(df['Height(Inches)'], df['Weight(Pounds)'])"
   ]
  },
  {
   "cell_type": "markdown",
   "id": "adc6a66b-33f5-426e-8ea4-da2b51a41a71",
   "metadata": {},
   "source": [
    "# Linear Regression"
   ]
  },
  {
   "cell_type": "code",
   "execution_count": 6,
   "id": "19a6f64c-b294-43ad-9359-93933989fd83",
   "metadata": {},
   "outputs": [],
   "source": [
    "# New in version 3.10\n",
    "slope, intercept = st.linear_regression(df['Height(Inches)'], df['Weight(Pounds)'])"
   ]
  },
  {
   "cell_type": "code",
   "execution_count": 7,
   "id": "50a8f4ab-8c74-484f-ba5b-ab6b0ea75c8d",
   "metadata": {},
   "outputs": [
    {
     "data": {
      "text/plain": [
       "(3.0834764454029657, -82.57574306454092)"
      ]
     },
     "execution_count": 7,
     "metadata": {},
     "output_type": "execute_result"
    }
   ],
   "source": [
    "slope, intercept"
   ]
  },
  {
   "cell_type": "code",
   "execution_count": null,
   "id": "bd12e8ad-ac45-432d-9c66-6b124654b7a6",
   "metadata": {},
   "outputs": [],
   "source": []
  }
 ],
 "metadata": {
  "kernelspec": {
   "display_name": "py310",
   "language": "python",
   "name": "py310"
  },
  "language_info": {
   "codemirror_mode": {
    "name": "ipython",
    "version": 3
   },
   "file_extension": ".py",
   "mimetype": "text/x-python",
   "name": "python",
   "nbconvert_exporter": "python",
   "pygments_lexer": "ipython3",
   "version": "3.10.10"
  }
 },
 "nbformat": 4,
 "nbformat_minor": 5
}
