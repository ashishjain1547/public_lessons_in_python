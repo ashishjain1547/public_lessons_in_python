{
 "cells": [
  {
   "cell_type": "code",
   "execution_count": null,
   "id": "f7207caa-a62b-4c07-a7eb-d33d7650f2b4",
   "metadata": {},
   "outputs": [],
   "source": [
    "# Python Iterators\n",
    "\n",
    "# An iterator object is used to iterate through all items/values of a Itrable Object\n",
    "\n",
    "# To iterate we need to get Iterator object from Itrable Object\n",
    "\n",
    "# iter() and next() method are associated with Iterator object \n",
    "\n",
    "# String ,  Tuple ,  List , Set and Dictionaries all are iterable objects\n",
    "\n",
    "# There is built in iter() method ,that is used to get Iterator object from an iterable object\n",
    "\n",
    "# We can iterate all items of an iterable object using for loop as well\n",
    "\n",
    "\n"
   ]
  },
  {
   "cell_type": "code",
   "execution_count": 1,
   "id": "d74d908d-a4ad-48f1-aac1-53cb246b7cd7",
   "metadata": {},
   "outputs": [
    {
     "name": "stdout",
     "output_type": "stream",
     "text": [
      "apple\n",
      "banana\n",
      "cherry\n"
     ]
    }
   ],
   "source": [
    "# For Ex - Iterate through each element of a tuple\n",
    "\n",
    "mytuple = (\"apple\", \"banana\", \"cherry\")\n",
    "myit = iter(mytuple)  # Get an Iterator object for iterable tuple object\n",
    "\n",
    "print(next(myit)) # Geting first item\n",
    "print(next(myit)) # Geting second item\n",
    "print(next(myit)) # Geting third item\n"
   ]
  },
  {
   "cell_type": "code",
   "execution_count": 2,
   "id": "b3b41c51-91ce-4a3d-921b-c24861bb067a",
   "metadata": {},
   "outputs": [
    {
     "name": "stdout",
     "output_type": "stream",
     "text": [
      "b\n",
      "a\n",
      "n\n",
      "a\n",
      "n\n",
      "a\n"
     ]
    }
   ],
   "source": [
    "#  For Ex - Iterate through each character of a string \n",
    "\n",
    "mystr = \"banana\"\n",
    "myit = iter(mystr)\n",
    "\n",
    "print(next(myit))\n",
    "print(next(myit))\n",
    "print(next(myit))\n",
    "print(next(myit))\n",
    "print(next(myit))\n",
    "print(next(myit))\n"
   ]
  },
  {
   "cell_type": "code",
   "execution_count": 3,
   "id": "c9771cc6-6c86-4c93-8eff-b2cca002bd25",
   "metadata": {},
   "outputs": [
    {
     "name": "stdout",
     "output_type": "stream",
     "text": [
      "apple\n",
      "banana\n",
      "cherry\n"
     ]
    }
   ],
   "source": [
    "# Use of for  loop to iterate items of a tuple\n",
    "\n",
    "mytuple = (\"apple\", \"banana\", \"cherry\")\n",
    "\n",
    "for x in mytuple:\n",
    "  print(x) \n"
   ]
  },
  {
   "cell_type": "code",
   "execution_count": 4,
   "id": "edefe610-abfe-48b9-95fc-58659a1b412e",
   "metadata": {},
   "outputs": [
    {
     "name": "stdout",
     "output_type": "stream",
     "text": [
      "b\n",
      "a\n",
      "n\n",
      "a\n",
      "n\n",
      "a\n"
     ]
    }
   ],
   "source": [
    "# Use of for  loop to iterate items of a string\n",
    "\n",
    "mystr = \"banana\"\n",
    "\n",
    "for x in mystr:\n",
    "  print(x) \n"
   ]
  },
  {
   "cell_type": "code",
   "execution_count": 5,
   "id": "71e3f88b-27ad-40c4-b8ba-5f8634e3b93f",
   "metadata": {},
   "outputs": [
    {
     "name": "stdout",
     "output_type": "stream",
     "text": [
      "1\n",
      "2\n",
      "3\n",
      "4\n",
      "5\n"
     ]
    }
   ],
   "source": [
    "# Creating an own Iterator class/object\n",
    "\n",
    "# This require to implement __iter__() and __next__() method \n",
    "\n",
    "# __iter__() method will always return Iterator object \n",
    "\n",
    "# __next__() method will always return next item \n",
    "\n",
    "# For  Ex - Create an iterator that returns numbers, starting with 1, \n",
    "            # and each sequence will increase by one (i.e will return 1,2,3,4,5 etc.)\n",
    "    \n",
    "class MyNumbers:\n",
    "  def __iter__(self):  # implementing __iter_() method\n",
    "    self.counter = 1  # intialize counter named property\n",
    "    return self\n",
    "\n",
    "  def __next__(self): # implementing __next_() method\n",
    "    x = self.counter\n",
    "    self.counter += 1  # Incresing counter variable value after each iteration \n",
    "    return x\n",
    "\n",
    "myclass = MyNumbers()  #  Creating an object of Customied Iterator class\n",
    "myiter = iter(myclass) #  Geting an Iterator object \n",
    "\n",
    "print(next(myiter))  \n",
    "print(next(myiter))  \n",
    "print(next(myiter))  \n",
    "print(next(myiter))  \n",
    "print(next(myiter)) \n",
    "\n",
    "# And so on print(next(myiter)) ....\n",
    "\n",
    "\n",
    "\n"
   ]
  },
  {
   "cell_type": "code",
   "execution_count": 6,
   "id": "7639c3d4-3019-444c-b853-721d4a9fc11d",
   "metadata": {},
   "outputs": [
    {
     "name": "stdout",
     "output_type": "stream",
     "text": [
      "1\n",
      "2\n",
      "3\n",
      "4\n",
      "5\n",
      "6\n",
      "7\n",
      "8\n",
      "9\n",
      "10\n",
      "11\n",
      "12\n",
      "13\n",
      "14\n",
      "15\n",
      "16\n",
      "17\n",
      "18\n",
      "19\n",
      "20\n"
     ]
    }
   ],
   "source": [
    "# Use of StopIteration stament \n",
    "\n",
    "# In case of above example if next() function called in a for loop , then it will go on forever... ( Never Ending loop )\n",
    "\n",
    "# To prevent the iteration to go on forever, we can use the StopIteration statement\n",
    "\n",
    "# Inside __next__() method we can define terminating condition \n",
    "\n",
    "# For Ex - To Stop after 20 iterations we can define terminating conditiion inside next() method as follow \n",
    "\n",
    "\n",
    "class MyNumbers:\n",
    "  def __iter__(self):\n",
    "    self.counter = 1\n",
    "    return self\n",
    "\n",
    "  def __next__(self):\n",
    "    if self.counter <= 20:\n",
    "      x = self.counter\n",
    "      self.counter += 1\n",
    "      return x\n",
    "    else:\n",
    "      raise StopIteration  # Use of StopIteration statement \n",
    "\n",
    "myclass = MyNumbers()\n",
    "myiter = iter(myclass)\n",
    "\n",
    "for x in myiter:   # Iterating items using for loop \n",
    "  print(x)\n",
    "\n",
    "\n"
   ]
  },
  {
   "cell_type": "code",
   "execution_count": null,
   "id": "17d8d550-9845-4ad0-878c-729e10970bf4",
   "metadata": {},
   "outputs": [],
   "source": []
  }
 ],
 "metadata": {
  "kernelspec": {
   "display_name": "Python 3 (ipykernel)",
   "language": "python",
   "name": "python3"
  },
  "language_info": {
   "codemirror_mode": {
    "name": "ipython",
    "version": 3
   },
   "file_extension": ".py",
   "mimetype": "text/x-python",
   "name": "python",
   "nbconvert_exporter": "python",
   "pygments_lexer": "ipython3",
   "version": "3.10.9"
  }
 },
 "nbformat": 4,
 "nbformat_minor": 5
}
