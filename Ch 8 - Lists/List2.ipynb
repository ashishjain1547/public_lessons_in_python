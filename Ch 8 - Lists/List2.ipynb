{
 "cells": [
  {
   "cell_type": "code",
   "execution_count": 1,
   "id": "46e447cf-6c50-4773-bd0d-5a077160d7c2",
   "metadata": {},
   "outputs": [
    {
     "name": "stdout",
     "output_type": "stream",
     "text": [
      "apple\n",
      "banana\n",
      "cherry\n"
     ]
    }
   ],
   "source": [
    "# Iterating through list items using for loop\n",
    "\n",
    "thislist = [\"apple\", \"banana\", \"cherry\"]\n",
    "for x in thislist:\n",
    "  print(x) "
   ]
  },
  {
   "cell_type": "code",
   "execution_count": 2,
   "id": "e0722e14-b004-409f-9637-1d7a4ad1efe3",
   "metadata": {},
   "outputs": [
    {
     "name": "stdout",
     "output_type": "stream",
     "text": [
      "[0, 1, 2, 3, 4, 5, 6, 7, 8, 9]\n"
     ]
    }
   ],
   "source": [
    "# range(start, end, step)\n",
    "# Default value of start is: 0\n",
    "# Default value of step is: 1\n",
    "\n",
    "x = list(range(0, 10))\n",
    "print(x)"
   ]
  },
  {
   "cell_type": "code",
   "execution_count": 2,
   "id": "b43f47b8-8325-490e-870a-f07ff584dfaf",
   "metadata": {},
   "outputs": [
    {
     "data": {
      "text/plain": [
       "range(5, 15, 3)"
      ]
     },
     "execution_count": 2,
     "metadata": {},
     "output_type": "execute_result"
    }
   ],
   "source": [
    "# Which all integers are present in this range?\n",
    "range(5, 15, 3)"
   ]
  },
  {
   "cell_type": "code",
   "execution_count": 3,
   "id": "d79df886-175b-4467-85f5-b48debaaa507",
   "metadata": {},
   "outputs": [
    {
     "data": {
      "text/plain": [
       "[5, 8, 11, 14]"
      ]
     },
     "execution_count": 3,
     "metadata": {},
     "output_type": "execute_result"
    }
   ],
   "source": [
    "list(range(5, 15, 3))"
   ]
  },
  {
   "cell_type": "code",
   "execution_count": 9,
   "id": "36bdbb4c-a912-4dd2-9791-babf99e4d126",
   "metadata": {},
   "outputs": [
    {
     "name": "stdout",
     "output_type": "stream",
     "text": [
      "Length of list is 4\n",
      "apple\n",
      "banana\n",
      "cherry\n",
      "guava\n"
     ]
    }
   ],
   "source": [
    "# Iterating list itmes using their index no\n",
    "\n",
    "thislist = [\"apple\", \"banana\", \"cherry\", \"guava\"]\n",
    "print(\"Length of list is\", len(thislist))\n",
    "\n",
    "for i in range(len(thislist)):\n",
    "  print(thislist[i])"
   ]
  },
  {
   "cell_type": "code",
   "execution_count": 10,
   "id": "fc07d699-3e18-411d-bac5-9e252450d562",
   "metadata": {},
   "outputs": [
    {
     "name": "stdout",
     "output_type": "stream",
     "text": [
      "apple\n",
      "banana\n",
      "cherry\n"
     ]
    }
   ],
   "source": [
    "# Itrating list itmes using while loop\n",
    "\n",
    "thislist = [\"apple\", \"banana\", \"cherry\"]\n",
    "i = 0 # Setting of start index value \n",
    "while i < len(thislist):\n",
    "  print(thislist[i])\n",
    "  i = i + 1 "
   ]
  },
  {
   "cell_type": "code",
   "execution_count": 19,
   "id": "b6655be7-1cf6-48e3-b318-9de866ab4765",
   "metadata": {},
   "outputs": [
    {
     "name": "stdout",
     "output_type": "stream",
     "text": [
      "apple\n",
      "banana\n",
      "cherry\n"
     ]
    },
    {
     "data": {
      "text/plain": [
       "[None, None, None]"
      ]
     },
     "execution_count": 19,
     "metadata": {},
     "output_type": "execute_result"
    }
   ],
   "source": [
    "# Itrating list itmes through list comprehension method\n",
    "\n",
    "thislist = [\"apple\", \"banana\", \"cherry\"]\n",
    "[print(x) for x in thislist]\n",
    "\n",
    "# Q - What is meaning of [None,None, None] in output ?"
   ]
  },
  {
   "cell_type": "code",
   "execution_count": 20,
   "id": "10901b68-83d9-4369-92a3-df74e2d71d09",
   "metadata": {},
   "outputs": [],
   "source": [
    "# List Comprehension \n",
    "\n",
    "# List comprehension offers a shorter syntax to create a new list based on the values of an existing list.\n",
    "\n",
    "    # Syntax of list comprehension : newlist = [expression for item in iterable if condition == True] \n",
    "    \n",
    "        # Explanation of Syntax : \n",
    "        \n",
    "        # The return value will be a new list, while old list will not be changed\n",
    "        # The condition is used to select items for new list ( For selected items must evaluate to True )\n",
    "        # The condition is optional and can be omitted\n",
    "        # An Iterable can be any iterable object, like a list, tuple, set etc.\n",
    "        # An Expression is the current item in the iteration, but it is also the outcome ,which you can manipulate before it ends up like a list item in the new list \n",
    "\n"
   ]
  },
  {
   "cell_type": "code",
   "execution_count": 4,
   "id": "de099cd0-4ec3-4a88-8a49-a0370af4ec16",
   "metadata": {},
   "outputs": [
    {
     "name": "stdout",
     "output_type": "stream",
     "text": [
      "['banana', 'kiwi', 'mango']\n"
     ]
    }
   ],
   "source": [
    "# List Comprehension Examples\n",
    "\n",
    "# For Ex 1- Only accept items that are not \"apple\"\n",
    "\n",
    "fruits = [\"apple\", \"banana\", \"cherry\", \"kiwi\", \"mango\"]\n",
    "\n",
    "newlist = [x for x in fruits if x != \"apple\" and x != \"cherry\"]\n",
    "print(newlist)\n",
    "\n",
    "# newlist = [x for x in fruits if x != \"apple\"]\n",
    "# print(newlist)"
   ]
  },
  {
   "cell_type": "code",
   "execution_count": 24,
   "id": "46637203-1ea5-43a4-b48f-9878c830bbbe",
   "metadata": {},
   "outputs": [
    {
     "name": "stdout",
     "output_type": "stream",
     "text": [
      "['apple', 'banana', 'cherry', 'kiwi', 'mango']\n"
     ]
    }
   ],
   "source": [
    "# For Ex 2 - No use of condition\n",
    "\n",
    "fruits = [\"apple\", \"banana\", \"cherry\", \"kiwi\", \"mango\"]\n",
    "newlist = [x for x in fruits]\n",
    "print(newlist) # All items of oldlist are acceptable in newlist\n"
   ]
  },
  {
   "cell_type": "code",
   "execution_count": 25,
   "id": "e3315aa3-b3a6-4135-82bf-05e1cb127df0",
   "metadata": {},
   "outputs": [
    {
     "name": "stdout",
     "output_type": "stream",
     "text": [
      "[0, 1, 2, 3, 4, 5, 6, 7, 8, 9]\n"
     ]
    }
   ],
   "source": [
    "# For Ex 3 - Creating a list from range built in function\n",
    "\n",
    "newlist = [x for x in range(10)]\n",
    "\n",
    "print(newlist) # Note : index range is : 0-9\n"
   ]
  },
  {
   "cell_type": "code",
   "execution_count": 27,
   "id": "792b9a99-4831-45dc-baa9-adbc793fa8f2",
   "metadata": {},
   "outputs": [
    {
     "name": "stdout",
     "output_type": "stream",
     "text": [
      "[0, 1, 2, 3, 4]\n"
     ]
    }
   ],
   "source": [
    "# For Ex 4 - Accepting number less than 5 in newlist using range built in function\n",
    "\n",
    "newlist = [x for x in range(10) if x < 5]\n",
    "print(newlist)"
   ]
  },
  {
   "cell_type": "code",
   "execution_count": 28,
   "id": "a5209d03-cc0b-4706-828b-6e9527b56348",
   "metadata": {},
   "outputs": [
    {
     "name": "stdout",
     "output_type": "stream",
     "text": [
      "['APPLE', 'BANANA', 'CHERRY', 'KIWI', 'MANGO']\n"
     ]
    }
   ],
   "source": [
    "# For Ex 5 - Set the values in the new list to upper case\n",
    "\n",
    "fruits = [\"apple\", \"banana\", \"cherry\", \"kiwi\", \"mango\"]\n",
    "\n",
    "newlist = [x.upper() for x in fruits]\n",
    "\n",
    "print(newlist)\n"
   ]
  },
  {
   "cell_type": "code",
   "execution_count": 29,
   "id": "459a7959-db59-4653-957e-d692cd4e981b",
   "metadata": {},
   "outputs": [
    {
     "name": "stdout",
     "output_type": "stream",
     "text": [
      "['hello', 'hello', 'hello', 'hello', 'hello']\n"
     ]
    }
   ],
   "source": [
    "# For Ex 6 - Set all values in the new list to 'hello'\n",
    "\n",
    "fruits = [\"apple\", \"banana\", \"cherry\", \"kiwi\", \"mango\"]\n",
    "newlist = ['hello' for x in fruits]\n",
    "print(newlist)\n"
   ]
  },
  {
   "cell_type": "code",
   "execution_count": 33,
   "id": "2c523f78-e85e-4fba-8c7c-981e2ba2e452",
   "metadata": {},
   "outputs": [
    {
     "name": "stdout",
     "output_type": "stream",
     "text": [
      "['apple', 'orange', 'cherry', 'kiwi', 'mango']\n",
      "['apple', 'orange', 'cherry', 'kiwi', 'mango']\n"
     ]
    }
   ],
   "source": [
    "# For Ex 7 - Return \"orange\" instead of \"banana\"\n",
    "fruits = [\"apple\", \"banana\", \"cherry\", \"kiwi\", \"mango\"]\n",
    "\n",
    "#First Way :\n",
    "\n",
    "newlist1 = [x if x != \"banana\" else \"orange\" for x in fruits]\n",
    "print(newlist1)\n",
    "\n",
    "#Second Way: \n",
    "\n",
    "newlist2 = [\"orange\" if x == \"banana\" else x for x in fruits]\n",
    "print(newlist2)\n",
    "\n"
   ]
  },
  {
   "cell_type": "code",
   "execution_count": null,
   "id": "00d43d2c-3ff2-4027-8cab-895211f71fea",
   "metadata": {},
   "outputs": [],
   "source": [
    "# Still Need to add more... "
   ]
  }
 ],
 "metadata": {
  "kernelspec": {
   "display_name": "Python 3 (ipykernel)",
   "language": "python",
   "name": "python3"
  },
  "language_info": {
   "codemirror_mode": {
    "name": "ipython",
    "version": 3
   },
   "file_extension": ".py",
   "mimetype": "text/x-python",
   "name": "python",
   "nbconvert_exporter": "python",
   "pygments_lexer": "ipython3",
   "version": "3.9.13"
  }
 },
 "nbformat": 4,
 "nbformat_minor": 5
}
