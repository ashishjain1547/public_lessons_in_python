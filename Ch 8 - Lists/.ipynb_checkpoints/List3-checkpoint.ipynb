{
 "cells": [
  {
   "cell_type": "code",
   "execution_count": 34,
   "id": "00d43d2c-3ff2-4027-8cab-895211f71fea",
   "metadata": {},
   "outputs": [
    {
     "name": "stdout",
     "output_type": "stream",
     "text": [
      "['banana', 'kiwi', 'mango', 'orange', 'pineapple']\n"
     ]
    }
   ],
   "source": [
    "# Sorting list content ... \n",
    "\n",
    "# Sort list content in assending order using built in sort() function\n",
    "\n",
    "thislist = [\"orange\", \"mango\", \"kiwi\", \"pineapple\", \"banana\"]\n",
    "thislist.sort()\n",
    "print(thislist) \n"
   ]
  },
  {
   "cell_type": "code",
   "execution_count": 43,
   "id": "efbe4e44-fc01-4b70-9bba-b05120143676",
   "metadata": {},
   "outputs": [
    {
     "name": "stdout",
     "output_type": "stream",
     "text": [
      "['Kiwi', 'Orange', 'banana', 'cherry']\n"
     ]
    }
   ],
   "source": [
    "# Note : By default the sort() method is case sensitive\n",
    "# i.e capital letters being sorted before lower case letters\n",
    "\n",
    "# For Ex - \n",
    "\n",
    "thislist = [\"banana\", \"Orange\", \"Kiwi\", \"cherry\"]\n",
    "thislist.sort()\n",
    "print(thislist) \n"
   ]
  },
  {
   "cell_type": "code",
   "execution_count": 44,
   "id": "6766c9dc-086f-416c-955a-e07c6a5cd759",
   "metadata": {},
   "outputs": [
    {
     "name": "stdout",
     "output_type": "stream",
     "text": [
      "['banana', 'cherry', 'Kiwi', 'Orange']\n"
     ]
    }
   ],
   "source": [
    "# Perform a case-insensitive sort of the list content using customize sort function\n",
    "\n",
    "thislist = [\"banana\", \"Orange\", \"Kiwi\", \"cherry\"]\n",
    "thislist.sort(key = str.lower)\n",
    "print(thislist) \n"
   ]
  },
  {
   "cell_type": "code",
   "execution_count": 35,
   "id": "e0fa0355-f251-4a89-88ab-4f97eb815f57",
   "metadata": {},
   "outputs": [
    {
     "name": "stdout",
     "output_type": "stream",
     "text": [
      "[23, 50, 65, 82, 100]\n"
     ]
    }
   ],
   "source": [
    "# Sort list content in increasing order of number\n",
    "\n",
    "thislist = [100, 50, 65, 82, 23]\n",
    "thislist.sort()\n",
    "print(thislist) \n"
   ]
  },
  {
   "cell_type": "code",
   "execution_count": 40,
   "id": "c2a285cb-f9f7-405d-8d9f-29243ff3e5af",
   "metadata": {},
   "outputs": [
    {
     "name": "stdout",
     "output_type": "stream",
     "text": [
      "['pineapple', 'orange', 'mango', 'kiwi', 'banana']\n"
     ]
    }
   ],
   "source": [
    "# Sort list content in descending order \n",
    "\n",
    "thislist = [\"orange\", \"mango\", \"kiwi\", \"pineapple\", \"banana\"]\n",
    "thislist.sort(reverse = True)\n",
    "print(thislist) \n"
   ]
  },
  {
   "cell_type": "code",
   "execution_count": 41,
   "id": "31a3de3f-3b88-4a2b-b6e5-3d3ffd8967c4",
   "metadata": {},
   "outputs": [
    {
     "name": "stdout",
     "output_type": "stream",
     "text": [
      "[100, 82, 65, 50, 23]\n"
     ]
    }
   ],
   "source": [
    "# Sort list content in decreasing order of number\n",
    "\n",
    "thislist = [100, 50, 65, 82, 23]\n",
    "thislist.sort(reverse = True)\n",
    "print(thislist) \n"
   ]
  },
  {
   "cell_type": "code",
   "execution_count": 45,
   "id": "dd500d01-3fed-45f4-9d56-94f9e9349606",
   "metadata": {},
   "outputs": [
    {
     "name": "stdout",
     "output_type": "stream",
     "text": [
      "[50, 65, 23, 82, 100]\n"
     ]
    }
   ],
   "source": [
    "# Sort list content using customized sort function ...\n",
    "\n",
    "# For Ex - Sort the list content based on how close the number is to 50\n",
    "\n",
    "def myfunc(n):\n",
    "  return abs(n - 50)\n",
    "\n",
    "thislist = [100, 50, 65, 82, 23]\n",
    "thislist.sort(key = myfunc)\n",
    "print(thislist) \n"
   ]
  },
  {
   "cell_type": "code",
   "execution_count": 46,
   "id": "c4f1a880-dbb1-4e0b-85a3-0515788aace4",
   "metadata": {},
   "outputs": [
    {
     "name": "stdout",
     "output_type": "stream",
     "text": [
      "['cherry', 'Kiwi', 'Orange', 'banana']\n"
     ]
    }
   ],
   "source": [
    "# Reverse the order of list content using built in reverse() function \n",
    "\n",
    "thislist = [\"banana\", \"Orange\", \"Kiwi\", \"cherry\"]\n",
    "thislist.reverse()\n",
    "print(thislist)\n"
   ]
  },
  {
   "cell_type": "code",
   "execution_count": 47,
   "id": "a185e6b1-60d4-47f5-80f3-b77f6fbee140",
   "metadata": {},
   "outputs": [],
   "source": [
    "# Creating a copy of the list\n",
    "\n",
    "# There are two method \n",
    "\n",
    "    # using builtin copy() method\n",
    "    \n",
    "    # using builtin list() method \n",
    "    \n",
    "    # Note : we cannot copy a list simply by typing list2 = list1 like statments\n",
    "        # because list2 will only be a reference to list1, and changes made in list1 will automatically also be made in list2\n",
    "    \n",
    "    "
   ]
  },
  {
   "cell_type": "code",
   "execution_count": 48,
   "id": "bc2272fa-ce2c-4ecc-82cd-43aeffd7950c",
   "metadata": {},
   "outputs": [
    {
     "name": "stdout",
     "output_type": "stream",
     "text": [
      "['apple', 'banana', 'cherry']\n"
     ]
    }
   ],
   "source": [
    "# Creating a copy of the list using copy method\n",
    "\n",
    "thislist = [\"apple\", \"banana\", \"cherry\"]\n",
    "mylist = thislist.copy()\n",
    "print(mylist) \n"
   ]
  },
  {
   "cell_type": "code",
   "execution_count": 49,
   "id": "909ba5f3-6a5d-4f93-8243-fc51af2fe396",
   "metadata": {},
   "outputs": [
    {
     "name": "stdout",
     "output_type": "stream",
     "text": [
      "['apple', 'banana', 'cherry']\n"
     ]
    }
   ],
   "source": [
    "# Creating a copy of the list using list method\n",
    "\n",
    "thislist = [\"apple\", \"banana\", \"cherry\"]\n",
    "mylist = list(thislist)\n",
    "print(mylist) \n"
   ]
  },
  {
   "cell_type": "code",
   "execution_count": 50,
   "id": "3d66a877-cf20-47d8-8535-3b332a199257",
   "metadata": {},
   "outputs": [
    {
     "name": "stdout",
     "output_type": "stream",
     "text": [
      "['a', 'b', 'c', 1, 2, 3]\n"
     ]
    }
   ],
   "source": [
    "# Join or concenate two or more list\n",
    "\n",
    "# For Ex - joining lists using + operator\n",
    "\n",
    "list1 = [\"a\", \"b\", \"c\"]\n",
    "list2 = [1, 2, 3]\n",
    "\n",
    "list3 = list1 + list2\n",
    "print(list3) \n"
   ]
  },
  {
   "cell_type": "code",
   "execution_count": 51,
   "id": "a2f73d9c-628a-41f9-814a-8ad347aefa21",
   "metadata": {},
   "outputs": [
    {
     "name": "stdout",
     "output_type": "stream",
     "text": [
      "['a', 'b', 'c', 1, 2, 3]\n"
     ]
    }
   ],
   "source": [
    "# For Ex - Appending  list2 content one by one into list1 using built in append() method\n",
    "\n",
    "list1 = [\"a\", \"b\" , \"c\"]\n",
    "list2 = [1, 2, 3]\n",
    "\n",
    "for x in list2:\n",
    "  list1.append(x)\n",
    "\n",
    "print(list1) \n"
   ]
  },
  {
   "cell_type": "code",
   "execution_count": 52,
   "id": "bf3d73e2-07df-48d8-a889-03bd47b8fcb4",
   "metadata": {},
   "outputs": [
    {
     "name": "stdout",
     "output_type": "stream",
     "text": [
      "['a', 'b', 'c', 1, 2, 3]\n"
     ]
    }
   ],
   "source": [
    "# For Ex - Appending list2 content directly into list1 by using built in extend() method\n",
    "\n",
    "list1 = [\"a\", \"b\" , \"c\"]\n",
    "list2 = [1, 2, 3]\n",
    "\n",
    "list1.extend(list2)\n",
    "print(list1) \n"
   ]
  },
  {
   "cell_type": "code",
   "execution_count": 57,
   "id": "37442d52-4eea-4af9-93f0-e37a9851de88",
   "metadata": {},
   "outputs": [],
   "source": [
    "# Summary of used built in methods of list handling\n",
    "\n",
    "\n",
    "\n",
    "# Method     \t  Description\n",
    "\n",
    "# append()  \t  Adds an element at the end of the list\n",
    "\n",
    "# clear()   \t  Removes all the elements from the list\n",
    "\n",
    "# copy()   \t      Returns a copy of the list\n",
    "\n",
    "# count()   \t  Returns the number of elements with the specified value\n",
    "\n",
    "# extend()   \t  Add the elements of a list (or any iterable), to the end of the current list\n",
    "\n",
    "# index()   \t  Returns the index of the first element with the specified value\n",
    "\n",
    "# insert()  \t  Adds an element at the specified position\n",
    "\n",
    "# pop()   \t      Removes the element at the specified position\n",
    "\n",
    "# remove()   \t  Removes the item with the specified value\n",
    "\n",
    "# reverse()   \t  Reverses the order of the list\n",
    "\n",
    "# sort()   \t      Sorts the list\n",
    "\n",
    "\n"
   ]
  },
  {
   "cell_type": "code",
   "execution_count": null,
   "id": "8febd6fd-e3bd-469d-8cfc-eef1578069cf",
   "metadata": {},
   "outputs": [],
   "source": []
  }
 ],
 "metadata": {
  "kernelspec": {
   "display_name": "Python 3 (ipykernel)",
   "language": "python",
   "name": "python3"
  },
  "language_info": {
   "codemirror_mode": {
    "name": "ipython",
    "version": 3
   },
   "file_extension": ".py",
   "mimetype": "text/x-python",
   "name": "python",
   "nbconvert_exporter": "python",
   "pygments_lexer": "ipython3",
   "version": "3.10.9"
  }
 },
 "nbformat": 4,
 "nbformat_minor": 5
}
