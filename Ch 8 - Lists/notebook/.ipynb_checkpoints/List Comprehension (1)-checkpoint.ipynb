{
 "cells": [
  {
   "cell_type": "code",
   "execution_count": 2,
   "id": "77d5ab5c-ff10-48e5-805f-a5ea1c6cb158",
   "metadata": {},
   "outputs": [
    {
     "name": "stdout",
     "output_type": "stream",
     "text": [
      "apple\n",
      "banana\n",
      "cherry\n"
     ]
    }
   ],
   "source": [
    "# Iterating through list items using for loop\n",
    "\n",
    "thislist = [\"apple\", \"banana\", \"cherry\"]\n",
    "\n",
    "for x in thislist:\n",
    "  print(x) "
   ]
  },
  {
   "cell_type": "code",
   "execution_count": 3,
   "id": "e273306e-c2d9-415b-9acb-0b831961c6e2",
   "metadata": {},
   "outputs": [
    {
     "name": "stdout",
     "output_type": "stream",
     "text": [
      "H\n",
      "e\n",
      "l\n",
      "l\n",
      "o\n",
      " \n",
      "W\n",
      "o\n",
      "r\n",
      "l\n",
      "d\n"
     ]
    }
   ],
   "source": [
    "s = \"Hello World\"\n",
    "for x in s:\n",
    "    print(x)"
   ]
  },
  {
   "cell_type": "code",
   "execution_count": 4,
   "id": "d1bd7396-ba63-4031-a4bf-5865be290a2e",
   "metadata": {},
   "outputs": [
    {
     "name": "stdout",
     "output_type": "stream",
     "text": [
      "0\n",
      "1\n",
      "2\n",
      "3\n",
      "4\n",
      "5\n",
      "6\n",
      "7\n",
      "8\n",
      "9\n"
     ]
    }
   ],
   "source": [
    "for i in range(10):\n",
    "    print(i)"
   ]
  },
  {
   "cell_type": "code",
   "execution_count": 5,
   "id": "c3abca6e-5883-48a9-98af-301cae695908",
   "metadata": {},
   "outputs": [
    {
     "name": "stdout",
     "output_type": "stream",
     "text": [
      "['apple', 'banana', 'cherry', 'guava']\n"
     ]
    }
   ],
   "source": [
    "# Creating a new list from an existing one\n",
    "l = [\"apple\", \"banana\", \"cherry\", \"guava\"]\n",
    "n = []\n",
    "for i in l:\n",
    "    n.append(i)\n",
    "print(n)"
   ]
  },
  {
   "cell_type": "raw",
   "id": "37d45f9d-66b8-4d2a-b93d-70d1f7b82ebc",
   "metadata": {},
   "source": [
    "Syntax of list comprehension: [ some_function(i) for i in some_list ]"
   ]
  },
  {
   "cell_type": "code",
   "execution_count": 2,
   "id": "06a16e27-3680-4b71-a7ba-e57d9ac101ee",
   "metadata": {},
   "outputs": [
    {
     "name": "stdout",
     "output_type": "stream",
     "text": [
      "['apple', 'banana', 'cherry', 'guava']\n"
     ]
    }
   ],
   "source": [
    "l = [\"apple\", \"banana\", \"cherry\", \"guava\"]\n",
    "n = [ x for x in l ]\n",
    "\n",
    "print(n)"
   ]
  },
  {
   "cell_type": "code",
   "execution_count": 2,
   "id": "da299b58-a9c5-44fc-9e5b-5ae8fb7e8494",
   "metadata": {},
   "outputs": [
    {
     "name": "stdout",
     "output_type": "stream",
     "text": [
      "apple\n",
      "banana\n",
      "cherry\n"
     ]
    },
    {
     "data": {
      "text/plain": [
       "[None, None, None]"
      ]
     },
     "execution_count": 2,
     "metadata": {},
     "output_type": "execute_result"
    }
   ],
   "source": [
    "# Iterating list itmes through list comprehension method\n",
    "\n",
    "thislist = [\"apple\", \"banana\", \"cherry\"]\n",
    "\n",
    "[print(x) for x in thislist]"
   ]
  },
  {
   "cell_type": "code",
   "execution_count": 3,
   "id": "d63d9597-9bb4-4c95-9177-ff5e467973df",
   "metadata": {},
   "outputs": [
    {
     "name": "stdout",
     "output_type": "stream",
     "text": [
      "['APPLE', 'BANANA', 'CHERRY', 'ORANGE', 'KIWI', 'MELON', 'MANGO']\n"
     ]
    }
   ],
   "source": [
    "thislist = [\"apple\", \"banana\", \"cherry\", \"orange\", \"kiwi\", \"melon\", \"mango\"]\n",
    "n = []\n",
    "for i in thislist:\n",
    "    n.append(i.upper())\n",
    "print(n)"
   ]
  },
  {
   "cell_type": "code",
   "execution_count": 7,
   "id": "e607498c-e153-4118-8de1-48ec2eeea570",
   "metadata": {},
   "outputs": [
    {
     "name": "stdout",
     "output_type": "stream",
     "text": [
      "['APPLE', 'BANANA', 'CHERRY', 'ORANGE', 'KIWI', 'MELON', 'MANGO']\n"
     ]
    }
   ],
   "source": [
    "thislist = [\"apple\", \"banana\", \"cherry\", \"orange\", \"kiwi\", \"melon\", \"mango\"]\n",
    "n = [i.upper() for i in thislist] # List Comprehension\n",
    "print(n)"
   ]
  },
  {
   "cell_type": "code",
   "execution_count": 7,
   "id": "f6fbb52d-019c-4cc7-b991-6bbc12e6f873",
   "metadata": {},
   "outputs": [
    {
     "name": "stdout",
     "output_type": "stream",
     "text": [
      "Hello\n",
      "Hi There\n",
      "How Are You?\n"
     ]
    }
   ],
   "source": [
    "import string\n",
    "print(string.capwords('Hello'))\n",
    "print(string.capwords('hi there'))\n",
    "print(string.capwords('HOW ARE YOU?'))"
   ]
  },
  {
   "cell_type": "code",
   "execution_count": 8,
   "id": "f1698926-4f75-495e-9b32-632759344d67",
   "metadata": {},
   "outputs": [
    {
     "name": "stdout",
     "output_type": "stream",
     "text": [
      "['Apple', 'Banana', 'Cherry', 'Orange', 'Kiwi', 'Melon', 'Mango']\n"
     ]
    }
   ],
   "source": [
    "thislist = [\"apple\", \"banana\", \"cherry\", \"orange\", \"kiwi\", \"melon\", \"mango\"]\n",
    "n = [string.capwords(i) for i in thislist]\n",
    "print(n)"
   ]
  },
  {
   "cell_type": "code",
   "execution_count": 9,
   "id": "9b34d400-0453-4f32-b67c-63123d81ec6e",
   "metadata": {},
   "outputs": [
    {
     "name": "stdout",
     "output_type": "stream",
     "text": [
      "[5, 6, 6, 6, 4, 5, 5]\n"
     ]
    }
   ],
   "source": [
    "l = [len(i) for i in thislist]\n",
    "print(l)"
   ]
  },
  {
   "cell_type": "code",
   "execution_count": 10,
   "id": "6485ec12-f138-4825-84a5-f25eb10efbd3",
   "metadata": {},
   "outputs": [],
   "source": [
    "# Create a new list by adding 5 to each of these numbers.\n",
    "l = [5, 2, 9, 1, 8, 3, 6, 0, 4, 7]"
   ]
  },
  {
   "cell_type": "code",
   "execution_count": 20,
   "id": "7690f2c3-dede-499a-99ff-5d811068b0f7",
   "metadata": {},
   "outputs": [],
   "source": [
    "k = [i + 5 for i in l] # Using List Comprehension"
   ]
  },
  {
   "cell_type": "code",
   "execution_count": 12,
   "id": "17194556-d09b-4768-9917-5fbf4521bf32",
   "metadata": {},
   "outputs": [
    {
     "data": {
      "text/plain": [
       "[10, 7, 14, 6, 13, 8, 11, 5, 9, 12]"
      ]
     },
     "execution_count": 12,
     "metadata": {},
     "output_type": "execute_result"
    }
   ],
   "source": [
    "k"
   ]
  },
  {
   "cell_type": "code",
   "execution_count": 19,
   "id": "1ba6c971-f2ed-4dfc-b0bc-c59eeed17f54",
   "metadata": {},
   "outputs": [],
   "source": [
    "import numpy as np\n",
    "\n",
    "l = [5, 2, 9, 1, 8, 3, 6, 0, 4, 7]\n",
    "m = np.array(l)"
   ]
  },
  {
   "cell_type": "code",
   "execution_count": 20,
   "id": "d74a1981-b93a-4615-9ee2-35c02b8aa966",
   "metadata": {},
   "outputs": [
    {
     "name": "stdout",
     "output_type": "stream",
     "text": [
      "<class 'list'>\n",
      "<class 'numpy.ndarray'>\n"
     ]
    }
   ],
   "source": [
    "print(type(l))\n",
    "print(type(m))"
   ]
  },
  {
   "cell_type": "code",
   "execution_count": 21,
   "id": "b33ab108-6435-4d4c-bd48-ae75e71c5f59",
   "metadata": {},
   "outputs": [
    {
     "data": {
      "text/plain": [
       "array([10,  7, 14,  6, 13,  8, 11,  5,  9, 12])"
      ]
     },
     "execution_count": 21,
     "metadata": {},
     "output_type": "execute_result"
    }
   ],
   "source": [
    "m + 5 # Broadcasting"
   ]
  },
  {
   "cell_type": "code",
   "execution_count": 22,
   "id": "0528a969-5907-43cb-9f7c-71cafc65a0c7",
   "metadata": {},
   "outputs": [
    {
     "data": {
      "text/plain": [
       "[5, 2, 9, 1, 8, 3, 6, 0, 4, 7]"
      ]
     },
     "execution_count": 22,
     "metadata": {},
     "output_type": "execute_result"
    }
   ],
   "source": [
    "list(m)"
   ]
  },
  {
   "cell_type": "code",
   "execution_count": null,
   "id": "648690f8-9785-4596-91ab-f8d5f2fbb7f5",
   "metadata": {},
   "outputs": [],
   "source": []
  },
  {
   "cell_type": "code",
   "execution_count": null,
   "id": "cde083b0-e21f-4e58-aa0b-6148a4c0d656",
   "metadata": {},
   "outputs": [],
   "source": []
  }
 ],
 "metadata": {
  "kernelspec": {
   "display_name": "Python 3 (ipykernel)",
   "language": "python",
   "name": "python3"
  },
  "language_info": {
   "codemirror_mode": {
    "name": "ipython",
    "version": 3
   },
   "file_extension": ".py",
   "mimetype": "text/x-python",
   "name": "python",
   "nbconvert_exporter": "python",
   "pygments_lexer": "ipython3",
   "version": "3.9.13"
  }
 },
 "nbformat": 4,
 "nbformat_minor": 5
}
