{
 "cells": [
  {
   "cell_type": "markdown",
   "id": "517f5377-dc2f-4f2b-80d7-8ae8aedbd942",
   "metadata": {},
   "source": [
    "# Problem 1"
   ]
  },
  {
   "cell_type": "code",
   "execution_count": 2,
   "id": "230c8c6d-9709-45aa-bd08-9b555067af07",
   "metadata": {},
   "outputs": [],
   "source": [
    "thislist = [\"apple\", \"banana\", \"cherry\", \"orange\", \"kiwi\", \"melon\", \"mango\"]"
   ]
  },
  {
   "cell_type": "code",
   "execution_count": 3,
   "id": "23a4ce94-7b34-4382-a54e-27aa3333b98a",
   "metadata": {},
   "outputs": [
    {
     "data": {
      "text/plain": [
       "7"
      ]
     },
     "execution_count": 3,
     "metadata": {},
     "output_type": "execute_result"
    }
   ],
   "source": [
    "len(thislist)"
   ]
  },
  {
   "cell_type": "code",
   "execution_count": 4,
   "id": "53184bb4-d3aa-4efa-b42c-c77a44a4333e",
   "metadata": {},
   "outputs": [
    {
     "data": {
      "text/plain": [
       "['banana', 'cherry']"
      ]
     },
     "execution_count": 4,
     "metadata": {},
     "output_type": "execute_result"
    }
   ],
   "source": [
    "# What is being replaced?\n",
    "thislist[1:3]"
   ]
  },
  {
   "cell_type": "code",
   "execution_count": 6,
   "id": "ac73c9e5-8413-4bfc-9c58-809dba7dc4b5",
   "metadata": {},
   "outputs": [],
   "source": [
    "thislist[1:3] = ['potato', 'tomato', 'brinjal']"
   ]
  },
  {
   "cell_type": "code",
   "execution_count": 7,
   "id": "b800650a-166d-49ec-b80e-08a3bc3297a4",
   "metadata": {},
   "outputs": [
    {
     "data": {
      "text/plain": [
       "['apple', 'potato', 'tomato', 'brinjal', 'orange', 'kiwi', 'melon', 'mango']"
      ]
     },
     "execution_count": 7,
     "metadata": {},
     "output_type": "execute_result"
    }
   ],
   "source": [
    "thislist"
   ]
  },
  {
   "cell_type": "code",
   "execution_count": 8,
   "id": "f5e2353e-d088-4dcf-ab98-c04bf9f4b8ad",
   "metadata": {},
   "outputs": [
    {
     "data": {
      "text/plain": [
       "8"
      ]
     },
     "execution_count": 8,
     "metadata": {},
     "output_type": "execute_result"
    }
   ],
   "source": [
    "len(thislist)"
   ]
  },
  {
   "cell_type": "raw",
   "id": "3bf80ff4-c098-4e59-8953-15e1a4ab9fde",
   "metadata": {},
   "source": [
    "[1:3]: 1 and 2 (exlusive of 3)\n",
    "Length of slice is: 2"
   ]
  },
  {
   "cell_type": "raw",
   "id": "2582d2de-5106-4bad-866b-bba6561b607c",
   "metadata": {},
   "source": [
    "When you assign a longer list to a shorter slice, it increases the length of the list."
   ]
  },
  {
   "cell_type": "markdown",
   "id": "1604de22-ba05-4bee-96ac-852747f4f313",
   "metadata": {},
   "source": [
    "# Problem 2"
   ]
  },
  {
   "cell_type": "code",
   "execution_count": 1,
   "id": "11ac4812-3fe9-41b0-a950-3ca966baa825",
   "metadata": {},
   "outputs": [],
   "source": [
    "thislist = [\"apple\", \"banana\", \"cherry\", \"orange\", \"kiwi\", \"melon\", \"mango\"]"
   ]
  },
  {
   "cell_type": "code",
   "execution_count": 2,
   "id": "e8255f8b-4df8-432e-995f-327290f6db1a",
   "metadata": {},
   "outputs": [
    {
     "data": {
      "text/plain": [
       "7"
      ]
     },
     "execution_count": 2,
     "metadata": {},
     "output_type": "execute_result"
    }
   ],
   "source": [
    "len(thislist)"
   ]
  },
  {
   "cell_type": "code",
   "execution_count": 3,
   "id": "e8a5d83d-a040-4b04-b960-59611a8f98b2",
   "metadata": {},
   "outputs": [
    {
     "data": {
      "text/plain": [
       "['banana', 'cherry', 'orange', 'kiwi']"
      ]
     },
     "execution_count": 3,
     "metadata": {},
     "output_type": "execute_result"
    }
   ],
   "source": [
    "thislist[1:5]"
   ]
  },
  {
   "cell_type": "code",
   "execution_count": 18,
   "id": "b8d59bdc-394e-4d6b-bbc0-3e9df57002af",
   "metadata": {},
   "outputs": [],
   "source": [
    "thislist[1:5] = ['potato', 'tomato', 'brinjal']"
   ]
  },
  {
   "cell_type": "code",
   "execution_count": 19,
   "id": "299589ff-334a-46a1-9376-f0208022bc37",
   "metadata": {},
   "outputs": [
    {
     "data": {
      "text/plain": [
       "['apple', 'potato', 'tomato', 'brinjal', 'melon', 'mango']"
      ]
     },
     "execution_count": 19,
     "metadata": {},
     "output_type": "execute_result"
    }
   ],
   "source": [
    "thislist"
   ]
  },
  {
   "cell_type": "code",
   "execution_count": 20,
   "id": "3ff016dd-b0fa-44a0-ae26-24f6873ac07b",
   "metadata": {},
   "outputs": [
    {
     "data": {
      "text/plain": [
       "6"
      ]
     },
     "execution_count": 20,
     "metadata": {},
     "output_type": "execute_result"
    }
   ],
   "source": [
    "len(thislist)"
   ]
  },
  {
   "cell_type": "raw",
   "id": "391736ac-31fa-4008-beb6-d7f0cba61736",
   "metadata": {},
   "source": [
    "[1:5] == 1, 2, 3, and 4\n",
    "Length of the slice: 4"
   ]
  },
  {
   "cell_type": "raw",
   "id": "74d0bffb-4d37-4906-a981-47d14db35382",
   "metadata": {},
   "source": [
    "When you assign a shorter list to a longer slice, it decreases the length of the list."
   ]
  }
 ],
 "metadata": {
  "kernelspec": {
   "display_name": "Python 3 (ipykernel)",
   "language": "python",
   "name": "python3"
  },
  "language_info": {
   "codemirror_mode": {
    "name": "ipython",
    "version": 3
   },
   "file_extension": ".py",
   "mimetype": "text/x-python",
   "name": "python",
   "nbconvert_exporter": "python",
   "pygments_lexer": "ipython3",
   "version": "3.9.13"
  }
 },
 "nbformat": 4,
 "nbformat_minor": 5
}
