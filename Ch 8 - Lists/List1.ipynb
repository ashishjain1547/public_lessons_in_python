{
 "cells": [
  {
   "cell_type": "code",
   "execution_count": 2,
   "id": "ee442d8c-e29e-4a30-822d-0c3067faca8a",
   "metadata": {},
   "outputs": [
    {
     "name": "stdout",
     "output_type": "stream",
     "text": [
      "['apple', 'banana', 'cherry', 'orange']\n"
     ]
    }
   ],
   "source": [
    "# List Creation\n",
    "\n",
    "# Sequence of items.\n",
    "# In this case, some fruits.\n",
    "# We saw sequences earlier while studying strings: \"A string is sequence of characters.\"\n",
    "\n",
    "thislist = [\"apple\", \"banana\", \"cherry\", \"orange\"]\n",
    "print(thislist)\n"
   ]
  },
  {
   "cell_type": "code",
   "execution_count": null,
   "id": "d874d864-9cd6-4fe3-924e-c4b3ea5e2c5f",
   "metadata": {},
   "outputs": [],
   "source": []
  },
  {
   "cell_type": "code",
   "execution_count": 3,
   "id": "e86ed80c-ae7c-43a1-8215-2f1118946c1e",
   "metadata": {},
   "outputs": [
    {
     "name": "stdout",
     "output_type": "stream",
     "text": [
      "['apple', 'banana', 'cherry', 'apple', 'cherry']\n"
     ]
    }
   ],
   "source": [
    "# List can have duplicate items\n",
    "\n",
    "thislist = [\"apple\", \"banana\", \"cherry\", \"apple\", \"cherry\"]\n",
    "print(thislist)\n"
   ]
  },
  {
   "cell_type": "code",
   "execution_count": 4,
   "id": "bbd836fb-3ed6-4fdd-a6ab-5304432fee0c",
   "metadata": {},
   "outputs": [
    {
     "name": "stdout",
     "output_type": "stream",
     "text": [
      "3\n"
     ]
    }
   ],
   "source": [
    "# List Length\n",
    "\n",
    "thislist = [\"apple\", \"banana\", \"cherry\"]\n",
    "print(len(thislist)) "
   ]
  },
  {
   "cell_type": "code",
   "execution_count": 5,
   "id": "d339f88e-97a7-4176-86e4-c420cf05d12d",
   "metadata": {},
   "outputs": [
    {
     "data": {
      "text/plain": [
       "5"
      ]
     },
     "execution_count": 5,
     "metadata": {},
     "output_type": "execute_result"
    }
   ],
   "source": [
    "# We saw that len() works on strings as well. Here is an example:\n",
    "len(\"apple\")"
   ]
  },
  {
   "cell_type": "code",
   "execution_count": 6,
   "id": "5f9174d1-a054-4a07-b6f3-c6c747bef7eb",
   "metadata": {},
   "outputs": [
    {
     "name": "stdout",
     "output_type": "stream",
     "text": [
      "['apple', 'banana', 'cherry']\n",
      "[1, 5, 7, 9, 3]\n",
      "[True, False, False]\n",
      "[1, 'the', True, False, 'Hello', 1, 2, 3]\n"
     ]
    }
   ],
   "source": [
    "# List items can be of any type\n",
    "# For Ex - String , int , boolean etc.\n",
    "\n",
    "list1 = [\"apple\", \"banana\", \"cherry\"] # A list of strings\n",
    "list2 = [1, 5, 7, 9, 3] # A list of integers\n",
    "list3 = [True, False, False] # A list of bool values.\n",
    "list4 = [1, \"the\", True, False, \"Hello\", 1, 2, 3] # A list of mixed types.\n",
    "\n",
    "print(list1)\n",
    "print(list2)\n",
    "print(list3)\n",
    "print(list4)"
   ]
  },
  {
   "cell_type": "code",
   "execution_count": 7,
   "id": "5e475961-044e-4c26-a791-45a18b81c03c",
   "metadata": {},
   "outputs": [
    {
     "name": "stdout",
     "output_type": "stream",
     "text": [
      "<class 'list'>\n"
     ]
    }
   ],
   "source": [
    "# Printing the type of list using the built-in function\n",
    "\n",
    "mylist = [\"apple\", \"banana\", \"cherry\"]\n",
    "print(type(mylist))"
   ]
  },
  {
   "cell_type": "code",
   "execution_count": 8,
   "id": "0d5f95db-8b21-4e3b-9855-60977f1b9944",
   "metadata": {
    "tags": []
   },
   "outputs": [
    {
     "name": "stdout",
     "output_type": "stream",
     "text": [
      "apple\n",
      "banana\n",
      "cherry\n"
     ]
    }
   ],
   "source": [
    "# Accessing list items by using their index\n",
    "# Note : index start from 0\n",
    "# Note : Negative index start from -1\n",
    "\n",
    "thislist = [\"apple\", \"banana\", \"cherry\"]\n",
    "\n",
    "print(thislist[0])\n",
    "print(thislist[1]) \n",
    "print(thislist[2]) "
   ]
  },
  {
   "cell_type": "code",
   "execution_count": 9,
   "id": "4b3e0ddb-e5be-4dc1-b45e-0c06850d867f",
   "metadata": {},
   "outputs": [
    {
     "name": "stdout",
     "output_type": "stream",
     "text": [
      "cherry\n",
      "cherry\n",
      "banana\n",
      "banana\n",
      "apple\n",
      "apple\n"
     ]
    }
   ],
   "source": [
    "print(thislist[-1]) # Prints the last element\n",
    "print(thislist[len(thislist) - 1])\n",
    "\n",
    "print(thislist[-2]) # Prints the second last element\n",
    "print(thislist[len(thislist) - 2])\n",
    "\n",
    "print(thislist[-3]) # Prints the third last element\n",
    "print(thislist[len(thislist) - 3])"
   ]
  },
  {
   "cell_type": "code",
   "execution_count": 10,
   "id": "e3765d4f-c096-4db4-887f-4c940956d498",
   "metadata": {},
   "outputs": [
    {
     "name": "stdout",
     "output_type": "stream",
     "text": [
      "-1\n",
      "mango\n",
      "-2\n",
      "melon\n",
      "-3\n",
      "kiwi\n",
      "-4\n",
      "orange\n",
      "-5\n",
      "cherry\n",
      "-6\n",
      "banana\n",
      "-7\n",
      "apple\n"
     ]
    }
   ],
   "source": [
    "thislist = [\"apple\", \"banana\", \"cherry\", \"orange\", \"kiwi\", \"melon\", \"mango\"]\n",
    "for i in range(-1, -1 * (len(thislist) + 1), -1):\n",
    "    print(i)\n",
    "    print(thislist[i])"
   ]
  },
  {
   "cell_type": "code",
   "execution_count": 11,
   "id": "cd0c6684-b208-4d4f-bce8-64ab44789a22",
   "metadata": {},
   "outputs": [
    {
     "data": {
      "text/plain": [
       "'a'"
      ]
     },
     "execution_count": 11,
     "metadata": {},
     "output_type": "execute_result"
    }
   ],
   "source": [
    "# Indexing of sequences starts from 0.\n",
    "mystr = \"apple\"\n",
    "mystr[0]"
   ]
  },
  {
   "cell_type": "code",
   "execution_count": 12,
   "id": "dfd6d4b6-d561-4851-9d1d-69d6a2236915",
   "metadata": {},
   "outputs": [
    {
     "data": {
      "text/plain": [
       "7"
      ]
     },
     "execution_count": 12,
     "metadata": {},
     "output_type": "execute_result"
    }
   ],
   "source": [
    "thislist = [\"apple\", \"banana\", \"cherry\", \"orange\", \"kiwi\", \"melon\", \"mango\"]\n",
    "len(thislist)"
   ]
  },
  {
   "cell_type": "code",
   "execution_count": 13,
   "id": "b0d50921-a178-46d6-83fe-21cbfdfd1407",
   "metadata": {
    "tags": []
   },
   "outputs": [],
   "source": [
    "# Accessing multiple items by using a range of indexes\n",
    "\n",
    "# For Ex - Accessig Third , Fourth and Fifth item\n",
    "# Note - Last index item will not include in result\n",
    "\n",
    "thislist = [\"apple\", \"banana\", \"cherry\", \"orange\", \"kiwi\", \"melon\", \"mango\"]"
   ]
  },
  {
   "cell_type": "code",
   "execution_count": 18,
   "id": "530659d6-f0d3-424e-a311-22e73ba9d9a0",
   "metadata": {},
   "outputs": [
    {
     "data": {
      "text/plain": [
       "[(0, 'apple'),\n",
       " (1, 'banana'),\n",
       " (2, 'cherry'),\n",
       " (3, 'orange'),\n",
       " (4, 'kiwi'),\n",
       " (5, 'melon'),\n",
       " (6, 'mango')]"
      ]
     },
     "execution_count": 18,
     "metadata": {},
     "output_type": "execute_result"
    }
   ],
   "source": [
    "list(enumerate(thislist))"
   ]
  },
  {
   "cell_type": "code",
   "execution_count": 16,
   "id": "6309e704-91bf-4154-937f-f015a0b27cdd",
   "metadata": {},
   "outputs": [
    {
     "name": "stdout",
     "output_type": "stream",
     "text": [
      "['cherry', 'orange', 'kiwi']\n"
     ]
    }
   ],
   "source": [
    "print(thislist[2:5]) # Inclusive of 2 and exclusive of 5"
   ]
  },
  {
   "cell_type": "code",
   "execution_count": 14,
   "id": "72d89798-4550-4c3a-b3b4-5df9e9212e57",
   "metadata": {},
   "outputs": [
    {
     "name": "stdout",
     "output_type": "stream",
     "text": [
      "['apple', 'banana', 'cherry', 'orange']\n"
     ]
    }
   ],
   "source": [
    "print(thislist[:4])   # From Begining to specified index \n",
    "# Note \"kiwi\" not included in the result\n",
    "# This slice [:4] -> [0:4:1]"
   ]
  },
  {
   "cell_type": "code",
   "execution_count": 15,
   "id": "3c0c1a73-991d-4feb-8fb2-da572586a12c",
   "metadata": {},
   "outputs": [
    {
     "name": "stdout",
     "output_type": "stream",
     "text": [
      "['cherry', 'orange', 'kiwi', 'melon', 'mango']\n"
     ]
    }
   ],
   "source": [
    "print(thislist[2:])\n",
    "# This slice [2:] -> [2:7:1]\n",
    "# 7 because it is the length of the list."
   ]
  },
  {
   "cell_type": "code",
   "execution_count": 19,
   "id": "30881f17-05fb-49fa-835b-2799cc10060c",
   "metadata": {},
   "outputs": [
    {
     "data": {
      "text/plain": [
       "[(0, 'apple'),\n",
       " (1, 'banana'),\n",
       " (2, 'cherry'),\n",
       " (3, 'orange'),\n",
       " (4, 'kiwi'),\n",
       " (5, 'melon'),\n",
       " (6, 'mango')]"
      ]
     },
     "execution_count": 19,
     "metadata": {},
     "output_type": "execute_result"
    }
   ],
   "source": [
    "list(enumerate(thislist))"
   ]
  },
  {
   "cell_type": "code",
   "execution_count": 7,
   "id": "6227fc93-12a5-4f5b-9aba-4f7377ded23f",
   "metadata": {},
   "outputs": [
    {
     "name": "stdout",
     "output_type": "stream",
     "text": [
      "['orange', 'kiwi', 'melon']\n"
     ]
    }
   ],
   "source": [
    "# Using Negative indexes\n",
    "print(thislist[-4:-1]) \n",
    "# [-4:-1] -> [len() - 4 : len() - 1] -> [7-4 : 7-1] -> [3:6]\n",
    "# Note: last item index value is -1 and this not included in result "
   ]
  },
  {
   "cell_type": "code",
   "execution_count": 38,
   "id": "0f247acc-fcfe-442a-ab88-7e383e38e3ee",
   "metadata": {},
   "outputs": [
    {
     "name": "stdout",
     "output_type": "stream",
     "text": [
      "Yes, 'apple' is in the fruits list\n",
      "No, 'guava' is not in the fruits list\n"
     ]
    }
   ],
   "source": [
    "# Checking an item exists in a list.\n",
    "# Use of 'in' and 'not in' Membership operators.\n",
    "\n",
    "list1 = [\"apple\", \"banana\", \"cherry\"]\n",
    "if \"apple\" in list1:\n",
    "  print(\"Yes, 'apple' is in the fruits list\") \n",
    "\n",
    "if \"guava\" not in list1:\n",
    "  print(\"No, 'guava' is not in the fruits list\") "
   ]
  },
  {
   "cell_type": "code",
   "execution_count": 1,
   "id": "6266c6f1-e67b-4332-81c4-5481d0837fa8",
   "metadata": {},
   "outputs": [
    {
     "name": "stdout",
     "output_type": "stream",
     "text": [
      "True\n",
      "False\n"
     ]
    }
   ],
   "source": [
    "print('a' in \"apple\") # True \n",
    "print('o' in \"apple\") # False"
   ]
  },
  {
   "cell_type": "code",
   "execution_count": 43,
   "id": "ac853608-c1bc-4cfa-ae6a-12a7c5a8a035",
   "metadata": {
    "tags": []
   },
   "outputs": [
    {
     "name": "stdout",
     "output_type": "stream",
     "text": [
      "banana\n",
      "['apple', 'blackcurrant', 'cherry']\n"
     ]
    }
   ],
   "source": [
    "# Change list items using their index numbers\n",
    "\n",
    "# For Ex - Changing the second item\n",
    "\n",
    "thislist = [\"apple\", \"banana\", \"cherry\"]\n",
    "\n",
    "print(thislist[1]) # Get Statement: here we are getting a value\n",
    "\n",
    "thislist[1] = \"blackcurrant\" # Set Statement: here we are setting a value\n",
    "\n",
    "print(thislist) "
   ]
  },
  {
   "cell_type": "code",
   "execution_count": 41,
   "id": "980c97e2-bdbc-427c-80f5-45a56179c8de",
   "metadata": {},
   "outputs": [
    {
     "name": "stdout",
     "output_type": "stream",
     "text": [
      "['potato', 'tomato', 'brinjal']\n"
     ]
    }
   ],
   "source": [
    "thislist = [\"apple\", \"banana\", \"cherry\"]\n",
    "\n",
    "thislist[0] = \"potato\"\n",
    "thislist[1] = \"tomato\"\n",
    "thislist[2] = \"brinjal\"\n",
    "print(thislist) "
   ]
  },
  {
   "cell_type": "code",
   "execution_count": 1,
   "id": "b400bf59-7e43-4899-ade6-1c01ba1ef792",
   "metadata": {},
   "outputs": [
    {
     "name": "stdout",
     "output_type": "stream",
     "text": [
      "['banana', 'cherry']\n",
      "['apple', 'blackcurrant', 'watermelon', 'orange', 'kiwi', 'mango']\n"
     ]
    }
   ],
   "source": [
    "# change multiple items values together using range index\n",
    "\n",
    "# For Ex - Change the values \"banana\" and \"cherry\" with the values \"blackcurrant\" and \"watermelon\":\n",
    "\n",
    "thislist = [\"apple\", \"banana\", \"cherry\", \"orange\", \"kiwi\", \"mango\"]\n",
    "\n",
    "print(thislist[1:3]) # Get statement using slice\n",
    "\n",
    "thislist[1:3] = [\"blackcurrant\", \"watermelon\"] # Set statement using slice\n",
    "\n",
    "print(thislist) "
   ]
  },
  {
   "cell_type": "code",
   "execution_count": 8,
   "id": "901033c9-eb9d-4923-a990-584b05cc1e68",
   "metadata": {},
   "outputs": [
    {
     "name": "stdout",
     "output_type": "stream",
     "text": [
      "['apple', 'blackcurrant', 'watermelon', 'cherry']\n"
     ]
    }
   ],
   "source": [
    "# Inserting more item than no of item to be replace \n",
    "\n",
    "# The new items will be inserted where you specified, and the remaining items will move accordingly ( list length will change)\n",
    "\n",
    "# For Ex - Changing the second item by replacing it with two new values\n",
    "\n",
    "thislist = [\"apple\", \"banana\", \"cherry\"]\n",
    "thislist[1:2] = [\"blackcurrant\", \"watermelon\"]\n",
    "print(thislist) \n"
   ]
  },
  {
   "cell_type": "code",
   "execution_count": 2,
   "id": "8cfd78c3-4fe3-43d6-a782-6536375ba642",
   "metadata": {},
   "outputs": [
    {
     "name": "stdout",
     "output_type": "stream",
     "text": [
      "len before: 3\n",
      "len after: 2\n",
      "['apple', 'watermelon']\n"
     ]
    }
   ],
   "source": [
    "# Inserting less item than no of item to be replace \n",
    "\n",
    "# The new items will be inserted where you specified, and the remaining items will move accordingly ( list length will change)\n",
    "\n",
    "# For Ex - Change the second and third value by replacing it with one value\n",
    "\n",
    "thislist = [\"apple\", \"banana\", \"cherry\"]\n",
    "\n",
    "print(\"len before: \" + str(len(thislist)))\n",
    "\n",
    "thislist[1:3] = [\"watermelon\"] \n",
    "# Number of indices on the left is 2.\n",
    "# Number of elements on the right is 1.\n",
    "# This would result in reduction of length of list.\n",
    "# This is because I replaced two elements in the list with one element.\n",
    "print(\"len after: \" + str(len(thislist)))\n",
    "\n",
    "print(thislist) \n"
   ]
  },
  {
   "cell_type": "markdown",
   "id": "912db91b-0294-41fc-8e55-81f0e0063773",
   "metadata": {},
   "source": [
    "# Adding items to a list"
   ]
  },
  {
   "cell_type": "code",
   "execution_count": 20,
   "id": "f57fdfa6-e1f9-4937-a2d7-9624de0b8759",
   "metadata": {
    "tags": []
   },
   "outputs": [
    {
     "name": "stdout",
     "output_type": "stream",
     "text": [
      "['apple', 'banana', 'watermelon', 'cherry']\n"
     ]
    }
   ],
   "source": [
    "# inserting items in list using insert method\n",
    "\n",
    "# For Ex - inserting item at 2nd Index \n",
    "\n",
    "thislist = [\"apple\", \"banana\", \"cherry\"]\n",
    "thislist.insert(2, \"watermelon\")\n",
    "print(thislist)\n"
   ]
  },
  {
   "cell_type": "code",
   "execution_count": 15,
   "id": "b132bc37-f1e3-499a-8940-25fd09d194ff",
   "metadata": {
    "tags": []
   },
   "outputs": [
    {
     "name": "stdout",
     "output_type": "stream",
     "text": [
      "['apple', 'banana', 'cherry', 'orange']\n"
     ]
    }
   ],
   "source": [
    "# Appending items in list using append method\n",
    "\n",
    "# For Ex - Appending item at the end of list\n",
    "\n",
    "thislist = [\"apple\", \"banana\", \"cherry\"]\n",
    "thislist.append(\"orange\")\n",
    "print(thislist)\n"
   ]
  },
  {
   "cell_type": "code",
   "execution_count": 23,
   "id": "5e0f6b4a-0468-4ffb-9550-4893839fb4a6",
   "metadata": {
    "tags": []
   },
   "outputs": [
    {
     "name": "stdout",
     "output_type": "stream",
     "text": [
      "['apple', 'banana', 'cherry', 'mango', 'pineapple', 'papaya']\n"
     ]
    }
   ],
   "source": [
    "# Appending items in list from any iterable object using extend method\n",
    "\n",
    "# Iterable objects like - another list , tupple , set , dictionary \n",
    "\n",
    "# For Ex - Appending another list \n",
    "\n",
    "l = [\"apple\", \"banana\", \"cherry\"]\n",
    "m = [\"mango\", \"pineapple\", \"papaya\"]\n",
    "l.extend(m)\n",
    "print(l)"
   ]
  },
  {
   "cell_type": "code",
   "execution_count": 25,
   "id": "870b7dd4-839a-4e9d-abb8-7ae043905ab0",
   "metadata": {},
   "outputs": [
    {
     "name": "stdout",
     "output_type": "stream",
     "text": [
      "['mango', 'pineapple', 'papaya', 'apple', 'banana', 'cherry']\n"
     ]
    }
   ],
   "source": [
    "l = [\"apple\", \"banana\", \"cherry\"]\n",
    "m = [\"mango\", \"pineapple\", \"papaya\"]\n",
    "l = m + l\n",
    "print(l)"
   ]
  },
  {
   "cell_type": "code",
   "execution_count": 17,
   "id": "7bcc2748-c5fe-4d05-ba1f-943aa0e7f0b5",
   "metadata": {},
   "outputs": [
    {
     "name": "stdout",
     "output_type": "stream",
     "text": [
      "['apple', 'banana', 'cherry', 'kiwi', 'orange']\n"
     ]
    }
   ],
   "source": [
    "# For Ex - Appending a tupple \n",
    "\n",
    "mainlist = [\"apple\", \"banana\", \"cherry\"]\n",
    "tupletoappend = (\"kiwi\", \"orange\")\n",
    "mainlist.extend(tupletoappend)\n",
    "print(mainlist)\n"
   ]
  },
  {
   "cell_type": "code",
   "execution_count": 18,
   "id": "c89394bf-b8dc-4f9f-a4c6-7ded26d8b7ee",
   "metadata": {},
   "outputs": [
    {
     "name": "stdout",
     "output_type": "stream",
     "text": [
      "['apple', 'banana', 'cherry', 'k1', 'k2', 'k3']\n"
     ]
    }
   ],
   "source": [
    "# For Ex - Appending a dictionary \n",
    "\n",
    "mainlist = [\"apple\", \"banana\", \"cherry\"]\n",
    "dicttoappend = { \"k1\":1,\"k2\":2,\"k3\":3}\n",
    "mainlist.extend(dicttoappend)\n",
    "print(mainlist)\n",
    "\n"
   ]
  },
  {
   "cell_type": "markdown",
   "id": "b6c83aa9-e5c8-42df-ba3b-354a75ed508e",
   "metadata": {},
   "source": [
    "# Removing items from a list"
   ]
  },
  {
   "cell_type": "code",
   "execution_count": 7,
   "id": "7462131d-90f0-45de-8cf6-c774c70a52f8",
   "metadata": {},
   "outputs": [
    {
     "name": "stdout",
     "output_type": "stream",
     "text": [
      "['apple', 'cherry']\n"
     ]
    }
   ],
   "source": [
    "# Removing items from list using remove method\n",
    "\n",
    "thislist = [\"apple\", \"banana\", \"cherry\"]\n",
    "thislist.remove(\"banana\")  # note : item value pass as a argument \n",
    "print(thislist) "
   ]
  },
  {
   "cell_type": "code",
   "execution_count": 20,
   "id": "c97f6290-fd97-4abb-9b9b-41b109e6e613",
   "metadata": {},
   "outputs": [
    {
     "name": "stdout",
     "output_type": "stream",
     "text": [
      "['apple', 'cherry']\n"
     ]
    }
   ],
   "source": [
    "# Removing specified index item from list using pop method\n",
    "\n",
    "thislist = [\"apple\", \"banana\", \"cherry\"]\n",
    "thislist.pop(1)\n",
    "print(thislist) \n"
   ]
  },
  {
   "cell_type": "code",
   "execution_count": 21,
   "id": "a3d3782d-541f-41b3-9b08-4fb38d13d6ae",
   "metadata": {},
   "outputs": [
    {
     "name": "stdout",
     "output_type": "stream",
     "text": [
      "['apple', 'banana']\n"
     ]
    }
   ],
   "source": [
    "# Removing the last item using the pop method\n",
    "\n",
    "thislist = [\"apple\", \"banana\", \"cherry\"]\n",
    "thislist.pop() # Note : No index value passed\n",
    "print(thislist) \n"
   ]
  },
  {
   "cell_type": "code",
   "execution_count": 22,
   "id": "64995e75-4ac0-4987-90ad-3e4d0f6c1667",
   "metadata": {},
   "outputs": [
    {
     "name": "stdout",
     "output_type": "stream",
     "text": [
      "['banana', 'cherry']\n"
     ]
    }
   ],
   "source": [
    "# Removing specified index items using del key workd \n",
    "\n",
    "# For Ex - Removing the first item \n",
    "\n",
    "thislist = [\"apple\", \"banana\", \"cherry\"]\n",
    "del thislist[0]\n",
    "print(thislist) \n"
   ]
  },
  {
   "cell_type": "code",
   "execution_count": 23,
   "id": "ab617e7d-af0f-46de-b7a1-523bfa82d178",
   "metadata": {},
   "outputs": [
    {
     "name": "stdout",
     "output_type": "stream",
     "text": [
      "name 'thislist' is not defined\n"
     ]
    }
   ],
   "source": [
    "# Deleting the entire list using del keyword\n",
    "\n",
    "thislist = [\"apple\", \"banana\", \"cherry\"]\n",
    "del thislist\n",
    "\n",
    "try:\n",
    "    print(thislist) # Trying to diplay deleted list contents\n",
    "except Exception as e:\n",
    "    print(e)"
   ]
  },
  {
   "cell_type": "code",
   "execution_count": 24,
   "id": "0466d722-01ec-4ff5-872c-998b0744b07c",
   "metadata": {},
   "outputs": [
    {
     "name": "stdout",
     "output_type": "stream",
     "text": [
      "[]\n"
     ]
    }
   ],
   "source": [
    "# Emptying a list using clear method\n",
    "\n",
    "thislist = [\"apple\", \"banana\", \"cherry\"]\n",
    "thislist.clear()\n",
    "print(thislist) # Display list content after emptying it\n"
   ]
  },
  {
   "cell_type": "code",
   "execution_count": 10,
   "id": "1e58ce08-3d15-482c-a9e5-924b5afa22b6",
   "metadata": {},
   "outputs": [],
   "source": [
    "# Sorting and reversing"
   ]
  },
  {
   "cell_type": "raw",
   "id": "3eea357a-6e7c-45c7-879a-8ea68c6d252d",
   "metadata": {},
   "source": [
    "Ordering the elements in the increasing alphabetical order."
   ]
  },
  {
   "cell_type": "code",
   "execution_count": 26,
   "id": "f9309d5c-3749-45dc-bb73-659a9dc8d50a",
   "metadata": {},
   "outputs": [
    {
     "name": "stdout",
     "output_type": "stream",
     "text": [
      "['banana', 'kiwi', 'mango', 'orange', 'pineapple']\n"
     ]
    }
   ],
   "source": [
    "thislist = [\"orange\", \"mango\", \"kiwi\", \"pineapple\", \"banana\"]\n",
    "thislist.sort()\n",
    "print(thislist) "
   ]
  },
  {
   "cell_type": "code",
   "execution_count": 11,
   "id": "a958de97-fc80-490d-b863-51f79f67c9c4",
   "metadata": {},
   "outputs": [
    {
     "data": {
      "text/plain": [
       "['banana', 'kiwi', 'mango', 'orange', 'pineapple']"
      ]
     },
     "execution_count": 11,
     "metadata": {},
     "output_type": "execute_result"
    }
   ],
   "source": [
    "thislist = [\"orange\", \"mango\", \"kiwi\", \"pineapple\", \"banana\"]\n",
    "sorted(thislist)"
   ]
  },
  {
   "cell_type": "code",
   "execution_count": null,
   "id": "09420924-d138-4fce-91bc-f39a60e90ddf",
   "metadata": {},
   "outputs": [],
   "source": [
    "# Three ways of reversing a list"
   ]
  },
  {
   "cell_type": "code",
   "execution_count": 27,
   "id": "a567b217-3cb0-4847-abb7-7142b09ec102",
   "metadata": {},
   "outputs": [
    {
     "name": "stdout",
     "output_type": "stream",
     "text": [
      "['banana', 'pineapple', 'kiwi', 'mango', 'orange']\n"
     ]
    }
   ],
   "source": [
    "thislist = [\"orange\", \"mango\", \"kiwi\", \"pineapple\", \"banana\"]\n",
    "thislist.reverse()\n",
    "print(thislist) "
   ]
  },
  {
   "cell_type": "code",
   "execution_count": 13,
   "id": "92b306a3-e9e1-4498-91b2-7f43293ad7b7",
   "metadata": {},
   "outputs": [
    {
     "data": {
      "text/plain": [
       "['banana', 'pineapple', 'kiwi', 'mango', 'orange']"
      ]
     },
     "execution_count": 13,
     "metadata": {},
     "output_type": "execute_result"
    }
   ],
   "source": [
    "list(reversed(thislist))"
   ]
  },
  {
   "cell_type": "code",
   "execution_count": 14,
   "id": "9cca1f3e-9d24-463f-9a3f-00ef24753120",
   "metadata": {},
   "outputs": [
    {
     "data": {
      "text/plain": [
       "['banana', 'pineapple', 'kiwi', 'mango', 'orange']"
      ]
     },
     "execution_count": 14,
     "metadata": {},
     "output_type": "execute_result"
    }
   ],
   "source": [
    "thislist[::-1]"
   ]
  },
  {
   "cell_type": "code",
   "execution_count": null,
   "id": "ec83647d-c7fa-48d4-9161-57bee30c9817",
   "metadata": {},
   "outputs": [],
   "source": []
  }
 ],
 "metadata": {
  "kernelspec": {
   "display_name": "Python 3 (ipykernel)",
   "language": "python",
   "name": "python3"
  },
  "language_info": {
   "codemirror_mode": {
    "name": "ipython",
    "version": 3
   },
   "file_extension": ".py",
   "mimetype": "text/x-python",
   "name": "python",
   "nbconvert_exporter": "python",
   "pygments_lexer": "ipython3",
   "version": "3.9.13"
  }
 },
 "nbformat": 4,
 "nbformat_minor": 5
}
