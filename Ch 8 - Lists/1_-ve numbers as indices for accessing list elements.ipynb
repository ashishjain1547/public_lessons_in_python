{
 "cells": [
  {
   "cell_type": "code",
   "execution_count": 1,
   "id": "bcfdf993-38a2-410b-bd90-8348e5552209",
   "metadata": {},
   "outputs": [],
   "source": [
    "thislist = [\"apple\", \"banana\", \"cherry\", \"orange\", \"kiwi\", \"melon\", \"mango\"]"
   ]
  },
  {
   "cell_type": "code",
   "execution_count": 2,
   "id": "3b88575c-022d-43ed-899a-15159accbb33",
   "metadata": {},
   "outputs": [
    {
     "data": {
      "text/plain": [
       "['apple', 'banana', 'cherry', 'orange', 'kiwi', 'melon', 'mango']"
      ]
     },
     "execution_count": 2,
     "metadata": {},
     "output_type": "execute_result"
    }
   ],
   "source": [
    "thislist"
   ]
  },
  {
   "cell_type": "code",
   "execution_count": 3,
   "id": "bec3e383-3d20-4126-99a4-810b256ca7b5",
   "metadata": {},
   "outputs": [
    {
     "data": {
      "text/plain": [
       "'mango'"
      ]
     },
     "execution_count": 3,
     "metadata": {},
     "output_type": "execute_result"
    }
   ],
   "source": [
    "thislist[-1]"
   ]
  },
  {
   "cell_type": "code",
   "execution_count": 4,
   "id": "01a1df12-922e-44f1-a957-ff67ec80d9ec",
   "metadata": {},
   "outputs": [
    {
     "data": {
      "text/plain": [
       "'melon'"
      ]
     },
     "execution_count": 4,
     "metadata": {},
     "output_type": "execute_result"
    }
   ],
   "source": [
    "thislist[-2]"
   ]
  },
  {
   "cell_type": "code",
   "execution_count": 5,
   "id": "79648ef1-f257-4d0c-9a91-e1bd1db799f3",
   "metadata": {},
   "outputs": [
    {
     "data": {
      "text/plain": [
       "'kiwi'"
      ]
     },
     "execution_count": 5,
     "metadata": {},
     "output_type": "execute_result"
    }
   ],
   "source": [
    "thislist[-3]"
   ]
  },
  {
   "cell_type": "code",
   "execution_count": 6,
   "id": "2c433ac6-6ec4-4638-a37f-d4d39d7a3a84",
   "metadata": {},
   "outputs": [
    {
     "data": {
      "text/plain": [
       "'orange'"
      ]
     },
     "execution_count": 6,
     "metadata": {},
     "output_type": "execute_result"
    }
   ],
   "source": [
    "thislist[-4]"
   ]
  },
  {
   "cell_type": "code",
   "execution_count": 7,
   "id": "ddee9702-e7cd-4b18-8c8f-55c08acc7fc8",
   "metadata": {},
   "outputs": [
    {
     "data": {
      "text/plain": [
       "['orange', 'kiwi', 'melon']"
      ]
     },
     "execution_count": 7,
     "metadata": {},
     "output_type": "execute_result"
    }
   ],
   "source": [
    "thislist[-4:-1]"
   ]
  },
  {
   "cell_type": "code",
   "execution_count": 8,
   "id": "8323d4ba-2f4c-4694-a5cf-a88f9b83ec81",
   "metadata": {},
   "outputs": [
    {
     "data": {
      "text/plain": [
       "['mango', 'melon', 'kiwi', 'orange', 'cherry', 'banana', 'apple']"
      ]
     },
     "execution_count": 8,
     "metadata": {},
     "output_type": "execute_result"
    }
   ],
   "source": [
    "thislist[::-1]"
   ]
  },
  {
   "cell_type": "raw",
   "id": "c9a9d132-514d-4081-a424-c796fdbf7b47",
   "metadata": {},
   "source": [
    "-1 means traversing from right to left.\n",
    "That means when step is negative, we need to start from right and provide an index on the left."
   ]
  },
  {
   "cell_type": "code",
   "execution_count": 9,
   "id": "e0efc27e-98c0-42c2-a4f1-d5b35d5e666b",
   "metadata": {},
   "outputs": [
    {
     "data": {
      "text/plain": [
       "[]"
      ]
     },
     "execution_count": 9,
     "metadata": {},
     "output_type": "execute_result"
    }
   ],
   "source": [
    "thislist[0:4:-1]"
   ]
  },
  {
   "cell_type": "code",
   "execution_count": 13,
   "id": "bb4e7c53-93ee-4f4f-b6eb-b0da814ad1cc",
   "metadata": {},
   "outputs": [
    {
     "data": {
      "text/plain": [
       "['apple', 'banana', 'cherry', 'orange', 'kiwi', 'melon', 'mango']"
      ]
     },
     "execution_count": 13,
     "metadata": {},
     "output_type": "execute_result"
    }
   ],
   "source": [
    "thislist"
   ]
  },
  {
   "cell_type": "code",
   "execution_count": 10,
   "id": "5bc95c9c-1ac7-460a-ac08-eb701b6de516",
   "metadata": {},
   "outputs": [
    {
     "data": {
      "text/plain": [
       "['kiwi', 'orange', 'cherry', 'banana']"
      ]
     },
     "execution_count": 10,
     "metadata": {},
     "output_type": "execute_result"
    }
   ],
   "source": [
    "thislist[4:0:-1] # Exclusive of 0"
   ]
  },
  {
   "cell_type": "code",
   "execution_count": 12,
   "id": "e2e939df-d6ba-47ad-8891-5e30b8fa7bf5",
   "metadata": {},
   "outputs": [
    {
     "data": {
      "text/plain": [
       "['kiwi', 'orange', 'cherry', 'banana', 'apple']"
      ]
     },
     "execution_count": 12,
     "metadata": {},
     "output_type": "execute_result"
    }
   ],
   "source": [
    "thislist[4::-1]"
   ]
  },
  {
   "cell_type": "code",
   "execution_count": null,
   "id": "29512910-8a5b-4a6d-ac09-54f7ee8ea980",
   "metadata": {},
   "outputs": [],
   "source": []
  }
 ],
 "metadata": {
  "kernelspec": {
   "display_name": "Python 3 (ipykernel)",
   "language": "python",
   "name": "python3"
  },
  "language_info": {
   "codemirror_mode": {
    "name": "ipython",
    "version": 3
   },
   "file_extension": ".py",
   "mimetype": "text/x-python",
   "name": "python",
   "nbconvert_exporter": "python",
   "pygments_lexer": "ipython3",
   "version": "3.9.13"
  }
 },
 "nbformat": 4,
 "nbformat_minor": 5
}
