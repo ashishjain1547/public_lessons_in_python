{
 "cells": [
  {
   "cell_type": "code",
   "execution_count": 1,
   "id": "6e30a039-0ee8-4495-a842-68bc069bc056",
   "metadata": {},
   "outputs": [],
   "source": [
    "d = {\n",
    "    \"name\": \"Johanth\",\n",
    "    \"language\": \"Python\",\n",
    "    \"state\": \"Telangana\",\n",
    "}"
   ]
  },
  {
   "cell_type": "code",
   "execution_count": 2,
   "id": "a352fe8a-6d49-4843-a66f-ed4c9e5bd46f",
   "metadata": {},
   "outputs": [],
   "source": [
    "d['age'] = 13"
   ]
  },
  {
   "cell_type": "code",
   "execution_count": 3,
   "id": "f07376b1-f709-448b-b83f-80a57c8acbb2",
   "metadata": {},
   "outputs": [
    {
     "data": {
      "text/plain": [
       "{'name': 'Johanth', 'language': 'Python', 'state': 'Telangana', 'age': 13}"
      ]
     },
     "execution_count": 3,
     "metadata": {},
     "output_type": "execute_result"
    }
   ],
   "source": [
    "d"
   ]
  },
  {
   "cell_type": "code",
   "execution_count": 6,
   "id": "ee9419c2-64aa-4c6c-a773-75a1377087ec",
   "metadata": {},
   "outputs": [],
   "source": [
    "d.update(\n",
    "    {\n",
    "        \"nationality\": \"Indian\"\n",
    "    }\n",
    ")"
   ]
  },
  {
   "cell_type": "code",
   "execution_count": 7,
   "id": "9dcf61da-579f-4d8c-b8f9-a074e0264196",
   "metadata": {},
   "outputs": [
    {
     "data": {
      "text/plain": [
       "{'name': 'Johanth',\n",
       " 'language': 'Python',\n",
       " 'state': 'Telangana',\n",
       " 'age': 13,\n",
       " 'nationality': 'Indian'}"
      ]
     },
     "execution_count": 7,
     "metadata": {},
     "output_type": "execute_result"
    }
   ],
   "source": [
    "d"
   ]
  },
  {
   "cell_type": "code",
   "execution_count": null,
   "id": "de9a88a5-cd11-4daf-b782-a3c81c091b08",
   "metadata": {},
   "outputs": [],
   "source": []
  },
  {
   "cell_type": "code",
   "execution_count": null,
   "id": "91e266e0-d8d4-4ae5-9395-d9ade4953ab8",
   "metadata": {},
   "outputs": [],
   "source": []
  }
 ],
 "metadata": {
  "kernelspec": {
   "display_name": "Python 3 (ipykernel)",
   "language": "python",
   "name": "python3"
  },
  "language_info": {
   "codemirror_mode": {
    "name": "ipython",
    "version": 3
   },
   "file_extension": ".py",
   "mimetype": "text/x-python",
   "name": "python",
   "nbconvert_exporter": "python",
   "pygments_lexer": "ipython3",
   "version": "3.9.13"
  }
 },
 "nbformat": 4,
 "nbformat_minor": 5
}
