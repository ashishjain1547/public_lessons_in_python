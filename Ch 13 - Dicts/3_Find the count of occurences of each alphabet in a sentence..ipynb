{
 "cells": [
  {
   "cell_type": "code",
   "execution_count": 1,
   "id": "7aaa6587-82a4-40ea-a02c-3b96734b866d",
   "metadata": {},
   "outputs": [],
   "source": [
    "# Find the count of occurences of each alphabet in a sentence."
   ]
  },
  {
   "cell_type": "code",
   "execution_count": 4,
   "id": "3e08ef2a-a91e-44c7-8cae-2bc3748e32a4",
   "metadata": {},
   "outputs": [],
   "source": [
    "s = \"\"\"Python is a high-level, general-purpose programming language. Its design philosophy emphasizes code readability with the use of significant indentation via the off-side rule.\n",
    "Python is dynamically typed and garbage-collected. It supports multiple programming paradigms, including structured (particularly procedural), object-oriented and functional programming. It is often described as a \"batteries included\" language due to its comprehensive standard library.\n",
    "Guido van Rossum began working on Python in the late 1980s as a successor to the ABC programming language and first released it in 1991 as Python 0.9.0.[36] Python 2.0 was released in 2000. Python 3.0, released in 2008, was a major revision not completely backward-compatible with earlier versions. Python 2.7.18, released in 2020, was the last release of Python 2.\n",
    "Python consistently ranks as one of the most popular programming languages.\"\"\""
   ]
  },
  {
   "cell_type": "code",
   "execution_count": 7,
   "id": "8af974c1-a79e-46fe-bf89-3cdc2aa0562c",
   "metadata": {},
   "outputs": [],
   "source": [
    "s = s.lower()"
   ]
  },
  {
   "cell_type": "code",
   "execution_count": 6,
   "id": "016c32c2-08c6-4946-9549-9f374cf22c8e",
   "metadata": {},
   "outputs": [
    {
     "data": {
      "text/plain": [
       "64"
      ]
     },
     "execution_count": 6,
     "metadata": {},
     "output_type": "execute_result"
    }
   ],
   "source": [
    "s.count(\"a\")"
   ]
  },
  {
   "cell_type": "raw",
   "id": "da1dd742-bff8-438f-b2b9-4c384ac5d7c4",
   "metadata": {},
   "source": [
    "What is ASCII for A to Z?\n",
    "\n",
    "The range of ASCII values for uppercase letters A-Z is 65-90.\n",
    "And the range for lowercase letters a-z is 97-122. \n",
    "\n",
    "The built-in functions that support conversion between ASCII code and character are:\n",
    "ord() and chr()"
   ]
  },
  {
   "cell_type": "code",
   "execution_count": 8,
   "id": "31f4814f-6ede-48d3-85b9-af44c6fbb25a",
   "metadata": {},
   "outputs": [
    {
     "data": {
      "text/plain": [
       "97"
      ]
     },
     "execution_count": 8,
     "metadata": {},
     "output_type": "execute_result"
    }
   ],
   "source": [
    "ord('a')"
   ]
  },
  {
   "cell_type": "code",
   "execution_count": 9,
   "id": "3451f9b3-ddce-4321-8eed-816e4520db32",
   "metadata": {},
   "outputs": [
    {
     "data": {
      "text/plain": [
       "'a'"
      ]
     },
     "execution_count": 9,
     "metadata": {},
     "output_type": "execute_result"
    }
   ],
   "source": [
    "chr(97)"
   ]
  },
  {
   "cell_type": "code",
   "execution_count": 13,
   "id": "605a9925-35f9-4d7f-b46a-0d17fb931020",
   "metadata": {},
   "outputs": [],
   "source": [
    "a2z = [chr(i) for i in range(97, 123)]"
   ]
  },
  {
   "cell_type": "code",
   "execution_count": 15,
   "id": "6ec1a0de-fec7-4ccf-90b4-37889c9d7fad",
   "metadata": {},
   "outputs": [
    {
     "name": "stdout",
     "output_type": "stream",
     "text": [
      "a 65\n",
      "b 10\n",
      "c 21\n",
      "d 29\n",
      "e 71\n",
      "f 9\n",
      "g 29\n",
      "h 23\n",
      "i 55\n",
      "j 2\n",
      "k 3\n",
      "l 36\n",
      "m 20\n",
      "n 54\n",
      "o 48\n",
      "p 31\n",
      "q 0\n",
      "r 47\n",
      "s 49\n",
      "t 51\n",
      "u 21\n",
      "v 6\n",
      "w 7\n",
      "x 0\n",
      "y 18\n",
      "z 1\n"
     ]
    }
   ],
   "source": [
    "for i in a2z:\n",
    "    print(i, s.count(i))"
   ]
  },
  {
   "cell_type": "code",
   "execution_count": null,
   "id": "84b7f24e-634e-4962-8a5b-5b8901fc8d9f",
   "metadata": {},
   "outputs": [],
   "source": []
  }
 ],
 "metadata": {
  "kernelspec": {
   "display_name": "Python 3 (ipykernel)",
   "language": "python",
   "name": "python3"
  },
  "language_info": {
   "codemirror_mode": {
    "name": "ipython",
    "version": 3
   },
   "file_extension": ".py",
   "mimetype": "text/x-python",
   "name": "python",
   "nbconvert_exporter": "python",
   "pygments_lexer": "ipython3",
   "version": "3.9.13"
  }
 },
 "nbformat": 4,
 "nbformat_minor": 5
}
