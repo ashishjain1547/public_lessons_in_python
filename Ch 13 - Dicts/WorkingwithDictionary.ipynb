{
 "cells": [
  {
   "cell_type": "code",
   "execution_count": null,
   "id": "71b3c586-264c-4c75-9e97-40e8d3de1197",
   "metadata": {},
   "outputs": [],
   "source": [
    "# A dictinary is a collection of key:value pairs\n",
    "# key are immuatable objects like string,frozenset \n",
    "# Dictionary is ordered - i.e items of a dictinary always print in same order  \n",
    "# Dictinary is changable - i.e we can add , remove and change items after its creation\n",
    "# No duplicate items allowed - i.e no duplicate key allowed\n",
    "# dictinary item values can be of any type - i.e support mixed data type\n"
   ]
  },
  {
   "cell_type": "code",
   "execution_count": 1,
   "id": "28ef5495-296c-4914-9d21-8f3850af64b0",
   "metadata": {},
   "outputs": [
    {
     "name": "stdout",
     "output_type": "stream",
     "text": [
      "{'brand': 'Ford', 'model': 'Mustang', 'year': 1964}\n"
     ]
    }
   ],
   "source": [
    "# Creating a dictionary\n",
    "\n",
    "thisdict = {\n",
    "  \"brand\": \"Ford\",\n",
    "  \"model\": \"Mustang\",\n",
    "  \"year\": 1964\n",
    "} \n",
    "\n",
    "print(thisdict)"
   ]
  },
  {
   "cell_type": "code",
   "execution_count": 2,
   "id": "32a8cea9-903a-4756-8907-3b083ae77fcd",
   "metadata": {},
   "outputs": [
    {
     "name": "stdout",
     "output_type": "stream",
     "text": [
      "Ford\n",
      "1964\n"
     ]
    }
   ],
   "source": [
    "# Accessing dictinary items using their keys\n",
    "\n",
    "thisdict = {\n",
    "  \"brand\": \"Ford\",\n",
    "  \"model\": \"Mustang\",\n",
    "  \"year\": 1964\n",
    "}\n",
    "print(thisdict[\"brand\"])\n",
    "print(thisdict[\"year\"])\n"
   ]
  },
  {
   "cell_type": "code",
   "execution_count": 1,
   "id": "ae43aef0-17ce-4a2d-adb2-3e5fa148d63a",
   "metadata": {},
   "outputs": [
    {
     "name": "stdout",
     "output_type": "stream",
     "text": [
      "{'brand': 'Ford', 'model': 'Mustang', 'year': 1964}\n",
      "{'brand': 'Mercedes', 'model': 'Mustang', 'year': 1964}\n"
     ]
    }
   ],
   "source": [
    "# Changing values of dictinary items using associated keys\n",
    "\n",
    "thisdict = {\n",
    "  \"brand\": \"Ford\",\n",
    "  \"model\": \"Mustang\",\n",
    "  \"year\": 1964\n",
    "}\n",
    "print(thisdict) # display items before change\n",
    "thisdict[\"brand\"] = \"Mercedes\" # changing brand value \n",
    "print(thisdict) # display items after change"
   ]
  },
  {
   "cell_type": "code",
   "execution_count": 4,
   "id": "ea911109-4bbd-4443-be5b-8f5fc9d29981",
   "metadata": {},
   "outputs": [
    {
     "name": "stdout",
     "output_type": "stream",
     "text": [
      "{'k1': 5, 'k2': 6}\n",
      "{'k1': 5, 'k2': 6}\n",
      "{'k1': 5, 'k2': 6}\n"
     ]
    }
   ],
   "source": [
    "\n",
    "# In Python 3.6 and earlier, dictionaries are unordered\n",
    "# From Python 3.7 dictinaries ared ordered\n",
    "# Ordered mean dictinary items have a defined order and it never change\n",
    "# i.e items of a dictinary always print in same order \n",
    "\n",
    "# For Ex -\n",
    "\n",
    "dict ={\"k1\":5,\"k2\":6}\n",
    "print(dict)\n",
    "print(dict)\n",
    "print(dict)\n"
   ]
  },
  {
   "cell_type": "code",
   "execution_count": 5,
   "id": "17580773-ec50-44b1-90b0-8869f40bc649",
   "metadata": {},
   "outputs": [
    {
     "name": "stdout",
     "output_type": "stream",
     "text": [
      "3\n"
     ]
    }
   ],
   "source": [
    "# Length of dictnary\n",
    "\n",
    "thisdict = {\n",
    "  \"brand\": \"Ford\",\n",
    "  \"model\": \"Mustang\",\n",
    "  \"year\": 1964\n",
    "}\n",
    "\n",
    "print(len(thisdict))\n"
   ]
  },
  {
   "cell_type": "code",
   "execution_count": 6,
   "id": "2135573d-5caa-4226-a66d-06542707b3d6",
   "metadata": {},
   "outputs": [
    {
     "name": "stdout",
     "output_type": "stream",
     "text": [
      "{'brand': 'Ford', 'electric': False, 'year': 1964, 'colors': ['red', 'white', 'blue']}\n"
     ]
    }
   ],
   "source": [
    "# dictinary item values can be of any type - i.e support mixed data type\n",
    "\n",
    "thisdict = {\n",
    "  \"brand\": \"Ford\", # string data type\n",
    "  \"electric\": False, # boolean data type\n",
    "  \"year\": 1964, # numeric data type\n",
    "  \"colors\": [\"red\", \"white\", \"blue\"] # list data type\n",
    "} \n",
    "\n",
    "print(thisdict)\n"
   ]
  },
  {
   "cell_type": "code",
   "execution_count": 7,
   "id": "9825518b-e73f-42f2-a7a2-af6872bc6662",
   "metadata": {},
   "outputs": [
    {
     "name": "stdout",
     "output_type": "stream",
     "text": [
      "<class 'dict'>\n"
     ]
    }
   ],
   "source": [
    "# type of dictinary is dict\n",
    "\n",
    "thisdict = {\n",
    "  \"brand\": \"Ford\", # string data type\n",
    "  \"electric\": False, # boolean data type\n",
    "  \"year\": 1964, # numeric data type\n",
    "  \"colors\": [\"red\", \"white\", \"blue\"] # list data type\n",
    "} \n",
    "\n",
    "print(type(thisdict))\n"
   ]
  },
  {
   "cell_type": "code",
   "execution_count": 8,
   "id": "9b2bf3e0-4cc3-4376-bcd4-c9cc79bd6707",
   "metadata": {},
   "outputs": [
    {
     "name": "stdout",
     "output_type": "stream",
     "text": [
      "Mustang\n"
     ]
    }
   ],
   "source": [
    "# Accessing dictinary items using get method\n",
    "\n",
    "thisdict = {\n",
    "  \"brand\": \"Ford\",\n",
    "  \"model\": \"Mustang\",\n",
    "  \"year\": 1964\n",
    "}\n",
    "\n",
    "x = thisdict.get(\"model\")\n",
    "print(x) \n",
    "\n",
    "\n"
   ]
  },
  {
   "cell_type": "code",
   "execution_count": 13,
   "id": "1c295b79-d78f-41c4-959e-43903b3acbae",
   "metadata": {},
   "outputs": [
    {
     "name": "stdout",
     "output_type": "stream",
     "text": [
      "dict_keys(['brand', 'model', 'year'])\n"
     ]
    }
   ],
   "source": [
    "# Geting all keys as a list \n",
    "\n",
    "thisdict = {\n",
    "  \"brand\": \"Ford\",\n",
    "  \"model\": \"Mustang\",\n",
    "  \"year\": 1964\n",
    "}\n",
    "\n",
    "keylist = thisdict.keys()\n",
    "print(keylist) "
   ]
  },
  {
   "cell_type": "code",
   "execution_count": 14,
   "id": "77f81420-25d2-463a-95b9-87983d2e35b2",
   "metadata": {},
   "outputs": [
    {
     "name": "stdout",
     "output_type": "stream",
     "text": [
      "dict_values(['Ford', 'Mustang', 1964])\n"
     ]
    }
   ],
   "source": [
    "# Geting all values as a list \n",
    "\n",
    "thisdict = {\n",
    "  \"brand\": \"Ford\",\n",
    "  \"model\": \"Mustang\",\n",
    "  \"year\": 1964\n",
    "}\n",
    "\n",
    "valuelist = thisdict.values()\n",
    "print(valuelist) "
   ]
  },
  {
   "cell_type": "code",
   "execution_count": 16,
   "id": "c6cac70f-959c-4f8d-99b0-2d50109515eb",
   "metadata": {},
   "outputs": [
    {
     "name": "stdout",
     "output_type": "stream",
     "text": [
      "dict_items([('brand', 'Ford'), ('model', 'Mustang'), ('year', 1964)])\n"
     ]
    }
   ],
   "source": [
    "# Geting items as a list of tuple of key-value pairs \n",
    "\n",
    "thisdict = {\n",
    "  \"brand\": \"Ford\",\n",
    "  \"model\": \"Mustang\",\n",
    "  \"year\": 1964\n",
    "}\n",
    "\n",
    "itemlist = thisdict.items()\n",
    "\n",
    "print(itemlist) "
   ]
  },
  {
   "cell_type": "code",
   "execution_count": 17,
   "id": "8a8600db-bae9-43a2-b880-ba1054ec8375",
   "metadata": {},
   "outputs": [
    {
     "name": "stdout",
     "output_type": "stream",
     "text": [
      "dict_keys(['brand', 'model', 'year'])\n",
      "dict_keys(['brand', 'model', 'year', 'color'])\n",
      "{'brand': 'Ford', 'model': 'Mustang', 'year': 1964, 'color': 'Blue'}\n"
     ]
    }
   ],
   "source": [
    "# The list of the keys is a view of the dictionary, \n",
    "# I.e Any changes in the dictionary will reflect in key list\n",
    "\n",
    "# For Ex - Adding a key in dictinary \n",
    "\n",
    "thisdict = {\n",
    "  \"brand\": \"Ford\",\n",
    "  \"model\": \"Mustang\",\n",
    "  \"year\": 1964\n",
    "}\n",
    "\n",
    "keylist = thisdict.keys()\n",
    "print(keylist) # print key list before adding new item in dictinary\n",
    "\n",
    "\n",
    "# Adding a new item in dictinary\n",
    "thisdict[\"color\"] = \"Blue\"\n",
    "\n",
    "print(keylist) # print key list after adding new item in dictinary\n",
    "print(thisdict) # print dictinary after adding new item in dictinary\n"
   ]
  },
  {
   "cell_type": "code",
   "execution_count": 18,
   "id": "7c9ebd78-1779-42d0-a030-7129fb91c857",
   "metadata": {},
   "outputs": [
    {
     "name": "stdout",
     "output_type": "stream",
     "text": [
      "dict_values(['Ford', 'Mustang', 1964])\n",
      "dict_values(['Ford', 'Mustang', 1964, 'Blue'])\n",
      "{'brand': 'Ford', 'model': 'Mustang', 'year': 1964, 'color': 'Blue'}\n"
     ]
    }
   ],
   "source": [
    "# The list of the values is a view of the dictionary, \n",
    "# I.e Any changes in the dictionary will reflect in value list\n",
    "\n",
    "# For Ex - Adding a key in dictinary \n",
    "\n",
    "thisdict = {\n",
    "  \"brand\": \"Ford\",\n",
    "  \"model\": \"Mustang\",\n",
    "  \"year\": 1964\n",
    "}\n",
    "\n",
    "valuelist = thisdict.values()\n",
    "print(valuelist) # print value list before adding new item in dictinary\n",
    "\n",
    "\n",
    "# Adding a new item in dictinary\n",
    "thisdict[\"color\"] = \"Blue\"\n",
    "\n",
    "print(valuelist) # print value list after adding new item in dictinary\n",
    "print(thisdict) # print dictinary after adding new item in dictinary\n"
   ]
  },
  {
   "cell_type": "code",
   "execution_count": 19,
   "id": "6d221efd-9785-4fb0-bb1e-d956c6988d83",
   "metadata": {},
   "outputs": [
    {
     "name": "stdout",
     "output_type": "stream",
     "text": [
      "dict_items([('brand', 'Ford'), ('model', 'Mustang'), ('year', 1964)])\n",
      "dict_items([('brand', 'Ford'), ('model', 'Mustang'), ('year', 1964), ('color', 'Blue')])\n",
      "{'brand': 'Ford', 'model': 'Mustang', 'year': 1964, 'color': 'Blue'}\n"
     ]
    }
   ],
   "source": [
    "# The list of  item is a view of the dictionary, \n",
    "# I.e Any changes in the dictionary will reflect in item list\n",
    "\n",
    "# For Ex - Adding a key in dictinary \n",
    "\n",
    "thisdict = {\n",
    "  \"brand\": \"Ford\",\n",
    "  \"model\": \"Mustang\",\n",
    "  \"year\": 1964\n",
    "}\n",
    "\n",
    "itemList = thisdict.items()\n",
    "print(itemList) # print item list before adding new item in dictinary\n",
    "\n",
    "\n",
    "# Adding a new item in dictinary\n",
    "thisdict[\"color\"] = \"Blue\"\n",
    "\n",
    "print(itemList) # print item list after adding new item in dictinary\n",
    "print(thisdict) # print dictinary after adding new item in dictinary"
   ]
  },
  {
   "cell_type": "code",
   "execution_count": 20,
   "id": "fd12f1f2-ccd9-421e-8682-d3da33af47df",
   "metadata": {},
   "outputs": [
    {
     "name": "stdout",
     "output_type": "stream",
     "text": [
      "True\n",
      "False\n"
     ]
    }
   ],
   "source": [
    "# Check if a key present in dictinary or not\n",
    "\n",
    "thisdict = {\n",
    "  \"brand\": \"Ford\",\n",
    "  \"model\": \"Mustang\",\n",
    "  \"year\": 1964\n",
    "}\n",
    "\n",
    "print(\"year\" in thisdict)\n",
    "print(\"color\" in thisdict)"
   ]
  },
  {
   "cell_type": "code",
   "execution_count": null,
   "id": "0cada203-816b-4af1-93b1-40e9593e5ba8",
   "metadata": {},
   "outputs": [],
   "source": [
    "# Updating dictinary \n",
    "\n",
    "# Add a new item using a key value\n",
    "# Modifying an item value using update method\n",
    "# Remove an existing item using remove method\n",
    "\n"
   ]
  },
  {
   "cell_type": "code",
   "execution_count": 22,
   "id": "ba9ad3b8-7be1-48a2-92e1-3831ed63badb",
   "metadata": {},
   "outputs": [
    {
     "name": "stdout",
     "output_type": "stream",
     "text": [
      "{'brand': 'Ford', 'model': 'Mustang', 'year': 1964, 'color': 'Red'}\n"
     ]
    }
   ],
   "source": [
    "# For Ex - add a new item using a key value\n",
    "\n",
    "thisdict = {\n",
    "  \"brand\": \"Ford\",\n",
    "  \"model\": \"Mustang\",\n",
    "  \"year\": 1964\n",
    "}\n",
    "\n",
    "thisdict[\"color\"] = \"Red\"\n",
    "\n",
    "print(thisdict) # After adding new item \n"
   ]
  },
  {
   "cell_type": "code",
   "execution_count": 25,
   "id": "09dd912c-e171-4910-b615-08843df51570",
   "metadata": {},
   "outputs": [
    {
     "name": "stdout",
     "output_type": "stream",
     "text": [
      "{'brand': 'Ford', 'model': 'Mustang', 'year': 1965}\n"
     ]
    }
   ],
   "source": [
    "# For Ex - Modifying an item value using update method\n",
    "\n",
    "thisdict = {\n",
    "  \"brand\": \"Ford\",\n",
    "  \"model\": \"Mustang\",\n",
    "  \"year\": 1964\n",
    "}\n",
    "\n",
    "thisdict.update({\"year\":1965})\n",
    "\n",
    "print(thisdict) # After modifying an item  \n"
   ]
  },
  {
   "cell_type": "code",
   "execution_count": 26,
   "id": "63b5e6eb-55d3-4b83-a163-46b938979c42",
   "metadata": {},
   "outputs": [
    {
     "name": "stdout",
     "output_type": "stream",
     "text": [
      "{'brand': 'Ford', 'model': 'Mustang', 'year': '1976'}\n"
     ]
    }
   ],
   "source": [
    "# For Ex - Modifying an item value using associated key \n",
    "\n",
    "thisdict = {\n",
    "  \"brand\": \"Ford\",\n",
    "  \"model\": \"Mustang\",\n",
    "  \"year\": 1964\n",
    "}\n",
    "\n",
    "thisdict[\"year\"] = \"1976\"\n",
    "\n",
    "print(thisdict) # After modifying an item  "
   ]
  },
  {
   "cell_type": "code",
   "execution_count": 28,
   "id": "3e03074b-813b-491d-a78d-daa26c18866a",
   "metadata": {},
   "outputs": [
    {
     "name": "stdout",
     "output_type": "stream",
     "text": [
      "{'brand': 'Ford', 'model': 'Mustang'}\n"
     ]
    }
   ],
   "source": [
    "# For Ex - Deleting an item value using associated key \n",
    "\n",
    "thisdict = {\n",
    "  \"brand\": \"Ford\",\n",
    "  \"model\": \"Mustang\",\n",
    "  \"year\": 1964\n",
    "}\n",
    "\n",
    "del thisdict[\"year\"]\n",
    "\n",
    "print(thisdict) # After removing an item  "
   ]
  },
  {
   "cell_type": "code",
   "execution_count": 33,
   "id": "e59e4d1b-27d1-415f-937d-2c9f36f8b13d",
   "metadata": {},
   "outputs": [
    {
     "name": "stdout",
     "output_type": "stream",
     "text": [
      "{'brand': 'Ford', 'model': 'Mustang'}\n"
     ]
    }
   ],
   "source": [
    "# For Ex - Deleting an item value using pop method \n",
    "\n",
    "thisdict = {\n",
    "  \"brand\": \"Ford\",\n",
    "  \"model\": \"Mustang\",\n",
    "  \"year\": 1964\n",
    "}\n",
    "\n",
    "thisdict.pop(\"year\") # Note passing key value \n",
    "\n",
    "print(thisdict) # After removing an item  "
   ]
  },
  {
   "cell_type": "code",
   "execution_count": 34,
   "id": "b2a7e61a-d358-4ac8-9d52-cd6be5e77768",
   "metadata": {},
   "outputs": [
    {
     "name": "stdout",
     "output_type": "stream",
     "text": [
      "{'brand': 'Ford', 'model': 'Mustang'}\n"
     ]
    }
   ],
   "source": [
    "# For Ex - Deleting last item using popitem method \n",
    "# Note prior to version 3.7 any item deleted randomly\n",
    "\n",
    "thisdict = {\n",
    "  \"brand\": \"Ford\",\n",
    "  \"model\": \"Mustang\",\n",
    "  \"year\": 1964\n",
    "}\n",
    "\n",
    "thisdict.popitem() # To dlete last item ( No Key Passed )\n",
    "\n",
    "print(thisdict) # After removing last item"
   ]
  },
  {
   "cell_type": "code",
   "execution_count": 29,
   "id": "61200609-df9a-4302-8273-3293c1dafcb5",
   "metadata": {},
   "outputs": [
    {
     "name": "stdout",
     "output_type": "stream",
     "text": [
      "{}\n"
     ]
    }
   ],
   "source": [
    "# Empty a dictinary\n",
    "\n",
    "thisdict = {\n",
    "  \"brand\": \"Ford\",\n",
    "  \"model\": \"Mustang\",\n",
    "  \"year\": 1964\n",
    "}\n",
    "\n",
    "thisdict.clear()\n",
    "\n",
    "print(thisdict) \n",
    "\n"
   ]
  },
  {
   "cell_type": "code",
   "execution_count": 31,
   "id": "fbd34ede-6608-4969-86b2-20d388e9997a",
   "metadata": {},
   "outputs": [
    {
     "ename": "NameError",
     "evalue": "name 'thisdict' is not defined",
     "output_type": "error",
     "traceback": [
      "\u001b[1;31m---------------------------------------------------------------------------\u001b[0m",
      "\u001b[1;31mNameError\u001b[0m                                 Traceback (most recent call last)",
      "Cell \u001b[1;32mIn[31], line 11\u001b[0m\n\u001b[0;32m      3\u001b[0m thisdict \u001b[38;5;241m=\u001b[39m {\n\u001b[0;32m      4\u001b[0m   \u001b[38;5;124m\"\u001b[39m\u001b[38;5;124mbrand\u001b[39m\u001b[38;5;124m\"\u001b[39m: \u001b[38;5;124m\"\u001b[39m\u001b[38;5;124mFord\u001b[39m\u001b[38;5;124m\"\u001b[39m,\n\u001b[0;32m      5\u001b[0m   \u001b[38;5;124m\"\u001b[39m\u001b[38;5;124mmodel\u001b[39m\u001b[38;5;124m\"\u001b[39m: \u001b[38;5;124m\"\u001b[39m\u001b[38;5;124mMustang\u001b[39m\u001b[38;5;124m\"\u001b[39m,\n\u001b[0;32m      6\u001b[0m   \u001b[38;5;124m\"\u001b[39m\u001b[38;5;124myear\u001b[39m\u001b[38;5;124m\"\u001b[39m: \u001b[38;5;241m1964\u001b[39m\n\u001b[0;32m      7\u001b[0m }\n\u001b[0;32m      9\u001b[0m \u001b[38;5;28;01mdel\u001b[39;00m thisdict \u001b[38;5;66;03m# To delete a dictinary\u001b[39;00m\n\u001b[1;32m---> 11\u001b[0m \u001b[38;5;28mprint\u001b[39m(\u001b[43mthisdict\u001b[49m)\n",
      "\u001b[1;31mNameError\u001b[0m: name 'thisdict' is not defined"
     ]
    }
   ],
   "source": [
    "# Deleting a dictinary\n",
    "\n",
    "thisdict = {\n",
    "  \"brand\": \"Ford\",\n",
    "  \"model\": \"Mustang\",\n",
    "  \"year\": 1964\n",
    "}\n",
    "\n",
    "del thisdict # To delete a dictinary\n",
    "\n",
    "print(thisdict) # Try to print dictinary items after deleting it , will raise an Error\n"
   ]
  },
  {
   "cell_type": "code",
   "execution_count": 35,
   "id": "eace6f1f-4cf5-4445-9004-5de933116662",
   "metadata": {},
   "outputs": [
    {
     "name": "stdout",
     "output_type": "stream",
     "text": [
      "brand\n",
      "model\n",
      "year\n"
     ]
    }
   ],
   "source": [
    "# Itrating dictinary items\n",
    "\n",
    "# displaying keys using for loop\n",
    "\n",
    "thisdict = {\n",
    "  \"brand\": \"Ford\",\n",
    "  \"model\": \"Mustang\",\n",
    "  \"year\": 1964\n",
    "}\n",
    "for i in thisdict:  \n",
    "    print(i)\n",
    "\n"
   ]
  },
  {
   "cell_type": "code",
   "execution_count": 38,
   "id": "3bb2af91-dd37-48e1-a642-e0f2e65988c1",
   "metadata": {},
   "outputs": [
    {
     "name": "stdout",
     "output_type": "stream",
     "text": [
      "brand : Ford\n",
      "model : Mustang\n",
      "year : 1964\n"
     ]
    }
   ],
   "source": [
    "# displaying key and associated values using for loop\n",
    "\n",
    "thisdict = {\n",
    "  \"brand\": \"Ford\",\n",
    "  \"model\": \"Mustang\",\n",
    "  \"year\": 1964\n",
    "}\n",
    "for i in thisdict:  \n",
    "    print(str(i)+ \" : \" + str(thisdict[i]) )\n",
    "   \n",
    "   "
   ]
  },
  {
   "cell_type": "code",
   "execution_count": 42,
   "id": "a0b782bc-5a10-4b82-b7bf-b38d9f0fb4db",
   "metadata": {},
   "outputs": [
    {
     "name": "stdout",
     "output_type": "stream",
     "text": [
      "Keys are : \n",
      "brand\n",
      "model\n",
      "year\n",
      "\n",
      "Values are : \n",
      "Ford\n",
      "Mustang\n",
      "1964\n"
     ]
    }
   ],
   "source": [
    "# Iterating items through keys and values built in method\n",
    "\n",
    "thisdict = {\n",
    "  \"brand\": \"Ford\",\n",
    "  \"model\": \"Mustang\",\n",
    "  \"year\": 1964\n",
    "}\n",
    "print(\"Keys are : \")\n",
    "for k in thisdict.keys():  \n",
    "    print(k)\n",
    "print(\"\\nValues are : \")\n",
    "for v in thisdict.values():\n",
    "    print(v)"
   ]
  },
  {
   "cell_type": "code",
   "execution_count": 43,
   "id": "02985b75-0ff5-4ae3-a1b8-8ad0076d78bd",
   "metadata": {},
   "outputs": [
    {
     "name": "stdout",
     "output_type": "stream",
     "text": [
      "brand : Ford\n",
      "model : Mustang\n",
      "year : 1964\n"
     ]
    }
   ],
   "source": [
    "# Iterating both key and value together using items built in method\n",
    "\n",
    "thisdict = {\n",
    "  \"brand\": \"Ford\",\n",
    "  \"model\": \"Mustang\",\n",
    "  \"year\": 1964\n",
    "}\n",
    "\n",
    "for k,v in thisdict.items():  \n",
    "    print(str(k) + \" : \" + str(v))\n"
   ]
  },
  {
   "cell_type": "code",
   "execution_count": 44,
   "id": "83a030b3-d1fc-4a75-b2fd-fb58538b7499",
   "metadata": {},
   "outputs": [
    {
     "name": "stdout",
     "output_type": "stream",
     "text": [
      "{'brand': 'Ford', 'model': 'Mustang', 'year': 1965}\n",
      "{'brand': 'Ford', 'model': 'Mustang', 'year': 1965}\n"
     ]
    }
   ],
   "source": [
    "# Create a reference of a dictionary\n",
    "\n",
    "# dict2 = dict1 -> Note this statment will create a new referene dict2 to dict1\n",
    "\n",
    "# And changes made in dict1 will automatically also be made in dict2.\n",
    "\n",
    "# For Ex - \n",
    "\n",
    "dict1 = {\n",
    "  \"brand\": \"Ford\",\n",
    "  \"model\": \"Mustang\",\n",
    "  \"year\": 1964\n",
    "}\n",
    "\n",
    "dict2 = dict1 # Creating a reference of dict1\n",
    "\n",
    "dict1[\"year\"] = 1965 # Modifying an item of dict1\n",
    "\n",
    "print(dict1) # display dict1 items\n",
    "print(dict2) # display dict2 items \n"
   ]
  },
  {
   "cell_type": "code",
   "execution_count": 45,
   "id": "f31979f3-2822-4ff1-b90b-1093e691a079",
   "metadata": {},
   "outputs": [
    {
     "name": "stdout",
     "output_type": "stream",
     "text": [
      "{'brand': 'Ford', 'model': 'Mustang', 'year': 1965}\n",
      "{'brand': 'Ford', 'model': 'Mustang', 'year': 1964}\n"
     ]
    }
   ],
   "source": [
    "# Create a copy of a dictionary using copy method\n",
    "\n",
    "# Changes in any dictionary ( original or copy ) will not affect another one itmes\n",
    "\n",
    "\n",
    "# For Ex - \n",
    "\n",
    "dict1 = {\n",
    "  \"brand\": \"Ford\",\n",
    "  \"model\": \"Mustang\",\n",
    "  \"year\": 1964\n",
    "}\n",
    "\n",
    "dict2 = dict1.copy()  # Creating a copy of dict1\n",
    "\n",
    "dict1[\"year\"] = 1965 # Modifying an item of dict1\n",
    "\n",
    "print(dict1) # display dict1 items after changes\n",
    "print(dict2) # display dict2 items after changes in dict1\n"
   ]
  },
  {
   "cell_type": "code",
   "execution_count": 46,
   "id": "bd614bb1-b363-4723-8f15-bce16b893fce",
   "metadata": {},
   "outputs": [
    {
     "name": "stdout",
     "output_type": "stream",
     "text": [
      "{'child1': {'name': 'Emil', 'year': 2004}, 'child2': {'name': 'Tobias', 'year': 2007}, 'child3': {'name': 'Linus', 'year': 2011}}\n"
     ]
    }
   ],
   "source": [
    "# Nested Dictionaries \n",
    "\n",
    "# I.e a dictionary key value can be a dictionary as well\n",
    "\n",
    "# For Ex - Creating a dictionary that contain three dictionary type items \n",
    "\n",
    "myfamily = {\n",
    "  \"child1\" : {\n",
    "    \"name\" : \"Emil\",\n",
    "    \"year\" : 2004\n",
    "  },\n",
    "  \"child2\" : {\n",
    "    \"name\" : \"Tobias\",\n",
    "    \"year\" : 2007\n",
    "  },\n",
    "  \"child3\" : {\n",
    "    \"name\" : \"Linus\",\n",
    "    \"year\" : 2011\n",
    "  }\n",
    "} \n",
    "\n",
    "print(myfamily)\n"
   ]
  },
  {
   "cell_type": "code",
   "execution_count": 47,
   "id": "b6c4d3ac-f995-4eae-a5ec-95633fd99f81",
   "metadata": {},
   "outputs": [
    {
     "name": "stdout",
     "output_type": "stream",
     "text": [
      "{'child1': {'name': 'Emil', 'year': 2004}, 'child2': {'name': 'Tobias', 'year': 2007}, 'child3': {'name': 'Linus', 'year': 2011}}\n",
      "<class 'dict'>\n"
     ]
    }
   ],
   "source": [
    "# Another way of creating a nested dictionary...\n",
    "\n",
    "# First create child dictionaries \n",
    "# Then create a parent dictionary using child dictionaires\n",
    "\n",
    "# Creating Three Child dictionaires\n",
    "\n",
    "child1 = {\n",
    "  \"name\" : \"Emil\",\n",
    "  \"year\" : 2004\n",
    "}\n",
    "child2 = {\n",
    "  \"name\" : \"Tobias\",\n",
    "  \"year\" : 2007\n",
    "}\n",
    "child3 = {\n",
    "  \"name\" : \"Linus\",\n",
    "  \"year\" : 2011\n",
    "}\n",
    "\n",
    "# Creating a parent dictionary \n",
    "\n",
    "myfamily = {\"child1\" : child1 , \"child2\" : child2 , \"child3\" : child3}\n",
    "\n",
    "print(myfamily)\n",
    "print(type(myfamily))"
   ]
  },
  {
   "cell_type": "code",
   "execution_count": null,
   "id": "67f4da24-f4aa-45b0-bbbe-b79d58b30e14",
   "metadata": {},
   "outputs": [],
   "source": [
    "# Built in method associated with Dictionary data type to perform various type operations\n",
    "\n",
    "\"\"\"\n",
    "\n",
    "Method\t  Description\n",
    "clear() \t Removes all the elements from the dictionary\n",
    "copy() \t Returns a copy of the dictionary\n",
    "fromkeys() \t Returns a dictionary with the specified keys and value\n",
    "get() \t Returns the value of the specified key\n",
    "items() \t Returns a list containing a tuple for each key value pair\n",
    "keys() \t Returns a list containing the dictionary's keys\n",
    "pop() \t Removes the element with the specified key\n",
    "popitem() \t Removes the last inserted key-value pair\n",
    "setdefault() \t Returns the value of the specified key. If the key does not exist: insert the key, with the specified value\n",
    "update() \t Updates the dictionary with the specified key-value pairs\n",
    "values() \t Returns a list of all the values in the dictionary\n",
    "\n",
    "\n",
    "\"\"\""
   ]
  }
 ],
 "metadata": {
  "kernelspec": {
   "display_name": "Python 3 (ipykernel)",
   "language": "python",
   "name": "python3"
  },
  "language_info": {
   "codemirror_mode": {
    "name": "ipython",
    "version": 3
   },
   "file_extension": ".py",
   "mimetype": "text/x-python",
   "name": "python",
   "nbconvert_exporter": "python",
   "pygments_lexer": "ipython3",
   "version": "3.9.13"
  }
 },
 "nbformat": 4,
 "nbformat_minor": 5
}
