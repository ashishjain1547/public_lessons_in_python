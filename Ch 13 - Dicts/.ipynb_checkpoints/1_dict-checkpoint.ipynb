{
 "cells": [
  {
   "cell_type": "code",
   "execution_count": 8,
   "id": "1c81ef76-6aa6-460c-beff-820bc9ca7d98",
   "metadata": {},
   "outputs": [],
   "source": [
    "s = {'Johanth', 'Python', 'Telangane'}\n",
    "l = list(s)"
   ]
  },
  {
   "cell_type": "code",
   "execution_count": 1,
   "id": "4f280d99-1533-4605-be47-bf8105827a76",
   "metadata": {},
   "outputs": [],
   "source": [
    "d = {\n",
    "    \"name\": \"Johanth\",\n",
    "    \"language\": \"Python\",\n",
    "    \"state\": \"Telangana\",\n",
    "}"
   ]
  },
  {
   "cell_type": "code",
   "execution_count": 2,
   "id": "faffe824-ea72-4452-a5b9-4da6afd55033",
   "metadata": {},
   "outputs": [
    {
     "data": {
      "text/plain": [
       "{'name': 'Johanth', 'language': 'Python', 'state': 'Telangana'}"
      ]
     },
     "execution_count": 2,
     "metadata": {},
     "output_type": "execute_result"
    }
   ],
   "source": [
    "d"
   ]
  },
  {
   "cell_type": "code",
   "execution_count": 4,
   "id": "0180e1fb-0244-4a84-8bbd-5590a47c5908",
   "metadata": {},
   "outputs": [
    {
     "name": "stdout",
     "output_type": "stream",
     "text": [
      "<class 'set'>\n"
     ]
    }
   ],
   "source": [
    "print(type(s))"
   ]
  },
  {
   "cell_type": "code",
   "execution_count": 5,
   "id": "5151e3c1-fb8d-457b-b3ae-dce6e036eed2",
   "metadata": {},
   "outputs": [
    {
     "data": {
      "text/plain": [
       "dict"
      ]
     },
     "execution_count": 5,
     "metadata": {},
     "output_type": "execute_result"
    }
   ],
   "source": [
    "type(d)"
   ]
  },
  {
   "cell_type": "raw",
   "id": "d037fb40-7e9e-4208-8692-073394ede77c",
   "metadata": {},
   "source": [
    "Dict: key value pair\n",
    "A dict cannot contain duplicate keys."
   ]
  },
  {
   "cell_type": "code",
   "execution_count": 7,
   "id": "cade57fb-c023-4ac3-a2cb-3769840a78f1",
   "metadata": {},
   "outputs": [
    {
     "data": {
      "text/plain": [
       "'Johanth'"
      ]
     },
     "execution_count": 7,
     "metadata": {},
     "output_type": "execute_result"
    }
   ],
   "source": [
    "d['name'] # We provide the key and get back the value."
   ]
  },
  {
   "cell_type": "code",
   "execution_count": 9,
   "id": "63a5d464-a05f-4c41-a18a-eceb203cadc5",
   "metadata": {},
   "outputs": [
    {
     "data": {
      "text/plain": [
       "'Johanth'"
      ]
     },
     "execution_count": 9,
     "metadata": {},
     "output_type": "execute_result"
    }
   ],
   "source": [
    "l[0]"
   ]
  },
  {
   "cell_type": "code",
   "execution_count": 10,
   "id": "c1fa5744-b94b-47ae-a3cc-32a7d8e6f379",
   "metadata": {},
   "outputs": [],
   "source": [
    "d2 = {\n",
    "    \"name\": \"Johanth\",\n",
    "    \"language\": \"Python\",\n",
    "    \"state\": \"Telangana\",\n",
    "    \"name\": \"Ashish\"\n",
    "}"
   ]
  },
  {
   "cell_type": "code",
   "execution_count": 16,
   "id": "223e3083-f562-4dcb-bef6-8ecd56b20ec1",
   "metadata": {},
   "outputs": [
    {
     "data": {
      "text/plain": [
       "{'name': 'Ashish', 'language': 'Python', 'state': 'Telangana'}"
      ]
     },
     "execution_count": 16,
     "metadata": {},
     "output_type": "execute_result"
    }
   ],
   "source": [
    "d2 # Python is saying: you cannot have two names. So I will keep the latest value."
   ]
  },
  {
   "cell_type": "raw",
   "id": "bb8e4b01-3f31-4587-a2ce-9e1d0c8e685f",
   "metadata": {},
   "source": [
    "In a set, duplicate items are ignored.\n",
    "In a dict, duplicate keys are ignored.\n",
    "\n",
    "OR\n",
    "\n",
    "A set has unique items. \n",
    "And, a dict has unique keys."
   ]
  },
  {
   "cell_type": "raw",
   "id": "5030416f-cafa-439a-8bb9-788579b47c08",
   "metadata": {},
   "source": [
    "A dictionary is indexed by its keys, not numbers."
   ]
  },
  {
   "cell_type": "code",
   "execution_count": 24,
   "id": "8db43266-aa12-4e44-88ef-1f27a32f14b2",
   "metadata": {},
   "outputs": [
    {
     "name": "stdout",
     "output_type": "stream",
     "text": [
      "Johanth\n",
      "Python\n",
      "Telangana\n"
     ]
    }
   ],
   "source": [
    "d = {\n",
    "    \"name\": \"Johanth\",\n",
    "    \"language\": \"Python\",\n",
    "    \"state\": \"Telangana\",\n",
    "}\n",
    "\n",
    "print(d['name'])\n",
    "print(d['language'])\n",
    "print(d['state'])"
   ]
  },
  {
   "cell_type": "code",
   "execution_count": null,
   "id": "31a87693-7b54-41ec-a59c-88caba9b98eb",
   "metadata": {},
   "outputs": [],
   "source": []
  },
  {
   "cell_type": "code",
   "execution_count": null,
   "id": "c6946bcf-fc51-4012-bb8a-ada1c9d2b5c4",
   "metadata": {},
   "outputs": [],
   "source": [
    "# Duplicate values are allowed in a dict."
   ]
  },
  {
   "cell_type": "code",
   "execution_count": 5,
   "id": "536ee767-1cc7-42ad-9bb9-d9f7bcf8a2ce",
   "metadata": {},
   "outputs": [],
   "source": [
    "d = {\n",
    "    'name': 'Johanth',\n",
    "    'math': 85,\n",
    "    'science': 85\n",
    "}"
   ]
  },
  {
   "cell_type": "code",
   "execution_count": 6,
   "id": "4797ac52-fe1a-42d5-9938-d16d95b27264",
   "metadata": {},
   "outputs": [
    {
     "data": {
      "text/plain": [
       "{'name': 'Johanth', 'math': 85, 'science': 85}"
      ]
     },
     "execution_count": 6,
     "metadata": {},
     "output_type": "execute_result"
    }
   ],
   "source": [
    "d"
   ]
  },
  {
   "cell_type": "code",
   "execution_count": null,
   "id": "77fcfad6-4158-4ffb-aeb4-dc1f93c943fc",
   "metadata": {},
   "outputs": [],
   "source": []
  }
 ],
 "metadata": {
  "kernelspec": {
   "display_name": "Python 3 (ipykernel)",
   "language": "python",
   "name": "python3"
  },
  "language_info": {
   "codemirror_mode": {
    "name": "ipython",
    "version": 3
   },
   "file_extension": ".py",
   "mimetype": "text/x-python",
   "name": "python",
   "nbconvert_exporter": "python",
   "pygments_lexer": "ipython3",
   "version": "3.9.13"
  }
 },
 "nbformat": 4,
 "nbformat_minor": 5
}
