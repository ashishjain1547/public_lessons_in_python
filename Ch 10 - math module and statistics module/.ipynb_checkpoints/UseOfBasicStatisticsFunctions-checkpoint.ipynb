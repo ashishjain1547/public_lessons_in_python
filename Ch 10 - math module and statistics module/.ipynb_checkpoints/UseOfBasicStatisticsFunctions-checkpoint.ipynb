{
 "cells": [
  {
   "cell_type": "code",
   "execution_count": null,
   "id": "d7cd7f60-0d3e-4d9b-bd10-1f41ee4892b7",
   "metadata": {},
   "outputs": [],
   "source": [
    "# Applying basis statistics functions on given data set in terms of list\n",
    "\n",
    "# Available python packages to implement the same : Pandas , NumPy , SciPy & statsmodels"
   ]
  },
  {
   "cell_type": "code",
   "execution_count": null,
   "id": "32fb0a3a-4ef7-43f3-8abd-b6daef2182d8",
   "metadata": {},
   "outputs": [],
   "source": [
    "# For Ex - \n",
    "\n",
    "DataSet = [13, 15, 16, 16, 19, 20, 20, 21, 22, 22, 25, 25, 25, 25, 30, 33, 33, 35, 35, 35, 36, 40, 45, 46, 52, 70]\n",
    "\n",
    "# Sum of all elements using simple built in sum function\n",
    "\n",
    "print(\"Sum of all items of Data Set : \" + str(sum(DataSet)))\n",
    "\n",
    "# Getting Count of each items using counter collection \n",
    "\n",
    "\"\"\" \n",
    "Counter is an unordered collection where elements are stored as Dict keys and their count as dict value \n",
    "\n",
    "\"\"\"\n",
    "\n",
    "from collections import Counter \n",
    "print(\"Count of each items in Data Set : \")\n",
    "print(Counter(DataSet))\n",
    "\n",
    "# Use of statistics module\n",
    "\n",
    "import statistics as st\n",
    "\n",
    "# Mean -> Sum of all data items / total no of data items\n",
    "\n",
    "print(\"Mean of Data Set : \")\n",
    "print(st.mean(DataSet))\n",
    "\n",
    "# Median -> Average of two items exist in mid of data set \n",
    "\n",
    "print(\"Median of Data Set : \")\n",
    "print(st.median(DataSet))\n",
    "\n",
    "# Mode -> Item with highest frequency of appearance \n",
    "\n",
    "print(\"Mode of Data Set : \")\n",
    "print(st.mode(DataSet))\n",
    "\n",
    "# Mid-range -> Average of MaxVale And MinValue item\n",
    "\n",
    "print(\"Mid Range Value Of Data Set : \")\n",
    "print(st.mean([max(DataSet), min(DataSet)]))\n",
    "\n",
    "# Other Useful statistical measures\n",
    "\n",
    "print(\"Quantiles Of Data Set : \")\n",
    "print(st.quantiles(data = DataSet, n = 4)) # [20.0, 25.0, 35.25]\n",
    "print(\"Std. Deviation Of Data Set : \")\n",
    "print(st.stdev(DataSet))\n",
    "print(\"Variance Of Data Set : \")\n",
    "print(st.variance(DataSet))"
   ]
  },
  {
   "cell_type": "code",
   "execution_count": null,
   "id": "2ca118eb-5fef-4f52-960d-af94f767ed9f",
   "metadata": {},
   "outputs": [],
   "source": []
  },
  {
   "cell_type": "code",
   "execution_count": 2,
   "id": "58f25bef-ff6f-4aa0-9060-9a42468e19d0",
   "metadata": {},
   "outputs": [],
   "source": [
    "import pandas as pd"
   ]
  },
  {
   "cell_type": "code",
   "execution_count": 3,
   "id": "16bfe4d5-fa31-4f8e-a42e-2e75fcfcd0f1",
   "metadata": {},
   "outputs": [],
   "source": [
    "df = pd.read_csv('HeightWeight.csv')"
   ]
  },
  {
   "cell_type": "code",
   "execution_count": 5,
   "id": "2857ad7e-932a-4e31-b38f-8c3d7cf576cd",
   "metadata": {},
   "outputs": [
    {
     "data": {
      "text/html": [
       "<div>\n",
       "<style scoped>\n",
       "    .dataframe tbody tr th:only-of-type {\n",
       "        vertical-align: middle;\n",
       "    }\n",
       "\n",
       "    .dataframe tbody tr th {\n",
       "        vertical-align: top;\n",
       "    }\n",
       "\n",
       "    .dataframe thead th {\n",
       "        text-align: right;\n",
       "    }\n",
       "</style>\n",
       "<table border=\"1\" class=\"dataframe\">\n",
       "  <thead>\n",
       "    <tr style=\"text-align: right;\">\n",
       "      <th></th>\n",
       "      <th>Index</th>\n",
       "      <th>Height(Inches)</th>\n",
       "      <th>Weight(Pounds)</th>\n",
       "    </tr>\n",
       "  </thead>\n",
       "  <tbody>\n",
       "    <tr>\n",
       "      <th>0</th>\n",
       "      <td>1</td>\n",
       "      <td>65.78331</td>\n",
       "      <td>112.9925</td>\n",
       "    </tr>\n",
       "    <tr>\n",
       "      <th>1</th>\n",
       "      <td>2</td>\n",
       "      <td>71.51521</td>\n",
       "      <td>136.4873</td>\n",
       "    </tr>\n",
       "    <tr>\n",
       "      <th>2</th>\n",
       "      <td>3</td>\n",
       "      <td>69.39874</td>\n",
       "      <td>153.0269</td>\n",
       "    </tr>\n",
       "    <tr>\n",
       "      <th>3</th>\n",
       "      <td>4</td>\n",
       "      <td>68.21660</td>\n",
       "      <td>142.3354</td>\n",
       "    </tr>\n",
       "    <tr>\n",
       "      <th>4</th>\n",
       "      <td>5</td>\n",
       "      <td>67.78781</td>\n",
       "      <td>144.2971</td>\n",
       "    </tr>\n",
       "  </tbody>\n",
       "</table>\n",
       "</div>"
      ],
      "text/plain": [
       "   Index  Height(Inches)  Weight(Pounds)\n",
       "0      1        65.78331        112.9925\n",
       "1      2        71.51521        136.4873\n",
       "2      3        69.39874        153.0269\n",
       "3      4        68.21660        142.3354\n",
       "4      5        67.78781        144.2971"
      ]
     },
     "execution_count": 5,
     "metadata": {},
     "output_type": "execute_result"
    }
   ],
   "source": [
    "df.head()"
   ]
  },
  {
   "cell_type": "raw",
   "id": "c049c36c-1102-4234-8e03-e031ec2a9576",
   "metadata": {},
   "source": [
    "'statistics' is a core Python package. We can use it but now list it.\n",
    "!pip show statistics\n",
    "WARNING: Package(s) not found: statistics"
   ]
  },
  {
   "cell_type": "code",
   "execution_count": 8,
   "id": "19a6f64c-b294-43ad-9359-93933989fd83",
   "metadata": {},
   "outputs": [
    {
     "ename": "AttributeError",
     "evalue": "module 'statistics' has no attribute 'linear_regression'",
     "output_type": "error",
     "traceback": [
      "\u001b[0;31m---------------------------------------------------------------------------\u001b[0m",
      "\u001b[0;31mAttributeError\u001b[0m                            Traceback (most recent call last)",
      "\u001b[0;32m/tmp/ipykernel_39577/266388656.py\u001b[0m in \u001b[0;36m<module>\u001b[0;34m\u001b[0m\n\u001b[1;32m      1\u001b[0m \u001b[0;31m# New in version 3.10\u001b[0m\u001b[0;34m\u001b[0m\u001b[0;34m\u001b[0m\u001b[0m\n\u001b[0;32m----> 2\u001b[0;31m \u001b[0mslope\u001b[0m\u001b[0;34m,\u001b[0m \u001b[0mintercept\u001b[0m \u001b[0;34m=\u001b[0m \u001b[0mst\u001b[0m\u001b[0;34m.\u001b[0m\u001b[0mlinear_regression\u001b[0m\u001b[0;34m(\u001b[0m\u001b[0mdf\u001b[0m\u001b[0;34m[\u001b[0m\u001b[0;34m'Height(Inches)'\u001b[0m\u001b[0;34m]\u001b[0m\u001b[0;34m,\u001b[0m \u001b[0mdf\u001b[0m\u001b[0;34m[\u001b[0m\u001b[0;34m'Weight(Pounds)'\u001b[0m\u001b[0;34m]\u001b[0m\u001b[0;34m)\u001b[0m\u001b[0;34m\u001b[0m\u001b[0;34m\u001b[0m\u001b[0m\n\u001b[0m",
      "\u001b[0;31mAttributeError\u001b[0m: module 'statistics' has no attribute 'linear_regression'"
     ]
    }
   ],
   "source": [
    "# New in version 3.10\n",
    "slope, intercept = st.linear_regression(df['Height(Inches)'], df['Weight(Pounds)'])"
   ]
  },
  {
   "cell_type": "code",
   "execution_count": null,
   "id": "50a8f4ab-8c74-484f-ba5b-ab6b0ea75c8d",
   "metadata": {},
   "outputs": [],
   "source": []
  }
 ],
 "metadata": {
  "kernelspec": {
   "display_name": "py311",
   "language": "python",
   "name": "py311"
  },
  "language_info": {
   "codemirror_mode": {
    "name": "ipython",
    "version": 3
   },
   "file_extension": ".py",
   "mimetype": "text/x-python",
   "name": "python",
   "nbconvert_exporter": "python",
   "pygments_lexer": "ipython3",
   "version": "3.9.13"
  }
 },
 "nbformat": 4,
 "nbformat_minor": 5
}
