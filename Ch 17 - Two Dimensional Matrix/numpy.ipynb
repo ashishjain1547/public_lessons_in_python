{
 "cells": [
  {
   "cell_type": "code",
   "execution_count": 8,
   "id": "39fac328-044b-4d67-813d-4f9f2f7e13e4",
   "metadata": {},
   "outputs": [
    {
     "name": "stdout",
     "output_type": "stream",
     "text": [
      "6\n",
      "7\n",
      "8\n",
      "9\n",
      "10\n",
      "11\n",
      "12\n",
      "13\n",
      "14\n"
     ]
    }
   ],
   "source": [
    "arr = [ [1, 2, 3],\n",
    "[4, 5, 6],\n",
    "[7, 8, 9] ]\n",
    "\n",
    "for i in arr:\n",
    "    for j in i:\n",
    "        print(j + 5)\n"
   ]
  },
  {
   "cell_type": "code",
   "execution_count": 9,
   "id": "c92df825-17ae-4ab0-9f4c-5dd915f6e249",
   "metadata": {},
   "outputs": [],
   "source": [
    "import numpy as np"
   ]
  },
  {
   "cell_type": "code",
   "execution_count": 10,
   "id": "07e11d3e-3988-4683-91ec-5e1b14419401",
   "metadata": {},
   "outputs": [
    {
     "name": "stdout",
     "output_type": "stream",
     "text": [
      "[[ 6  7  8]\n",
      " [ 9 10 11]\n",
      " [12 13 14]]\n"
     ]
    }
   ],
   "source": [
    "arr = np.array(arr)\n",
    "arr += 5\n",
    "print(arr)"
   ]
  },
  {
   "cell_type": "code",
   "execution_count": null,
   "id": "76a97f61-8ee5-4768-b12c-f6e9005c4def",
   "metadata": {},
   "outputs": [],
   "source": []
  },
  {
   "cell_type": "code",
   "execution_count": null,
   "id": "885f3b1a-fe23-4475-b588-d2aab049a14e",
   "metadata": {},
   "outputs": [],
   "source": []
  },
  {
   "cell_type": "code",
   "execution_count": 11,
   "id": "a79464e9-a068-412b-a7bd-ebb8883c1907",
   "metadata": {},
   "outputs": [],
   "source": [
    "matrix = [['A', 'B', 'C', 'D'], ['E', 'F', 'G', 'H'], ['I', 'J', 'K', 'L'], ['M', 'N', 'O', 'P']]"
   ]
  },
  {
   "cell_type": "code",
   "execution_count": 15,
   "id": "36f37279-aebf-4280-bb22-f92fa656efda",
   "metadata": {},
   "outputs": [
    {
     "name": "stdout",
     "output_type": "stream",
     "text": [
      "[['A' 'B' 'C' 'D']\n",
      " ['E' 'F' 'G' 'H']\n",
      " ['I' 'J' 'K' 'L']\n",
      " ['M' 'N' 'O' 'P']]\n"
     ]
    }
   ],
   "source": [
    "matrix = np.array(matrix)\n",
    "print(matrix)"
   ]
  },
  {
   "cell_type": "code",
   "execution_count": 16,
   "id": "aee2954b-47c1-4167-ad84-250a92c568da",
   "metadata": {},
   "outputs": [
    {
     "data": {
      "text/plain": [
       "array(['A', 'F', 'K', 'P'], dtype='<U1')"
      ]
     },
     "execution_count": 16,
     "metadata": {},
     "output_type": "execute_result"
    }
   ],
   "source": [
    "matrix.diagonal()"
   ]
  },
  {
   "cell_type": "code",
   "execution_count": 19,
   "id": "5e42b267-5a36-49a6-b130-c26f8f04021e",
   "metadata": {},
   "outputs": [
    {
     "name": "stdout",
     "output_type": "stream",
     "text": [
      "[['D' 'C' 'B' 'A']\n",
      " ['H' 'G' 'F' 'E']\n",
      " ['L' 'K' 'J' 'I']\n",
      " ['P' 'O' 'N' 'M']]\n",
      "['D' 'G' 'J' 'M']\n"
     ]
    }
   ],
   "source": [
    "# fliplr() : flip left to right\n",
    "print(np.fliplr(matrix))\n",
    "print(np.fliplr(matrix).diagonal())"
   ]
  },
  {
   "cell_type": "code",
   "execution_count": 24,
   "id": "d7d72231-8bc4-4f86-beca-0c4b28a892be",
   "metadata": {},
   "outputs": [],
   "source": [
    "m = [[1, 2, 3], [4, 5, 6],[7, 8, 9]]"
   ]
  },
  {
   "cell_type": "code",
   "execution_count": 22,
   "id": "161ab05e-7bb1-49f1-b74f-6656c57e7161",
   "metadata": {},
   "outputs": [
    {
     "data": {
      "text/plain": [
       "array([[1, 2, 3],\n",
       "       [0, 5, 6],\n",
       "       [0, 0, 9]])"
      ]
     },
     "execution_count": 22,
     "metadata": {},
     "output_type": "execute_result"
    }
   ],
   "source": [
    "np.triu(m)"
   ]
  },
  {
   "cell_type": "code",
   "execution_count": 23,
   "id": "f5a20662-9052-4346-965c-ae048ed038ea",
   "metadata": {},
   "outputs": [
    {
     "data": {
      "text/plain": [
       "array([[1, 0, 0],\n",
       "       [4, 5, 0],\n",
       "       [7, 8, 9]])"
      ]
     },
     "execution_count": 23,
     "metadata": {},
     "output_type": "execute_result"
    }
   ],
   "source": [
    "np.tril(m)"
   ]
  }
 ],
 "metadata": {
  "kernelspec": {
   "display_name": "Python 3 (ipykernel)",
   "language": "python",
   "name": "python3"
  },
  "language_info": {
   "codemirror_mode": {
    "name": "ipython",
    "version": 3
   },
   "file_extension": ".py",
   "mimetype": "text/x-python",
   "name": "python",
   "nbconvert_exporter": "python",
   "pygments_lexer": "ipython3",
   "version": "3.9.13"
  }
 },
 "nbformat": 4,
 "nbformat_minor": 5
}
