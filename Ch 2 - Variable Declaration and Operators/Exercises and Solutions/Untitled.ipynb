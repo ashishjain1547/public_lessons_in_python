{
 "cells": [
  {
   "cell_type": "code",
   "execution_count": 1,
   "id": "d59ee4fa-c986-44cd-a5c4-60dc2c602ee7",
   "metadata": {},
   "outputs": [],
   "source": [
    "x = 4\n",
    "y = 9"
   ]
  },
  {
   "cell_type": "code",
   "execution_count": 2,
   "id": "2c0eca87-2c71-4e0a-9f96-48fdd3c94d29",
   "metadata": {},
   "outputs": [
    {
     "data": {
      "text/plain": [
       "13"
      ]
     },
     "execution_count": 2,
     "metadata": {},
     "output_type": "execute_result"
    }
   ],
   "source": [
    "x + y"
   ]
  },
  {
   "cell_type": "code",
   "execution_count": 3,
   "id": "ec34b485-9478-4581-8aec-ee0bc99c4d8c",
   "metadata": {},
   "outputs": [
    {
     "data": {
      "text/plain": [
       "-5"
      ]
     },
     "execution_count": 3,
     "metadata": {},
     "output_type": "execute_result"
    }
   ],
   "source": [
    "x-y"
   ]
  },
  {
   "cell_type": "code",
   "execution_count": 4,
   "id": "6c81067a-40c6-4d5b-ace5-b4ed256adef6",
   "metadata": {},
   "outputs": [],
   "source": [
    "dividend = 8"
   ]
  },
  {
   "cell_type": "code",
   "execution_count": 5,
   "id": "9ad6bfbf-3206-41c7-9408-e490d68a984b",
   "metadata": {},
   "outputs": [],
   "source": [
    "divisor = 2"
   ]
  },
  {
   "cell_type": "code",
   "execution_count": 6,
   "id": "5fa89a1b-5dc2-4fc5-b441-99b7562ad6a5",
   "metadata": {},
   "outputs": [
    {
     "data": {
      "text/plain": [
       "4.0"
      ]
     },
     "execution_count": 6,
     "metadata": {},
     "output_type": "execute_result"
    }
   ],
   "source": [
    "dividend / divisor"
   ]
  },
  {
   "cell_type": "code",
   "execution_count": 27,
   "id": "f2e48b34-9c61-4fd5-a7ac-f18dca413eb2",
   "metadata": {},
   "outputs": [],
   "source": [
    "import math"
   ]
  },
  {
   "cell_type": "code",
   "execution_count": 28,
   "id": "8c5e975a-1c80-4509-bd98-965009d169af",
   "metadata": {},
   "outputs": [],
   "source": [
    "radius = 5"
   ]
  },
  {
   "cell_type": "code",
   "execution_count": 30,
   "id": "95b6f893-3732-4c1d-a720-ee312387891f",
   "metadata": {},
   "outputs": [],
   "source": [
    "perimeter = 2 * math.pi * radius"
   ]
  },
  {
   "cell_type": "code",
   "execution_count": 31,
   "id": "15556800-f4e6-482e-a6c5-a231b9e41d63",
   "metadata": {},
   "outputs": [
    {
     "data": {
      "text/plain": [
       "31.41592653589793"
      ]
     },
     "execution_count": 31,
     "metadata": {},
     "output_type": "execute_result"
    }
   ],
   "source": [
    "perimeter"
   ]
  },
  {
   "cell_type": "code",
   "execution_count": 32,
   "id": "8367eb48-cacc-4ccd-8af0-9da64df40cf3",
   "metadata": {},
   "outputs": [],
   "source": [
    "area = math.pi * radius * radius"
   ]
  },
  {
   "cell_type": "code",
   "execution_count": 33,
   "id": "7ac8c108-f034-4a7e-88c1-28a96fc86d82",
   "metadata": {},
   "outputs": [
    {
     "data": {
      "text/plain": [
       "78.53981633974483"
      ]
     },
     "execution_count": 33,
     "metadata": {},
     "output_type": "execute_result"
    }
   ],
   "source": [
    "area"
   ]
  },
  {
   "cell_type": "code",
   "execution_count": 24,
   "id": "e674f1e3-8e23-4c02-a90b-39d94cd2f45b",
   "metadata": {},
   "outputs": [],
   "source": [
    "# Some mathematical functionality available to you as modules"
   ]
  },
  {
   "cell_type": "code",
   "execution_count": 8,
   "id": "a55f1b82-f826-445a-8aff-0b8d37d01b49",
   "metadata": {},
   "outputs": [],
   "source": []
  },
  {
   "cell_type": "code",
   "execution_count": 9,
   "id": "43ee19c7-fc59-40be-9e4a-398033237f7c",
   "metadata": {},
   "outputs": [
    {
     "data": {
      "text/plain": [
       "3.141592653589793"
      ]
     },
     "execution_count": 9,
     "metadata": {},
     "output_type": "execute_result"
    }
   ],
   "source": [
    "math.pi"
   ]
  },
  {
   "cell_type": "code",
   "execution_count": 26,
   "id": "874579fd-10a4-4659-a487-db4b502d852f",
   "metadata": {},
   "outputs": [
    {
     "data": {
      "text/plain": [
       "2.718281828459045"
      ]
     },
     "execution_count": 26,
     "metadata": {},
     "output_type": "execute_result"
    }
   ],
   "source": [
    "math.e # Euler's constant"
   ]
  },
  {
   "cell_type": "code",
   "execution_count": 10,
   "id": "7a86659c-2ad3-41ac-8071-7bc18bff790e",
   "metadata": {},
   "outputs": [],
   "source": [
    "import random"
   ]
  },
  {
   "cell_type": "code",
   "execution_count": 16,
   "id": "0cf39a20-ed37-4823-ba1b-c5bca915450c",
   "metadata": {},
   "outputs": [
    {
     "data": {
      "text/plain": [
       "52"
      ]
     },
     "execution_count": 16,
     "metadata": {},
     "output_type": "execute_result"
    }
   ],
   "source": [
    "random.randint(0, 100)"
   ]
  },
  {
   "cell_type": "code",
   "execution_count": 17,
   "id": "e4295bb2-d623-4643-ba54-16392eb812ab",
   "metadata": {},
   "outputs": [
    {
     "data": {
      "text/plain": [
       "[0, 1, 2, 3, 4, 5, 6, 7, 8, 9]"
      ]
     },
     "execution_count": 17,
     "metadata": {},
     "output_type": "execute_result"
    }
   ],
   "source": [
    "list(range(10))"
   ]
  },
  {
   "cell_type": "code",
   "execution_count": 21,
   "id": "0ad33ebf-2a8b-4077-9418-046df3bac604",
   "metadata": {},
   "outputs": [
    {
     "data": {
      "text/plain": [
       "8"
      ]
     },
     "execution_count": 21,
     "metadata": {},
     "output_type": "execute_result"
    }
   ],
   "source": [
    "random.randrange(0, 10)"
   ]
  },
  {
   "cell_type": "code",
   "execution_count": 22,
   "id": "5e18dcf8-eea8-48c9-8561-c8c9c97c5919",
   "metadata": {},
   "outputs": [],
   "source": [
    "import statistics"
   ]
  },
  {
   "cell_type": "code",
   "execution_count": 23,
   "id": "526aa0bd-573c-4a8b-ad85-61c4eee3ed64",
   "metadata": {},
   "outputs": [],
   "source": [
    "# Mean, median, mode, midrange, stddev, variance, covariance"
   ]
  },
  {
   "cell_type": "code",
   "execution_count": 34,
   "id": "f2e9dbfb-9074-4107-bf69-f2a9c33bfb82",
   "metadata": {},
   "outputs": [
    {
     "name": "stdout",
     "output_type": "stream",
     "text": [
      "False\n"
     ]
    }
   ],
   "source": [
    "a = 7\n",
    "b = 8\n",
    "print(a == 8)"
   ]
  },
  {
   "cell_type": "code",
   "execution_count": 35,
   "id": "62b9d555-ecd7-438d-96e6-111f3e40622b",
   "metadata": {},
   "outputs": [],
   "source": [
    "l = 5\n",
    "w = 7\n",
    "h = 9\n",
    "v = l * w * h"
   ]
  },
  {
   "cell_type": "code",
   "execution_count": 36,
   "id": "e655b5ad-28be-4c2e-bbcd-211b487ed68e",
   "metadata": {},
   "outputs": [
    {
     "name": "stdout",
     "output_type": "stream",
     "text": [
      "315\n"
     ]
    }
   ],
   "source": [
    "print(v)"
   ]
  },
  {
   "cell_type": "code",
   "execution_count": 38,
   "id": "64874d28-73f1-4dfb-8d98-23f4fdf0945a",
   "metadata": {},
   "outputs": [
    {
     "data": {
      "text/plain": [
       "286"
      ]
     },
     "execution_count": 38,
     "metadata": {},
     "output_type": "execute_result"
    }
   ],
   "source": [
    "2*l*w + 2*w*h + 2*l*h"
   ]
  },
  {
   "cell_type": "code",
   "execution_count": 39,
   "id": "e6335fa4-ee63-4913-b138-9f7c539a24c0",
   "metadata": {},
   "outputs": [
    {
     "name": "stdout",
     "output_type": "stream",
     "text": [
      "10.825317547305483\n"
     ]
    }
   ],
   "source": [
    "side = 5\n",
    "area = math.sqrt(3) * pow(side, 2) / 4\n",
    "print(area)"
   ]
  },
  {
   "cell_type": "code",
   "execution_count": null,
   "id": "168a925b-6cf2-47e7-b420-a9035d72c27c",
   "metadata": {},
   "outputs": [],
   "source": []
  }
 ],
 "metadata": {
  "kernelspec": {
   "display_name": "Python 3 (ipykernel)",
   "language": "python",
   "name": "python3"
  },
  "language_info": {
   "codemirror_mode": {
    "name": "ipython",
    "version": 3
   },
   "file_extension": ".py",
   "mimetype": "text/x-python",
   "name": "python",
   "nbconvert_exporter": "python",
   "pygments_lexer": "ipython3",
   "version": "3.9.13"
  }
 },
 "nbformat": 4,
 "nbformat_minor": 5
}
