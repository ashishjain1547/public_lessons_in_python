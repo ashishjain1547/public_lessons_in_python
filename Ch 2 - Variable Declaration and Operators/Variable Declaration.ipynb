{
 "cells": [
  {
   "cell_type": "code",
   "execution_count": null,
   "id": "57da463d-39ef-4fe5-842e-7fbb9f263212",
   "metadata": {},
   "outputs": [],
   "source": [
    "# Perimeter of a cirle"
   ]
  },
  {
   "cell_type": "code",
   "execution_count": 1,
   "id": "817a5080-3dd8-4284-a285-4db4b32ec1d9",
   "metadata": {},
   "outputs": [],
   "source": [
    "r = 5 # Variable declaration. r is holding the radius."
   ]
  },
  {
   "cell_type": "code",
   "execution_count": 3,
   "id": "52162f04-1156-41d5-a324-3bbda62bceef",
   "metadata": {},
   "outputs": [],
   "source": [
    "perimeter = 2 * 3.14 * r # Computation"
   ]
  },
  {
   "cell_type": "code",
   "execution_count": 4,
   "id": "27be4a88-5bfe-462f-890a-90487e32933a",
   "metadata": {},
   "outputs": [
    {
     "name": "stdout",
     "output_type": "stream",
     "text": [
      "31.400000000000002\n"
     ]
    }
   ],
   "source": [
    "print(perimeter)"
   ]
  },
  {
   "cell_type": "code",
   "execution_count": null,
   "id": "763a3b38-058e-40d2-9052-a39dda28a6d2",
   "metadata": {},
   "outputs": [],
   "source": [
    "# Area of a square"
   ]
  },
  {
   "cell_type": "code",
   "execution_count": 5,
   "id": "3e8bb020-fcfd-49f7-99ef-89ff6a05a946",
   "metadata": {},
   "outputs": [],
   "source": [
    "side = 5"
   ]
  },
  {
   "cell_type": "code",
   "execution_count": 6,
   "id": "3e035f80-3a9a-4005-bad2-e72031f736d5",
   "metadata": {},
   "outputs": [],
   "source": [
    "area = side * side"
   ]
  },
  {
   "cell_type": "code",
   "execution_count": 7,
   "id": "59e379d5-da0d-4805-9dc3-803c25b341dc",
   "metadata": {},
   "outputs": [
    {
     "name": "stdout",
     "output_type": "stream",
     "text": [
      "25\n"
     ]
    }
   ],
   "source": [
    "print(area)"
   ]
  },
  {
   "cell_type": "code",
   "execution_count": 8,
   "id": "542c9018-aed5-48df-8979-f0447f7d721a",
   "metadata": {},
   "outputs": [],
   "source": [
    "# Volume of a cuboid"
   ]
  },
  {
   "cell_type": "code",
   "execution_count": 9,
   "id": "f2575724-980c-4ded-885f-b47f68897430",
   "metadata": {},
   "outputs": [],
   "source": [
    "length = 5\n",
    "breadth = 6\n",
    "height = 7"
   ]
  },
  {
   "cell_type": "code",
   "execution_count": 10,
   "id": "7e721420-c2f6-4c72-bcff-0e715c004964",
   "metadata": {},
   "outputs": [],
   "source": [
    "volume = length * breadth * height"
   ]
  },
  {
   "cell_type": "code",
   "execution_count": 11,
   "id": "61088758-5c88-4494-80a1-a43c90dc590b",
   "metadata": {},
   "outputs": [
    {
     "name": "stdout",
     "output_type": "stream",
     "text": [
      "210\n"
     ]
    }
   ],
   "source": [
    "print(volume)"
   ]
  },
  {
   "cell_type": "code",
   "execution_count": 12,
   "id": "d6eef80c-31ea-4119-8051-2f2fb60ea789",
   "metadata": {},
   "outputs": [],
   "source": [
    "# Area of a circle"
   ]
  },
  {
   "cell_type": "code",
   "execution_count": 14,
   "id": "32160e00-fd76-47c1-89fb-43c1141987cd",
   "metadata": {},
   "outputs": [],
   "source": [
    "import math"
   ]
  },
  {
   "cell_type": "code",
   "execution_count": 13,
   "id": "767c4f6a-3747-44ea-b9c8-ec4e6f6fc10c",
   "metadata": {},
   "outputs": [],
   "source": [
    "r = 7"
   ]
  },
  {
   "cell_type": "code",
   "execution_count": 15,
   "id": "cb233499-4018-4c97-9aae-e4db9ac207e9",
   "metadata": {},
   "outputs": [],
   "source": [
    "area = math.pi * pow(r, 2)"
   ]
  },
  {
   "cell_type": "code",
   "execution_count": 16,
   "id": "ebec2fa3-667e-45da-b0b7-4e35cdb9ca05",
   "metadata": {},
   "outputs": [
    {
     "name": "stdout",
     "output_type": "stream",
     "text": [
      "153.93804002589985\n"
     ]
    }
   ],
   "source": [
    "print(area)"
   ]
  },
  {
   "cell_type": "code",
   "execution_count": 17,
   "id": "33a0240a-20cb-4086-9501-673986a5daa3",
   "metadata": {},
   "outputs": [
    {
     "data": {
      "text/plain": [
       "153.86"
      ]
     },
     "execution_count": 17,
     "metadata": {},
     "output_type": "execute_result"
    }
   ],
   "source": [
    "3.14 * 7 * 7"
   ]
  },
  {
   "cell_type": "code",
   "execution_count": 18,
   "id": "086367e2-4474-4d30-aa5e-05b3f0575f1f",
   "metadata": {},
   "outputs": [
    {
     "data": {
      "text/plain": [
       "3"
      ]
     },
     "execution_count": 18,
     "metadata": {},
     "output_type": "execute_result"
    }
   ],
   "source": [
    "round(math.pi)"
   ]
  },
  {
   "cell_type": "code",
   "execution_count": 19,
   "id": "c07e0bcb-52a5-4528-840c-ed14713a4a56",
   "metadata": {},
   "outputs": [
    {
     "data": {
      "text/plain": [
       "5"
      ]
     },
     "execution_count": 19,
     "metadata": {},
     "output_type": "execute_result"
    }
   ],
   "source": [
    "abs(-5)"
   ]
  },
  {
   "cell_type": "code",
   "execution_count": 20,
   "id": "e71eeece-e064-44a0-88a2-71138399fe0e",
   "metadata": {},
   "outputs": [
    {
     "data": {
      "text/plain": [
       "(2, 1)"
      ]
     },
     "execution_count": 20,
     "metadata": {},
     "output_type": "execute_result"
    }
   ],
   "source": [
    "divmod(5, 2)"
   ]
  },
  {
   "cell_type": "code",
   "execution_count": 21,
   "id": "32558cee-1e8f-4d6b-a4ba-2a0aa6c24083",
   "metadata": {},
   "outputs": [
    {
     "data": {
      "text/plain": [
       "int"
      ]
     },
     "execution_count": 21,
     "metadata": {},
     "output_type": "execute_result"
    }
   ],
   "source": [
    "type(5)"
   ]
  },
  {
   "cell_type": "code",
   "execution_count": 22,
   "id": "0c143149-e064-4d24-9977-75db877df907",
   "metadata": {},
   "outputs": [
    {
     "data": {
      "text/plain": [
       "float"
      ]
     },
     "execution_count": 22,
     "metadata": {},
     "output_type": "execute_result"
    }
   ],
   "source": [
    "type(3.14)"
   ]
  },
  {
   "cell_type": "code",
   "execution_count": 23,
   "id": "377f73dc-ccdd-41fd-b76f-420d5ad7219a",
   "metadata": {},
   "outputs": [],
   "source": [
    "name = 'Rakesh'"
   ]
  },
  {
   "cell_type": "code",
   "execution_count": 24,
   "id": "7340b07a-0eda-48e6-ab3b-6f9a2b507775",
   "metadata": {},
   "outputs": [
    {
     "data": {
      "text/plain": [
       "str"
      ]
     },
     "execution_count": 24,
     "metadata": {},
     "output_type": "execute_result"
    }
   ],
   "source": [
    "type(name)"
   ]
  },
  {
   "cell_type": "code",
   "execution_count": 25,
   "id": "78ade531-d42b-45f2-8ae9-d8b9787a890a",
   "metadata": {},
   "outputs": [],
   "source": [
    "x = 5 == 3.14"
   ]
  },
  {
   "cell_type": "code",
   "execution_count": 26,
   "id": "ed5c44f5-f25e-4f30-9edc-7f66a1192b08",
   "metadata": {},
   "outputs": [
    {
     "data": {
      "text/plain": [
       "bool"
      ]
     },
     "execution_count": 26,
     "metadata": {},
     "output_type": "execute_result"
    }
   ],
   "source": [
    "type(x)"
   ]
  },
  {
   "cell_type": "code",
   "execution_count": 27,
   "id": "70deb77c-6de7-4e37-bc9c-5cf22343ce91",
   "metadata": {},
   "outputs": [
    {
     "data": {
      "text/plain": [
       "list"
      ]
     },
     "execution_count": 27,
     "metadata": {},
     "output_type": "execute_result"
    }
   ],
   "source": [
    "type([1,2,3])"
   ]
  },
  {
   "cell_type": "code",
   "execution_count": 28,
   "id": "99e4daae-49eb-407d-b335-cc7c098f4fa2",
   "metadata": {},
   "outputs": [
    {
     "data": {
      "text/plain": [
       "dict"
      ]
     },
     "execution_count": 28,
     "metadata": {},
     "output_type": "execute_result"
    }
   ],
   "source": [
    "type({'a': 1})"
   ]
  },
  {
   "cell_type": "code",
   "execution_count": null,
   "id": "603992ef-7872-4ef5-84fd-2d24f20bdbeb",
   "metadata": {},
   "outputs": [],
   "source": []
  },
  {
   "cell_type": "code",
   "execution_count": 29,
   "id": "456fe75e-d6e7-4f1b-a202-b339538f1a54",
   "metadata": {},
   "outputs": [],
   "source": [
    "x = 6"
   ]
  },
  {
   "cell_type": "code",
   "execution_count": 30,
   "id": "a8469c30-8fa7-48b1-962d-aac0e3c2ca47",
   "metadata": {},
   "outputs": [],
   "source": [
    "y = x < 7"
   ]
  },
  {
   "cell_type": "code",
   "execution_count": 31,
   "id": "88122ff8-9a4c-4cba-87a1-2228a81b8888",
   "metadata": {},
   "outputs": [
    {
     "data": {
      "text/plain": [
       "True"
      ]
     },
     "execution_count": 31,
     "metadata": {},
     "output_type": "execute_result"
    }
   ],
   "source": [
    "y"
   ]
  },
  {
   "cell_type": "code",
   "execution_count": 32,
   "id": "bbef66eb-b5b0-4751-b61b-678d21b1fd28",
   "metadata": {},
   "outputs": [
    {
     "data": {
      "text/plain": [
       "False"
      ]
     },
     "execution_count": 32,
     "metadata": {},
     "output_type": "execute_result"
    }
   ],
   "source": [
    "not(y)"
   ]
  },
  {
   "cell_type": "code",
   "execution_count": 33,
   "id": "16372d49-b384-4767-997f-bb9a8bd9d39f",
   "metadata": {},
   "outputs": [
    {
     "name": "stdout",
     "output_type": "stream",
     "text": [
      "2.5\n"
     ]
    }
   ],
   "source": [
    "dividend = 5 \n",
    "divisor = 2\n",
    "print(dividend/divisor)"
   ]
  },
  {
   "cell_type": "code",
   "execution_count": null,
   "id": "ec4bf1ff-0803-47a8-9253-f3dae216449d",
   "metadata": {},
   "outputs": [],
   "source": []
  }
 ],
 "metadata": {
  "kernelspec": {
   "display_name": "Python 3 (ipykernel)",
   "language": "python",
   "name": "python3"
  },
  "language_info": {
   "codemirror_mode": {
    "name": "ipython",
    "version": 3
   },
   "file_extension": ".py",
   "mimetype": "text/x-python",
   "name": "python",
   "nbconvert_exporter": "python",
   "pygments_lexer": "ipython3",
   "version": "3.9.13"
  }
 },
 "nbformat": 4,
 "nbformat_minor": 5
}
