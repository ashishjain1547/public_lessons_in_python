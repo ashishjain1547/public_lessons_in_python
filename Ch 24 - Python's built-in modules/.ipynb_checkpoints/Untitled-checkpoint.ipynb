{
 "cells": [
  {
   "cell_type": "code",
   "execution_count": 1,
   "id": "73e9d38e-a728-4c39-85f4-1185109c6a08",
   "metadata": {},
   "outputs": [
    {
     "name": "stdout",
     "output_type": "stream",
     "text": [
      "2023-06-28 19:46:06.208951\n"
     ]
    }
   ],
   "source": [
    "import datetime as dt # importing the module\n",
    "\n",
    "x = dt.datetime.now()   # Note :  datetime represent constructor  of datetime class \n",
    "print(x) "
   ]
  },
  {
   "cell_type": "code",
   "execution_count": 2,
   "id": "8a2c7ffe-a206-4b6d-9209-7a48b95b4be0",
   "metadata": {},
   "outputs": [
    {
     "name": "stdout",
     "output_type": "stream",
     "text": [
      "2023-06-28 19:46:27.420539\n"
     ]
    }
   ],
   "source": [
    "from datetime import datetime as dt # importing the class\n",
    "print(dt.now())"
   ]
  },
  {
   "cell_type": "code",
   "execution_count": 3,
   "id": "d6cc2342-9b06-41cf-b461-4c0de209dc72",
   "metadata": {},
   "outputs": [
    {
     "data": {
      "text/plain": [
       "datetime.datetime(2023, 6, 28, 19, 46, 30, 934525)"
      ]
     },
     "execution_count": 3,
     "metadata": {},
     "output_type": "execute_result"
    }
   ],
   "source": [
    "dt.today()"
   ]
  },
  {
   "cell_type": "code",
   "execution_count": null,
   "id": "088f38b5-f2f6-46d4-83a2-ca8e71023563",
   "metadata": {},
   "outputs": [],
   "source": []
  }
 ],
 "metadata": {
  "kernelspec": {
   "display_name": "Python 3 (ipykernel)",
   "language": "python",
   "name": "python3"
  },
  "language_info": {
   "codemirror_mode": {
    "name": "ipython",
    "version": 3
   },
   "file_extension": ".py",
   "mimetype": "text/x-python",
   "name": "python",
   "nbconvert_exporter": "python",
   "pygments_lexer": "ipython3",
   "version": "3.9.13"
  }
 },
 "nbformat": 4,
 "nbformat_minor": 5
}
