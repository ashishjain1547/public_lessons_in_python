{
 "cells": [
  {
   "cell_type": "code",
   "execution_count": 1,
   "id": "73e9d38e-a728-4c39-85f4-1185109c6a08",
   "metadata": {},
   "outputs": [
    {
     "name": "stdout",
     "output_type": "stream",
     "text": [
      "2023-06-28 19:46:06.208951\n"
     ]
    }
   ],
   "source": [
    "import datetime as dt # importing the module\n",
    "\n",
    "x = dt.datetime.now()   # Note :  datetime represent constructor  of datetime class \n",
    "print(x) "
   ]
  },
  {
   "cell_type": "code",
   "execution_count": 2,
   "id": "8a2c7ffe-a206-4b6d-9209-7a48b95b4be0",
   "metadata": {},
   "outputs": [
    {
     "name": "stdout",
     "output_type": "stream",
     "text": [
      "2023-06-28 19:46:27.420539\n"
     ]
    }
   ],
   "source": [
    "from datetime import datetime as dt # importing the class\n",
    "print(dt.now())"
   ]
  },
  {
   "cell_type": "code",
   "execution_count": 3,
   "id": "d6cc2342-9b06-41cf-b461-4c0de209dc72",
   "metadata": {},
   "outputs": [
    {
     "data": {
      "text/plain": [
       "datetime.datetime(2023, 6, 28, 19, 46, 30, 934525)"
      ]
     },
     "execution_count": 3,
     "metadata": {},
     "output_type": "execute_result"
    }
   ],
   "source": [
    "dt.today()"
   ]
  },
  {
   "cell_type": "code",
   "execution_count": 8,
   "id": "e6d56556-204d-4563-9fbf-c5eed2803ba5",
   "metadata": {},
   "outputs": [
    {
     "data": {
      "text/plain": [
       "datetime.datetime(2023, 6, 28, 19, 46, 6, 208951)"
      ]
     },
     "execution_count": 8,
     "metadata": {},
     "output_type": "execute_result"
    }
   ],
   "source": [
    "x"
   ]
  },
  {
   "cell_type": "code",
   "execution_count": 5,
   "id": "088f38b5-f2f6-46d4-83a2-ca8e71023563",
   "metadata": {},
   "outputs": [
    {
     "data": {
      "text/plain": [
       "2023"
      ]
     },
     "execution_count": 5,
     "metadata": {},
     "output_type": "execute_result"
    }
   ],
   "source": [
    "x.year"
   ]
  },
  {
   "cell_type": "code",
   "execution_count": 6,
   "id": "15b680b8-6d0a-4beb-8aa4-f6f6ca36daba",
   "metadata": {},
   "outputs": [
    {
     "data": {
      "text/plain": [
       "6"
      ]
     },
     "execution_count": 6,
     "metadata": {},
     "output_type": "execute_result"
    }
   ],
   "source": [
    "x.month"
   ]
  },
  {
   "cell_type": "code",
   "execution_count": 7,
   "id": "d2a7e0cb-1a2b-4f76-ac10-88f15f9b1936",
   "metadata": {},
   "outputs": [
    {
     "data": {
      "text/plain": [
       "28"
      ]
     },
     "execution_count": 7,
     "metadata": {},
     "output_type": "execute_result"
    }
   ],
   "source": [
    "x.day"
   ]
  },
  {
   "cell_type": "code",
   "execution_count": null,
   "id": "83947d78-18ac-49fa-ad9c-1a0fa1beceab",
   "metadata": {},
   "outputs": [],
   "source": []
  },
  {
   "cell_type": "code",
   "execution_count": 10,
   "id": "eea5785b-7ee2-4ca5-a428-9a0e629c54ad",
   "metadata": {},
   "outputs": [
    {
     "name": "stdout",
     "output_type": "stream",
     "text": [
      "[{\"first_name\": \"Vaibhav\", \"last_name\": \"Deshmukh\"}, {\"first_name\": \"Ashish\", \"last_name\": \"Jain\"}]\n"
     ]
    }
   ],
   "source": [
    "import requests\n",
    "\n",
    "url = 'http://127.0.0.1:5000/test_json'\n",
    "\n",
    "x = requests.post(url)\n",
    "\n",
    "print(x.text)"
   ]
  },
  {
   "cell_type": "code",
   "execution_count": null,
   "id": "ac05daef-7736-4244-84ac-1ec8233d4869",
   "metadata": {},
   "outputs": [],
   "source": []
  }
 ],
 "metadata": {
  "kernelspec": {
   "display_name": "Python 3 (ipykernel)",
   "language": "python",
   "name": "python3"
  },
  "language_info": {
   "codemirror_mode": {
    "name": "ipython",
    "version": 3
   },
   "file_extension": ".py",
   "mimetype": "text/x-python",
   "name": "python",
   "nbconvert_exporter": "python",
   "pygments_lexer": "ipython3",
   "version": "3.9.13"
  }
 },
 "nbformat": 4,
 "nbformat_minor": 5
}
