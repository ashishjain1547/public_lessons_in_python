{
 "cells": [
  {
   "cell_type": "code",
   "execution_count": 80,
   "id": "e1bf0b6d-289b-4f21-a782-ffbcb2380001",
   "metadata": {},
   "outputs": [
    {
     "name": "stdout",
     "output_type": "stream",
     "text": [
      "{'banana', 'apple', 'cherry', 'guava'}\n"
     ]
    }
   ],
   "source": [
    "# Creating a set\n",
    "\n",
    "thisset = {\"apple\", \"banana\", \"cherry\", \"guava\"}\n",
    "print(thisset)\n"
   ]
  },
  {
   "cell_type": "code",
   "execution_count": 2,
   "id": "371c2746-be56-460e-8da2-e67607d1b98d",
   "metadata": {},
   "outputs": [
    {
     "name": "stdout",
     "output_type": "stream",
     "text": [
      "{'banana', 'apple', 'cherry'}\n"
     ]
    }
   ],
   "source": [
    "# Creating set using set constructor\n",
    "\n",
    "thisset = set((\"apple\", \"banana\", \"cherry\")) # note the double round-brackets\n",
    "print(thisset) \n"
   ]
  },
  {
   "cell_type": "code",
   "execution_count": 3,
   "id": "e846c456-421e-4cf3-9f6f-bd6e074bcf7a",
   "metadata": {},
   "outputs": [
    {
     "name": "stdout",
     "output_type": "stream",
     "text": [
      "<class 'set'>\n"
     ]
    }
   ],
   "source": [
    "# Type of Set\n",
    "\n",
    "thisset = {\"apple\", \"banana\", \"cherry\"}\n",
    "print(type(thisset))\n",
    "\n"
   ]
  },
  {
   "cell_type": "code",
   "execution_count": 1,
   "id": "24d2ba65-7b74-47a3-a23c-266e6b26d0ce",
   "metadata": {},
   "outputs": [
    {
     "name": "stdout",
     "output_type": "stream",
     "text": [
      "{'cherry', 'apple', 'banana'}\n",
      "{False, True, 2, 3, 'Hello'}\n"
     ]
    }
   ],
   "source": [
    "# Set can't have duplicate values\n",
    "\n",
    "\n",
    "set1 = {\"apple\", \"banana\", \"cherry\",\"apple\"}\n",
    "print(set1)\n",
    "\n",
    "set2 = {True,2,3,False,0,\"Hello\",1}\n",
    "print(set2) "
   ]
  },
  {
   "cell_type": "markdown",
   "id": "affaa313-8ef7-4e5e-badc-7d68e7a3e2ec",
   "metadata": {},
   "source": [
    "# Note: ( 1 & True ) and ( 0 & False ) treated as duplicate values.\n",
    "# So it would print True and False as set items but not 0 and 1."
   ]
  },
  {
   "cell_type": "code",
   "execution_count": 6,
   "id": "2de3b778-c28b-482e-9181-14582ff547d3",
   "metadata": {},
   "outputs": [
    {
     "ename": "TypeError",
     "evalue": "'set' object is not subscriptable",
     "output_type": "error",
     "traceback": [
      "\u001b[1;31m---------------------------------------------------------------------------\u001b[0m",
      "\u001b[1;31mTypeError\u001b[0m                                 Traceback (most recent call last)",
      "Cell \u001b[1;32mIn[6], line 4\u001b[0m\n\u001b[0;32m      1\u001b[0m \u001b[38;5;66;03m# Items appear in random order\u001b[39;00m\n\u001b[0;32m      3\u001b[0m thisset \u001b[38;5;241m=\u001b[39m {\u001b[38;5;124m\"\u001b[39m\u001b[38;5;124mapple\u001b[39m\u001b[38;5;124m\"\u001b[39m, \u001b[38;5;124m\"\u001b[39m\u001b[38;5;124mbanana\u001b[39m\u001b[38;5;124m\"\u001b[39m, \u001b[38;5;124m\"\u001b[39m\u001b[38;5;124mcherry\u001b[39m\u001b[38;5;124m\"\u001b[39m,\u001b[38;5;124m\"\u001b[39m\u001b[38;5;124mmango\u001b[39m\u001b[38;5;124m\"\u001b[39m,\u001b[38;5;124m\"\u001b[39m\u001b[38;5;124morange\u001b[39m\u001b[38;5;124m\"\u001b[39m,\u001b[38;5;124m\"\u001b[39m\u001b[38;5;124mpapaya\u001b[39m\u001b[38;5;124m\"\u001b[39m}\n\u001b[1;32m----> 4\u001b[0m \u001b[38;5;28mprint\u001b[39m(\u001b[43mthisset\u001b[49m\u001b[43m[\u001b[49m\u001b[38;5;241;43m0\u001b[39;49m\u001b[43m]\u001b[49m)\n",
      "\u001b[1;31mTypeError\u001b[0m: 'set' object is not subscriptable"
     ]
    }
   ],
   "source": [
    "# Set Items are unindexed\n",
    "\n",
    "thisset = {\"apple\", \"banana\", \"cherry\",\"mango\",\"orange\",\"papaya\"}\n",
    "print(thisset[0])\n"
   ]
  },
  {
   "cell_type": "code",
   "execution_count": 12,
   "id": "21b74d1a-e1d7-4c74-85cf-e995e5926e33",
   "metadata": {},
   "outputs": [
    {
     "name": "stdout",
     "output_type": "stream",
     "text": [
      "{'banana', 'cherry', 'apple'}\n",
      "{1, 3, 5, 7, 9}\n",
      "{False, True}\n",
      "{False, True, 2, 3, 'Hello'}\n"
     ]
    }
   ],
   "source": [
    "# Set can have items of any type including mixed one\n",
    "\n",
    "set1 = {\"apple\", \"banana\", \"cherry\"}\n",
    "set2 = {1, 5, 7, 9, 3}\n",
    "set3 = {True, False, False}\n",
    "set4 = {True,2,3,False,0,\"Hello\",1} \n",
    "\n",
    "print(set1) # string type itmes\n",
    "print(set2) # number type itmes\n",
    "print(set3) # boolean type itmes\n",
    "print(set4) # mixed type itmes , note ignored duplicate values \n"
   ]
  },
  {
   "cell_type": "code",
   "execution_count": 8,
   "id": "98fcd419-6867-47ff-97d8-e0d6f0925643",
   "metadata": {},
   "outputs": [
    {
     "name": "stdout",
     "output_type": "stream",
     "text": [
      "{False, True, 'Hello'}\n",
      "{False, True, 'Ravi', 'Hello'}\n"
     ]
    }
   ],
   "source": [
    "# Add an item in a set \n",
    "\n",
    "set1 = {True,False,\"Hello\",1}  # Note mixed data types of items\n",
    "print(set1) # True and 1 treated as duplicate values\n",
    "set1.add(\"Ravi\")\n",
    "print(set1) # print after adding new item 'Ravi'\n",
    "\n",
    "\n"
   ]
  },
  {
   "cell_type": "code",
   "execution_count": 9,
   "id": "e544efcb-7ef1-4957-9570-3a88786dfe56",
   "metadata": {},
   "outputs": [
    {
     "name": "stdout",
     "output_type": "stream",
     "text": [
      "{False, True, 'Ravi', 'Hello'}\n",
      "{False, True, 'Hello'}\n"
     ]
    }
   ],
   "source": [
    "# Removing an item from set\n",
    "\n",
    "set1 = {True,False,\"Hello\",1 , \"Ravi\"}  # Note mixed data types of items\n",
    "print(set1) # True and 1 treated as duplicate values\n",
    "set1.remove(\"Ravi\")\n",
    "print(set1) # print after removing item 'Ravi'\n"
   ]
  },
  {
   "cell_type": "code",
   "execution_count": 8,
   "id": "b60991dc-565e-4f45-a7e5-98ec8977b3b1",
   "metadata": {},
   "outputs": [
    {
     "name": "stdout",
     "output_type": "stream",
     "text": [
      "{False, True, 'Ravi', 'Hello'}\n",
      "{False, True, 'Ravi'}\n"
     ]
    }
   ],
   "source": [
    "# Removing an item from set using discard built in method\n",
    "\n",
    "set1 = {True,False,\"Hello\",1 , \"Ravi\"}  # Note mixed data types of items\n",
    "print(set1) # True and 1 treated as duplicate values\n",
    "set1.discard(\"Hello\")\n",
    "print(set1) # print after removing item 'Hello'\n"
   ]
  },
  {
   "cell_type": "code",
   "execution_count": 9,
   "id": "a41032d0-d033-48a8-bb3b-055f4b1b2070",
   "metadata": {},
   "outputs": [
    {
     "name": "stdout",
     "output_type": "stream",
     "text": [
      "{False, True, 'Ravi', 'Hello'}\n",
      "{False, True, 'Ravi', 'Hello'}\n"
     ]
    },
    {
     "ename": "KeyError",
     "evalue": "'Orange'",
     "output_type": "error",
     "traceback": [
      "\u001b[1;31m---------------------------------------------------------------------------\u001b[0m",
      "\u001b[1;31mKeyError\u001b[0m                                  Traceback (most recent call last)",
      "Cell \u001b[1;32mIn[9], line 9\u001b[0m\n\u001b[0;32m      7\u001b[0m set1\u001b[38;5;241m.\u001b[39mdiscard(\u001b[38;5;124m\"\u001b[39m\u001b[38;5;124mOrange\u001b[39m\u001b[38;5;124m\"\u001b[39m) \u001b[38;5;66;03m# Note not present in set \u001b[39;00m\n\u001b[0;32m      8\u001b[0m \u001b[38;5;28mprint\u001b[39m(set1)\n\u001b[1;32m----> 9\u001b[0m \u001b[43mset1\u001b[49m\u001b[38;5;241;43m.\u001b[39;49m\u001b[43mremove\u001b[49m\u001b[43m(\u001b[49m\u001b[38;5;124;43m\"\u001b[39;49m\u001b[38;5;124;43mOrange\u001b[39;49m\u001b[38;5;124;43m\"\u001b[39;49m\u001b[43m)\u001b[49m \u001b[38;5;66;03m# Note not present in set \u001b[39;00m\n\u001b[0;32m     10\u001b[0m \u001b[38;5;28mprint\u001b[39m(set1)\n",
      "\u001b[1;31mKeyError\u001b[0m: 'Orange'"
     ]
    }
   ],
   "source": [
    "# Difference between remove and discard method \n",
    "# If item to be removed not present in set \n",
    "# Then remove method raise an Error msg ( Key Error )\n",
    "# But discard method not raise any error message \n",
    "\n",
    "set1 = {True,False,\"Hello\",1 , \"Ravi\"}  # Note mixed data types of items\n",
    "print(set1) # True and 1 treated as duplicate values\n",
    "set1.discard(\"Orange\") # Note not present in set \n",
    "print(set1)\n",
    "set1.remove(\"Orange\") # Note not present in set \n",
    "print(set1) \n"
   ]
  },
  {
   "cell_type": "code",
   "execution_count": 84,
   "id": "01bcf4b6-8011-4ac9-bbba-6488489df9d4",
   "metadata": {},
   "outputs": [
    {
     "name": "stdout",
     "output_type": "stream",
     "text": [
      "{'Down', 'Up', 'Top', 'Tail', 'Head'}\n",
      "{'Up', 'Top', 'Tail', 'Head'}\n",
      "Removed Item is : Down\n"
     ]
    }
   ],
   "source": [
    "# Removing last item from set using pop builtIn Method\n",
    "\n",
    "set1 = {\"Tail\",\"Head\",\"Up\",\"Top\" , \"Down\"}  \n",
    "print(set1) \n",
    "ItemRemoved = set1.pop() # No index passed as an argument\n",
    "print(set1) # print after removing last item , note no order exist for items \n",
    "print(\"Removed Item is : \" + str(ItemRemoved) )"
   ]
  },
  {
   "cell_type": "code",
   "execution_count": 93,
   "id": "3b32b753-7456-45f9-a3de-e4fc5209628a",
   "metadata": {},
   "outputs": [],
   "source": [
    "# Removing last item from set using pop builtIn Method\n",
    "\n",
    "set1 = {\"Tail\", \"Head\", \"Up\", \"Top\", \"Down\"}  \n",
    "set2 = set({}) # {} is not an empty set, it is dictionary.\n",
    "for i in range(len(set1)):\n",
    "    item_removed = set1.pop()\n",
    "    set2.add(item_removed)"
   ]
  },
  {
   "cell_type": "code",
   "execution_count": 94,
   "id": "a6cf240a-b9cb-40fc-bec9-f1f53e4a7393",
   "metadata": {},
   "outputs": [
    {
     "data": {
      "text/plain": [
       "{'Down', 'Head', 'Tail', 'Top', 'Up'}"
      ]
     },
     "execution_count": 94,
     "metadata": {},
     "output_type": "execute_result"
    }
   ],
   "source": [
    "set2"
   ]
  },
  {
   "cell_type": "code",
   "execution_count": 92,
   "id": "b7e7b58d-5593-481f-be85-f9a6c066ee6b",
   "metadata": {},
   "outputs": [
    {
     "name": "stdout",
     "output_type": "stream",
     "text": [
      "<class 'dict'>\n"
     ]
    }
   ],
   "source": [
    "x = {}\n",
    "print(type(x))"
   ]
  },
  {
   "cell_type": "code",
   "execution_count": 14,
   "id": "f11cdd91-4827-48f2-aef6-5169db71484e",
   "metadata": {},
   "outputs": [
    {
     "name": "stdout",
     "output_type": "stream",
     "text": [
      "6\n"
     ]
    }
   ],
   "source": [
    "# length of set\n",
    "\n",
    "thisset = {\"apple\", \"banana\", \"cherry\", \"mango\", \"orange\", \"papaya\", \"apple\"}\n",
    "print(len(thisset)) # Note ignore duplicate items while counting the items\n"
   ]
  },
  {
   "cell_type": "code",
   "execution_count": 15,
   "id": "18455efb-1fe5-4db4-bdd3-946cc1646c74",
   "metadata": {},
   "outputs": [
    {
     "name": "stdout",
     "output_type": "stream",
     "text": [
      "banana\n",
      "cherry\n",
      "apple\n"
     ]
    }
   ],
   "source": [
    "# Accessing set items \n",
    "# We cannot access items in a set by referring to an index or a key\n",
    "\n",
    "# Iterating Set items using for loop and membership operator 'in'\n",
    "\n",
    "thisset = {\"apple\", \"banana\", \"cherry\"}\n",
    "\n",
    "for x in thisset:\n",
    "\n",
    "    print(x)"
   ]
  },
  {
   "cell_type": "code",
   "execution_count": 2,
   "id": "32a67fa5-5095-463e-8be1-0229ef48db8b",
   "metadata": {},
   "outputs": [
    {
     "name": "stdout",
     "output_type": "stream",
     "text": [
      "True\n",
      "False\n"
     ]
    }
   ],
   "source": [
    "# Check if an item prsent or not in a set\n",
    "\n",
    "thisset = {\"apple\", \"banana\", \"cherry\"}\n",
    "\n",
    "print(\"banana\" in thisset) \n",
    "print(\"orange\" in thisset)\n",
    "\n"
   ]
  },
  {
   "cell_type": "code",
   "execution_count": 2,
   "id": "668eca20-a7ce-4e6c-880c-325e8fee1f01",
   "metadata": {},
   "outputs": [
    {
     "name": "stdout",
     "output_type": "stream",
     "text": [
      "{'mango', 'apple', 'cherry', 'papaya', 'pineapple', 'banana'}\n"
     ]
    }
   ],
   "source": [
    "# To add set items in another set using built in update method\n",
    "\n",
    "SetOne = {\"apple\", \"banana\", \"cherry\"}\n",
    "SetTwo = {\"pineapple\", \"mango\", \"papaya\"}\n",
    "\n",
    "SetOne.update(SetTwo)\n",
    "print(SetOne)\n",
    "\n"
   ]
  },
  {
   "cell_type": "code",
   "execution_count": 3,
   "id": "57f21b8a-008d-4aaf-889e-a4b10d3525cf",
   "metadata": {},
   "outputs": [
    {
     "ename": "TypeError",
     "evalue": "unsupported operand type(s) for +: 'set' and 'set'",
     "output_type": "error",
     "traceback": [
      "\u001b[0;31m---------------------------------------------------------------------------\u001b[0m",
      "\u001b[0;31mTypeError\u001b[0m                                 Traceback (most recent call last)",
      "\u001b[0;32m/tmp/ipykernel_47615/2785294167.py\u001b[0m in \u001b[0;36m<module>\u001b[0;34m\u001b[0m\n\u001b[1;32m      1\u001b[0m \u001b[0mSetOne\u001b[0m \u001b[0;34m=\u001b[0m \u001b[0;34m{\u001b[0m\u001b[0;34m\"apple\"\u001b[0m\u001b[0;34m,\u001b[0m \u001b[0;34m\"banana\"\u001b[0m\u001b[0;34m,\u001b[0m \u001b[0;34m\"cherry\"\u001b[0m\u001b[0;34m}\u001b[0m\u001b[0;34m\u001b[0m\u001b[0;34m\u001b[0m\u001b[0m\n\u001b[1;32m      2\u001b[0m \u001b[0mSetTwo\u001b[0m \u001b[0;34m=\u001b[0m \u001b[0;34m{\u001b[0m\u001b[0;34m\"pineapple\"\u001b[0m\u001b[0;34m,\u001b[0m \u001b[0;34m\"mango\"\u001b[0m\u001b[0;34m,\u001b[0m \u001b[0;34m\"papaya\"\u001b[0m\u001b[0;34m}\u001b[0m\u001b[0;34m\u001b[0m\u001b[0;34m\u001b[0m\u001b[0m\n\u001b[0;32m----> 3\u001b[0;31m \u001b[0mSetThree\u001b[0m \u001b[0;34m=\u001b[0m \u001b[0mSetOne\u001b[0m \u001b[0;34m+\u001b[0m \u001b[0mSetTwo\u001b[0m\u001b[0;34m\u001b[0m\u001b[0;34m\u001b[0m\u001b[0m\n\u001b[0m\u001b[1;32m      4\u001b[0m \u001b[0mprint\u001b[0m\u001b[0;34m(\u001b[0m\u001b[0mSetThree\u001b[0m\u001b[0;34m)\u001b[0m\u001b[0;34m\u001b[0m\u001b[0;34m\u001b[0m\u001b[0m\n",
      "\u001b[0;31mTypeError\u001b[0m: unsupported operand type(s) for +: 'set' and 'set'"
     ]
    }
   ],
   "source": [
    "SetOne = {\"apple\", \"banana\", \"cherry\"}\n",
    "SetTwo = {\"pineapple\", \"mango\", \"papaya\"}\n",
    "SetThree = SetOne + SetTwo\n",
    "print(SetThree)"
   ]
  },
  {
   "cell_type": "code",
   "execution_count": 4,
   "id": "03d43661-7659-4d38-86c2-fe7dd53c926d",
   "metadata": {},
   "outputs": [
    {
     "name": "stdout",
     "output_type": "stream",
     "text": [
      "{'kiwi', 'orange', 'banana', 'cherry', 'apple'}\n"
     ]
    }
   ],
   "source": [
    "# Adding items of any iterable object in a set\n",
    "\n",
    "# Iterable object like : tupple , range , list \n",
    "\n",
    "# For Ex - Adding a list items\n",
    "\n",
    "Set = {\"apple\", \"banana\", \"cherry\"}\n",
    "List = [\"kiwi\", \"orange\"]\n",
    "\n",
    "Set.update(List)\n",
    "print(Set)\n",
    "\n"
   ]
  },
  {
   "cell_type": "code",
   "execution_count": 5,
   "id": "2e0f8bd5-e6e0-482a-b215-a5ff1f5fbc25",
   "metadata": {},
   "outputs": [
    {
     "name": "stdout",
     "output_type": "stream",
     "text": [
      "{False, 1, 2, 3, 'Orange', 'banana', 'cherry', 'apple'}\n"
     ]
    }
   ],
   "source": [
    "# For Ex - Adding a tuple items\n",
    "\n",
    "Set = {\"apple\", \"banana\", \"cherry\"}\n",
    "Tuple = [1,2,3,\"Orange\",False]  # Mixted type items\n",
    "\n",
    "Set.update(Tuple)\n",
    "print(Set)"
   ]
  },
  {
   "cell_type": "code",
   "execution_count": 7,
   "id": "0d3b046f-cdb6-4a43-9f82-00359e00bb12",
   "metadata": {},
   "outputs": [
    {
     "name": "stdout",
     "output_type": "stream",
     "text": [
      "{0, 1, 2, 3, 4, 5, 'banana', 'cherry', 'apple'}\n"
     ]
    }
   ],
   "source": [
    "# For Ex - Adding a range items\n",
    "\n",
    "Set = {\"apple\", \"banana\", \"cherry\"}\n",
    "Range = range(0,6)\n",
    "\n",
    "Set.update(Range)\n",
    "print(Set)"
   ]
  },
  {
   "cell_type": "code",
   "execution_count": 18,
   "id": "d961de33-a3d1-4472-81ac-9a65dfc5b7f7",
   "metadata": {},
   "outputs": [
    {
     "name": "stdout",
     "output_type": "stream",
     "text": [
      "set()\n"
     ]
    }
   ],
   "source": [
    "# Empty the set \n",
    "\n",
    "thisset = {\"apple\", \"banana\", \"cherry\"}\n",
    "\n",
    "thisset.clear()\n",
    "print(thisset)\n"
   ]
  },
  {
   "cell_type": "code",
   "execution_count": 21,
   "id": "f3e77f35-5b0b-405c-a974-4d79adcb57d9",
   "metadata": {},
   "outputs": [
    {
     "ename": "NameError",
     "evalue": "name 'thisset' is not defined",
     "output_type": "error",
     "traceback": [
      "\u001b[1;31m---------------------------------------------------------------------------\u001b[0m",
      "\u001b[1;31mNameError\u001b[0m                                 Traceback (most recent call last)",
      "Cell \u001b[1;32mIn[21], line 5\u001b[0m\n\u001b[0;32m      3\u001b[0m thisset \u001b[38;5;241m=\u001b[39m {\u001b[38;5;124m\"\u001b[39m\u001b[38;5;124mapple\u001b[39m\u001b[38;5;124m\"\u001b[39m, \u001b[38;5;124m\"\u001b[39m\u001b[38;5;124mbanana\u001b[39m\u001b[38;5;124m\"\u001b[39m, \u001b[38;5;124m\"\u001b[39m\u001b[38;5;124mcherry\u001b[39m\u001b[38;5;124m\"\u001b[39m}\n\u001b[0;32m      4\u001b[0m \u001b[38;5;28;01mdel\u001b[39;00m thisset\n\u001b[1;32m----> 5\u001b[0m \u001b[38;5;28mprint\u001b[39m(\u001b[43mthisset\u001b[49m)\n",
      "\u001b[1;31mNameError\u001b[0m: name 'thisset' is not defined"
     ]
    }
   ],
   "source": [
    "# Deleting set using del method \n",
    "\n",
    "thisset = {\"apple\", \"banana\", \"cherry\"}\n",
    "\n",
    "del thisset\n",
    "print(thisset) # Try to print set items after deleting set "
   ]
  },
  {
   "cell_type": "code",
   "execution_count": 23,
   "id": "7f5f2b49-1359-48ac-b2eb-fb030f03fa37",
   "metadata": {},
   "outputs": [
    {
     "name": "stdout",
     "output_type": "stream",
     "text": [
      "{'b', 1, 2, 3, 4, 5, 'a', 'c'}\n"
     ]
    }
   ],
   "source": [
    "# Joining sets using union method\n",
    "\n",
    "# This will return a new set\n",
    "\n",
    "set1 = {\"a\", \"b\" , \"c\" , 1, 4 , 5}\n",
    "set2 = {1, 2, 3}\n",
    "\n",
    "set3 = set1.union(set2)\n",
    "print(set3) # Note all duplicate values ignored\n"
   ]
  },
  {
   "cell_type": "code",
   "execution_count": 31,
   "id": "80686db3-9c85-481e-ab89-b116573088c1",
   "metadata": {},
   "outputs": [
    {
     "name": "stdout",
     "output_type": "stream",
     "text": [
      "{'b', 1, 'c', 4, 5, 'a'}\n",
      "{'b', 1, 2, 3, 4, 5, 'a', 'c'}\n"
     ]
    }
   ],
   "source": [
    "# Updating a set by adding items of another set\n",
    "\n",
    "set1 = {\"a\", \"b\" , \"c\" , 1, 4 , 5}\n",
    "set2 = {1, 2, 3}\n",
    "print(set1)\n",
    "set1.update(set2)\n",
    "print(set1) # Note all duplicate values ignored\n"
   ]
  },
  {
   "cell_type": "code",
   "execution_count": 30,
   "id": "9f98da6c-cdc4-4ba3-a94e-408b93b7f8ed",
   "metadata": {},
   "outputs": [
    {
     "name": "stdout",
     "output_type": "stream",
     "text": [
      "{'b', 1, 'c', 4, 5, 'a'}\n",
      "{1}\n"
     ]
    }
   ],
   "source": [
    "# Updating a set to have only duplicate values using intersection_update method\n",
    "\n",
    "# This will return a new set\n",
    "\n",
    "set1 = {\"a\", \"b\" , \"c\" , 1, 4 , 5}\n",
    "set2 = {1, 2, 3}\n",
    "print(set1)\n",
    "set1.intersection_update(set2) # Elements from set1 that are also in set2.\n",
    "print(set1) # Items of set1 after update"
   ]
  },
  {
   "cell_type": "code",
   "execution_count": 26,
   "id": "b9add377-1e1f-4c9e-9bb7-31d7826f42e0",
   "metadata": {},
   "outputs": [
    {
     "name": "stdout",
     "output_type": "stream",
     "text": [
      "{'b', 1}\n"
     ]
    }
   ],
   "source": [
    "# Getting a new set of duplicate items of two sets using intersection method\n",
    "\n",
    "set1 = {\"a\", \"b\" , \"c\" , 1, 4 , 5}\n",
    "set2 = {1, 2, 3 , \"b\"}\n",
    "\n",
    "set3 = set1.intersection(set2)\n",
    "print(set3) \n",
    "\n"
   ]
  },
  {
   "cell_type": "code",
   "execution_count": 29,
   "id": "121a5a33-0a72-44f6-84a5-ab44f592b90d",
   "metadata": {},
   "outputs": [
    {
     "name": "stdout",
     "output_type": "stream",
     "text": [
      "{2, 3, 'c', 4, 5, 'a'}\n"
     ]
    }
   ],
   "source": [
    "# Geting a new set of all unique items of two sets using symmetric_difference method\n",
    "\n",
    "set1 = {\"a\", \"b\" , \"c\" , 1, 4 , 5}\n",
    "set2 = {1, 2, 3 , \"b\"}\n",
    "\n",
    "set3 = set1.symmetric_difference(set2)\n",
    "print(set3) \n"
   ]
  },
  {
   "cell_type": "code",
   "execution_count": 32,
   "id": "d860dfea-63d0-4ffa-865f-a7713dc2aebe",
   "metadata": {},
   "outputs": [
    {
     "name": "stdout",
     "output_type": "stream",
     "text": [
      "{'b', 1, 'c', 4, 5, 'a'}\n",
      "{2, 'c', 4, 5, 3, 'a'}\n"
     ]
    }
   ],
   "source": [
    "# Updating a set to have all unique items using symmetric_difference_update method\n",
    "\n",
    "set1 = {\"a\", \"b\" , \"c\" , 1, 4 , 5}\n",
    "set2 = {1, 2, 3 , \"b\"}\n",
    "print(set1)\n",
    "set1.symmetric_difference_update(set2)\n",
    "print(set1) "
   ]
  },
  {
   "cell_type": "code",
   "execution_count": 33,
   "id": "dea989d6-0a9a-4e99-aeab-5ccb265acbdc",
   "metadata": {},
   "outputs": [
    {
     "name": "stdout",
     "output_type": "stream",
     "text": [
      "{'b', 1, 2, 3, 'c', 'a'}\n",
      "{1, 2, 3}\n"
     ]
    }
   ],
   "source": [
    "# Updating a set to have values which are present in the set using difference_update method\n",
    "\n",
    "set1 = {\"a\", \"b\" , \"c\" , 1, 2 , 3}\n",
    "set2 = {\"a\", \"b\" , \"c\" , \"d\"}\n",
    "print(set1)\n",
    "set1.difference_update(set2)\n",
    "print(set1) # Note 'd' not included in resultant set"
   ]
  },
  {
   "cell_type": "code",
   "execution_count": 97,
   "id": "aa30a9d1-ea1b-4ef6-bf9e-f8ce0d1faf30",
   "metadata": {},
   "outputs": [
    {
     "name": "stdout",
     "output_type": "stream",
     "text": [
      "Difference\n",
      "{1, 2, 3}\n",
      "{'c', 'a', 4, 5}\n",
      "{2, 3}\n",
      "Symmetric Difference\n",
      "{2, 3, 4, 5, 'a', 'c'}\n"
     ]
    }
   ],
   "source": [
    "set1 = {\"a\", \"b\" , \"c\" , 1, 2 , 3}\n",
    "set2 = {\"a\", \"b\" , \"c\" , \"d\"}\n",
    "print(\"Difference\")\n",
    "print(set1 - set2)\n",
    "\n",
    "set1 = {\"a\", \"b\" , \"c\" , 1, 4 , 5}\n",
    "set2 = {1, 2, 3 , \"b\"}\n",
    "\n",
    "set3 = set1.difference(set2)\n",
    "print(set3)\n",
    "set4 = set2.difference(set1)\n",
    "print(set4)\n",
    "\n",
    "print(\"Symmetric Difference\")\n",
    "print(set3.union(set4)) \n"
   ]
  },
  {
   "cell_type": "code",
   "execution_count": 34,
   "id": "8de21bdc-21dc-4adf-85ca-bfaa93d3c8bf",
   "metadata": {},
   "outputs": [
    {
     "name": "stdout",
     "output_type": "stream",
     "text": [
      "{1, 2, 3}\n"
     ]
    }
   ],
   "source": [
    "# Geting a new set to have values which are only present in the first set using difference method\n",
    "\n",
    "set1 = {\"a\", \"b\" , \"c\" , 1, 2 , 3}\n",
    "set2 = {\"a\", \"b\" , \"c\" , \"d\"}\n",
    "\n",
    "set3 = set1.difference(set2)\n",
    "print(set3) # Note 'd' not included in resultant set"
   ]
  },
  {
   "cell_type": "code",
   "execution_count": null,
   "id": "04f22391-2f1e-4b88-ae43-5b1a9eef6a03",
   "metadata": {},
   "outputs": [],
   "source": [
    "# Built In methods associated with set data type to perform various type operations\n",
    "\n",
    "\"\"\"\n",
    "\n",
    "Method  \t  Description\n",
    "add()  \t    Adds an element to the set\n",
    "clear()   \t  Removes all the elements from the set\n",
    "copy()   \t  Returns a copy of the set\n",
    "difference()   \t  Returns a set containing the difference between two or more sets\n",
    "difference_update()   \t  Removes the items in this set that are also included in another, specified set\n",
    "discard()   \t  Remove the specified item\n",
    "intersection()   \t  Returns a set, that is the intersection of two other sets\n",
    "intersection_update()  \t  Removes the items in this set that are not present in other, specified set(s)\n",
    "isdisjoint()   \t  Returns whether two sets have a intersection or not\n",
    "issubset()   \t  Returns whether another set contains this set or not\n",
    "issuperset()   \t  Returns whether this set contains another set or not\n",
    "pop()   \t  Removes an element from the set\n",
    "remove()   \t  Removes the specified element\n",
    "symmetric_difference()   \t  Returns a set with the symmetric differences of two sets\n",
    "symmetric_difference_update()   \t  inserts the symmetric differences from this set and another\n",
    "union()   \t  Return a set containing the union of sets\n",
    "update()   \t  Update the set with the union of this set and others\n",
    "\n",
    "\n",
    "\n",
    "\"\"\""
   ]
  }
 ],
 "metadata": {
  "kernelspec": {
   "display_name": "Python 3 (ipykernel)",
   "language": "python",
   "name": "python3"
  },
  "language_info": {
   "codemirror_mode": {
    "name": "ipython",
    "version": 3
   },
   "file_extension": ".py",
   "mimetype": "text/x-python",
   "name": "python",
   "nbconvert_exporter": "python",
   "pygments_lexer": "ipython3",
   "version": "3.9.13"
  }
 },
 "nbformat": 4,
 "nbformat_minor": 5
}
