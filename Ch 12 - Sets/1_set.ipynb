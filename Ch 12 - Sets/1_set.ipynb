{
 "cells": [
  {
   "cell_type": "markdown",
   "id": "5db0196d-2ce2-43fe-a998-b516b7134c8e",
   "metadata": {},
   "source": [
    "## 1. Set is also a group of items in a single variable\n",
    "## 2. Set is unordered, unindexed and can't have duplicate values\n",
    "## 3. Set items are written in between curly brackets\n",
    "## 4. Set items are unordered, meaning: the items can appear in any order on display\n",
    "## 5. Set items are unchangeable in place ( because no index is associated with them to access  )\n",
    "## 6. We can add or remove items to and from set\n",
    "## 7. Set can have items of mixed data type i.e - string, number , boolean and other object as well )\n"
   ]
  },
  {
   "cell_type": "markdown",
   "id": "fe510293-6dfe-412c-b914-c6d369f1b64d",
   "metadata": {},
   "source": [
    "# Given our knowledge about lists and tuples, let's see what we can do with sets already:"
   ]
  },
  {
   "cell_type": "code",
   "execution_count": 5,
   "id": "75fba2e2-543d-4df9-b66e-cc02ea7aa45f",
   "metadata": {},
   "outputs": [],
   "source": [
    "l = ['i', 'like', 'programming']\n",
    "t = ('i', 'like', 'programming')\n",
    "s = {'i', 'like', 'programming'}\n",
    "emptyset = set()\n",
    "emptydict = {}"
   ]
  },
  {
   "cell_type": "code",
   "execution_count": null,
   "id": "bbb4ac32-1dfe-48c1-8e36-60f714a79ac7",
   "metadata": {},
   "outputs": [],
   "source": []
  },
  {
   "cell_type": "code",
   "execution_count": 6,
   "id": "92e8c522-2110-4503-a4a4-1263645e177d",
   "metadata": {},
   "outputs": [
    {
     "name": "stdout",
     "output_type": "stream",
     "text": [
      "<class 'list'>\n",
      "<class 'tuple'>\n",
      "<class 'set'>\n",
      "<class 'set'>\n",
      "<class 'dict'>\n"
     ]
    }
   ],
   "source": [
    "print(type(l))\n",
    "print(type(t))\n",
    "print(type(s))\n",
    "print(type(emptyset))\n",
    "print(type(emptydict))"
   ]
  },
  {
   "cell_type": "markdown",
   "id": "c87912a1-9319-4561-b8a7-744af1c0d0b0",
   "metadata": {},
   "source": [
    "# Duplicate values will be ignored.\n",
    "# Also, order might differ for elements in the set as a set is unordered data type.\n"
   ]
  },
  {
   "cell_type": "code",
   "execution_count": 1,
   "id": "1a75987d-7135-4dec-bb8a-5e2083e6eee9",
   "metadata": {},
   "outputs": [
    {
     "name": "stdout",
     "output_type": "stream",
     "text": [
      "{'banana', 'apple', 'cherry'}\n"
     ]
    }
   ],
   "source": [
    "thisset = {\"apple\", \"banana\", \"cherry\", \"apple\"}\n",
    "print(thisset)"
   ]
  },
  {
   "cell_type": "raw",
   "id": "446dc446-6ea5-4a2d-b72e-48de0ed03511",
   "metadata": {},
   "source": [
    "thisset[0]\n",
    "TypeError: 'set' object is not subscriptable"
   ]
  },
  {
   "cell_type": "markdown",
   "id": "dcacbe24-fb1e-43ac-a469-2d70cb771d07",
   "metadata": {},
   "source": [
    "# A set is iterable."
   ]
  },
  {
   "cell_type": "code",
   "execution_count": 2,
   "id": "dfe89939-41e4-4134-a906-a89c57a12bc7",
   "metadata": {},
   "outputs": [
    {
     "name": "stdout",
     "output_type": "stream",
     "text": [
      "banana\n",
      "apple\n",
      "cherry\n"
     ]
    }
   ],
   "source": [
    "for i in thisset:\n",
    "    print(i)"
   ]
  },
  {
   "cell_type": "markdown",
   "id": "e5aefef6-d4cb-492b-9abd-4586b3256cd0",
   "metadata": {},
   "source": [
    "# Creating set from a list"
   ]
  },
  {
   "cell_type": "code",
   "execution_count": 12,
   "id": "8f37511a-217d-42d5-bbc3-08a675b20f69",
   "metadata": {},
   "outputs": [
    {
     "name": "stdout",
     "output_type": "stream",
     "text": [
      "{'cherry', 'apple', 'banana'}\n"
     ]
    }
   ],
   "source": [
    "l = [\"apple\", \"banana\", \"cherry\", \"apple\"]\n",
    "s = set(l) # Using type casting\n",
    "print(s)"
   ]
  },
  {
   "cell_type": "markdown",
   "id": "6191ac74-b6ae-4ff6-af8e-0f834c606c04",
   "metadata": {},
   "source": [
    "# Creating a list from a set"
   ]
  },
  {
   "cell_type": "code",
   "execution_count": 5,
   "id": "756964f5-395a-49f0-a692-43f67c9e5b5d",
   "metadata": {},
   "outputs": [
    {
     "name": "stdout",
     "output_type": "stream",
     "text": [
      "['banana', 'apple', 'cherry']\n",
      "['banana', 'apple']\n"
     ]
    }
   ],
   "source": [
    "s = {'cherry', 'apple', 'banana'}\n",
    "l = list(s)\n",
    "print(l)\n",
    "#print(l[0:2])\n",
    "print(list(s)[0:2])"
   ]
  },
  {
   "cell_type": "code",
   "execution_count": null,
   "id": "645850f0-0300-4b8e-8014-194e66bf89bf",
   "metadata": {},
   "outputs": [],
   "source": []
  },
  {
   "cell_type": "code",
   "execution_count": 15,
   "id": "46badd2f-f319-4cac-b647-a7cd7473bf17",
   "metadata": {},
   "outputs": [
    {
     "name": "stdout",
     "output_type": "stream",
     "text": [
      "False\n"
     ]
    }
   ],
   "source": [
    "print(\"guava\" in s)"
   ]
  },
  {
   "cell_type": "code",
   "execution_count": 16,
   "id": "cd553b18-055b-4d53-85f8-9df6519d2931",
   "metadata": {},
   "outputs": [
    {
     "name": "stdout",
     "output_type": "stream",
     "text": [
      "True\n"
     ]
    }
   ],
   "source": [
    "print(\"apple\" in s)"
   ]
  },
  {
   "cell_type": "markdown",
   "id": "97b3258c-d2d1-4681-9a8f-f94bbafbf902",
   "metadata": {},
   "source": [
    "# How to remove duplicate values from a list?"
   ]
  },
  {
   "cell_type": "code",
   "execution_count": 2,
   "id": "8f1f3e67-6664-49d5-880f-ab9aa7d2b025",
   "metadata": {},
   "outputs": [
    {
     "name": "stdin",
     "output_type": "stream",
     "text": [
      "enter the sentence:  i like like like programming\n"
     ]
    },
    {
     "name": "stdout",
     "output_type": "stream",
     "text": [
      "['i', 'like', 'like', 'like', 'programming']\n",
      "['i', 'like', 'programming']\n"
     ]
    }
   ],
   "source": [
    "x = input(\"enter the sentence: \").split()\n",
    "print(x)\n",
    "z = []\n",
    "y = [z.append(i) for i in x if i not in z ]\n",
    "print(z)"
   ]
  },
  {
   "cell_type": "code",
   "execution_count": 3,
   "id": "62fd180b-b6a9-4698-aae0-934ba2898521",
   "metadata": {},
   "outputs": [],
   "source": [
    "words = ['i', 'like', 'like', 'like', 'programming']"
   ]
  },
  {
   "cell_type": "code",
   "execution_count": 4,
   "id": "a9e6a40b-6a48-42be-ad27-af0df1f2bb62",
   "metadata": {},
   "outputs": [
    {
     "data": {
      "text/plain": [
       "{'i', 'like', 'programming'}"
      ]
     },
     "execution_count": 4,
     "metadata": {},
     "output_type": "execute_result"
    }
   ],
   "source": [
    "set(words)"
   ]
  },
  {
   "cell_type": "raw",
   "id": "4ff60180-bf4f-4b85-9513-2fa0dca7db97",
   "metadata": {},
   "source": []
  },
  {
   "cell_type": "code",
   "execution_count": 1,
   "id": "2c31d327-611d-4923-bc26-a25b3956d19a",
   "metadata": {},
   "outputs": [
    {
     "name": "stdout",
     "output_type": "stream",
     "text": [
      "{'apple', 'google', 'cherry', 'microsoft', 'banana'}\n"
     ]
    }
   ],
   "source": [
    "x = {\"apple\", \"banana\", \"cherry\"}\n",
    "y = {\"google\", \"microsoft\", \"apple\"}\n",
    "\n",
    "x.update(y)\n",
    "\n",
    "print(x) "
   ]
  },
  {
   "cell_type": "code",
   "execution_count": null,
   "id": "202e7afb-0bc0-42e6-9bab-9b4dd7f543e8",
   "metadata": {},
   "outputs": [],
   "source": []
  },
  {
   "cell_type": "code",
   "execution_count": null,
   "id": "59ce3abc-86c4-4d2e-9cfe-b5a26a2dff1c",
   "metadata": {},
   "outputs": [],
   "source": []
  },
  {
   "cell_type": "code",
   "execution_count": 15,
   "id": "1b3d513a-243d-4fef-a1f7-8668cf26ca0e",
   "metadata": {},
   "outputs": [],
   "source": []
  },
  {
   "cell_type": "code",
   "execution_count": 23,
   "id": "ed1fac7a-e506-46fd-8ce6-b5f471c41f4c",
   "metadata": {},
   "outputs": [
    {
     "name": "stdout",
     "output_type": "stream",
     "text": [
      "{'f', '.', 'z', 'x', 'w', 'd', 'A', 'b', 'q', 'k', 's', ' ', 'j', 'r', 'n', 'D', 'p', 'i', 'a', 'v', 'h', 'u', 'o', 'e', 'y', 'l', 't', 'c', 'm', 'g'}\n"
     ]
    }
   ],
   "source": [
    "text = \"A quick brown fox jumps over the lazy dog. Do you know this line is the most commonly known pangram.\"\n",
    "s = set(text)\n",
    "print(s)"
   ]
  },
  {
   "cell_type": "code",
   "execution_count": 24,
   "id": "3211a793-130b-45ed-9676-96a217936733",
   "metadata": {},
   "outputs": [],
   "source": [
    "s1 = {'alpha', 'beta', 'gamma'}\n",
    "s2 = {'delta', 'epsilon', 'zeta'}"
   ]
  },
  {
   "cell_type": "code",
   "execution_count": 25,
   "id": "c83191be-268a-437d-967e-278f00a1b2e4",
   "metadata": {},
   "outputs": [
    {
     "data": {
      "text/plain": [
       "{'alpha', 'beta', 'delta', 'epsilon', 'gamma', 'zeta'}"
      ]
     },
     "execution_count": 25,
     "metadata": {},
     "output_type": "execute_result"
    }
   ],
   "source": [
    "s1.union(s2)"
   ]
  },
  {
   "cell_type": "code",
   "execution_count": 27,
   "id": "780dc847-e2fb-4e1a-a3d5-fab8ad4a30e8",
   "metadata": {},
   "outputs": [
    {
     "data": {
      "text/plain": [
       "{'d'}"
      ]
     },
     "execution_count": 27,
     "metadata": {},
     "output_type": "execute_result"
    }
   ],
   "source": [
    "s1 = {'a', 'b', 'c', 'd'}\n",
    "s2 = {'d', 1, 2, 3}\n",
    "s1.intersection(s2)"
   ]
  },
  {
   "cell_type": "code",
   "execution_count": 28,
   "id": "77628706-1a10-40c9-89e5-57e60d8a3cf1",
   "metadata": {},
   "outputs": [
    {
     "data": {
      "text/plain": [
       "{'a', 'b', 'c'}"
      ]
     },
     "execution_count": 28,
     "metadata": {},
     "output_type": "execute_result"
    }
   ],
   "source": [
    "s1 = {'a', 'b', 'c', 'd'}\n",
    "s2 = {'d', 1, 2, 3}\n",
    "\n",
    "s1.difference(s2)"
   ]
  },
  {
   "cell_type": "code",
   "execution_count": 29,
   "id": "c71f5825-37bb-4555-ab7a-b849532bce6e",
   "metadata": {},
   "outputs": [
    {
     "data": {
      "text/plain": [
       "{1, 2, 3}"
      ]
     },
     "execution_count": 29,
     "metadata": {},
     "output_type": "execute_result"
    }
   ],
   "source": [
    "s2.difference(s1)"
   ]
  },
  {
   "cell_type": "code",
   "execution_count": 30,
   "id": "3812f925-98a1-4735-8a4f-b808795e4a60",
   "metadata": {},
   "outputs": [
    {
     "data": {
      "text/plain": [
       "{1, 2, 3, 'a', 'b', 'c'}"
      ]
     },
     "execution_count": 30,
     "metadata": {},
     "output_type": "execute_result"
    }
   ],
   "source": [
    "s1.symmetric_difference(s2)"
   ]
  },
  {
   "cell_type": "raw",
   "id": "93d28972-252a-48fe-ad99-cd733602b97e",
   "metadata": {},
   "source": [
    "set1.difference(set2) U set2.difference(set1)"
   ]
  },
  {
   "cell_type": "code",
   "execution_count": 32,
   "id": "29093adb-2718-4371-8f12-0904ac2872d9",
   "metadata": {},
   "outputs": [
    {
     "name": "stdout",
     "output_type": "stream",
     "text": [
      "Symmetric Difference\n"
     ]
    },
    {
     "data": {
      "text/plain": [
       "{1, 2, 3, 'a', 'b', 'c'}"
      ]
     },
     "execution_count": 32,
     "metadata": {},
     "output_type": "execute_result"
    }
   ],
   "source": [
    "s1 = {'a', 'b', 'c', 'd'}\n",
    "s2 = {'d', 1, 2, 3}\n",
    "\n",
    "print(\"Symmetric Difference\")\n",
    "s1.difference(s2).union(s2.difference(s1))"
   ]
  },
  {
   "cell_type": "code",
   "execution_count": 35,
   "id": "3d1dc950-6d56-4f5d-b445-ca5097178848",
   "metadata": {},
   "outputs": [
    {
     "data": {
      "text/plain": [
       "False"
      ]
     },
     "execution_count": 35,
     "metadata": {},
     "output_type": "execute_result"
    }
   ],
   "source": [
    "s1 = {'a', 'b', 'c', 'd'}\n",
    "s2 = {'d', 1, 2, 3}\n",
    "s1.isdisjoint(s2)"
   ]
  },
  {
   "cell_type": "markdown",
   "id": "597cb2b8-bef9-4b4c-bdc7-9e059291d691",
   "metadata": {},
   "source": [
    "# Problem"
   ]
  },
  {
   "cell_type": "code",
   "execution_count": 9,
   "id": "5e2db3ca-eb80-4c69-bd14-c4aa5a7f9df4",
   "metadata": {},
   "outputs": [
    {
     "ename": "TypeError",
     "evalue": "unsupported operand type(s) for +: 'set' and 'set'",
     "output_type": "error",
     "traceback": [
      "\u001b[0;31m---------------------------------------------------------------------------\u001b[0m",
      "\u001b[0;31mTypeError\u001b[0m                                 Traceback (most recent call last)",
      "\u001b[0;32m/tmp/ipykernel_11359/743139816.py\u001b[0m in \u001b[0;36m<module>\u001b[0;34m\u001b[0m\n\u001b[1;32m      3\u001b[0m \u001b[0;34m\u001b[0m\u001b[0m\n\u001b[1;32m      4\u001b[0m \u001b[0;34m\u001b[0m\u001b[0m\n\u001b[0;32m----> 5\u001b[0;31m \u001b[0mprint\u001b[0m\u001b[0;34m(\u001b[0m\u001b[0ms1\u001b[0m \u001b[0;34m+\u001b[0m \u001b[0ms2\u001b[0m\u001b[0;34m)\u001b[0m\u001b[0;34m\u001b[0m\u001b[0;34m\u001b[0m\u001b[0m\n\u001b[0m\u001b[1;32m      6\u001b[0m \u001b[0;34m\u001b[0m\u001b[0m\n\u001b[1;32m      7\u001b[0m \u001b[0mprint\u001b[0m\u001b[0;34m(\u001b[0m\u001b[0ms1\u001b[0m \u001b[0;34m-\u001b[0m \u001b[0ms2\u001b[0m\u001b[0;34m)\u001b[0m\u001b[0;34m\u001b[0m\u001b[0;34m\u001b[0m\u001b[0m\n",
      "\u001b[0;31mTypeError\u001b[0m: unsupported operand type(s) for +: 'set' and 'set'"
     ]
    }
   ],
   "source": [
    "s1 = {'apple', 'banana', 'carrot'}\n",
    "s2 = {'apple', 'pineapple', 'cherry'}\n",
    "\n",
    "try:\n",
    "    print(s1 + s2)\n",
    "except Exception as e:\n",
    "    print(e)\n",
    "\n",
    "try:\n",
    "    print(s1 - s2)\n",
    "except Exception as e:\n",
    "    print(e)"
   ]
  },
  {
   "cell_type": "code",
   "execution_count": null,
   "id": "4d82ea00-bb78-4b08-b298-e72d29a35573",
   "metadata": {},
   "outputs": [],
   "source": []
  }
 ],
 "metadata": {
  "kernelspec": {
   "display_name": "Python 3 (ipykernel)",
   "language": "python",
   "name": "python3"
  },
  "language_info": {
   "codemirror_mode": {
    "name": "ipython",
    "version": 3
   },
   "file_extension": ".py",
   "mimetype": "text/x-python",
   "name": "python",
   "nbconvert_exporter": "python",
   "pygments_lexer": "ipython3",
   "version": "3.9.13"
  }
 },
 "nbformat": 4,
 "nbformat_minor": 5
}
