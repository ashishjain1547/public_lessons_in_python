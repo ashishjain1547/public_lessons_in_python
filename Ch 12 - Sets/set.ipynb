{
 "cells": [
  {
   "cell_type": "code",
   "execution_count": 5,
   "id": "c9285d23-2c0e-4fbc-82db-61f8e0e69d80",
   "metadata": {},
   "outputs": [],
   "source": [
    "l = ['i', 'like', 'programming']\n",
    "t = ('i', 'like', 'programming')\n",
    "s = {'i', 'like', 'programming'}"
   ]
  },
  {
   "cell_type": "code",
   "execution_count": 6,
   "id": "92e8c522-2110-4503-a4a4-1263645e177d",
   "metadata": {},
   "outputs": [
    {
     "name": "stdout",
     "output_type": "stream",
     "text": [
      "<class 'list'>\n",
      "<class 'tuple'>\n",
      "<class 'set'>\n"
     ]
    }
   ],
   "source": [
    "print(type(l))\n",
    "print(type(t))\n",
    "print(type(s))"
   ]
  },
  {
   "cell_type": "code",
   "execution_count": 1,
   "id": "1a75987d-7135-4dec-bb8a-5e2083e6eee9",
   "metadata": {},
   "outputs": [
    {
     "name": "stdout",
     "output_type": "stream",
     "text": [
      "{'banana', 'apple', 'cherry'}\n"
     ]
    }
   ],
   "source": [
    "# Duplicate values will be ignored.\n",
    "# Also, order might differ for elements in the set as a set is unordered data type.\n",
    "thisset = {\"apple\", \"banana\", \"cherry\", \"apple\"}\n",
    "print(thisset)"
   ]
  },
  {
   "cell_type": "raw",
   "id": "446dc446-6ea5-4a2d-b72e-48de0ed03511",
   "metadata": {},
   "source": [
    "thisset[0]\n",
    "TypeError: 'set' object is not subscriptable"
   ]
  },
  {
   "cell_type": "code",
   "execution_count": 2,
   "id": "dfe89939-41e4-4134-a906-a89c57a12bc7",
   "metadata": {},
   "outputs": [
    {
     "name": "stdout",
     "output_type": "stream",
     "text": [
      "banana\n",
      "apple\n",
      "cherry\n"
     ]
    }
   ],
   "source": [
    "# A set is iterable.\n",
    "for i in thisset:\n",
    "    print(i)"
   ]
  },
  {
   "cell_type": "code",
   "execution_count": 12,
   "id": "8f37511a-217d-42d5-bbc3-08a675b20f69",
   "metadata": {},
   "outputs": [
    {
     "name": "stdout",
     "output_type": "stream",
     "text": [
      "{'cherry', 'apple', 'banana'}\n"
     ]
    }
   ],
   "source": [
    "# Creating set from a list\n",
    "l = [\"apple\", \"banana\", \"cherry\", \"apple\"]\n",
    "s = set(l) # Using type casting\n",
    "print(s)"
   ]
  },
  {
   "cell_type": "code",
   "execution_count": 5,
   "id": "756964f5-395a-49f0-a692-43f67c9e5b5d",
   "metadata": {},
   "outputs": [
    {
     "name": "stdout",
     "output_type": "stream",
     "text": [
      "['banana', 'apple', 'cherry']\n",
      "['banana', 'apple']\n"
     ]
    }
   ],
   "source": [
    "# Creating a list from a set\n",
    "\n",
    "s = {'cherry', 'apple', 'banana'}\n",
    "l = list(s)\n",
    "print(l)\n",
    "#print(l[0:2])\n",
    "print(list(s)[0:2])"
   ]
  },
  {
   "cell_type": "code",
   "execution_count": null,
   "id": "645850f0-0300-4b8e-8014-194e66bf89bf",
   "metadata": {},
   "outputs": [],
   "source": []
  },
  {
   "cell_type": "code",
   "execution_count": 15,
   "id": "46badd2f-f319-4cac-b647-a7cd7473bf17",
   "metadata": {},
   "outputs": [
    {
     "name": "stdout",
     "output_type": "stream",
     "text": [
      "False\n"
     ]
    }
   ],
   "source": [
    "print(\"guava\" in s)"
   ]
  },
  {
   "cell_type": "code",
   "execution_count": 16,
   "id": "cd553b18-055b-4d53-85f8-9df6519d2931",
   "metadata": {},
   "outputs": [
    {
     "name": "stdout",
     "output_type": "stream",
     "text": [
      "True\n"
     ]
    }
   ],
   "source": [
    "print(\"apple\" in s)"
   ]
  },
  {
   "cell_type": "code",
   "execution_count": 1,
   "id": "8f1f3e67-6664-49d5-880f-ab9aa7d2b025",
   "metadata": {},
   "outputs": [
    {
     "name": "stdin",
     "output_type": "stream",
     "text": [
      "enter the sentence  i like like programming\n"
     ]
    },
    {
     "name": "stdout",
     "output_type": "stream",
     "text": [
      "['i', 'like', 'like', 'programming']\n",
      "['i', 'like', 'programming']\n"
     ]
    }
   ],
   "source": [
    "# How to remove duplicates values from a list?\n",
    "x = input(\"enter the sentence \").split()\n",
    "print(x)\n",
    "z = []\n",
    "y = [z.append(i) for i in x if i not in z ]\n",
    "print(z)"
   ]
  },
  {
   "cell_type": "code",
   "execution_count": 2,
   "id": "62fd180b-b6a9-4698-aae0-934ba2898521",
   "metadata": {},
   "outputs": [],
   "source": [
    "words = ['i', 'like', 'like', 'programming']"
   ]
  },
  {
   "cell_type": "code",
   "execution_count": 4,
   "id": "a9e6a40b-6a48-42be-ad27-af0df1f2bb62",
   "metadata": {},
   "outputs": [
    {
     "data": {
      "text/plain": [
       "{'i', 'like', 'programming'}"
      ]
     },
     "execution_count": 4,
     "metadata": {},
     "output_type": "execute_result"
    }
   ],
   "source": [
    "set(words)"
   ]
  },
  {
   "cell_type": "raw",
   "id": "4ff60180-bf4f-4b85-9513-2fa0dca7db97",
   "metadata": {},
   "source": []
  },
  {
   "cell_type": "code",
   "execution_count": 1,
   "id": "2c31d327-611d-4923-bc26-a25b3956d19a",
   "metadata": {},
   "outputs": [
    {
     "name": "stdout",
     "output_type": "stream",
     "text": [
      "{'apple', 'google', 'cherry', 'microsoft', 'banana'}\n"
     ]
    }
   ],
   "source": [
    "x = {\"apple\", \"banana\", \"cherry\"}\n",
    "y = {\"google\", \"microsoft\", \"apple\"}\n",
    "\n",
    "x.update(y)\n",
    "\n",
    "print(x) "
   ]
  },
  {
   "cell_type": "code",
   "execution_count": null,
   "id": "202e7afb-0bc0-42e6-9bab-9b4dd7f543e8",
   "metadata": {},
   "outputs": [],
   "source": []
  }
 ],
 "metadata": {
  "kernelspec": {
   "display_name": "Python 3 (ipykernel)",
   "language": "python",
   "name": "python3"
  },
  "language_info": {
   "codemirror_mode": {
    "name": "ipython",
    "version": 3
   },
   "file_extension": ".py",
   "mimetype": "text/x-python",
   "name": "python",
   "nbconvert_exporter": "python",
   "pygments_lexer": "ipython3",
   "version": "3.9.13"
  }
 },
 "nbformat": 4,
 "nbformat_minor": 5
}
