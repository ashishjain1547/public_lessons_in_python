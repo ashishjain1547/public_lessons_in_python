{
 "cells": [
  {
   "cell_type": "code",
   "execution_count": 29,
   "id": "ed9bc6c5-7973-44d4-90c2-1868cbeba3a8",
   "metadata": {},
   "outputs": [],
   "source": [
    "import numpy as np"
   ]
  },
  {
   "cell_type": "code",
   "execution_count": 39,
   "id": "9c2e1d49-5fd1-4c04-8e8c-117a3211f7af",
   "metadata": {},
   "outputs": [],
   "source": [
    "n = np.array(range(0, 100))"
   ]
  },
  {
   "cell_type": "code",
   "execution_count": 40,
   "id": "2b2da6f9-abe2-4454-acc5-83ac7c9d0545",
   "metadata": {},
   "outputs": [],
   "source": [
    "n = n.reshape(10, 10)"
   ]
  },
  {
   "cell_type": "code",
   "execution_count": 41,
   "id": "4fd7ea84-7592-4656-9697-bf8fe504ce68",
   "metadata": {},
   "outputs": [
    {
     "data": {
      "text/plain": [
       "array([[ 0,  1,  2,  3,  4,  5,  6,  7,  8,  9],\n",
       "       [10, 11, 12, 13, 14, 15, 16, 17, 18, 19],\n",
       "       [20, 21, 22, 23, 24, 25, 26, 27, 28, 29],\n",
       "       [30, 31, 32, 33, 34, 35, 36, 37, 38, 39],\n",
       "       [40, 41, 42, 43, 44, 45, 46, 47, 48, 49],\n",
       "       [50, 51, 52, 53, 54, 55, 56, 57, 58, 59],\n",
       "       [60, 61, 62, 63, 64, 65, 66, 67, 68, 69],\n",
       "       [70, 71, 72, 73, 74, 75, 76, 77, 78, 79],\n",
       "       [80, 81, 82, 83, 84, 85, 86, 87, 88, 89],\n",
       "       [90, 91, 92, 93, 94, 95, 96, 97, 98, 99]])"
      ]
     },
     "execution_count": 41,
     "metadata": {},
     "output_type": "execute_result"
    }
   ],
   "source": [
    "n"
   ]
  },
  {
   "cell_type": "code",
   "execution_count": 42,
   "id": "3e81355f-0d9c-415f-adb0-860494f05195",
   "metadata": {},
   "outputs": [
    {
     "data": {
      "text/plain": [
       "array([ 0, 11, 22, 33, 44, 55, 66, 77, 88, 99])"
      ]
     },
     "execution_count": 42,
     "metadata": {},
     "output_type": "execute_result"
    }
   ],
   "source": [
    "n.diagonal()"
   ]
  },
  {
   "cell_type": "code",
   "execution_count": 43,
   "id": "b1b7ecca-ee70-44d0-8d94-e9a398927f35",
   "metadata": {},
   "outputs": [
    {
     "data": {
      "text/plain": [
       "array([ 9, 18, 27, 36, 45, 54, 63, 72, 81, 90])"
      ]
     },
     "execution_count": 43,
     "metadata": {},
     "output_type": "execute_result"
    }
   ],
   "source": [
    "np.fliplr(n).diagonal()"
   ]
  },
  {
   "cell_type": "code",
   "execution_count": 44,
   "id": "a7b5f65c-cce8-4821-aed8-2d71817ef987",
   "metadata": {},
   "outputs": [
    {
     "data": {
      "text/plain": [
       "array([[ 0,  1,  2,  3,  4,  5,  6,  7,  8,  9],\n",
       "       [ 0, 11, 12, 13, 14, 15, 16, 17, 18, 19],\n",
       "       [ 0,  0, 22, 23, 24, 25, 26, 27, 28, 29],\n",
       "       [ 0,  0,  0, 33, 34, 35, 36, 37, 38, 39],\n",
       "       [ 0,  0,  0,  0, 44, 45, 46, 47, 48, 49],\n",
       "       [ 0,  0,  0,  0,  0, 55, 56, 57, 58, 59],\n",
       "       [ 0,  0,  0,  0,  0,  0, 66, 67, 68, 69],\n",
       "       [ 0,  0,  0,  0,  0,  0,  0, 77, 78, 79],\n",
       "       [ 0,  0,  0,  0,  0,  0,  0,  0, 88, 89],\n",
       "       [ 0,  0,  0,  0,  0,  0,  0,  0,  0, 99]])"
      ]
     },
     "execution_count": 44,
     "metadata": {},
     "output_type": "execute_result"
    }
   ],
   "source": [
    "np.triu(n)"
   ]
  },
  {
   "cell_type": "code",
   "execution_count": 45,
   "id": "74eb4299-b23b-4b1d-bf22-001f79f9ffc7",
   "metadata": {},
   "outputs": [
    {
     "data": {
      "text/plain": [
       "array([[ 0,  0,  0,  0,  0,  0,  0,  0,  0,  0],\n",
       "       [10, 11,  0,  0,  0,  0,  0,  0,  0,  0],\n",
       "       [20, 21, 22,  0,  0,  0,  0,  0,  0,  0],\n",
       "       [30, 31, 32, 33,  0,  0,  0,  0,  0,  0],\n",
       "       [40, 41, 42, 43, 44,  0,  0,  0,  0,  0],\n",
       "       [50, 51, 52, 53, 54, 55,  0,  0,  0,  0],\n",
       "       [60, 61, 62, 63, 64, 65, 66,  0,  0,  0],\n",
       "       [70, 71, 72, 73, 74, 75, 76, 77,  0,  0],\n",
       "       [80, 81, 82, 83, 84, 85, 86, 87, 88,  0],\n",
       "       [90, 91, 92, 93, 94, 95, 96, 97, 98, 99]])"
      ]
     },
     "execution_count": 45,
     "metadata": {},
     "output_type": "execute_result"
    }
   ],
   "source": [
    "np.tril(n)"
   ]
  },
  {
   "cell_type": "code",
   "execution_count": null,
   "id": "376b1422-466b-4f36-9248-011a67d914e3",
   "metadata": {},
   "outputs": [],
   "source": []
  },
  {
   "cell_type": "code",
   "execution_count": null,
   "id": "9eabd8da-69e8-409e-9ba3-1932946f7764",
   "metadata": {},
   "outputs": [],
   "source": []
  }
 ],
 "metadata": {
  "kernelspec": {
   "display_name": "Python 3 (ipykernel)",
   "language": "python",
   "name": "python3"
  },
  "language_info": {
   "codemirror_mode": {
    "name": "ipython",
    "version": 3
   },
   "file_extension": ".py",
   "mimetype": "text/x-python",
   "name": "python",
   "nbconvert_exporter": "python",
   "pygments_lexer": "ipython3",
   "version": "3.9.13"
  }
 },
 "nbformat": 4,
 "nbformat_minor": 5
}
