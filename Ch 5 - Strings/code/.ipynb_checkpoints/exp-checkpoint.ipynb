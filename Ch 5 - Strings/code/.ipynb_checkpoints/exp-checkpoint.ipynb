{
 "cells": [
  {
   "cell_type": "code",
   "execution_count": 1,
   "id": "03904eab-e8ec-4a22-be9a-07797a0f3526",
   "metadata": {},
   "outputs": [],
   "source": [
    "y = \"hello\""
   ]
  },
  {
   "cell_type": "code",
   "execution_count": 3,
   "id": "6b603caa-94e7-4eff-8e82-ab2e48a3963c",
   "metadata": {},
   "outputs": [
    {
     "data": {
      "text/plain": [
       "[(0, 'h'), (1, 'e'), (2, 'l'), (3, 'l'), (4, 'o')]"
      ]
     },
     "execution_count": 3,
     "metadata": {},
     "output_type": "execute_result"
    }
   ],
   "source": [
    "list(enumerate(y))"
   ]
  },
  {
   "cell_type": "code",
   "execution_count": 1,
   "id": "bed05971-327d-4b09-afc0-c31b60b0ebd3",
   "metadata": {},
   "outputs": [
    {
     "name": "stdout",
     "output_type": "stream",
     "text": [
      "[(0, 'r'), (1, 'u'), (2, 'd'), (3, 'r'), (4, 'a'), (5, 'n'), (6, 's'), (7, 'h')]\n"
     ]
    }
   ],
   "source": [
    "name = \"rudransh\"\n",
    "print(list(enumerate(name)))"
   ]
  },
  {
   "cell_type": "code",
   "execution_count": 5,
   "id": "53c32a20-2036-44f7-8f6a-418c5c924db8",
   "metadata": {},
   "outputs": [
    {
     "data": {
      "text/plain": [
       "5"
      ]
     },
     "execution_count": 5,
     "metadata": {},
     "output_type": "execute_result"
    }
   ],
   "source": [
    "len(y)"
   ]
  },
  {
   "cell_type": "code",
   "execution_count": 3,
   "id": "2159dcab-b6a5-43fc-8d11-bc7882572fdd",
   "metadata": {},
   "outputs": [
    {
     "data": {
      "text/plain": [
       "str"
      ]
     },
     "execution_count": 3,
     "metadata": {},
     "output_type": "execute_result"
    }
   ],
   "source": [
    "type(y)"
   ]
  },
  {
   "cell_type": "code",
   "execution_count": 4,
   "id": "aacab481-523b-4539-823d-c92074a2c623",
   "metadata": {},
   "outputs": [
    {
     "data": {
      "text/plain": [
       "'1'"
      ]
     },
     "execution_count": 4,
     "metadata": {},
     "output_type": "execute_result"
    }
   ],
   "source": [
    "y[0]"
   ]
  },
  {
   "cell_type": "code",
   "execution_count": 24,
   "id": "64f354be-bb04-4169-80f5-62c0fb6fc186",
   "metadata": {},
   "outputs": [],
   "source": [
    "# str is a sequence of characters"
   ]
  },
  {
   "cell_type": "code",
   "execution_count": 25,
   "id": "2527a5d2-4c16-40f7-bc2a-a692731368b6",
   "metadata": {},
   "outputs": [
    {
     "data": {
      "text/plain": [
       "str"
      ]
     },
     "execution_count": 25,
     "metadata": {},
     "output_type": "execute_result"
    }
   ],
   "source": [
    "type(y[0])"
   ]
  },
  {
   "cell_type": "code",
   "execution_count": 28,
   "id": "c640b0ff-740e-4672-a115-23e33171d455",
   "metadata": {},
   "outputs": [],
   "source": [
    "x = \"Apple\""
   ]
  },
  {
   "cell_type": "code",
   "execution_count": 29,
   "id": "ae52f0a9-1396-4496-bb77-448fda5a87f2",
   "metadata": {},
   "outputs": [
    {
     "data": {
      "text/plain": [
       "'elppA'"
      ]
     },
     "execution_count": 29,
     "metadata": {},
     "output_type": "execute_result"
    }
   ],
   "source": [
    "x[::-1]"
   ]
  },
  {
   "cell_type": "code",
   "execution_count": 49,
   "id": "3928cfbd-c8d0-462b-91f1-7ef11a95fbf2",
   "metadata": {},
   "outputs": [
    {
     "data": {
      "text/plain": [
       "'elppA'"
      ]
     },
     "execution_count": 49,
     "metadata": {},
     "output_type": "execute_result"
    }
   ],
   "source": [
    "x[len(x)::-1]"
   ]
  },
  {
   "cell_type": "code",
   "execution_count": 50,
   "id": "af0eb23e-0348-4bb4-a621-e75eaf6cb0e9",
   "metadata": {},
   "outputs": [
    {
     "data": {
      "text/plain": [
       "''"
      ]
     },
     "execution_count": 50,
     "metadata": {},
     "output_type": "execute_result"
    }
   ],
   "source": [
    "x[0:len(x):-1]"
   ]
  },
  {
   "cell_type": "code",
   "execution_count": 54,
   "id": "3a32e691-702e-40ec-85e9-49d638747f4c",
   "metadata": {},
   "outputs": [
    {
     "data": {
      "text/plain": [
       "'pp'"
      ]
     },
     "execution_count": 54,
     "metadata": {},
     "output_type": "execute_result"
    }
   ],
   "source": [
    "x = \"Apple\"\n",
    "x[1:3] # exclusive of end index"
   ]
  },
  {
   "cell_type": "code",
   "execution_count": 55,
   "id": "265e8f84-959b-46e3-a7d7-a8d1fc9d3f63",
   "metadata": {},
   "outputs": [
    {
     "name": "stdout",
     "output_type": "stream",
     "text": [
      "c\n",
      "10\n",
      "ja\n",
      "smi\n",
      "smith\n"
     ]
    }
   ],
   "source": [
    "x = \"jack smith\" \n",
    "print(x[2])\n",
    "print(len(x))\n",
    "print(x[0:2])\n",
    "print(x[5:8])\n",
    "print(x[5:100]) "
   ]
  },
  {
   "cell_type": "code",
   "execution_count": null,
   "id": "63539cf4-4250-4555-9bd5-96bf46acbae7",
   "metadata": {},
   "outputs": [],
   "source": []
  },
  {
   "cell_type": "code",
   "execution_count": null,
   "id": "f8399698-76ca-468f-abb6-64d147c174a0",
   "metadata": {},
   "outputs": [],
   "source": []
  },
  {
   "cell_type": "code",
   "execution_count": 1,
   "id": "71394fb9-2ad1-4548-8c86-0264c07d5f9d",
   "metadata": {},
   "outputs": [],
   "source": [
    "x = \"Jack Smith Junior\""
   ]
  },
  {
   "cell_type": "code",
   "execution_count": 2,
   "id": "a9007717-fe22-4ff5-914d-88ae3fb19225",
   "metadata": {},
   "outputs": [
    {
     "data": {
      "text/plain": [
       "'Jack'"
      ]
     },
     "execution_count": 2,
     "metadata": {},
     "output_type": "execute_result"
    }
   ],
   "source": [
    "x[0:4]"
   ]
  },
  {
   "cell_type": "code",
   "execution_count": 3,
   "id": "4acb4a03-372e-4b5d-ac6f-bd1d40817023",
   "metadata": {},
   "outputs": [
    {
     "data": {
      "text/plain": [
       "'Smith'"
      ]
     },
     "execution_count": 3,
     "metadata": {},
     "output_type": "execute_result"
    }
   ],
   "source": [
    "x[5:10]"
   ]
  },
  {
   "cell_type": "code",
   "execution_count": 4,
   "id": "88db1a09-7016-4153-90a3-a8e42d1814c4",
   "metadata": {},
   "outputs": [
    {
     "data": {
      "text/plain": [
       "'Junior'"
      ]
     },
     "execution_count": 4,
     "metadata": {},
     "output_type": "execute_result"
    }
   ],
   "source": [
    "x[11:17]"
   ]
  },
  {
   "cell_type": "code",
   "execution_count": 5,
   "id": "254b356b-7f70-47fa-86b0-26d49663300f",
   "metadata": {},
   "outputs": [
    {
     "data": {
      "text/plain": [
       "'oinuJ htim'"
      ]
     },
     "execution_count": 5,
     "metadata": {},
     "output_type": "execute_result"
    }
   ],
   "source": [
    "x[15:5:-1]"
   ]
  },
  {
   "cell_type": "code",
   "execution_count": 6,
   "id": "928b90ee-922d-475f-8162-9a1f9224e9f3",
   "metadata": {},
   "outputs": [
    {
     "data": {
      "text/plain": [
       "'Jc mt uir'"
      ]
     },
     "execution_count": 6,
     "metadata": {},
     "output_type": "execute_result"
    }
   ],
   "source": [
    "x[0:17:2]"
   ]
  },
  {
   "cell_type": "code",
   "execution_count": null,
   "id": "9ce9c437-f3fe-4c28-9b4d-950ab6728553",
   "metadata": {},
   "outputs": [],
   "source": []
  }
 ],
 "metadata": {
  "kernelspec": {
   "display_name": "Python 3 (ipykernel)",
   "language": "python",
   "name": "python3"
  },
  "language_info": {
   "codemirror_mode": {
    "name": "ipython",
    "version": 3
   },
   "file_extension": ".py",
   "mimetype": "text/x-python",
   "name": "python",
   "nbconvert_exporter": "python",
   "pygments_lexer": "ipython3",
   "version": "3.9.13"
  }
 },
 "nbformat": 4,
 "nbformat_minor": 5
}
