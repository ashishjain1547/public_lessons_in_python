{
 "cells": [
  {
   "cell_type": "code",
   "execution_count": null,
   "id": "84b01152-cdbf-4aac-bc9f-0c48c9f8d6fe",
   "metadata": {},
   "outputs": [],
   "source": [
    "# Tuple - Used to store multiple items in a single variable\n",
    "# It is an ordered collection but unchangable ( Difference from a list )"
   ]
  },
  {
   "cell_type": "code",
   "execution_count": 8,
   "id": "c4849987-c2bd-4070-9242-297c974321eb",
   "metadata": {},
   "outputs": [
    {
     "name": "stdout",
     "output_type": "stream",
     "text": [
      "('apple', 'banana', 'cherry')\n"
     ]
    }
   ],
   "source": [
    "# Creating a tuple\n",
    "thistuple = (\"apple\", \"banana\", \"cherry\")\n",
    "print(thistuple) \n"
   ]
  },
  {
   "cell_type": "code",
   "execution_count": 23,
   "id": "49684e64-4498-4107-93af-ec6ee024c9b9",
   "metadata": {},
   "outputs": [
    {
     "name": "stdout",
     "output_type": "stream",
     "text": [
      "('apple', 'banana', 'cherry')\n"
     ]
    }
   ],
   "source": [
    "# Creating a tuple using tuple constructor\n",
    "thistuple = tuple((\"apple\", \"banana\", \"cherry\")) # note the double round-brackets\n",
    "print(thistuple) \n"
   ]
  },
  {
   "cell_type": "code",
   "execution_count": 9,
   "id": "32e9ce26-70b9-404b-9a99-3445c0a6d78e",
   "metadata": {},
   "outputs": [
    {
     "name": "stdout",
     "output_type": "stream",
     "text": [
      "('apple', 'banana', 'cherry')\n",
      "apple\n",
      "banana\n",
      "cherry\n"
     ]
    }
   ],
   "source": [
    "# Tuples items can be accessed through index, which start from 0\n",
    "\n",
    "thistuple = (\"apple\", \"banana\", \"cherry\")\n",
    "print(thistuple)\n",
    "print(thistuple[0])\n",
    "print(thistuple[1])\n",
    "print(thistuple[2])\n"
   ]
  },
  {
   "cell_type": "code",
   "execution_count": 10,
   "id": "bef5c1d0-dcc0-4719-b6f9-765cb173b53d",
   "metadata": {},
   "outputs": [
    {
     "ename": "TypeError",
     "evalue": "'tuple' object does not support item assignment",
     "output_type": "error",
     "traceback": [
      "\u001b[1;31m---------------------------------------------------------------------------\u001b[0m",
      "\u001b[1;31mTypeError\u001b[0m                                 Traceback (most recent call last)",
      "Cell \u001b[1;32mIn[10], line 4\u001b[0m\n\u001b[0;32m      1\u001b[0m \u001b[38;5;66;03m# Tuple is immuatable - can't change \u001b[39;00m\n\u001b[0;32m      3\u001b[0m thistuple \u001b[38;5;241m=\u001b[39m (\u001b[38;5;124m\"\u001b[39m\u001b[38;5;124mapple\u001b[39m\u001b[38;5;124m\"\u001b[39m, \u001b[38;5;124m\"\u001b[39m\u001b[38;5;124mbanana\u001b[39m\u001b[38;5;124m\"\u001b[39m, \u001b[38;5;124m\"\u001b[39m\u001b[38;5;124mcherry\u001b[39m\u001b[38;5;124m\"\u001b[39m)\n\u001b[1;32m----> 4\u001b[0m thistuple[\u001b[38;5;241m1\u001b[39m]\u001b[38;5;241m=\u001b[39m\u001b[38;5;124m\"\u001b[39m\u001b[38;5;124morange\u001b[39m\u001b[38;5;124m\"\u001b[39m\n\u001b[0;32m      5\u001b[0m \u001b[38;5;28mprint\u001b[39m(thistuple)\n",
      "\u001b[1;31mTypeError\u001b[0m: 'tuple' object does not support item assignment"
     ]
    }
   ],
   "source": [
    "# Tuple is immutable - can't change \n",
    "\n",
    "thistuple = (\"apple\", \"banana\", \"cherry\")\n",
    "thistuple[1]=\"orange\"\n",
    "print(thistuple)"
   ]
  },
  {
   "cell_type": "code",
   "execution_count": 11,
   "id": "a490a460-fe13-4b28-a084-d384ce29403d",
   "metadata": {},
   "outputs": [
    {
     "name": "stdout",
     "output_type": "stream",
     "text": [
      "('apple', 'banana', 'cherry', 'apple', 'cherry')\n"
     ]
    }
   ],
   "source": [
    "# Tuple can have duplicate items\n",
    "thistuple = (\"apple\", \"banana\", \"cherry\", \"apple\", \"cherry\")\n",
    "print(thistuple) "
   ]
  },
  {
   "cell_type": "code",
   "execution_count": 12,
   "id": "73c59e91-4841-4128-9ba7-3677dc65acc8",
   "metadata": {},
   "outputs": [
    {
     "name": "stdout",
     "output_type": "stream",
     "text": [
      "3\n"
     ]
    }
   ],
   "source": [
    "# Length of a tuple\n",
    "thistuple = (\"apple\", \"banana\", \"cherry\")\n",
    "print(len(thistuple)) # return number of itmes "
   ]
  },
  {
   "cell_type": "code",
   "execution_count": 14,
   "id": "989746ea-0822-41d6-ad18-fdc08c7b717e",
   "metadata": {},
   "outputs": [
    {
     "name": "stdout",
     "output_type": "stream",
     "text": [
      "<class 'tuple'>\n"
     ]
    }
   ],
   "source": [
    "# Correct syntax \n",
    "# To create a tuple with only one item, you have to add a comma after the item, otherwise Python will not recognize it as a tuple\n",
    "thistuple = (\"apple\",)\n",
    "print(type(thistuple))\n"
   ]
  },
  {
   "cell_type": "code",
   "execution_count": 21,
   "id": "283628c5-b327-4ea4-92e1-8ca2a40325b5",
   "metadata": {},
   "outputs": [
    {
     "name": "stdout",
     "output_type": "stream",
     "text": [
      "apple\n",
      "<class 'str'>\n"
     ]
    }
   ],
   "source": [
    "# Try to create tuple with one item without comma after item name\n",
    "# Python will not treat it as a tuple\n",
    "\n",
    "thistuple=(\"apple\")\n",
    "print(thistuple)\n",
    "print(type(thistuple))"
   ]
  },
  {
   "cell_type": "code",
   "execution_count": 22,
   "id": "27db614e-dd52-4c6c-ba57-ad19c58a5782",
   "metadata": {},
   "outputs": [
    {
     "name": "stdout",
     "output_type": "stream",
     "text": [
      "('apple', 'banana', 'cherry')\n",
      "(1, 5, 7, 9, 3)\n",
      "(True, False, False)\n",
      "(True, 2, 3, 'Hello', 2.5, 0, 1)\n"
     ]
    }
   ],
   "source": [
    "# Tuple items can be of any type even mixted types as well\n",
    "\n",
    "tuple1 = (\"apple\", \"banana\", \"cherry\") # str types\n",
    "tuple2 = (1, 5, 7, 9, 3) # number type\n",
    "tuple3 = (True, False, False) # boolean type\n",
    "tuple4 =( True , 2,3,\"Hello\",2.5,0 , 1 ) # mixed type\n",
    "\n",
    "print(tuple1)\n",
    "print(tuple2)\n",
    "print(tuple3)\n",
    "print(tuple4)\n"
   ]
  },
  {
   "cell_type": "code",
   "execution_count": 24,
   "id": "e9f976d8-3f7d-4974-9ee6-87ae10f9bbec",
   "metadata": {},
   "outputs": [
    {
     "name": "stdout",
     "output_type": "stream",
     "text": [
      "cherry\n"
     ]
    }
   ],
   "source": [
    "# Access item using negative index\n",
    "\n",
    "thistuple = (\"apple\", \"banana\", \"cherry\")\n",
    "print(thistuple[-1]) \n"
   ]
  },
  {
   "cell_type": "code",
   "execution_count": 25,
   "id": "98b73cfc-9fc3-45d3-8e2a-1f9f22fc540b",
   "metadata": {},
   "outputs": [
    {
     "name": "stdout",
     "output_type": "stream",
     "text": [
      "('cherry', 'orange', 'kiwi')\n"
     ]
    }
   ],
   "source": [
    "# Return the third, fourth, and fifth item:\n",
    "thistuple = (\"apple\", \"banana\", \"cherry\", \"orange\", \"kiwi\", \"melon\", \"mango\")\n",
    "print(thistuple[2:5]) # exclude item of 5th index\n"
   ]
  },
  {
   "cell_type": "code",
   "execution_count": 28,
   "id": "deb16b3c-8c64-4a81-b84c-dd036d6f3a7b",
   "metadata": {},
   "outputs": [
    {
     "name": "stdout",
     "output_type": "stream",
     "text": [
      "('apple', 'banana', 'cherry', 'orange')\n",
      "\n",
      "\n",
      "('cherry', 'orange', 'kiwi', 'melon', 'mango')\n"
     ]
    }
   ],
   "source": [
    "# Other Examples\n",
    "\n",
    "thistuple = (\"apple\", \"banana\", \"cherry\", \"orange\", \"kiwi\", \"melon\", \"mango\")\n",
    "print(thistuple[:4]) # Start from begining\n",
    "print(\"\\n\")\n",
    "print(thistuple[2:]) # Till the end \n",
    "\n"
   ]
  },
  {
   "cell_type": "code",
   "execution_count": 29,
   "id": "b45b98a9-861d-4202-8655-f8ead2019494",
   "metadata": {},
   "outputs": [
    {
     "name": "stdout",
     "output_type": "stream",
     "text": [
      "('orange', 'kiwi', 'melon')\n"
     ]
    }
   ],
   "source": [
    "# Range of Negative Index\n",
    "\n",
    "thistuple = (\"apple\", \"banana\", \"cherry\", \"orange\", \"kiwi\", \"melon\", \"mango\")\n",
    "print(thistuple[-4:-1]) # start from \"orange\"\n",
    "\n"
   ]
  },
  {
   "cell_type": "code",
   "execution_count": 32,
   "id": "c00ccd4f-2cf3-4009-8308-f416564a1f9d",
   "metadata": {},
   "outputs": [
    {
     "name": "stdout",
     "output_type": "stream",
     "text": [
      "Yes, 'apple' is in the fruits tuple\n",
      "Yes, 'orange' is not present in the fruits tuple\n"
     ]
    }
   ],
   "source": [
    "# Check if an item exist in tuple or not \n",
    "\n",
    "thistuple = (\"apple\", \"banana\", \"cherry\")\n",
    "if \"apple\" in thistuple:\n",
    "  print(\"Yes, 'apple' is in the fruits tuple\") \n",
    "\n",
    "if \"orange\" not in thistuple:\n",
    "  print(\"Yes, 'orange' is not present in the fruits tuple\") \n"
   ]
  },
  {
   "cell_type": "code",
   "execution_count": 33,
   "id": "20d78c8d-098a-4c7b-855b-5dc83d641fc2",
   "metadata": {},
   "outputs": [
    {
     "name": "stdout",
     "output_type": "stream",
     "text": [
      "('apple', 'kiwi', 'cherry')\n"
     ]
    }
   ],
   "source": [
    "# Updating tuple \n",
    "# After creation a tuple its value can't be changed ( As it is immutable )\n",
    "# We can't add , remove , modify items directly \n",
    "\n",
    "# Indirect way of changing tuple value \n",
    "\n",
    "    # Convert into list , update it , and again convert into to tuple\n",
    "    \n",
    "# For Ex - Modifying an item\n",
    "\n",
    "x = (\"apple\", \"banana\", \"cherry\") # Create a tuple\n",
    "y = list(x) # Convert into list\n",
    "y[1] = \"kiwi\" # Modify list item using its index\n",
    "x = tuple(y) # Convert list into tuple\n",
    "print(x) \n"
   ]
  },
  {
   "cell_type": "code",
   "execution_count": 34,
   "id": "aa3804e9-f044-4343-898c-f79439183943",
   "metadata": {},
   "outputs": [
    {
     "name": "stdout",
     "output_type": "stream",
     "text": [
      "('apple', 'banana', 'cherry', 'orange')\n"
     ]
    }
   ],
   "source": [
    "# For Ex - Adding a item in tuple indirectly\n",
    "\n",
    "thistuple = (\"apple\", \"banana\", \"cherry\")\n",
    "y = list(thistuple)\n",
    "y.append(\"orange\")\n",
    "thistuple = tuple(y)\n",
    "print(thistuple)\n"
   ]
  },
  {
   "cell_type": "code",
   "execution_count": 35,
   "id": "938dffe9-aab0-444b-964d-6e53fb696840",
   "metadata": {},
   "outputs": [
    {
     "ename": "AttributeError",
     "evalue": "'tuple' object has no attribute 'append'",
     "output_type": "error",
     "traceback": [
      "\u001b[1;31m---------------------------------------------------------------------------\u001b[0m",
      "\u001b[1;31mAttributeError\u001b[0m                            Traceback (most recent call last)",
      "Cell \u001b[1;32mIn[35], line 5\u001b[0m\n\u001b[0;32m      1\u001b[0m \u001b[38;5;66;03m# Try to add an item direclty into tuple\u001b[39;00m\n\u001b[0;32m      2\u001b[0m \u001b[38;5;66;03m# Will Raise an Error\u001b[39;00m\n\u001b[0;32m      4\u001b[0m thistuple \u001b[38;5;241m=\u001b[39m (\u001b[38;5;124m\"\u001b[39m\u001b[38;5;124mapple\u001b[39m\u001b[38;5;124m\"\u001b[39m, \u001b[38;5;124m\"\u001b[39m\u001b[38;5;124mbanana\u001b[39m\u001b[38;5;124m\"\u001b[39m, \u001b[38;5;124m\"\u001b[39m\u001b[38;5;124mcherry\u001b[39m\u001b[38;5;124m\"\u001b[39m)\n\u001b[1;32m----> 5\u001b[0m \u001b[43mthistuple\u001b[49m\u001b[38;5;241;43m.\u001b[39;49m\u001b[43mappend\u001b[49m(\u001b[38;5;124m\"\u001b[39m\u001b[38;5;124morange\u001b[39m\u001b[38;5;124m\"\u001b[39m) \u001b[38;5;66;03m# This will raise an error\u001b[39;00m\n\u001b[0;32m      6\u001b[0m \u001b[38;5;28mprint\u001b[39m(thistuple)\n",
      "\u001b[1;31mAttributeError\u001b[0m: 'tuple' object has no attribute 'append'"
     ]
    }
   ],
   "source": [
    "# Try to add an item direclty into tuple\n",
    "# Will Raise an Error\n",
    "\n",
    "thistuple = (\"apple\", \"banana\", \"cherry\")\n",
    "thistuple.append(\"orange\") # This will raise an error\n",
    "print(thistuple) \n"
   ]
  },
  {
   "cell_type": "code",
   "execution_count": 36,
   "id": "64acb057-2f3b-4b42-8dd1-5361069dcbd7",
   "metadata": {},
   "outputs": [
    {
     "name": "stdout",
     "output_type": "stream",
     "text": [
      "('banana', 'cherry')\n"
     ]
    }
   ],
   "source": [
    "# Removing an item from a tuple indirectly\n",
    "\n",
    "thistuple = (\"apple\", \"banana\", \"cherry\")\n",
    "y = list(thistuple)\n",
    "y.remove(\"apple\")\n",
    "thistuple = tuple(y)\n",
    "print(thistuple)"
   ]
  },
  {
   "cell_type": "code",
   "execution_count": null,
   "id": "1bca7617-1ea6-4f88-922a-302fe6f40319",
   "metadata": {},
   "outputs": [],
   "source": []
  },
  {
   "cell_type": "code",
   "execution_count": 37,
   "id": "b339e1eb-d85c-4327-8dd3-bac69ad19a56",
   "metadata": {},
   "outputs": [
    {
     "ename": "NameError",
     "evalue": "name 'thistuple' is not defined",
     "output_type": "error",
     "traceback": [
      "\u001b[1;31m---------------------------------------------------------------------------\u001b[0m",
      "\u001b[1;31mNameError\u001b[0m                                 Traceback (most recent call last)",
      "Cell \u001b[1;32mIn[37], line 5\u001b[0m\n\u001b[0;32m      3\u001b[0m thistuple \u001b[38;5;241m=\u001b[39m (\u001b[38;5;124m\"\u001b[39m\u001b[38;5;124mapple\u001b[39m\u001b[38;5;124m\"\u001b[39m, \u001b[38;5;124m\"\u001b[39m\u001b[38;5;124mbanana\u001b[39m\u001b[38;5;124m\"\u001b[39m, \u001b[38;5;124m\"\u001b[39m\u001b[38;5;124mcherry\u001b[39m\u001b[38;5;124m\"\u001b[39m)\n\u001b[0;32m      4\u001b[0m \u001b[38;5;28;01mdel\u001b[39;00m thistuple\n\u001b[1;32m----> 5\u001b[0m \u001b[38;5;28mprint\u001b[39m(\u001b[43mthistuple\u001b[49m)\n",
      "\u001b[1;31mNameError\u001b[0m: name 'thistuple' is not defined"
     ]
    }
   ],
   "source": [
    "# Delete the tuple - using del keyword\n",
    "\n",
    "thistuple = (\"apple\", \"banana\", \"cherry\")\n",
    "del thistuple\n",
    "print(thistuple) # this statment will raise an error because the tuple no longer exists \n",
    "\n",
    "\n"
   ]
  },
  {
   "cell_type": "code",
   "execution_count": 40,
   "id": "558b1a52-677f-4351-9255-0c0208aad006",
   "metadata": {},
   "outputs": [
    {
     "name": "stdout",
     "output_type": "stream",
     "text": [
      "apple banana cherry\n",
      "\n",
      "\n",
      "1 2 3\n"
     ]
    }
   ],
   "source": [
    "# Unpacking a tuple\n",
    "\n",
    "\"\"\"\n",
    "The number of variables must match the number of values in the tuple, \n",
    "if not, you must use an asterix to collect the remaining values as a list.\n",
    "\n",
    "\"\"\"\n",
    "\n",
    "fruits = (\"apple\", \"banana\", \"cherry\")\n",
    "green, yellow, red = fruits # Unpacking of tuple \n",
    "numbers = ( 1,2,3 )\n",
    "(x,y,z) = numbers # unpacking of tuple\n",
    "\n",
    "print(green,yellow,red) # Print variable value seprately\n",
    "print(\"\\n\")\n",
    "print(x,y,z) # print variable values seprately\n"
   ]
  },
  {
   "cell_type": "code",
   "execution_count": 44,
   "id": "68bf5691-ba2c-408f-829d-5ea8d611063b",
   "metadata": {},
   "outputs": [
    {
     "name": "stdout",
     "output_type": "stream",
     "text": [
      "apple\n",
      "banana\n",
      "['cherry', 'strawberry', 'raspberry']\n",
      "type of red variable is <class 'list'>\n"
     ]
    }
   ],
   "source": [
    "#  If the number of variables is less than the number of values\n",
    "\n",
    "    # Then rest of the values are assigned as a list to a variable defined with * Sign\n",
    "    \n",
    "# For Ex -\n",
    "\n",
    "fruits = (\"apple\", \"banana\", \"cherry\", \"strawberry\", \"raspberry\")\n",
    "\n",
    "(green, yellow, *red) = fruits # A list of remaning items will asssign to red named variable\n",
    "\n",
    "print(green)\n",
    "print(yellow)\n",
    "print(red)  # Will print a list\n",
    "print(\"type of red variable is \" + str(type(red)))\n",
    "\n"
   ]
  },
  {
   "cell_type": "code",
   "execution_count": 45,
   "id": "0e03dae5-128c-407c-88a6-1d3b8a3f97fc",
   "metadata": {},
   "outputs": [
    {
     "name": "stdout",
     "output_type": "stream",
     "text": [
      "apple\n",
      "['mango', 'papaya', 'pineapple']\n",
      "cherry\n"
     ]
    }
   ],
   "source": [
    "# If the asterix is added to another variable name than the last \n",
    "# Python will assign values to the variable until the number of values left matches the number of variables left\n",
    "\n",
    "# For Ex -\n",
    "\n",
    "fruits = (\"apple\", \"mango\", \"papaya\", \"pineapple\", \"cherry\")\n",
    "\n",
    "(green, *tropic, red) = fruits # Note * assigned to a mid variable \n",
    "\n",
    "print(green)\n",
    "print(tropic) \n",
    "print(red)\n"
   ]
  },
  {
   "cell_type": "code",
   "execution_count": 46,
   "id": "fb2b2fe6-1aa4-40ad-9a03-87b14cc574d1",
   "metadata": {},
   "outputs": [
    {
     "name": "stdout",
     "output_type": "stream",
     "text": [
      "apple\n",
      "banana\n",
      "cherry\n"
     ]
    }
   ],
   "source": [
    "# Itrating tuple items \n",
    "\n",
    "# For Ex - using for loop \n",
    "\n",
    "thistuple = (\"apple\", \"banana\", \"cherry\")\n",
    "for x in thistuple:\n",
    "  print(x) \n"
   ]
  },
  {
   "cell_type": "code",
   "execution_count": 48,
   "id": "c6514dad-a960-4b09-afc4-d915ef706bb1",
   "metadata": {},
   "outputs": [
    {
     "name": "stdout",
     "output_type": "stream",
     "text": [
      "apple\n",
      "banana\n",
      "cherry\n"
     ]
    }
   ],
   "source": [
    "# For Ex - using index of tuple items\n",
    "\n",
    "thistuple = (\"apple\", \"banana\", \"cherry\")\n",
    "for i in range(0,len(thistuple)):\n",
    "  print(thistuple[i]) "
   ]
  },
  {
   "cell_type": "code",
   "execution_count": 50,
   "id": "dd99039d-c4c3-4c04-bfa0-986d982ea022",
   "metadata": {},
   "outputs": [
    {
     "name": "stdout",
     "output_type": "stream",
     "text": [
      "apple\n",
      "banana\n",
      "cherry\n"
     ]
    }
   ],
   "source": [
    "# For Ex - using while loop\n",
    "\n",
    "thistuple = (\"apple\", \"banana\", \"cherry\")\n",
    "i = 0\n",
    "while i < len(thistuple):\n",
    "  print(thistuple[i]) \n",
    "  i=i+1\n",
    "    "
   ]
  },
  {
   "cell_type": "code",
   "execution_count": 54,
   "id": "9a377c10-2f7e-41f2-86a8-8c255f2b3d42",
   "metadata": {},
   "outputs": [
    {
     "name": "stdout",
     "output_type": "stream",
     "text": [
      "('a', 'b', 'c', 1, 2, 3)\n"
     ]
    }
   ],
   "source": [
    "# Joining two or more tuples using + operator\n",
    "\n",
    "tuple1 = (\"a\", \"b\" , \"c\")\n",
    "tuple2 = (1, 2, 3)\n",
    "\n",
    "tuple3 = tuple1 + tuple2\n",
    "print(tuple3) \n"
   ]
  },
  {
   "cell_type": "code",
   "execution_count": 56,
   "id": "c2c61f23-2b36-466e-931f-1672deb45b8d",
   "metadata": {},
   "outputs": [
    {
     "name": "stdout",
     "output_type": "stream",
     "text": [
      "('apple', 'banana', 'cherry', 'apple', 'banana', 'cherry')\n",
      "('apple', 'banana', 'cherry', 'apple', 'banana', 'cherry', 'apple', 'banana', 'cherry')\n"
     ]
    }
   ],
   "source": [
    "# Multiplying tuple items - n number of times ( using * operator )\n",
    "\n",
    "fruits = (\"apple\", \"banana\", \"cherry\")\n",
    "mytuple1 = fruits * 2\n",
    "mytuple2 = fruits * 3\n",
    "\n",
    "print(mytuple1) # Twice the items\n",
    "print(mytuple2) # Thrice the items\n",
    "\n",
    "\n",
    "    "
   ]
  },
  {
   "cell_type": "code",
   "execution_count": 60,
   "id": "e1438d4c-d75c-4474-b6ed-bbab27315dae",
   "metadata": {},
   "outputs": [
    {
     "name": "stdout",
     "output_type": "stream",
     "text": [
      "index of 'banana' in fruits is 1\n",
      "count of '3' in number is 3\n"
     ]
    }
   ],
   "source": [
    "# Built in method of tuple  data type\n",
    "\n",
    "    # count() : is used to count number of specific item\n",
    "    # index() : is used to get the index of first appearance of specific item\n",
    "    \n",
    "# For Ex - \n",
    "\n",
    "fruits = (\"apple\", \"banana\", \"cherry\")\n",
    "number = (1 ,2, 3, 1, 4, 3, 2 , 3, 5, 6 )\n",
    "\n",
    "print( \"index of 'banana' in fruits is \" + str(fruits.index(\"banana\")))\n",
    "print( \"count of '3' in number is \" + str(number.count(3)))\n",
    "    \n"
   ]
  },
  {
   "cell_type": "code",
   "execution_count": null,
   "id": "ae88963b-aee5-4e88-b669-e6f2e087af43",
   "metadata": {},
   "outputs": [],
   "source": []
  }
 ],
 "metadata": {
  "kernelspec": {
   "display_name": "Python 3 (ipykernel)",
   "language": "python",
   "name": "python3"
  },
  "language_info": {
   "codemirror_mode": {
    "name": "ipython",
    "version": 3
   },
   "file_extension": ".py",
   "mimetype": "text/x-python",
   "name": "python",
   "nbconvert_exporter": "python",
   "pygments_lexer": "ipython3",
   "version": "3.9.13"
  }
 },
 "nbformat": 4,
 "nbformat_minor": 5
}
