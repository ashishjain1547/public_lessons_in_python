{
 "cells": [
  {
   "cell_type": "code",
   "execution_count": 1,
   "id": "fc1807cd-284e-47e9-845a-51f811712ac0",
   "metadata": {},
   "outputs": [],
   "source": [
    "l = ['apple', 'banana', 'carrot']"
   ]
  },
  {
   "cell_type": "code",
   "execution_count": 2,
   "id": "bfe6a06c-38c8-4f5a-8b53-3200b863b881",
   "metadata": {},
   "outputs": [],
   "source": [
    "l[2] = 'cucumber'"
   ]
  },
  {
   "cell_type": "code",
   "execution_count": 3,
   "id": "4bed6a31-72e8-4e13-82ff-c9b0e955845e",
   "metadata": {},
   "outputs": [],
   "source": [
    "t = ('apple', 'banana', 'carrot')"
   ]
  },
  {
   "cell_type": "code",
   "execution_count": 4,
   "id": "6a9b24b8-318c-41bd-8926-4f7bf1e347d7",
   "metadata": {},
   "outputs": [
    {
     "ename": "TypeError",
     "evalue": "'tuple' object does not support item assignment",
     "output_type": "error",
     "traceback": [
      "\u001b[0;31m---------------------------------------------------------------------------\u001b[0m",
      "\u001b[0;31mTypeError\u001b[0m                                 Traceback (most recent call last)",
      "\u001b[0;32m/tmp/ipykernel_14862/2112181480.py\u001b[0m in \u001b[0;36m<module>\u001b[0;34m\u001b[0m\n\u001b[0;32m----> 1\u001b[0;31m \u001b[0mt\u001b[0m\u001b[0;34m[\u001b[0m\u001b[0;36m2\u001b[0m\u001b[0;34m]\u001b[0m \u001b[0;34m=\u001b[0m \u001b[0;34m'cucumber'\u001b[0m\u001b[0;34m\u001b[0m\u001b[0;34m\u001b[0m\u001b[0m\n\u001b[0m",
      "\u001b[0;31mTypeError\u001b[0m: 'tuple' object does not support item assignment"
     ]
    }
   ],
   "source": [
    "t[2] = 'cucumber'"
   ]
  },
  {
   "cell_type": "code",
   "execution_count": null,
   "id": "8f65e56e-2748-4751-ab8e-52698213d23a",
   "metadata": {},
   "outputs": [],
   "source": []
  }
 ],
 "metadata": {
  "kernelspec": {
   "display_name": "Python 3 (ipykernel)",
   "language": "python",
   "name": "python3"
  },
  "language_info": {
   "codemirror_mode": {
    "name": "ipython",
    "version": 3
   },
   "file_extension": ".py",
   "mimetype": "text/x-python",
   "name": "python",
   "nbconvert_exporter": "python",
   "pygments_lexer": "ipython3",
   "version": "3.9.13"
  }
 },
 "nbformat": 4,
 "nbformat_minor": 5
}
