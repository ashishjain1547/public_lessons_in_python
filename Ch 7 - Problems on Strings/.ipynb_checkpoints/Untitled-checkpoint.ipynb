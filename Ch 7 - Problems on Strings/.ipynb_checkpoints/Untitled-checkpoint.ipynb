{
 "cells": [
  {
   "cell_type": "code",
   "execution_count": 1,
   "id": "b6003fb7-11df-4e78-a543-668507c14169",
   "metadata": {},
   "outputs": [],
   "source": [
    "name = 'Vaibhav and Ashish'"
   ]
  },
  {
   "cell_type": "code",
   "execution_count": 2,
   "id": "422ed002-8c29-4f4c-a174-18529efb6fb3",
   "metadata": {},
   "outputs": [
    {
     "data": {
      "text/plain": [
       "'VihvadAhs'"
      ]
     },
     "execution_count": 2,
     "metadata": {},
     "output_type": "execute_result"
    }
   ],
   "source": [
    "name[::2]"
   ]
  },
  {
   "cell_type": "code",
   "execution_count": 4,
   "id": "a5b42306-6948-4c67-9d57-ae64d83c3d1d",
   "metadata": {},
   "outputs": [
    {
     "name": "stdout",
     "output_type": "stream",
     "text": [
      "V\n",
      "i\n",
      "h\n",
      "v\n",
      "a\n",
      "d\n",
      "A\n",
      "h\n",
      "s\n"
     ]
    }
   ],
   "source": [
    "c = 0\n",
    "for i in name:\n",
    "    if(c % 2 == 0):\n",
    "        print(i)\n",
    "    c += 1"
   ]
  },
  {
   "cell_type": "code",
   "execution_count": 13,
   "id": "71653b45-ad97-4e31-b711-408021e2b789",
   "metadata": {},
   "outputs": [],
   "source": [
    "name = 'Vaibhav Arvind and Ashish'"
   ]
  },
  {
   "cell_type": "code",
   "execution_count": 14,
   "id": "131caf24-cc75-4e32-a042-e87f41024f06",
   "metadata": {},
   "outputs": [],
   "source": [
    "name_l = name.split()"
   ]
  },
  {
   "cell_type": "code",
   "execution_count": 15,
   "id": "c9a112e5-86ea-4432-8360-6dfa802aaae3",
   "metadata": {},
   "outputs": [
    {
     "data": {
      "text/plain": [
       "['Ashish', 'and', 'Arvind', 'Vaibhav']"
      ]
     },
     "execution_count": 15,
     "metadata": {},
     "output_type": "execute_result"
    }
   ],
   "source": [
    "name_l[::-1]"
   ]
  },
  {
   "cell_type": "code",
   "execution_count": 19,
   "id": "512f32cb-e542-4e26-8f06-0e60c5d34b6f",
   "metadata": {},
   "outputs": [],
   "source": [
    "name_l.reverse() # In this step, it reverses and reassigns to the original variable"
   ]
  },
  {
   "cell_type": "code",
   "execution_count": 17,
   "id": "dd865b17-e97e-4fcf-ae7c-c5e2f37ceef6",
   "metadata": {},
   "outputs": [
    {
     "data": {
      "text/plain": [
       "['Ashish', 'and', 'Arvind', 'Vaibhav']"
      ]
     },
     "execution_count": 17,
     "metadata": {},
     "output_type": "execute_result"
    }
   ],
   "source": [
    "name_l"
   ]
  },
  {
   "cell_type": "code",
   "execution_count": 18,
   "id": "8c15aacf-dd02-400e-88b5-0ccaf14452d3",
   "metadata": {},
   "outputs": [
    {
     "data": {
      "text/plain": [
       "['Vaibhav', 'Arvind', 'and', 'Ashish']"
      ]
     },
     "execution_count": 18,
     "metadata": {},
     "output_type": "execute_result"
    }
   ],
   "source": [
    "list(reversed(name_l))"
   ]
  },
  {
   "cell_type": "code",
   "execution_count": null,
   "id": "1c96b5bd-acbc-491c-b868-a58ee2ab2dd7",
   "metadata": {},
   "outputs": [],
   "source": []
  },
  {
   "cell_type": "code",
   "execution_count": 20,
   "id": "dfbf290c-1d0e-473e-baab-fbd204c51115",
   "metadata": {},
   "outputs": [
    {
     "name": "stdin",
     "output_type": "stream",
     "text": [
      "Enter a natural number: 52\n"
     ]
    }
   ],
   "source": [
    "x = int(input(\"Enter a natural number:\"))"
   ]
  },
  {
   "cell_type": "code",
   "execution_count": 23,
   "id": "34c1c629-2077-451f-9264-b9e022f297b3",
   "metadata": {},
   "outputs": [
    {
     "name": "stdout",
     "output_type": "stream",
     "text": [
      "Not divisible by 7\n"
     ]
    }
   ],
   "source": [
    "if x % 7 == 0:\n",
    "    print(\"Divisible by 7\")\n",
    "else:\n",
    "    print(\"Not divisible by 7\")"
   ]
  },
  {
   "cell_type": "code",
   "execution_count": null,
   "id": "dd6a0c84-6a0d-43b4-a66b-dd280364260e",
   "metadata": {},
   "outputs": [],
   "source": []
  },
  {
   "cell_type": "code",
   "execution_count": null,
   "id": "07d8a5b2-5958-4cf9-89e4-5f3e8ecc215d",
   "metadata": {},
   "outputs": [],
   "source": [
    "import string"
   ]
  },
  {
   "cell_type": "code",
   "execution_count": 34,
   "id": "8655a53e-e9aa-4f8c-84ec-c7590debc4d5",
   "metadata": {},
   "outputs": [],
   "source": [
    "s = 'A quick brown fox jumps over the lazy dog.'"
   ]
  },
  {
   "cell_type": "code",
   "execution_count": 35,
   "id": "2c540e8d-993d-47d8-99fe-57a5f2bc4b18",
   "metadata": {},
   "outputs": [],
   "source": [
    "def pangram(s):\n",
    "    s = s.lower()\n",
    "    if len([s.count(i) for i in string.ascii_lowercase if s.count(i) != 0]) == 26:\n",
    "        return True\n",
    "    else:\n",
    "        return False"
   ]
  },
  {
   "cell_type": "code",
   "execution_count": 36,
   "id": "9d6b97e1-cb91-4f85-a0a2-05ec379789e5",
   "metadata": {},
   "outputs": [
    {
     "data": {
      "text/plain": [
       "False"
      ]
     },
     "execution_count": 36,
     "metadata": {},
     "output_type": "execute_result"
    }
   ],
   "source": [
    "pangram(s)"
   ]
  },
  {
   "cell_type": "code",
   "execution_count": 32,
   "id": "eda5648d-f119-4e93-bb30-e9186a0f16de",
   "metadata": {},
   "outputs": [],
   "source": [
    "t = \"Hello world\""
   ]
  },
  {
   "cell_type": "code",
   "execution_count": 33,
   "id": "63d48269-d2e7-4335-ad79-7675bdb634ec",
   "metadata": {},
   "outputs": [
    {
     "data": {
      "text/plain": [
       "False"
      ]
     },
     "execution_count": 33,
     "metadata": {},
     "output_type": "execute_result"
    }
   ],
   "source": [
    "pangram(t)"
   ]
  },
  {
   "cell_type": "code",
   "execution_count": null,
   "id": "31db0ba5-3ad4-45fd-9043-0716dd5edf5f",
   "metadata": {},
   "outputs": [],
   "source": []
  }
 ],
 "metadata": {
  "kernelspec": {
   "display_name": "Python 3 (ipykernel)",
   "language": "python",
   "name": "python3"
  },
  "language_info": {
   "codemirror_mode": {
    "name": "ipython",
    "version": 3
   },
   "file_extension": ".py",
   "mimetype": "text/x-python",
   "name": "python",
   "nbconvert_exporter": "python",
   "pygments_lexer": "ipython3",
   "version": "3.9.13"
  }
 },
 "nbformat": 4,
 "nbformat_minor": 5
}
