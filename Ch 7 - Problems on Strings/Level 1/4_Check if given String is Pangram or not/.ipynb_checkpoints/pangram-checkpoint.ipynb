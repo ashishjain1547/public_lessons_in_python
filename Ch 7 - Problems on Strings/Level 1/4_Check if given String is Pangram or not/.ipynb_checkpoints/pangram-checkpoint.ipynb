{
 "cells": [
  {
   "cell_type": "code",
   "execution_count": 14,
   "id": "4fd3a419-161f-4b56-bfb3-3d9721a2eaa7",
   "metadata": {},
   "outputs": [],
   "source": [
    "s = \"The quick brown fox jumps over the lazy boy.\""
   ]
  },
  {
   "cell_type": "code",
   "execution_count": 15,
   "id": "9f0fc0fe-2a66-4018-81c6-0098c9f07d0a",
   "metadata": {},
   "outputs": [],
   "source": [
    "s = s.lower()"
   ]
  },
  {
   "cell_type": "code",
   "execution_count": 16,
   "id": "7c53235d-a9e8-4f00-814d-872a07bf3aa1",
   "metadata": {},
   "outputs": [],
   "source": [
    "new_str = \"\"\n",
    "for i in s:\n",
    "    if i.isalpha():\n",
    "        new_str = new_str + i"
   ]
  },
  {
   "cell_type": "code",
   "execution_count": 17,
   "id": "271e741f-7993-46e3-9124-3e48cf321753",
   "metadata": {},
   "outputs": [
    {
     "data": {
      "text/plain": [
       "'thequickbrownfoxjumpsoverthelazyboy'"
      ]
     },
     "execution_count": 17,
     "metadata": {},
     "output_type": "execute_result"
    }
   ],
   "source": [
    "new_str"
   ]
  },
  {
   "cell_type": "code",
   "execution_count": 18,
   "id": "570fa110-ef94-42d0-98dc-282f21f595b0",
   "metadata": {},
   "outputs": [],
   "source": [
    "a = \"abcdefghijklmnopqrstuvwxyz\""
   ]
  },
  {
   "cell_type": "code",
   "execution_count": 19,
   "id": "e48e50ac-b450-43fd-819a-5f2b0af17445",
   "metadata": {},
   "outputs": [
    {
     "data": {
      "text/plain": [
       "26"
      ]
     },
     "execution_count": 19,
     "metadata": {},
     "output_type": "execute_result"
    }
   ],
   "source": [
    "len(a)"
   ]
  },
  {
   "cell_type": "code",
   "execution_count": 20,
   "id": "52650fed-c1df-4050-9ca6-a70cb60ce9c5",
   "metadata": {},
   "outputs": [],
   "source": [
    "msg = \"Yes, it is a pangram\"\n",
    "for i in a:\n",
    "    if i not in new_str:\n",
    "        msg = \"No, it is not a pangram\""
   ]
  },
  {
   "cell_type": "code",
   "execution_count": 21,
   "id": "2f220bd6-6e92-4837-baf9-2a7b88966115",
   "metadata": {},
   "outputs": [
    {
     "data": {
      "text/plain": [
       "'No, it is not a pangram'"
      ]
     },
     "execution_count": 21,
     "metadata": {},
     "output_type": "execute_result"
    }
   ],
   "source": [
    "msg"
   ]
  },
  {
   "cell_type": "code",
   "execution_count": null,
   "id": "9b9d6e14-b3e5-416c-9fc2-9337f39bde46",
   "metadata": {},
   "outputs": [],
   "source": []
  }
 ],
 "metadata": {
  "kernelspec": {
   "display_name": "Python 3 (ipykernel)",
   "language": "python",
   "name": "python3"
  },
  "language_info": {
   "codemirror_mode": {
    "name": "ipython",
    "version": 3
   },
   "file_extension": ".py",
   "mimetype": "text/x-python",
   "name": "python",
   "nbconvert_exporter": "python",
   "pygments_lexer": "ipython3",
   "version": "3.9.13"
  }
 },
 "nbformat": 4,
 "nbformat_minor": 5
}
