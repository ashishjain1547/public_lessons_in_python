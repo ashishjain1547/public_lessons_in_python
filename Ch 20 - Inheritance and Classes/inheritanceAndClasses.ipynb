{
 "cells": [
  {
   "cell_type": "code",
   "execution_count": 1,
   "id": "a05dc99a-4ec8-4ff7-abc1-d47841e7f717",
   "metadata": {},
   "outputs": [],
   "source": [
    "# Inheritance  : It allows us to define a class that inherits all the methods and properties from another class.\n",
    "# Parent class /Base Class :  Which methods and properties being inherited\n",
    "# Child Class / Derived Class : Which inherits properites and method of other class\n"
   ]
  },
  {
   "cell_type": "code",
   "execution_count": 4,
   "id": "b53c3c72-03a1-45b4-b229-4f480f7f1aba",
   "metadata": {},
   "outputs": [
    {
     "name": "stdout",
     "output_type": "stream",
     "text": [
      "<class '__main__.Person'>\n",
      "John Doe\n"
     ]
    }
   ],
   "source": [
    "# Create a class named Person, with firstname and lastname properties, and a printname method\n",
    "\n",
    "class Person:                              # This class we will use as a parent class in below examples\n",
    "  def __init__(self, fname, lname):        # self refer to current object\n",
    "    self.firstname = fname\n",
    "    self.lastname = lname\n",
    "\n",
    "  def printname(self):   # self refer to current object\n",
    "    print(self.firstname, self.lastname)\n",
    "    \n",
    "print(Person)\n",
    "\n",
    "x = Person(\"John\", \"Doe\")  # Creating a object of Person class\n",
    "x.printname() # Call method using an object of Person class\n",
    "\n"
   ]
  },
  {
   "cell_type": "code",
   "execution_count": 7,
   "id": "9e59d23e-9608-4e50-8f56-378efce2bf50",
   "metadata": {},
   "outputs": [
    {
     "name": "stdout",
     "output_type": "stream",
     "text": [
      "Mike Olsen\n"
     ]
    }
   ],
   "source": [
    "# Create a class named Student, which will inherit the properties and methods from the Person class\n",
    "\n",
    "class Student(Person):\n",
    "  pass   # Use of pass statment as nothing to define for child class body\n",
    "\n",
    "s = Student(\"Mike\", \"Olsen\")   # Creating an object of child class\n",
    "s.printname() # calling a inherited function using child class object\n",
    "\n",
    "\n"
   ]
  },
  {
   "cell_type": "code",
   "execution_count": 9,
   "id": "33c877bc-e907-4a58-a3f7-0bfcf5f98085",
   "metadata": {},
   "outputs": [
    {
     "name": "stdout",
     "output_type": "stream",
     "text": [
      "Mike Olsen\n",
      "Mike\n",
      "Olsen\n"
     ]
    }
   ],
   "source": [
    "# Adding the __init__() function in child class :\n",
    "\n",
    "class Student(Person):\n",
    "  def __init__(self, fname, lname):        # Define child class own __init__() function\n",
    "    Person.__init__(self, fname, lname)    # Calling of Parent class __init__() function to intialize First and LastName \n",
    "    \n",
    "    \n",
    "s = Student(\"Mike\", \"Olsen\") # Creating an object of child class \n",
    "s.printname()\n",
    "print(s.firstname)   # Directly access the inherited property firstname \n",
    "print(s.lastname)    # Directly access the inherited property lastname\n",
    "\n"
   ]
  },
  {
   "cell_type": "code",
   "execution_count": 10,
   "id": "82319287-6896-4dd7-9a12-11bb12250944",
   "metadata": {},
   "outputs": [
    {
     "name": "stdout",
     "output_type": "stream",
     "text": [
      "Mike Olsen\n"
     ]
    }
   ],
   "source": [
    "# Use the super() Function in child class\n",
    "# It can also be used to access the property and method of parent class \n",
    "# It can only be used inside child class methods \n",
    "\n",
    "# For Ex - Accessing __init__() method of Parent class inside __init__() function of child class\n",
    "\n",
    "class Student(Person):\n",
    "  def __init__(self, fname, lname):\n",
    "    super().__init__(fname, lname)    \n",
    "\n",
    "s = Student(\"Mike\", \"Olsen\")   # Creating an object of child class\n",
    "s.printname() # calling a inherited function using child class object"
   ]
  },
  {
   "cell_type": "code",
   "execution_count": 11,
   "id": "9932cf62-f8d9-4bd2-9fb3-e7e5bbc75042",
   "metadata": {},
   "outputs": [
    {
     "name": "stdout",
     "output_type": "stream",
     "text": [
      "2019\n",
      "Mike Olsen\n",
      "None\n"
     ]
    }
   ],
   "source": [
    "# Adding a property of child class and passing its value during object creation of child class\n",
    "\n",
    "class Person:\n",
    "  def __init__(self, fname, lname):\n",
    "    self.firstname = fname\n",
    "    self.lastname = lname\n",
    "\n",
    "  def printname(self):\n",
    "    print(self.firstname, self.lastname)\n",
    "\n",
    "class Student(Person):\n",
    "  def __init__(self, fname, lname, year):  # Note : passing of three parameter in child class __init __() function \n",
    "    super().__init__(fname, lname) # Passing first two parameter values to parent class __init__() function \n",
    "    self.graduationyear = year # Note : graduationyear is its own property of Student class \n",
    "\n",
    "x = Student(\"Mike\", \"Olsen\", 2019)  # Creating an object of child class\n",
    "\n",
    "print(x.graduationyear)  # Accessing the property graduationyear using child class object\n",
    "print(x.printname()) # Accessing of inherited function by using child class object \n",
    "\n"
   ]
  },
  {
   "cell_type": "code",
   "execution_count": 13,
   "id": "29ac2674-6016-4769-9b97-7c3a8b2177fd",
   "metadata": {},
   "outputs": [
    {
     "name": "stdout",
     "output_type": "stream",
     "text": [
      "Mike Olsen\n",
      "Welcome Mike Olsen to the class of 2019\n"
     ]
    }
   ],
   "source": [
    "# Adding a method in a child class \n",
    "\n",
    "# For Ex -  Add a method called welcome to the Student class\n",
    "\n",
    "class Person:\n",
    "  def __init__(self, fname, lname):\n",
    "    self.firstname = fname\n",
    "    self.lastname = lname\n",
    "\n",
    "  def printname(self):\n",
    "    print(self.firstname, self.lastname)\n",
    "\n",
    "class Student(Person):\n",
    "  def __init__(self, fname, lname, year):\n",
    "    super().__init__(fname, lname)\n",
    "    self.graduationyear = year\n",
    "\n",
    "  def welcome(self):       # Add a method with name welcome\n",
    "    print(\"Welcome\", self.firstname, self.lastname, \"to the class of\", self.graduationyear)\n",
    "\n",
    "x = Student(\"Mike\", \"Olsen\", 2019)  # creating an object of child class\n",
    "x.printname() # Calling of inherited method using child class object\n",
    "x.welcome()  # Calling a method of child class using its object\n"
   ]
  },
  {
   "cell_type": "code",
   "execution_count": 17,
   "id": "ce721ac4-4449-4373-a5be-2a7a134a3d86",
   "metadata": {},
   "outputs": [
    {
     "name": "stdout",
     "output_type": "stream",
     "text": [
      "child class printname method called\n",
      "Welcome Mike Olsen to the class of 2019\n",
      "Parent Class printname method called\n",
      "Mike Olsen\n",
      "Parent Class printname method called\n",
      "Harry Thomas\n"
     ]
    }
   ],
   "source": [
    "# If you add a method in the child class with the same name as a function in the parent class \n",
    "# Then child class method overide the definition of inherited method of parent class\n",
    "\n",
    "# For Ex - Defining a method with name printname , which is already defined in parent class \n",
    "\n",
    "class Person:\n",
    "  def __init__(self, fname, lname):\n",
    "    self.firstname = fname\n",
    "    self.lastname = lname\n",
    "\n",
    "  def printname(self):\n",
    "    print(\"Parent Class printname method called\")\n",
    "    print(self.firstname, self.lastname)\n",
    "\n",
    "class Student(Person):\n",
    "  def __init__(self, fname, lname, year):\n",
    "    super().__init__(fname, lname)\n",
    "    self.graduationyear = year\n",
    "\n",
    "  def printname(self):       # Add a method with same name as in parent class \n",
    "    print(\"child class printname method called\")\n",
    "    print(\"Welcome\", self.firstname, self.lastname, \"to the class of\", self.graduationyear)\n",
    "    super().printname()\n",
    "\n",
    "s = Student(\"Mike\", \"Olsen\", 2019)  # creating an object of child class\n",
    "s.printname() # Calling of inherited method using child class object\n",
    "\n",
    "p = Person(\"Harry\",\"Thomas\") # Creating an object of parent class\n",
    "p.printname() # calling of printname method using parent class object\n",
    "\n"
   ]
  },
  {
   "cell_type": "code",
   "execution_count": null,
   "id": "c66b05e9-47c8-4f03-a247-4c4c250ef551",
   "metadata": {},
   "outputs": [],
   "source": []
  }
 ],
 "metadata": {
  "kernelspec": {
   "display_name": "Python 3 (ipykernel)",
   "language": "python",
   "name": "python3"
  },
  "language_info": {
   "codemirror_mode": {
    "name": "ipython",
    "version": 3
   },
   "file_extension": ".py",
   "mimetype": "text/x-python",
   "name": "python",
   "nbconvert_exporter": "python",
   "pygments_lexer": "ipython3",
   "version": "3.9.13"
  }
 },
 "nbformat": 4,
 "nbformat_minor": 5
}
