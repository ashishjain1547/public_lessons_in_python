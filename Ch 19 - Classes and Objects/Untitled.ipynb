{
 "cells": [
  {
   "cell_type": "code",
   "execution_count": 1,
   "id": "d7da6cf4-4881-4e29-9703-83cbed3d97e0",
   "metadata": {},
   "outputs": [],
   "source": [
    "class MyClass:\n",
    "  x = 5"
   ]
  },
  {
   "cell_type": "code",
   "execution_count": 2,
   "id": "8b1ea316-a534-4256-8c2b-cd269f3375af",
   "metadata": {},
   "outputs": [],
   "source": [
    "m = MyClass()"
   ]
  },
  {
   "cell_type": "code",
   "execution_count": 3,
   "id": "47927e27-a7f9-4741-aa78-ee10b3b2fbb5",
   "metadata": {},
   "outputs": [
    {
     "data": {
      "text/plain": [
       "5"
      ]
     },
     "execution_count": 3,
     "metadata": {},
     "output_type": "execute_result"
    }
   ],
   "source": [
    "m.x"
   ]
  },
  {
   "cell_type": "code",
   "execution_count": 5,
   "id": "64d2d323-d111-4d9c-b3a6-8a3eb3089642",
   "metadata": {},
   "outputs": [
    {
     "data": {
      "text/plain": [
       "__main__.MyClass"
      ]
     },
     "execution_count": 5,
     "metadata": {},
     "output_type": "execute_result"
    }
   ],
   "source": [
    "type(m) # __main__"
   ]
  },
  {
   "cell_type": "markdown",
   "id": "88ef21fc-82f1-4a8b-a4c5-d438d7498b31",
   "metadata": {},
   "source": [
    "# double underscore --> dunder"
   ]
  },
  {
   "cell_type": "code",
   "execution_count": 6,
   "id": "31d6849a-46f5-4e80-a698-368f1411a048",
   "metadata": {},
   "outputs": [],
   "source": [
    "class MyEmptyClass:\n",
    "  pass"
   ]
  },
  {
   "cell_type": "markdown",
   "id": "72f6ccf2-3310-40b2-88a1-c1e193986033",
   "metadata": {},
   "source": [
    "# Creating our first class 'Person'"
   ]
  },
  {
   "cell_type": "code",
   "execution_count": 1,
   "id": "c5773c14-6793-42ca-a79a-be17093589a2",
   "metadata": {},
   "outputs": [
    {
     "name": "stdout",
     "output_type": "stream",
     "text": [
      "John\n",
      "36\n"
     ]
    }
   ],
   "source": [
    "class Person:    \n",
    "    def __init__(self, name, age):\n",
    "        self.name = name\n",
    "        self.age = age\n",
    "    \n",
    "p1 = Person(\"John\", 36)\n",
    "\n",
    "\n",
    "print(p1.name)\n",
    "print(p1.age) "
   ]
  },
  {
   "cell_type": "code",
   "execution_count": 2,
   "id": "aace582f-002c-44d7-8f4b-5687ca11ee36",
   "metadata": {},
   "outputs": [
    {
     "data": {
      "text/plain": [
       "'Ashish'"
      ]
     },
     "execution_count": 2,
     "metadata": {},
     "output_type": "execute_result"
    }
   ],
   "source": [
    "class Person:\n",
    "    creator = 'Ashish'\n",
    "Person.creator"
   ]
  },
  {
   "cell_type": "code",
   "execution_count": 25,
   "id": "37a8faa8-da57-4575-92e0-60700b9f627a",
   "metadata": {},
   "outputs": [
    {
     "ename": "AttributeError",
     "evalue": "type object 'Person' has no attribute 'name'",
     "output_type": "error",
     "traceback": [
      "\u001b[0;31m---------------------------------------------------------------------------\u001b[0m",
      "\u001b[0;31mAttributeError\u001b[0m                            Traceback (most recent call last)",
      "\u001b[0;32m/tmp/ipykernel_36278/3664013933.py\u001b[0m in \u001b[0;36m<module>\u001b[0;34m\u001b[0m\n\u001b[0;32m----> 1\u001b[0;31m \u001b[0mPerson\u001b[0m\u001b[0;34m.\u001b[0m\u001b[0mname\u001b[0m\u001b[0;34m\u001b[0m\u001b[0;34m\u001b[0m\u001b[0m\n\u001b[0m",
      "\u001b[0;31mAttributeError\u001b[0m: type object 'Person' has no attribute 'name'"
     ]
    }
   ],
   "source": [
    "Person.name"
   ]
  },
  {
   "cell_type": "code",
   "execution_count": 3,
   "id": "f4754499-f022-401b-a867-851c1a169105",
   "metadata": {},
   "outputs": [
    {
     "data": {
      "text/plain": [
       "<__main__.Person at 0x7ff554399d30>"
      ]
     },
     "execution_count": 3,
     "metadata": {},
     "output_type": "execute_result"
    }
   ],
   "source": [
    "p1"
   ]
  },
  {
   "cell_type": "markdown",
   "id": "11347a4f-22c9-4c6f-80b4-5da2afb75a3e",
   "metadata": {},
   "source": [
    "# Adding dunder str()"
   ]
  },
  {
   "cell_type": "code",
   "execution_count": 4,
   "id": "ead09728-1afb-4058-af8a-b294aacbd7a9",
   "metadata": {},
   "outputs": [],
   "source": [
    "class Person:\n",
    "    \n",
    "    def __init__(self, name, age):\n",
    "        self.name = name\n",
    "        self.age = age\n",
    "    \n",
    "    def __str__(self):\n",
    "        return  self.name + \" is \" + str(self.age) + \" years old.\""
   ]
  },
  {
   "cell_type": "code",
   "execution_count": 5,
   "id": "f9545c2d-95c2-4d33-95e9-a7f60c1008d6",
   "metadata": {},
   "outputs": [
    {
     "name": "stdout",
     "output_type": "stream",
     "text": [
      "Jack is 30 years old.\n"
     ]
    }
   ],
   "source": [
    "p2 = Person(\"Jack\", 30)\n",
    "print(p2) "
   ]
  },
  {
   "cell_type": "raw",
   "id": "1da97d6c-a490-4d06-8e66-50ccadc0006d",
   "metadata": {},
   "source": [
    "Without __str__(): <__main__.Person object at 0x7fd9ec343340>\n",
    "With __str__(): Jack is 30 years old."
   ]
  },
  {
   "cell_type": "markdown",
   "id": "41ded939-8c86-4904-91d7-3a04eab95664",
   "metadata": {},
   "source": [
    "# Adding a custom method: calculatePay()"
   ]
  },
  {
   "cell_type": "code",
   "execution_count": 6,
   "id": "a9654f8c-5df2-4c6a-adfc-c99f612c3d16",
   "metadata": {},
   "outputs": [],
   "source": [
    "class Person:\n",
    "    creator = 'Ashish'\n",
    "    \n",
    "    def __init__(self, name, age, pay = 150):\n",
    "        self.name = name\n",
    "        self.age = age\n",
    "        self.pay = pay\n",
    "        \n",
    "    def __str__(self):\n",
    "        return  self.name + \" is \" + str(self.age) + \" years old.\"\n",
    "    \n",
    "    def calculatePay(self):\n",
    "        prompt = '\\nEnter number of hours worked for %s: ' % (self.name)\n",
    "        hours = input(prompt)\n",
    "        prompt = 'Enter the hourly rate for %s: ' %(self.name)\n",
    "        hourlyRate = input(prompt)\n",
    "        self.pay = int(hours)*int(hourlyRate)\n",
    "        return self.pay"
   ]
  },
  {
   "cell_type": "code",
   "execution_count": 7,
   "id": "1d1bc41c-2626-4c2f-acfe-f43fc7f621ed",
   "metadata": {},
   "outputs": [],
   "source": [
    "p3 = Person('Arvind', 40)"
   ]
  },
  {
   "cell_type": "code",
   "execution_count": 8,
   "id": "5e24da4b-2cee-4e6b-8f1b-de12853879f9",
   "metadata": {},
   "outputs": [
    {
     "data": {
      "text/plain": [
       "<__main__.Person at 0x7f89fc60a820>"
      ]
     },
     "execution_count": 8,
     "metadata": {},
     "output_type": "execute_result"
    }
   ],
   "source": [
    "p3"
   ]
  },
  {
   "cell_type": "code",
   "execution_count": 9,
   "id": "e25a4525-6465-4178-be4e-573598d0c39c",
   "metadata": {},
   "outputs": [
    {
     "name": "stdout",
     "output_type": "stream",
     "text": [
      "Arvind is 40 years old.\n"
     ]
    }
   ],
   "source": [
    "print(p3)"
   ]
  },
  {
   "cell_type": "code",
   "execution_count": 10,
   "id": "7472cc1e-d267-4317-af97-c2831304ddcf",
   "metadata": {},
   "outputs": [
    {
     "data": {
      "text/plain": [
       "150"
      ]
     },
     "execution_count": 10,
     "metadata": {},
     "output_type": "execute_result"
    }
   ],
   "source": [
    "p3.pay"
   ]
  },
  {
   "cell_type": "code",
   "execution_count": 11,
   "id": "ee7300e6-63e4-4227-9aa1-9a6f8e3f7e38",
   "metadata": {},
   "outputs": [
    {
     "name": "stdin",
     "output_type": "stream",
     "text": [
      "\n",
      "Enter number of hours worked for Arvind:  6\n",
      "Enter the hourly rate for Arvind:  20\n"
     ]
    },
    {
     "data": {
      "text/plain": [
       "120"
      ]
     },
     "execution_count": 11,
     "metadata": {},
     "output_type": "execute_result"
    }
   ],
   "source": [
    "p3.calculatePay()"
   ]
  },
  {
   "cell_type": "code",
   "execution_count": 47,
   "id": "56b82b94-9be4-4aa9-ab70-36f928e1f189",
   "metadata": {},
   "outputs": [
    {
     "data": {
      "text/plain": [
       "96"
      ]
     },
     "execution_count": 47,
     "metadata": {},
     "output_type": "execute_result"
    }
   ],
   "source": [
    "p3.pay"
   ]
  },
  {
   "cell_type": "raw",
   "id": "fa9c1780-cb38-4b1f-b44f-dfee21a4fc24",
   "metadata": {},
   "source": [
    "Q1: What is a property?\n",
    "Ans:\n",
    "Variable associated with an object.\n",
    "Name is a property of a person.\n",
    "Age is a property of a person.\n",
    "\n",
    "Can there be age without person? Can there be person without age?\n",
    "No\n",
    "\n",
    "Q2. What is a method?\n",
    "Ans:\n",
    "A function that is associated with an object.\n",
    "\n",
    "Every property is a variable but not every variable is a property.\n",
    "Every method is a function but not every function is a method.\n",
    "__str__(): method\n",
    "print(): function"
   ]
  },
  {
   "cell_type": "raw",
   "id": "60b80228-b079-44b2-b139-0ed869357cf8",
   "metadata": {},
   "source": [
    "Homework:\n",
    "\n",
    "Create a class car.\n",
    "With Properties:\n",
    "Brand\n",
    "Number of seats\n",
    "Color\n",
    "TopSpeed\n",
    "\n",
    "Method:\n",
    "isSportsCar():\n",
    "    if TopSpeed is greater than 200 return True\n",
    "    else return False"
   ]
  },
  {
   "cell_type": "code",
   "execution_count": 12,
   "id": "25e83749-10b2-4fd8-a5ed-1695d6ba991e",
   "metadata": {},
   "outputs": [
    {
     "name": "stdout",
     "output_type": "stream",
     "text": [
      "Tesla\n",
      "Y\n",
      "7\n",
      "white\n",
      "155\n",
      "False\n"
     ]
    }
   ],
   "source": [
    "class Car:\n",
    "    def __init__(self, brand, model, num_seats, color, top_speed):\n",
    "        \n",
    "        self.brand = brand\n",
    "        self.model = model \n",
    "        self.num_seats = num_seats\n",
    "        self.color = color\n",
    "        self.top_speed = top_speed\n",
    "\n",
    "    def isSportsCar(self):\n",
    "        if self.top_speed > 200:\n",
    "            return True\n",
    "        else:\n",
    "            return False\n",
    "        \n",
    "my_car = Car(\"Tesla\",\"Y\", 7, \"white\", 155)\n",
    "\n",
    "print(my_car.brand)\n",
    "print(my_car.model)\n",
    "print(my_car.num_seats)  \n",
    "print(my_car.color)  \n",
    "print(my_car.top_speed)  \n",
    "\n",
    "print(my_car.isSportsCar())"
   ]
  },
  {
   "cell_type": "code",
   "execution_count": 2,
   "id": "d2f23ade-6475-4248-b0a0-ea63c9c2d3e0",
   "metadata": {},
   "outputs": [
    {
     "data": {
      "text/plain": [
       "False"
      ]
     },
     "execution_count": 2,
     "metadata": {},
     "output_type": "execute_result"
    }
   ],
   "source": [
    "bool(None)"
   ]
  },
  {
   "cell_type": "markdown",
   "id": "e54efb78-c9c8-4e1d-a3af-7ea8916e12c8",
   "metadata": {},
   "source": [
    "# Calculator class"
   ]
  },
  {
   "cell_type": "code",
   "execution_count": 5,
   "id": "9967ae6e-4b48-401b-9557-985e8dc85543",
   "metadata": {},
   "outputs": [],
   "source": [
    "class Calc:\n",
    "    def __init__(self, a, b):\n",
    "        self.a = a\n",
    "        self.b = b\n",
    "        \n",
    "    def add(self):\n",
    "        return self.a + self.b\n",
    "    \n",
    "    def mul(self):\n",
    "        return self.a * self.b\n",
    "    \n",
    "    def sub(self):\n",
    "        return self.a - self.b"
   ]
  },
  {
   "cell_type": "code",
   "execution_count": 8,
   "id": "201fca90-a938-46de-b8e8-b4a897662aba",
   "metadata": {},
   "outputs": [
    {
     "ename": "NameError",
     "evalue": "name 'sub' is not defined",
     "output_type": "error",
     "traceback": [
      "\u001b[0;31m---------------------------------------------------------------------------\u001b[0m",
      "\u001b[0;31mNameError\u001b[0m                                 Traceback (most recent call last)",
      "\u001b[0;32m/tmp/ipykernel_4832/35866194.py\u001b[0m in \u001b[0;36m<module>\u001b[0;34m\u001b[0m\n\u001b[0;32m----> 1\u001b[0;31m \u001b[0msub\u001b[0m\u001b[0;34m\u001b[0m\u001b[0;34m\u001b[0m\u001b[0m\n\u001b[0m",
      "\u001b[0;31mNameError\u001b[0m: name 'sub' is not defined"
     ]
    }
   ],
   "source": [
    "sub"
   ]
  },
  {
   "cell_type": "code",
   "execution_count": 9,
   "id": "85af6620-dcfb-474e-a21c-c47016208d61",
   "metadata": {},
   "outputs": [],
   "source": [
    "c = Calc(5, 5)"
   ]
  },
  {
   "cell_type": "code",
   "execution_count": 10,
   "id": "15e8bf03-0db7-4764-8dba-20d4ca30ba6c",
   "metadata": {},
   "outputs": [
    {
     "data": {
      "text/plain": [
       "0"
      ]
     },
     "execution_count": 10,
     "metadata": {},
     "output_type": "execute_result"
    }
   ],
   "source": [
    "c.sub()"
   ]
  },
  {
   "cell_type": "code",
   "execution_count": 11,
   "id": "bdf4e735-a277-49b5-ba5d-530ac3ca08c0",
   "metadata": {},
   "outputs": [
    {
     "data": {
      "text/plain": [
       "__main__.Calc"
      ]
     },
     "execution_count": 11,
     "metadata": {},
     "output_type": "execute_result"
    }
   ],
   "source": [
    "type(c)"
   ]
  },
  {
   "cell_type": "code",
   "execution_count": 12,
   "id": "116645db-3773-4479-acac-b51a3a456557",
   "metadata": {},
   "outputs": [
    {
     "data": {
      "text/plain": [
       "10"
      ]
     },
     "execution_count": 12,
     "metadata": {},
     "output_type": "execute_result"
    }
   ],
   "source": [
    "c.add()"
   ]
  },
  {
   "cell_type": "code",
   "execution_count": 13,
   "id": "73e8776e-883e-416a-805c-4fdd1704a601",
   "metadata": {},
   "outputs": [
    {
     "data": {
      "text/plain": [
       "25"
      ]
     },
     "execution_count": 13,
     "metadata": {},
     "output_type": "execute_result"
    }
   ],
   "source": [
    "c.mul()"
   ]
  },
  {
   "cell_type": "code",
   "execution_count": null,
   "id": "86b7b721-f397-45e0-a2ed-2e93416860a2",
   "metadata": {},
   "outputs": [],
   "source": []
  }
 ],
 "metadata": {
  "kernelspec": {
   "display_name": "Python 3 (ipykernel)",
   "language": "python",
   "name": "python3"
  },
  "language_info": {
   "codemirror_mode": {
    "name": "ipython",
    "version": 3
   },
   "file_extension": ".py",
   "mimetype": "text/x-python",
   "name": "python",
   "nbconvert_exporter": "python",
   "pygments_lexer": "ipython3",
   "version": "3.9.13"
  }
 },
 "nbformat": 4,
 "nbformat_minor": 5
}
