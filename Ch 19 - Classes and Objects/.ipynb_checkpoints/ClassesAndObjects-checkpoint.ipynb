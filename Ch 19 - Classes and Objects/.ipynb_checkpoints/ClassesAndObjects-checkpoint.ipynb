{
 "cells": [
  {
   "cell_type": "code",
   "execution_count": null,
   "id": "7ce7004c-2dce-43d3-818e-2f94d38a6d4b",
   "metadata": {},
   "outputs": [],
   "source": [
    "# python classes and objects\n",
    "\n",
    "# Almost everything in Python is an object, with its properties and methods\n",
    "\n",
    "# A class is a blueprint of creating an object ( Like a Constructor )"
   ]
  },
  {
   "cell_type": "code",
   "execution_count": 1,
   "id": "ae942c47-d5b4-4620-9300-ed3a578bbe35",
   "metadata": {},
   "outputs": [
    {
     "name": "stdout",
     "output_type": "stream",
     "text": [
      "<class '__main__.MyClass'>\n"
     ]
    }
   ],
   "source": [
    "# defining a class\n",
    "\n",
    "# For Ex – Creating a class with Name MyClass\n",
    "\n",
    "class MyClass:\n",
    "  x = 5\n",
    "\n",
    "print(MyClass)\n"
   ]
  },
  {
   "cell_type": "code",
   "execution_count": 2,
   "id": "6f1929cc-ce30-43a3-9e7e-ca15be5b9a71",
   "metadata": {},
   "outputs": [
    {
     "name": "stdout",
     "output_type": "stream",
     "text": [
      "5\n"
     ]
    }
   ],
   "source": [
    "# # Create an object named p1, and print the value of its property\n",
    "\n",
    "class MyClass :     \n",
    "  x = 5\n",
    "\n",
    "p1 = MyClass()  # Object creation using constructor\n",
    "\n",
    "print(p1.x) # Getting the property of an Object\n"
   ]
  },
  {
   "cell_type": "code",
   "execution_count": 3,
   "id": "8cbdf826-0b8c-4a54-80c4-c4a29659ecff",
   "metadata": {},
   "outputs": [],
   "source": [
    "# Define an empty class\n",
    "# A class body can't be empty\n",
    "\n",
    "class Person :\n",
    "\n",
    "  pass"
   ]
  },
  {
   "cell_type": "code",
   "execution_count": 4,
   "id": "8efab7f2-6848-400c-a1a8-d02259ad3a75",
   "metadata": {},
   "outputs": [
    {
     "ename": "SyntaxError",
     "evalue": "incomplete input (1218217018.py, line 3)",
     "output_type": "error",
     "traceback": [
      "\u001b[1;36m  Cell \u001b[1;32mIn[4], line 3\u001b[1;36m\u001b[0m\n\u001b[1;33m    class Person:\u001b[0m\n\u001b[1;37m                 ^\u001b[0m\n\u001b[1;31mSyntaxError\u001b[0m\u001b[1;31m:\u001b[0m incomplete input\n"
     ]
    }
   ],
   "source": [
    "# Define an empty class without pass statment\n",
    "\n",
    "class Person:"
   ]
  },
  {
   "cell_type": "code",
   "execution_count": 10,
   "id": "cc3dfbc9-37fb-4334-84f9-e49245e210ce",
   "metadata": {},
   "outputs": [
    {
     "name": "stdout",
     "output_type": "stream",
     "text": [
      "John\n",
      "36\n"
     ]
    }
   ],
   "source": [
    "# Create a class named Person, and use the __init__() function to assign values for name and age:\n",
    "\n",
    "class Person: \n",
    "    def __init__(self, name, age):        #  Here : self refer to current object\n",
    "        self.name = name\n",
    "        self.age = age\n",
    "\n",
    "p1 = Person(\"John\", 36)\n",
    "print(p1.name)\n",
    "print(p1.age) "
   ]
  },
  {
   "cell_type": "code",
   "execution_count": 11,
   "id": "13695d04-f402-4f0b-a4c8-0c09455ea927",
   "metadata": {},
   "outputs": [
    {
     "name": "stdout",
     "output_type": "stream",
     "text": [
      "Hello my name is John\n"
     ]
    }
   ],
   "source": [
    "# Defining a method in a class that print a message on its call by object\n",
    "\n",
    "class Person:\n",
    "    def __init__(self, name, age):     #  Here : self refer to current object  \n",
    "        self.name = name\n",
    "        self.age = age\n",
    "\n",
    "    def myfunc(currObj):               #  Here : currObj refer to current object as it is first parameter\n",
    "        print(\"Hello my name is \" + currObj.name)\n",
    "    \n",
    "p1 = Person(\"John\", 36)\n",
    "p1.myfunc() \n"
   ]
  },
  {
   "cell_type": "code",
   "execution_count": 13,
   "id": "9e6ff937-3e32-4ce0-8f8f-13a8d018e308",
   "metadata": {},
   "outputs": [
    {
     "name": "stdout",
     "output_type": "stream",
     "text": [
      "40\n"
     ]
    },
    {
     "ename": "AttributeError",
     "evalue": "'Person' object has no attribute 'name'",
     "output_type": "error",
     "traceback": [
      "\u001b[1;31m---------------------------------------------------------------------------\u001b[0m",
      "\u001b[1;31mAttributeError\u001b[0m                            Traceback (most recent call last)",
      "Cell \u001b[1;32mIn[13], line 21\u001b[0m\n\u001b[0;32m     17\u001b[0m \u001b[38;5;28;01mdel\u001b[39;00m p1\u001b[38;5;241m.\u001b[39mname  \u001b[38;5;66;03m# Deleting the name property for object p1 by using del key word\u001b[39;00m\n\u001b[0;32m     19\u001b[0m \u001b[38;5;28mprint\u001b[39m(p1\u001b[38;5;241m.\u001b[39mage)  \u001b[38;5;66;03m# Output will be : 40 \u001b[39;00m\n\u001b[1;32m---> 21\u001b[0m \u001b[38;5;28mprint\u001b[39m(\u001b[43mp1\u001b[49m\u001b[38;5;241;43m.\u001b[39;49m\u001b[43mname\u001b[49m)\n",
      "\u001b[1;31mAttributeError\u001b[0m: 'Person' object has no attribute 'name'"
     ]
    }
   ],
   "source": [
    "#  Modifying and Deleting Object Properties\n",
    "#  For Ex – Modify the age of Object p1 to 40 \n",
    "#  And deleting name property\n",
    "\n",
    "class Person:\n",
    "  def __init__(self, name, age):\n",
    "    self.name = name\n",
    "    self.age = age\n",
    "\n",
    "  def myfunc(self):\n",
    "    print(\"Hello my name is \" + self.name)\n",
    "\n",
    "p1 = Person(\"John\", 36)\n",
    "\n",
    "p1.age = 40  # Modify the age for object p1\n",
    "\n",
    "del p1.name  # Deleting the name property for object p1 by using del key word\n",
    "\n",
    "print(p1.age)  # Output will be : 40 \n",
    "\n",
    "print(p1.name) #  Output  will be  : AttributeError: 'Person' object has no attribute ‘name'\n"
   ]
  },
  {
   "cell_type": "code",
   "execution_count": 14,
   "id": "49a736f9-b1fb-4129-8d7d-0793eeb4844a",
   "metadata": {},
   "outputs": [
    {
     "ename": "NameError",
     "evalue": "name 'p1' is not defined",
     "output_type": "error",
     "traceback": [
      "\u001b[1;31m---------------------------------------------------------------------------\u001b[0m",
      "\u001b[1;31mNameError\u001b[0m                                 Traceback (most recent call last)",
      "Cell \u001b[1;32mIn[14], line 17\u001b[0m\n\u001b[0;32m     13\u001b[0m p1 \u001b[38;5;241m=\u001b[39m Person(\u001b[38;5;124m\"\u001b[39m\u001b[38;5;124mJohn\u001b[39m\u001b[38;5;124m\"\u001b[39m, \u001b[38;5;241m36\u001b[39m)\n\u001b[0;32m     15\u001b[0m \u001b[38;5;28;01mdel\u001b[39;00m p1\n\u001b[1;32m---> 17\u001b[0m \u001b[38;5;28mprint\u001b[39m(\u001b[43mp1\u001b[49m)\n",
      "\u001b[1;31mNameError\u001b[0m: name 'p1' is not defined"
     ]
    }
   ],
   "source": [
    "# Deleting an object using del key word\n",
    "\n",
    "# For Ex - Delete the p1 object\n",
    "\n",
    "class Person:\n",
    "\n",
    "  def __init__(self, name, age):\n",
    "    self.name = name\n",
    "    self.age = age\n",
    "  def myfunc(self):\n",
    "    print(\"Hello my name is \" + self.name)\n",
    "\n",
    "p1 = Person(\"John\", 36)\n",
    "\n",
    "del p1\n",
    "\n",
    "print(p1) # Will print an error msg as object has been deleted\n"
   ]
  },
  {
   "cell_type": "code",
   "execution_count": null,
   "id": "020a40ce-b8b4-4a6f-a2f0-258a99b72bce",
   "metadata": {},
   "outputs": [],
   "source": []
  }
 ],
 "metadata": {
  "kernelspec": {
   "display_name": "Python 3 (ipykernel)",
   "language": "python",
   "name": "python3"
  },
  "language_info": {
   "codemirror_mode": {
    "name": "ipython",
    "version": 3
   },
   "file_extension": ".py",
   "mimetype": "text/x-python",
   "name": "python",
   "nbconvert_exporter": "python",
   "pygments_lexer": "ipython3",
   "version": "3.10.9"
  }
 },
 "nbformat": 4,
 "nbformat_minor": 5
}
