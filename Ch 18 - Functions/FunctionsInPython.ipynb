{
 "cells": [
  {
   "cell_type": "code",
   "execution_count": null,
   "id": "d7cd7f60-0d3e-4d9b-bd10-1f41ee4892b7",
   "metadata": {},
   "outputs": [],
   "source": [
    "# Functions \n",
    "\n",
    "# A function is a block of code .\n",
    "# It run when it is called\n",
    "# It can return data as a result\n",
    "\n",
    "  "
   ]
  },
  {
   "cell_type": "code",
   "execution_count": 1,
   "id": "48b6d8bc-3bc2-4a6f-a055-9c7c1693ba4c",
   "metadata": {},
   "outputs": [],
   "source": [
    "# Creating a function \n",
    "\n",
    "def my_function():\n",
    "  print(\"Hello from a function\") \n",
    "\n"
   ]
  },
  {
   "cell_type": "code",
   "execution_count": 2,
   "id": "6d1c03a8-a39e-4088-8392-23a190ec37a6",
   "metadata": {},
   "outputs": [
    {
     "name": "stdout",
     "output_type": "stream",
     "text": [
      "Hello from a function\n"
     ]
    }
   ],
   "source": [
    "# Calling a function\n",
    "\n",
    "my_function()"
   ]
  },
  {
   "cell_type": "code",
   "execution_count": 3,
   "id": "1f314159-cfcb-4674-83d5-d2c5b5856e27",
   "metadata": {},
   "outputs": [
    {
     "name": "stdout",
     "output_type": "stream",
     "text": [
      "Emil Refsnes\n",
      "Tobias Refsnes\n",
      "Linus Refsnes\n"
     ]
    }
   ],
   "source": [
    "# Calling functions with arguments\n",
    "\n",
    "def my_function(fname):\n",
    "  print(fname + \" Refsnes\")\n",
    "\n",
    "my_function(\"Emil\")    # Calling of function with Value 'Emil'\n",
    "my_function(\"Tobias\")  # Calling of function with Value 'Tobias'\n",
    "my_function(\"Linus\")   # Calling of function with Value 'Linus'\n",
    "\n"
   ]
  },
  {
   "cell_type": "code",
   "execution_count": 4,
   "id": "4eddc2c7-c33e-44a6-ae52-897fc98d547f",
   "metadata": {},
   "outputs": [
    {
     "name": "stdout",
     "output_type": "stream",
     "text": [
      "Emil Refsnes\n"
     ]
    }
   ],
   "source": [
    "# Calling of a function with two arguments\n",
    "\n",
    "def my_function(fname, lname):\n",
    "  print(fname + \" \" + lname)\n",
    "\n",
    "my_function(\"Emil\", \"Refsnes\") # Calling of function with two arguments\n"
   ]
  },
  {
   "cell_type": "code",
   "execution_count": 6,
   "id": "1e85143b-d3b7-4736-9dd5-98f199391100",
   "metadata": {},
   "outputs": [
    {
     "ename": "TypeError",
     "evalue": "my_function() missing 1 required positional argument: 'lname'",
     "output_type": "error",
     "traceback": [
      "\u001b[1;31m---------------------------------------------------------------------------\u001b[0m",
      "\u001b[1;31mTypeError\u001b[0m                                 Traceback (most recent call last)",
      "Cell \u001b[1;32mIn[6], line 7\u001b[0m\n\u001b[0;32m      4\u001b[0m \u001b[38;5;28;01mdef\u001b[39;00m \u001b[38;5;21mmy_function\u001b[39m(fname, lname):\n\u001b[0;32m      5\u001b[0m   \u001b[38;5;28mprint\u001b[39m(fname \u001b[38;5;241m+\u001b[39m \u001b[38;5;124m\"\u001b[39m\u001b[38;5;124m \u001b[39m\u001b[38;5;124m\"\u001b[39m \u001b[38;5;241m+\u001b[39m lname)\n\u001b[1;32m----> 7\u001b[0m \u001b[43mmy_function\u001b[49m\u001b[43m(\u001b[49m\u001b[38;5;124;43m\"\u001b[39;49m\u001b[38;5;124;43mEmil\u001b[39;49m\u001b[38;5;124;43m\"\u001b[39;49m\u001b[43m)\u001b[49m\n",
      "\u001b[1;31mTypeError\u001b[0m: my_function() missing 1 required positional argument: 'lname'"
     ]
    }
   ],
   "source": [
    "# Try to call a function with different numbers of arguments than no of parameters in definition\n",
    "# This will raise an error\n",
    "\n",
    "def my_function(fname, lname):\n",
    "  print(fname + \" \" + lname)\n",
    "\n",
    "my_function(\"Emil\") # Note Passing only one argument \n",
    "\n"
   ]
  },
  {
   "cell_type": "code",
   "execution_count": 13,
   "id": "3a4bfa33-7014-4a32-9a35-c5f309ba333c",
   "metadata": {},
   "outputs": [
    {
     "name": "stdout",
     "output_type": "stream",
     "text": [
      "Emil Tobias Linus\n",
      "The third argument is Linus\n",
      "Tom Harry Thomas Shan\n",
      "The third argument is Thomas\n"
     ]
    }
   ],
   "source": [
    "# Calling a function with arbitary number of arguments..\n",
    "\n",
    "def my_function(*args):                      # Note the use of * before parameter name\n",
    "    \n",
    "    print(*args)  # to print all items of tuple\n",
    "    print(\"The third argument is \" + args[2]) # to display 3rd item of tuple\n",
    "\n",
    "my_function(\"Emil\", \"Tobias\", \"Linus\") # Calling function with three arguments\n",
    "\n",
    "my_function(\"Tom\", \"Harry\", \"Thomas\",\"Shan\") # Calling function with four arguments\n",
    "\n"
   ]
  },
  {
   "cell_type": "code",
   "execution_count": 1,
   "id": "477beade-fd1e-4697-99f2-09adf1758ace",
   "metadata": {},
   "outputs": [
    {
     "name": "stdout",
     "output_type": "stream",
     "text": [
      "The youngest child is Linus\n"
     ]
    }
   ],
   "source": [
    "# Passing arguments with keywords i.e ( bind arguments with parameters name )\n",
    "# Ordering of parameter has no mean in this case\n",
    "\n",
    "def my_function(child3, child2, child1):   # define a function with three parameter \n",
    "  print(\"The youngest child is \" + child3)\n",
    "\n",
    "my_function(child1 = \"Emil\", child2 = \"Tobias\", child3 = \"Linus\") # Calling of function by passing key value pairs , order not matter"
   ]
  },
  {
   "cell_type": "code",
   "execution_count": 2,
   "id": "1e838d54-7fe3-4eb6-a7d1-8d34108e7af3",
   "metadata": {},
   "outputs": [
    {
     "name": "stdout",
     "output_type": "stream",
     "text": [
      "The youngest child is Emil\n"
     ]
    }
   ],
   "source": [
    "# What will be output?\n",
    "my_function(\"Emil\", \"Tobias\", \"Linus\")"
   ]
  },
  {
   "cell_type": "code",
   "execution_count": 16,
   "id": "8022f208-822f-4131-9439-67928587f620",
   "metadata": {},
   "outputs": [
    {
     "name": "stdout",
     "output_type": "stream",
     "text": [
      "{'A1': 'Emil', 'A2': 'Tobias', 'A3': 'Linus'}\n",
      "{'k1': 'V1', 'k2': 'V2', 'k3': 'V3', 'k4': 'V4'}\n"
     ]
    }
   ],
   "source": [
    "# Calling a function with arbitary number of key value pair arguments..\n",
    "\n",
    "def my_function(**kwargs):                      # Note the use of ** before parameter name\n",
    "    \n",
    "    print(kwargs)  # to print all key value pairs of tuple\n",
    "   \n",
    "\n",
    "my_function(A1 = \"Emil\", A2 = \"Tobias\", A3 = \"Linus\") # Calling of function by passing three key value pairs\n",
    "\n",
    "my_function(k1 = \"V1\", k2 = \"V2\", k3 = \"V3\", k4 = \"V4\") # Calling of function by passing four different key value pairs\n"
   ]
  },
  {
   "cell_type": "code",
   "execution_count": 17,
   "id": "852274b2-97d2-4adb-b16c-8b1e8b61c4cb",
   "metadata": {},
   "outputs": [
    {
     "name": "stdout",
     "output_type": "stream",
     "text": [
      "I am from Sweden\n",
      "I am from India\n",
      "I am from Norway\n",
      "I am from Brazil\n"
     ]
    }
   ],
   "source": [
    "# Defining of funtion with default values of parameters...\n",
    "# In that case if we don't pass any argument at function calling time it uses defaut value\n",
    "\n",
    "def my_function(country = \"Norway\"):\n",
    "  print(\"I am from \" + country)\n",
    "\n",
    "my_function(\"Sweden\")\n",
    "my_function(\"India\")\n",
    "my_function()        # Calling of functioin without any argument \n",
    "my_function(\"Brazil\") \n"
   ]
  },
  {
   "cell_type": "code",
   "execution_count": null,
   "id": "8ca8003c-9d22-4500-9b14-3f3a95f9c52c",
   "metadata": {},
   "outputs": [],
   "source": [
    "# Data Types & Function Parameters\n",
    "\n",
    "# We can pass any data type argument in a function parameter\n",
    "\n",
    "# Data type can be : string , number , list , tuple , set , dictionary...\n",
    "\n",
    "# Passed Value still be of 'passed data type' when it reaches the function"
   ]
  },
  {
   "cell_type": "code",
   "execution_count": 18,
   "id": "8b416896-f9b9-4dd3-a09f-c483453116fb",
   "metadata": {},
   "outputs": [
    {
     "name": "stdout",
     "output_type": "stream",
     "text": [
      "apple\n",
      "banana\n",
      "cherry\n"
     ]
    }
   ],
   "source": [
    "# For Ex passing  a List as an argument \n",
    "# it will still be a List when it reaches the function\n",
    "\n",
    "def my_function(food):\n",
    "  for x in food:\n",
    "    print(x)\n",
    "\n",
    "fruits = [\"apple\", \"banana\", \"cherry\"]\n",
    "\n",
    "my_function(fruits)  # passing a list of fruits \n"
   ]
  },
  {
   "cell_type": "code",
   "execution_count": 20,
   "id": "a612e962-743b-42da-a671-1e7fe9ec9380",
   "metadata": {},
   "outputs": [
    {
     "name": "stdout",
     "output_type": "stream",
     "text": [
      "15\n",
      "25\n",
      "45\n"
     ]
    }
   ],
   "source": [
    "# Use of return statment - To return a value from function\n",
    "\n",
    "def my_function(x):\n",
    "  return 5 * x\n",
    "\n",
    "print(my_function(3))\n",
    "print(my_function(5))\n",
    "print(my_function(9)) \n",
    "\n",
    "\n"
   ]
  },
  {
   "cell_type": "code",
   "execution_count": 21,
   "id": "8aa6d49e-4db7-43e5-ba17-535733b52a28",
   "metadata": {},
   "outputs": [],
   "source": [
    "# Use of pass statment while we have nothing to define inside function body\n",
    "# Function body can't be empty \n",
    "# To stop raising an error , we use pass statment\n",
    "\n",
    "def myfunction():\n",
    "  pass \n"
   ]
  },
  {
   "cell_type": "code",
   "execution_count": null,
   "id": "da50923a-3fde-4cff-afbf-af9d985c6518",
   "metadata": {},
   "outputs": [],
   "source": []
  }
 ],
 "metadata": {
  "kernelspec": {
   "display_name": "Python 3 (ipykernel)",
   "language": "python",
   "name": "python3"
  },
  "language_info": {
   "codemirror_mode": {
    "name": "ipython",
    "version": 3
   },
   "file_extension": ".py",
   "mimetype": "text/x-python",
   "name": "python",
   "nbconvert_exporter": "python",
   "pygments_lexer": "ipython3",
   "version": "3.9.13"
  }
 },
 "nbformat": 4,
 "nbformat_minor": 5
}
