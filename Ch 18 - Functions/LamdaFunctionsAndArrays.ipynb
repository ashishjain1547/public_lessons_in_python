{
 "cells": [
  {
   "cell_type": "markdown",
   "id": "8dbf656d-118a-4aef-9f2a-bf2ea3bc83d9",
   "metadata": {},
   "source": [
    "### Use of Lambda function\n",
    "\n",
    "### It is a short anonymous function\n",
    "### Can take any number of arguments but have only one expression\n",
    "\n",
    "### Syntax is \n",
    "### lambda arguments : expression \n",
    "\n",
    "### Here, lambda is the keyword."
   ]
  },
  {
   "cell_type": "code",
   "execution_count": 4,
   "id": "3d8c83dd-b166-4383-a3f9-a5e76daa9376",
   "metadata": {},
   "outputs": [
    {
     "data": {
      "text/plain": [
       "function"
      ]
     },
     "execution_count": 4,
     "metadata": {},
     "output_type": "execute_result"
    }
   ],
   "source": [
    "type(lambda a : a - 5)"
   ]
  },
  {
   "cell_type": "code",
   "execution_count": 5,
   "id": "b43be87e-529e-48dd-98ab-4ae56bb3f91c",
   "metadata": {},
   "outputs": [],
   "source": [
    "b = lambda a : a - 5"
   ]
  },
  {
   "cell_type": "code",
   "execution_count": 6,
   "id": "82d23cf1-3e9d-4972-9d28-dfcb36beb208",
   "metadata": {},
   "outputs": [],
   "source": [
    "def b(a):\n",
    "    return a - 5"
   ]
  },
  {
   "cell_type": "code",
   "execution_count": 7,
   "id": "966aedd0-31a3-44ec-872c-15a27399ef97",
   "metadata": {},
   "outputs": [
    {
     "name": "stdout",
     "output_type": "stream",
     "text": [
      "15\n"
     ]
    }
   ],
   "source": [
    "# For Ex - \n",
    "# Add 10 to argument a, and return the result:\n",
    "\n",
    "x = lambda a : a + 10\n",
    "print(x(5)) "
   ]
  },
  {
   "cell_type": "code",
   "execution_count": 8,
   "id": "86f09b18-6fc6-44ac-9e84-4e85f86ebf84",
   "metadata": {},
   "outputs": [
    {
     "data": {
      "text/plain": [
       "20"
      ]
     },
     "execution_count": 8,
     "metadata": {},
     "output_type": "execute_result"
    }
   ],
   "source": [
    "x(10)"
   ]
  },
  {
   "cell_type": "code",
   "execution_count": 2,
   "id": "5df16dd2-07da-48ce-94a0-8f0a889d5190",
   "metadata": {},
   "outputs": [
    {
     "name": "stdout",
     "output_type": "stream",
     "text": [
      "30\n"
     ]
    }
   ],
   "source": [
    "# For Ex - Multiply argument a with argument b and return the result:\n",
    "x = lambda a, b : a * b\n",
    "print(x(5, 6)) \n"
   ]
  },
  {
   "cell_type": "code",
   "execution_count": 3,
   "id": "a99f8c28-7e15-49fd-b740-2d6778c132c8",
   "metadata": {},
   "outputs": [
    {
     "name": "stdout",
     "output_type": "stream",
     "text": [
      "13\n"
     ]
    }
   ],
   "source": [
    "# For Ex - Summarize argument a, b, and c and return the result:\n",
    "x = lambda a, b, c : a + b + c\n",
    "print(x(5, 6, 2)) \n"
   ]
  },
  {
   "cell_type": "code",
   "execution_count": 4,
   "id": "3041bbe8-50e1-4051-81f1-468b9b57c100",
   "metadata": {},
   "outputs": [
    {
     "name": "stdout",
     "output_type": "stream",
     "text": [
      "22\n",
      "33\n"
     ]
    }
   ],
   "source": [
    "# Use of lamda function inside another function \n",
    "\n",
    "# Using a lambda function to define a generic function \n",
    "\n",
    "# For Ex - Following Generic function works and doubler or tripper based on passed argument value\n",
    "\n",
    "def myfunc(n):\n",
    "  return lambda a : a * n      \n",
    "\n",
    "mydoubler = myfunc(2) # Defining a doublers \n",
    "\n",
    "print(mydoubler(11)) # Display output from doubler \n",
    "\n",
    "mytripler = myfunc(3) # Defining a trippler\n",
    "\n",
    "print(mytripler(11)) # Display output from trippler\n",
    "\n",
    "\n",
    "\n"
   ]
  }
 ],
 "metadata": {
  "kernelspec": {
   "display_name": "Python 3 (ipykernel)",
   "language": "python",
   "name": "python3"
  },
  "language_info": {
   "codemirror_mode": {
    "name": "ipython",
    "version": 3
   },
   "file_extension": ".py",
   "mimetype": "text/x-python",
   "name": "python",
   "nbconvert_exporter": "python",
   "pygments_lexer": "ipython3",
   "version": "3.9.13"
  }
 },
 "nbformat": 4,
 "nbformat_minor": 5
}
