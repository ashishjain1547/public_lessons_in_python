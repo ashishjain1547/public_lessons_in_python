{
 "cells": [
  {
   "cell_type": "code",
   "execution_count": null,
   "id": "d7cd7f60-0d3e-4d9b-bd10-1f41ee4892b7",
   "metadata": {},
   "outputs": [],
   "source": [
    "# Use of Lambda function\n",
    "\n",
    "# It is a short anonymous function\n",
    "# Can take any number of arguments but have only one expression\n",
    "\n",
    "# Syntax  : lambda arguments : expression \n",
    "  "
   ]
  },
  {
   "cell_type": "code",
   "execution_count": 1,
   "id": "966aedd0-31a3-44ec-872c-15a27399ef97",
   "metadata": {},
   "outputs": [
    {
     "name": "stdout",
     "output_type": "stream",
     "text": [
      "15\n"
     ]
    }
   ],
   "source": [
    "# For Ex - Add 10 to argument a, and return the result:\n",
    "\n",
    "x = lambda a : a + 10\n",
    "print(x(5)) \n"
   ]
  },
  {
   "cell_type": "code",
   "execution_count": 2,
   "id": "5df16dd2-07da-48ce-94a0-8f0a889d5190",
   "metadata": {},
   "outputs": [
    {
     "name": "stdout",
     "output_type": "stream",
     "text": [
      "30\n"
     ]
    }
   ],
   "source": [
    "# For Ex - Multiply argument a with argument b and return the result:\n",
    "x = lambda a, b : a * b\n",
    "print(x(5, 6)) \n"
   ]
  },
  {
   "cell_type": "code",
   "execution_count": 3,
   "id": "a99f8c28-7e15-49fd-b740-2d6778c132c8",
   "metadata": {},
   "outputs": [
    {
     "name": "stdout",
     "output_type": "stream",
     "text": [
      "13\n"
     ]
    }
   ],
   "source": [
    "# For Ex - Summarize argument a, b, and c and return the result:\n",
    "x = lambda a, b, c : a + b + c\n",
    "print(x(5, 6, 2)) \n"
   ]
  },
  {
   "cell_type": "code",
   "execution_count": 4,
   "id": "3041bbe8-50e1-4051-81f1-468b9b57c100",
   "metadata": {},
   "outputs": [
    {
     "name": "stdout",
     "output_type": "stream",
     "text": [
      "22\n",
      "33\n"
     ]
    }
   ],
   "source": [
    "# Use of lamda function inside another function \n",
    "\n",
    "# Using a lambda function to define a generic function \n",
    "\n",
    "# For Ex - Following Generic function works and doubler or tripper based on passed argument value\n",
    "\n",
    "def myfunc(n):\n",
    "  return lambda a : a * n      \n",
    "\n",
    "mydoubler = myfunc(2) # Defining a doublers \n",
    "\n",
    "print(mydoubler(11)) # Display output from doubler \n",
    "\n",
    "mytripler = myfunc(3) # Defining a trippler\n",
    "\n",
    "print(mytripler(11)) # Display output from trippler\n",
    "\n",
    "\n",
    "\n"
   ]
  },
  {
   "cell_type": "code",
   "execution_count": null,
   "id": "f313cd16-2031-4adc-90e2-7ed34e80ffee",
   "metadata": {},
   "outputs": [],
   "source": [
    "# Arrays in Python\n",
    "\n",
    "# A variable that hold multiple items \n",
    "# No built in support in python\n",
    "# Instead we have to use list data type to use an array\n"
   ]
  },
  {
   "cell_type": "code",
   "execution_count": 5,
   "id": "0bcb7847-e1ed-4303-8295-df954b01abf7",
   "metadata": {},
   "outputs": [
    {
     "name": "stdout",
     "output_type": "stream",
     "text": [
      "['Ford', 'Volvo', 'BMW']\n"
     ]
    }
   ],
   "source": [
    "# For Ex - Create an array containing car names:\n",
    "\n",
    "cars = [\"Ford\", \"Volvo\", \"BMW\"] \n",
    "print(cars)\n"
   ]
  },
  {
   "cell_type": "code",
   "execution_count": 6,
   "id": "c813225e-da27-46d5-82f6-5523392a6858",
   "metadata": {},
   "outputs": [
    {
     "name": "stdout",
     "output_type": "stream",
     "text": [
      "Volvo\n"
     ]
    }
   ],
   "source": [
    "# For Ex - Accessing array elements using index\n",
    "\n",
    "cars = [\"Ford\", \"Volvo\", \"BMW\"] \n",
    "print(cars[1])"
   ]
  },
  {
   "cell_type": "code",
   "execution_count": 7,
   "id": "eae2a5a9-b481-442f-8b69-aaa9de616b0c",
   "metadata": {},
   "outputs": [
    {
     "name": "stdout",
     "output_type": "stream",
     "text": [
      "['Ford', 'Esteem', 'BMW']\n"
     ]
    }
   ],
   "source": [
    "# For Ex - Modifying array elements using index\n",
    "\n",
    "cars = [\"Ford\", \"Volvo\", \"BMW\"] \n",
    "cars[1] = \"Esteem\" # Changing second item of array\n",
    "print(cars)"
   ]
  },
  {
   "cell_type": "code",
   "execution_count": 8,
   "id": "0b836ed9-e795-4801-86a4-ba4a0253aebb",
   "metadata": {},
   "outputs": [
    {
     "name": "stdout",
     "output_type": "stream",
     "text": [
      "['Ford', 'Volvo', 'BMW', 'Tata']\n"
     ]
    }
   ],
   "source": [
    "# For Ex - Adding an item into array\n",
    "\n",
    "cars = [\"Ford\", \"Volvo\", \"BMW\"] \n",
    "cars.append(\"Tata\") # Appending an item in an array\n",
    "print(cars)\n"
   ]
  },
  {
   "cell_type": "code",
   "execution_count": 9,
   "id": "fee155b6-9a1b-4d9d-b78b-dffc6e50e08e",
   "metadata": {},
   "outputs": [
    {
     "name": "stdout",
     "output_type": "stream",
     "text": [
      "['Volvo', 'BMW']\n"
     ]
    }
   ],
   "source": [
    "# For Ex - Removing an item from Array\n",
    "\n",
    "cars = [\"Ford\", \"Volvo\", \"BMW\"] \n",
    "cars.remove(\"Ford\") # Removing an item using item value\n",
    "print(cars)"
   ]
  },
  {
   "cell_type": "code",
   "execution_count": 10,
   "id": "2f36c566-40a6-4967-920e-386edce3f08c",
   "metadata": {},
   "outputs": [
    {
     "name": "stdout",
     "output_type": "stream",
     "text": [
      "['Ford', 'Volvo']\n"
     ]
    }
   ],
   "source": [
    "# For Ex - Removing last item from an array using pop method \n",
    "\n",
    "cars = [\"Ford\", \"Volvo\", \"BMW\"] \n",
    "cars.pop() # Removing last item from array\n",
    "print(cars)"
   ]
  },
  {
   "cell_type": "code",
   "execution_count": null,
   "id": "25d5849f-58b3-4771-8ebc-da8f9e0939dd",
   "metadata": {},
   "outputs": [],
   "source": [
    "# Built in methods that can be used with arrays/list \n",
    "\n",
    "\"\"\"\n",
    "\n",
    "\n",
    "Method \t Description\n",
    "append() \t Adds an element at the end of the list\n",
    "clear() \t Removes all the elements from the list\n",
    "copy() \t Returns a copy of the list\n",
    "count() \t Returns the number of elements with the specified value\n",
    "extend() \t Add the elements of a list (or any iterable), to the end of the current list\n",
    "index() \t Returns the index of the first element with the specified value\n",
    "insert() \t Adds an element at the specified position\n",
    "pop() \t Removes the element at the specified position\n",
    "remove() \t Removes the first item with the specified value\n",
    "reverse() \t Reverses the order of the list\n",
    "sort() \t Sorts the list\n",
    "\n",
    "\n",
    "\n",
    "\"\"\""
   ]
  }
 ],
 "metadata": {
  "kernelspec": {
   "display_name": "Python 3 (ipykernel)",
   "language": "python",
   "name": "python3"
  },
  "language_info": {
   "codemirror_mode": {
    "name": "ipython",
    "version": 3
   },
   "file_extension": ".py",
   "mimetype": "text/x-python",
   "name": "python",
   "nbconvert_exporter": "python",
   "pygments_lexer": "ipython3",
   "version": "3.10.9"
  }
 },
 "nbformat": 4,
 "nbformat_minor": 5
}
