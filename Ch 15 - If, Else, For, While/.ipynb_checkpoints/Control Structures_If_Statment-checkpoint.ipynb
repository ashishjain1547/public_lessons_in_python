{
 "cells": [
  {
   "cell_type": "code",
   "execution_count": null,
   "id": "d7cd7f60-0d3e-4d9b-bd10-1f41ee4892b7",
   "metadata": {},
   "outputs": [],
   "source": [
    "#Control Structures\n",
    "\n",
    "    # If Statment\n",
    "    # While Loop\n",
    "    # For Loop"
   ]
  },
  {
   "cell_type": "code",
   "execution_count": 3,
   "id": "12cafd45-9f85-4a65-8811-f262ee3c7e83",
   "metadata": {},
   "outputs": [
    {
     "name": "stdout",
     "output_type": "stream",
     "text": [
      "a is greater than b\n"
     ]
    }
   ],
   "source": [
    "# Simple If Statment \n",
    "a = 9\n",
    "b = 2\n",
    "if a > b :\n",
    "    print(\"a is greater than b\")\n",
    "    "
   ]
  },
  {
   "cell_type": "code",
   "execution_count": 4,
   "id": "4d5fc301-df92-43ff-ae5c-fe55414581d3",
   "metadata": {},
   "outputs": [
    {
     "ename": "IndentationError",
     "evalue": "expected an indented block after 'if' statement on line 7 (2840530102.py, line 8)",
     "output_type": "error",
     "traceback": [
      "\u001b[1;36m  Cell \u001b[1;32mIn[4], line 8\u001b[1;36m\u001b[0m\n\u001b[1;33m    print(\"b is greater than a\") # you will get an error\u001b[0m\n\u001b[1;37m    ^\u001b[0m\n\u001b[1;31mIndentationError\u001b[0m\u001b[1;31m:\u001b[0m expected an indented block after 'if' statement on line 7\n"
     ]
    }
   ],
   "source": [
    "# If statement, without indentation (will raise an error)\n",
    "\n",
    "# For Ex - \n",
    "\n",
    "a = 33\n",
    "b = 200\n",
    "if b > a:\n",
    "print(\"b is greater than a\") # you will get an error \n"
   ]
  },
  {
   "cell_type": "code",
   "execution_count": 8,
   "id": "864a9994-8a99-4cc5-9842-42c1d7769bc0",
   "metadata": {},
   "outputs": [
    {
     "name": "stdout",
     "output_type": "stream",
     "text": [
      "b is not greater than a\n"
     ]
    }
   ],
   "source": [
    "# Use of else statment\n",
    "\n",
    "a = 200\n",
    "b = 33\n",
    "if b > a:\n",
    "  print(\"b is greater than a\")\n",
    "else:\n",
    "  print(\"b is not greater than a\")\n"
   ]
  },
  {
   "cell_type": "code",
   "execution_count": 9,
   "id": "6c2eb7e3-46c0-4f26-af9f-79f8a2b485f8",
   "metadata": {},
   "outputs": [
    {
     "name": "stdout",
     "output_type": "stream",
     "text": [
      " b is less than a\n"
     ]
    }
   ],
   "source": [
    "# Use of elif and else statment\n",
    "\n",
    "a = 33\n",
    "b = 32\n",
    "if b > a:\n",
    "  print(\"b is greater than a\")\n",
    "elif a == b:\n",
    "  print(\"a and b are equal\")\n",
    "else:\n",
    "  print(\" b is less than a\")"
   ]
  },
  {
   "cell_type": "code",
   "execution_count": 10,
   "id": "f8833efc-91bf-4f09-8c3e-3ccff16f5090",
   "metadata": {},
   "outputs": [
    {
     "name": "stdout",
     "output_type": "stream",
     "text": [
      "a is greater than b\n"
     ]
    }
   ],
   "source": [
    "# Use of shorthand if statment\n",
    "# If you have only one statement to execute, you can put it on the same line as the if statement.\n",
    "\n",
    "a = 200\n",
    "b = 33\n",
    "if a > b: print(\"a is greater than b\") \n"
   ]
  },
  {
   "cell_type": "code",
   "execution_count": 11,
   "id": "ba535209-f02d-48d0-aa06-cf32d54b8dc3",
   "metadata": {},
   "outputs": [
    {
     "name": "stdout",
     "output_type": "stream",
     "text": [
      "B\n"
     ]
    }
   ],
   "source": [
    "# Shorthand if else statment\n",
    "# This technique is known as Ternary Operators, or Conditional Expressions\n",
    "\n",
    "a = 2\n",
    "b = 330\n",
    "print(\"A\") if a > b else print(\"B\") \n"
   ]
  },
  {
   "cell_type": "code",
   "execution_count": 15,
   "id": "dc2d2713-44b3-4044-bb87-aea46e1752fd",
   "metadata": {},
   "outputs": [
    {
     "name": "stdout",
     "output_type": "stream",
     "text": [
      "=\n"
     ]
    }
   ],
   "source": [
    "# We can also have multiple else statements on the same line\n",
    "\n",
    "# One line if else statement, with 3 conditions:\n",
    "\n",
    "a = 330\n",
    "b = 330\n",
    "print(\"A\") if a > b else print(\"=\") if a == b else print(\"B\") \n"
   ]
  },
  {
   "cell_type": "code",
   "execution_count": 16,
   "id": "c5872357-71d5-4806-b2d0-b48d51f23087",
   "metadata": {},
   "outputs": [
    {
     "name": "stdout",
     "output_type": "stream",
     "text": [
      "Both conditions are True\n"
     ]
    }
   ],
   "source": [
    "# Use of AND Operator to combine multiple conditions\n",
    "\n",
    "a = 200\n",
    "b = 33\n",
    "c = 500\n",
    "if a > b and c > a:\n",
    "  print(\"Both conditions are True\")\n"
   ]
  },
  {
   "cell_type": "code",
   "execution_count": 17,
   "id": "c9328e89-2f84-445f-9f54-f434bfc361b5",
   "metadata": {},
   "outputs": [
    {
     "name": "stdout",
     "output_type": "stream",
     "text": [
      "At least one of the conditions is True\n"
     ]
    }
   ],
   "source": [
    "# Use of OR Operator to combine multiple conditions\n",
    "\n",
    "a = 200\n",
    "b = 33\n",
    "c = 500\n",
    "if a > b or a > c:\n",
    "  print(\"At least one of the conditions is True\")\n"
   ]
  },
  {
   "cell_type": "code",
   "execution_count": 18,
   "id": "f4fdf9e9-792b-4b4f-876c-fcd03a0c4cc5",
   "metadata": {},
   "outputs": [
    {
     "name": "stdout",
     "output_type": "stream",
     "text": [
      "Above ten,\n",
      "and also above 20!\n"
     ]
    }
   ],
   "source": [
    "# Use of If inside If ( Nested If Statement)\n",
    "\n",
    "x = 41\n",
    "\n",
    "if x > 10:\n",
    "  print(\"Above ten,\")\n",
    "  if x > 20:\n",
    "    print(\"and also above 20!\")\n",
    "  else:\n",
    "    print(\"but not above 20.\") \n",
    "\n"
   ]
  },
  {
   "cell_type": "code",
   "execution_count": 19,
   "id": "df2691c3-fb56-4ad0-ba3c-143692a3f3bc",
   "metadata": {},
   "outputs": [],
   "source": [
    "# Use of Pass statment\n",
    "\n",
    "a = 33\n",
    "b = 200\n",
    "\n",
    "if b > a:\n",
    "  pass\n"
   ]
  },
  {
   "cell_type": "code",
   "execution_count": 20,
   "id": "a502bf84-a588-4565-8146-77704bdfa91d",
   "metadata": {},
   "outputs": [
    {
     "ename": "SyntaxError",
     "evalue": "incomplete input (4255011265.py, line 9)",
     "output_type": "error",
     "traceback": [
      "\u001b[1;36m  Cell \u001b[1;32mIn[20], line 9\u001b[1;36m\u001b[0m\n\u001b[1;33m    \u001b[0m\n\u001b[1;37m    ^\u001b[0m\n\u001b[1;31mSyntaxError\u001b[0m\u001b[1;31m:\u001b[0m incomplete input\n"
     ]
    }
   ],
   "source": [
    "# Try to use empty if statment\n",
    "\n",
    "# Use of Pass statment\n",
    "\n",
    "a = 33\n",
    "b = 200\n",
    "\n",
    "if b > a:  # Will raise an Error\n",
    " \n"
   ]
  },
  {
   "cell_type": "code",
   "execution_count": null,
   "id": "f29f700e-d080-4456-b828-360f64c4a2c9",
   "metadata": {},
   "outputs": [],
   "source": []
  }
 ],
 "metadata": {
  "kernelspec": {
   "display_name": "Python 3 (ipykernel)",
   "language": "python",
   "name": "python3"
  },
  "language_info": {
   "codemirror_mode": {
    "name": "ipython",
    "version": 3
   },
   "file_extension": ".py",
   "mimetype": "text/x-python",
   "name": "python",
   "nbconvert_exporter": "python",
   "pygments_lexer": "ipython3",
   "version": "3.9.13"
  }
 },
 "nbformat": 4,
 "nbformat_minor": 5
}
