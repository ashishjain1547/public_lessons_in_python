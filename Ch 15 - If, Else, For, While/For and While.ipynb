{
 "cells": [
  {
   "cell_type": "code",
   "execution_count": 2,
   "id": "a30aea49-adaa-40a0-861a-f462b04ab8c2",
   "metadata": {},
   "outputs": [
    {
     "name": "stdout",
     "output_type": "stream",
     "text": [
      "Ashish\n",
      "Lijiya\n",
      "Bala\n"
     ]
    }
   ],
   "source": [
    "l = ['Ashish', 'Lijiya', 'Bala'] \n",
    "for i in l:\n",
    "    print(i)"
   ]
  },
  {
   "cell_type": "code",
   "execution_count": 3,
   "id": "bd3ad2b1-000d-4c54-a97a-1953cab12728",
   "metadata": {},
   "outputs": [
    {
     "name": "stdin",
     "output_type": "stream",
     "text": [
      "Enter the number:  9\n",
      "Enter the number:  2\n",
      "Enter the number:  5\n",
      "Enter the number:  1\n",
      "Enter the number:  0\n",
      "Enter the number:  8\n",
      "Enter the number:  4\n",
      "Enter the number:  3\n",
      "Enter the number:  6\n",
      "Enter the number:  7\n"
     ]
    },
    {
     "name": "stdout",
     "output_type": "stream",
     "text": [
      "45\n"
     ]
    }
   ],
   "source": [
    "l = []\n",
    "for i in range(10):\n",
    "    l.append(int(input(\"Enter the number: \")))\n",
    "\n",
    "s = sum(l)\n",
    "print(s)\n",
    "\n",
    "avg = sum(l) / len(l)"
   ]
  },
  {
   "cell_type": "code",
   "execution_count": 4,
   "id": "0d1caad4-9fce-4042-96f1-b40ef0cc8511",
   "metadata": {},
   "outputs": [
    {
     "data": {
      "text/plain": [
       "4.5"
      ]
     },
     "execution_count": 4,
     "metadata": {},
     "output_type": "execute_result"
    }
   ],
   "source": [
    "avg"
   ]
  },
  {
   "cell_type": "code",
   "execution_count": null,
   "id": "faf4274d-e4e3-4ce9-9554-202a02ae7538",
   "metadata": {},
   "outputs": [],
   "source": []
  },
  {
   "cell_type": "code",
   "execution_count": 5,
   "id": "a0196617-6a1b-4c25-bbe6-589398549fdf",
   "metadata": {},
   "outputs": [
    {
     "name": "stdout",
     "output_type": "stream",
     "text": [
      "1\n",
      "2\n",
      "3\n",
      "4\n",
      "5\n",
      "6\n",
      "7\n",
      "8\n",
      "9\n",
      "10\n"
     ]
    }
   ],
   "source": [
    "\"\"\" \n",
    "for i in range(1, 11):\n",
    "    print(i) \n",
    "\"\"\"\n",
    "\n",
    "\n",
    "i = 1\n",
    "while(i < 11):\n",
    "    print(i, sep=\" \")\n",
    "    i += 1"
   ]
  },
  {
   "cell_type": "code",
   "execution_count": null,
   "id": "4e7ed7c2-49e0-42b3-83fc-c14bbe8295e7",
   "metadata": {},
   "outputs": [],
   "source": []
  }
 ],
 "metadata": {
  "kernelspec": {
   "display_name": "Python 3 (ipykernel)",
   "language": "python",
   "name": "python3"
  },
  "language_info": {
   "codemirror_mode": {
    "name": "ipython",
    "version": 3
   },
   "file_extension": ".py",
   "mimetype": "text/x-python",
   "name": "python",
   "nbconvert_exporter": "python",
   "pygments_lexer": "ipython3",
   "version": "3.9.13"
  }
 },
 "nbformat": 4,
 "nbformat_minor": 5
}
