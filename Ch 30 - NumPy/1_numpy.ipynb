{
 "cells": [
  {
   "cell_type": "code",
   "execution_count": 1,
   "id": "366f3d59-8b77-4cd2-9734-97ed3ca555e6",
   "metadata": {},
   "outputs": [],
   "source": [
    "import numpy as np"
   ]
  },
  {
   "cell_type": "markdown",
   "id": "424e7c9e-9391-47ec-b52e-c28978cb7371",
   "metadata": {},
   "source": [
    "# Creating a list of ones"
   ]
  },
  {
   "cell_type": "code",
   "execution_count": 16,
   "id": "9c60907f-9602-4d55-a3ce-a8a34b353fb1",
   "metadata": {},
   "outputs": [],
   "source": [
    "l = [1 for i in range(1000)] "
   ]
  },
  {
   "cell_type": "code",
   "execution_count": 17,
   "id": "daab44d3-2fe3-42c5-af08-60d067bc7ccf",
   "metadata": {},
   "outputs": [
    {
     "data": {
      "text/plain": [
       "1000"
      ]
     },
     "execution_count": 17,
     "metadata": {},
     "output_type": "execute_result"
    }
   ],
   "source": [
    "len(l)"
   ]
  },
  {
   "cell_type": "code",
   "execution_count": 18,
   "id": "af851ad5-6d95-46df-b4d3-ea28d3a8ef0c",
   "metadata": {},
   "outputs": [
    {
     "data": {
      "text/plain": [
       "[1, 1, 1, 1, 1]"
      ]
     },
     "execution_count": 18,
     "metadata": {},
     "output_type": "execute_result"
    }
   ],
   "source": [
    "l[0:5]"
   ]
  },
  {
   "cell_type": "code",
   "execution_count": 19,
   "id": "8d84d08f-7e91-4e1b-8f09-fdd6290519cd",
   "metadata": {},
   "outputs": [
    {
     "data": {
      "text/plain": [
       "list"
      ]
     },
     "execution_count": 19,
     "metadata": {},
     "output_type": "execute_result"
    }
   ],
   "source": [
    "type(l)"
   ]
  },
  {
   "cell_type": "markdown",
   "id": "960e4fc6-44fa-4000-acf6-89ce3bc2d3d0",
   "metadata": {},
   "source": [
    "### Using NumPy"
   ]
  },
  {
   "cell_type": "code",
   "execution_count": 23,
   "id": "0c451b46-2bdc-43e1-848c-0e1e785cbc11",
   "metadata": {},
   "outputs": [],
   "source": [
    "o = np.ones((1000))"
   ]
  },
  {
   "cell_type": "code",
   "execution_count": 24,
   "id": "ce456310-196a-4c16-aa70-424a31a2d996",
   "metadata": {},
   "outputs": [
    {
     "data": {
      "text/plain": [
       "array([1., 1., 1., 1., 1.])"
      ]
     },
     "execution_count": 24,
     "metadata": {},
     "output_type": "execute_result"
    }
   ],
   "source": [
    "o[0:5]"
   ]
  },
  {
   "cell_type": "code",
   "execution_count": 26,
   "id": "f7604d88-45cb-4ced-9a9f-05a8130b32d2",
   "metadata": {},
   "outputs": [],
   "source": [
    "z = np.zeros((1000))"
   ]
  },
  {
   "cell_type": "code",
   "execution_count": 28,
   "id": "96451414-dd8c-46fd-b9ea-539a39c8deb7",
   "metadata": {},
   "outputs": [
    {
     "data": {
      "text/plain": [
       "array([0., 0., 0., 0., 0.])"
      ]
     },
     "execution_count": 28,
     "metadata": {},
     "output_type": "execute_result"
    }
   ],
   "source": [
    "z[0:5]"
   ]
  },
  {
   "cell_type": "markdown",
   "id": "7caf1efa-9a65-4bae-9585-3df93ff10d92",
   "metadata": {},
   "source": [
    "# Masking"
   ]
  },
  {
   "cell_type": "code",
   "execution_count": 30,
   "id": "cef3505b-98b1-4b2b-91c2-6e98bff75fb3",
   "metadata": {},
   "outputs": [],
   "source": [
    "import random "
   ]
  },
  {
   "cell_type": "code",
   "execution_count": 50,
   "id": "d0f6378a-21ee-4549-8521-6b8497ccd803",
   "metadata": {},
   "outputs": [],
   "source": [
    "l = [random.randrange(1000, 9000) for i in range(10)]"
   ]
  },
  {
   "cell_type": "code",
   "execution_count": 51,
   "id": "46180228-18e0-4c73-91e7-1572ea8d8872",
   "metadata": {},
   "outputs": [
    {
     "data": {
      "text/plain": [
       "[3904, 8894, 2298, 2101, 7895, 5910, 7619, 3456, 5180, 3438]"
      ]
     },
     "execution_count": 51,
     "metadata": {},
     "output_type": "execute_result"
    }
   ],
   "source": [
    "l"
   ]
  },
  {
   "cell_type": "markdown",
   "id": "8767a90b-abea-4260-9164-59219cde8672",
   "metadata": {},
   "source": [
    "# We want last four bits of each of these numbers"
   ]
  },
  {
   "cell_type": "code",
   "execution_count": 52,
   "id": "228c53cb-3fa6-4ed9-ba6c-3debe8a3dd2e",
   "metadata": {},
   "outputs": [],
   "source": [
    "mask = [0, 0, 1, 1]"
   ]
  },
  {
   "cell_type": "code",
   "execution_count": 61,
   "id": "9d1533a4-7b05-4edc-a6b2-a06ef0bbd3bd",
   "metadata": {},
   "outputs": [
    {
     "name": "stdout",
     "output_type": "stream",
     "text": [
      "**04\n",
      "**94\n",
      "**98\n",
      "**01\n",
      "**95\n",
      "**10\n",
      "**19\n",
      "**56\n",
      "**80\n",
      "**38\n"
     ]
    }
   ],
   "source": [
    "for i in l:\n",
    "    i = str(i)\n",
    "    j = ['*' if x[1] == 0 else x[0] for x in zip(i, mask)]\n",
    "    print(''.join(j))"
   ]
  },
  {
   "cell_type": "code",
   "execution_count": null,
   "id": "9c6cbda5-87e6-455f-904c-a4b9e30f1ce7",
   "metadata": {},
   "outputs": [],
   "source": []
  }
 ],
 "metadata": {
  "kernelspec": {
   "display_name": "Python 3 (ipykernel)",
   "language": "python",
   "name": "python3"
  },
  "language_info": {
   "codemirror_mode": {
    "name": "ipython",
    "version": 3
   },
   "file_extension": ".py",
   "mimetype": "text/x-python",
   "name": "python",
   "nbconvert_exporter": "python",
   "pygments_lexer": "ipython3",
   "version": "3.9.13"
  }
 },
 "nbformat": 4,
 "nbformat_minor": 5
}
