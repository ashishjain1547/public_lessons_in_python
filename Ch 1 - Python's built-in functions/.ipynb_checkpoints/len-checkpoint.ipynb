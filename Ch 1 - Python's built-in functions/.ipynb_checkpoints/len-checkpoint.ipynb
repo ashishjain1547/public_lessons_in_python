{
 "cells": [
  {
   "cell_type": "code",
   "execution_count": 1,
   "id": "74c09c96-d991-4b58-93e9-d02aa2450a02",
   "metadata": {},
   "outputs": [
    {
     "name": "stdin",
     "output_type": "stream",
     "text": [
      "Enter your name ashish\n"
     ]
    }
   ],
   "source": [
    "n = input(\"Enter your name\")"
   ]
  },
  {
   "cell_type": "code",
   "execution_count": 2,
   "id": "688f286d-63da-4375-8be6-9febee5d176b",
   "metadata": {},
   "outputs": [
    {
     "data": {
      "text/plain": [
       "6"
      ]
     },
     "execution_count": 2,
     "metadata": {},
     "output_type": "execute_result"
    }
   ],
   "source": [
    "len(n)"
   ]
  },
  {
   "cell_type": "code",
   "execution_count": 3,
   "id": "f902d149-216b-424b-9983-ddfd9c20fc7f",
   "metadata": {},
   "outputs": [],
   "source": [
    "m = 'Ram'"
   ]
  },
  {
   "cell_type": "code",
   "execution_count": 4,
   "id": "ada7c1d2-d61e-4c1b-b8af-fdaf48ed7e51",
   "metadata": {},
   "outputs": [
    {
     "data": {
      "text/plain": [
       "3"
      ]
     },
     "execution_count": 4,
     "metadata": {},
     "output_type": "execute_result"
    }
   ],
   "source": [
    "len(m)"
   ]
  },
  {
   "cell_type": "code",
   "execution_count": 5,
   "id": "f71f9467-db59-4d02-8e51-6c995e227674",
   "metadata": {},
   "outputs": [],
   "source": [
    "l = ['ashish', 'ram', 'jack']"
   ]
  },
  {
   "cell_type": "code",
   "execution_count": 6,
   "id": "15dce2a3-cac8-4ca0-90e5-ee997e84f21d",
   "metadata": {},
   "outputs": [
    {
     "data": {
      "text/plain": [
       "3"
      ]
     },
     "execution_count": 6,
     "metadata": {},
     "output_type": "execute_result"
    }
   ],
   "source": [
    "len(l)"
   ]
  },
  {
   "cell_type": "code",
   "execution_count": 7,
   "id": "c2554d11-b869-41cc-b6ea-0eed15a61eb1",
   "metadata": {},
   "outputs": [],
   "source": [
    "k = [1, 2, 3, 5, 7, 10]"
   ]
  },
  {
   "cell_type": "code",
   "execution_count": 8,
   "id": "adf99181-5634-41d0-a950-4126b6f2af6b",
   "metadata": {},
   "outputs": [
    {
     "data": {
      "text/plain": [
       "6"
      ]
     },
     "execution_count": 8,
     "metadata": {},
     "output_type": "execute_result"
    }
   ],
   "source": [
    "len(k)"
   ]
  },
  {
   "cell_type": "code",
   "execution_count": null,
   "id": "f381a123-ea0e-42c1-8379-79a59e1bef5f",
   "metadata": {},
   "outputs": [],
   "source": []
  }
 ],
 "metadata": {
  "kernelspec": {
   "display_name": "Python 3 (ipykernel)",
   "language": "python",
   "name": "python3"
  },
  "language_info": {
   "codemirror_mode": {
    "name": "ipython",
    "version": 3
   },
   "file_extension": ".py",
   "mimetype": "text/x-python",
   "name": "python",
   "nbconvert_exporter": "python",
   "pygments_lexer": "ipython3",
   "version": "3.9.13"
  }
 },
 "nbformat": 4,
 "nbformat_minor": 5
}
