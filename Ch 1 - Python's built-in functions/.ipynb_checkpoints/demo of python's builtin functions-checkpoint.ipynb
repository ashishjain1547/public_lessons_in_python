{
 "cells": [
  {
   "cell_type": "code",
   "execution_count": 1,
   "id": "3cf4ab78-8784-4f8b-97c1-20a46f9ac9ac",
   "metadata": {},
   "outputs": [],
   "source": [
    "i = 5"
   ]
  },
  {
   "cell_type": "code",
   "execution_count": 2,
   "id": "0236edad-7fd6-4c77-8896-996efc023493",
   "metadata": {},
   "outputs": [
    {
     "name": "stdout",
     "output_type": "stream",
     "text": [
      "5\n"
     ]
    }
   ],
   "source": [
    "print(i)"
   ]
  },
  {
   "cell_type": "code",
   "execution_count": 7,
   "id": "ffd615a9-23f1-453a-b20d-0fc3ad7da628",
   "metadata": {},
   "outputs": [
    {
     "name": "stdin",
     "output_type": "stream",
     "text": [
      "Enter your name Ashish\n"
     ]
    }
   ],
   "source": [
    "name = input(\"Enter your name\")"
   ]
  },
  {
   "cell_type": "code",
   "execution_count": 8,
   "id": "999ba54a-0b64-463a-8ed4-227855da119d",
   "metadata": {},
   "outputs": [
    {
     "data": {
      "text/plain": [
       "6"
      ]
     },
     "execution_count": 8,
     "metadata": {},
     "output_type": "execute_result"
    }
   ],
   "source": [
    "len(name)"
   ]
  },
  {
   "cell_type": "code",
   "execution_count": 3,
   "id": "74299f34-eac4-48a9-901c-ca9b72cb17ae",
   "metadata": {},
   "outputs": [
    {
     "data": {
      "text/plain": [
       "int"
      ]
     },
     "execution_count": 3,
     "metadata": {},
     "output_type": "execute_result"
    }
   ],
   "source": [
    "type(i)"
   ]
  },
  {
   "cell_type": "code",
   "execution_count": 4,
   "id": "5eb42cf2-3a87-472e-abd1-d433f0895b00",
   "metadata": {},
   "outputs": [],
   "source": [
    "j = 5.2"
   ]
  },
  {
   "cell_type": "code",
   "execution_count": 5,
   "id": "2d38a60b-6b2a-47b7-b398-ae94be8eaad0",
   "metadata": {},
   "outputs": [
    {
     "data": {
      "text/plain": [
       "float"
      ]
     },
     "execution_count": 5,
     "metadata": {},
     "output_type": "execute_result"
    }
   ],
   "source": [
    "type(j)"
   ]
  },
  {
   "cell_type": "code",
   "execution_count": 6,
   "id": "2192e32c-c3fe-4772-8d31-7035ec410d47",
   "metadata": {},
   "outputs": [],
   "source": [
    "k = '6.4'"
   ]
  },
  {
   "cell_type": "code",
   "execution_count": 7,
   "id": "e6b48f66-d0f5-43b7-a5a5-3f5003de9ae6",
   "metadata": {},
   "outputs": [
    {
     "data": {
      "text/plain": [
       "str"
      ]
     },
     "execution_count": 7,
     "metadata": {},
     "output_type": "execute_result"
    }
   ],
   "source": [
    "type(k)"
   ]
  },
  {
   "cell_type": "code",
   "execution_count": 8,
   "id": "a1421185-0d7c-48ed-90ef-10ab6394c9c8",
   "metadata": {},
   "outputs": [],
   "source": [
    "l = float(k)"
   ]
  },
  {
   "cell_type": "code",
   "execution_count": 9,
   "id": "71aafa2f-bf7d-452d-98f2-40314c89a624",
   "metadata": {},
   "outputs": [
    {
     "data": {
      "text/plain": [
       "float"
      ]
     },
     "execution_count": 9,
     "metadata": {},
     "output_type": "execute_result"
    }
   ],
   "source": [
    "type(l)"
   ]
  },
  {
   "cell_type": "raw",
   "id": "5ab8889e-5ef6-4910-95b9-ba4cfeb68551",
   "metadata": {},
   "source": [
    "m = 'alpha'\n",
    "float(m) # ValueError: could not convert string to float: 'alpha'"
   ]
  },
  {
   "cell_type": "code",
   "execution_count": 1,
   "id": "c5d3906c-2065-4f65-a692-1746252fcb32",
   "metadata": {},
   "outputs": [
    {
     "name": "stdin",
     "output_type": "stream",
     "text": [
      "Please tell me your name:  Ashish\n"
     ]
    },
    {
     "name": "stdout",
     "output_type": "stream",
     "text": [
      "Ashish\n",
      "6\n",
      "<class 'str'>\n"
     ]
    }
   ],
   "source": [
    "name = input(\"Please tell me your name: \")\n",
    "\n",
    "print(name)\n",
    "\n",
    "print(len(name))\n",
    "\n",
    "print(type(name))"
   ]
  },
  {
   "cell_type": "code",
   "execution_count": 2,
   "id": "ba0638e9-be77-4101-a9f4-5c0b609ab936",
   "metadata": {},
   "outputs": [
    {
     "data": {
      "text/plain": [
       "8"
      ]
     },
     "execution_count": 2,
     "metadata": {},
     "output_type": "execute_result"
    }
   ],
   "source": [
    "len('Shridhar')"
   ]
  },
  {
   "cell_type": "code",
   "execution_count": null,
   "id": "263e75a5-931c-4abb-86d0-eccb2273749e",
   "metadata": {},
   "outputs": [],
   "source": []
  },
  {
   "cell_type": "code",
   "execution_count": 3,
   "id": "004535f7-893e-408b-9bae-8ddc562965cc",
   "metadata": {},
   "outputs": [],
   "source": [
    "i = -5.3"
   ]
  },
  {
   "cell_type": "code",
   "execution_count": 4,
   "id": "e6bd5dde-8eac-4752-a39f-a9bd2c9859d7",
   "metadata": {},
   "outputs": [
    {
     "data": {
      "text/plain": [
       "5.3"
      ]
     },
     "execution_count": 4,
     "metadata": {},
     "output_type": "execute_result"
    }
   ],
   "source": [
    "abs(i)"
   ]
  },
  {
   "cell_type": "code",
   "execution_count": 5,
   "id": "be66491f-195b-4d6a-aaf8-e8680585ea95",
   "metadata": {},
   "outputs": [
    {
     "data": {
      "text/plain": [
       "'0b101'"
      ]
     },
     "execution_count": 5,
     "metadata": {},
     "output_type": "execute_result"
    }
   ],
   "source": [
    "bin(5)"
   ]
  },
  {
   "cell_type": "code",
   "execution_count": 6,
   "id": "4b58f4f7-82c8-49dd-b13c-a7489e56b505",
   "metadata": {},
   "outputs": [
    {
     "data": {
      "text/plain": [
       "'0b111'"
      ]
     },
     "execution_count": 6,
     "metadata": {},
     "output_type": "execute_result"
    }
   ],
   "source": [
    "bin(7)"
   ]
  },
  {
   "cell_type": "code",
   "execution_count": 7,
   "id": "37529378-e63e-4002-a5c9-1d7142c23f9c",
   "metadata": {},
   "outputs": [
    {
     "data": {
      "text/plain": [
       "(2, 1)"
      ]
     },
     "execution_count": 7,
     "metadata": {},
     "output_type": "execute_result"
    }
   ],
   "source": [
    "divmod(5, 2)"
   ]
  },
  {
   "cell_type": "code",
   "execution_count": 2,
   "id": "9dab1cca-99a4-42b3-a959-ad88132b3ee2",
   "metadata": {},
   "outputs": [
    {
     "data": {
      "text/plain": [
       "(3, 1)"
      ]
     },
     "execution_count": 2,
     "metadata": {},
     "output_type": "execute_result"
    }
   ],
   "source": [
    "divmod(7, 2)"
   ]
  },
  {
   "cell_type": "code",
   "execution_count": 8,
   "id": "9780a34c-79e2-458d-b1e9-6fff8dc5eef3",
   "metadata": {},
   "outputs": [
    {
     "data": {
      "text/plain": [
       "66"
      ]
     },
     "execution_count": 8,
     "metadata": {},
     "output_type": "execute_result"
    }
   ],
   "source": [
    "ord(\"B\")"
   ]
  },
  {
   "cell_type": "code",
   "execution_count": 9,
   "id": "437a4b06-4faf-4ac7-b698-6dc657b3781c",
   "metadata": {},
   "outputs": [
    {
     "data": {
      "text/plain": [
       "98"
      ]
     },
     "execution_count": 9,
     "metadata": {},
     "output_type": "execute_result"
    }
   ],
   "source": [
    "ord('b')"
   ]
  },
  {
   "cell_type": "code",
   "execution_count": 10,
   "id": "7d1f5511-b5cd-4a41-a744-a857d2a2d8b1",
   "metadata": {},
   "outputs": [
    {
     "data": {
      "text/plain": [
       "'b'"
      ]
     },
     "execution_count": 10,
     "metadata": {},
     "output_type": "execute_result"
    }
   ],
   "source": [
    "chr(98)"
   ]
  },
  {
   "cell_type": "raw",
   "id": "42fae656-4beb-4294-b3fe-d6d3d323270a",
   "metadata": {},
   "source": [
    "ord <--> chr"
   ]
  },
  {
   "cell_type": "code",
   "execution_count": 11,
   "id": "369c8400-50e1-40a1-8f23-e366d047b054",
   "metadata": {},
   "outputs": [
    {
     "data": {
      "text/plain": [
       "False"
      ]
     },
     "execution_count": 11,
     "metadata": {},
     "output_type": "execute_result"
    }
   ],
   "source": [
    "bool(0)"
   ]
  },
  {
   "cell_type": "code",
   "execution_count": 16,
   "id": "d8062374-7bcd-42b8-bf64-2f7f1a3edd68",
   "metadata": {},
   "outputs": [
    {
     "data": {
      "text/plain": [
       "True"
      ]
     },
     "execution_count": 16,
     "metadata": {},
     "output_type": "execute_result"
    }
   ],
   "source": [
    "bool(-10)"
   ]
  },
  {
   "cell_type": "code",
   "execution_count": 21,
   "id": "1bc94072-11bb-4c10-a541-2ecd8b8584ef",
   "metadata": {},
   "outputs": [
    {
     "name": "stdout",
     "output_type": "stream",
     "text": [
      "True\n"
     ]
    }
   ],
   "source": [
    "var = 0\n",
    "print(var == 0)"
   ]
  },
  {
   "cell_type": "code",
   "execution_count": null,
   "id": "ab78480f-6f6c-4b8e-86bb-e7808756fd28",
   "metadata": {},
   "outputs": [],
   "source": [
    "if True:\n",
    "    print(\"In if\")\n",
    "else:\n",
    "    print(\"In else\")"
   ]
  },
  {
   "cell_type": "code",
   "execution_count": null,
   "id": "f24e6e64-b4a5-4a0a-969c-3febdba60faa",
   "metadata": {},
   "outputs": [],
   "source": []
  },
  {
   "cell_type": "code",
   "execution_count": 1,
   "id": "53b56ace-5856-487f-b1cc-686a1cb25a38",
   "metadata": {},
   "outputs": [
    {
     "name": "stdout",
     "output_type": "stream",
     "text": [
      "Got True\n",
      "In Else\n"
     ]
    }
   ],
   "source": [
    "var = 0\n",
    "\n",
    "if(True):\n",
    "    print(\"Got True\")\n",
    "\n",
    "if(var):\n",
    "    print(\"In If\")\n",
    "else:\n",
    "    print(\"In Else\")"
   ]
  },
  {
   "cell_type": "code",
   "execution_count": 2,
   "id": "51547af9-48bf-45c7-bd85-0d59514c1de2",
   "metadata": {},
   "outputs": [
    {
     "name": "stdout",
     "output_type": "stream",
     "text": [
      "In if\n"
     ]
    }
   ],
   "source": [
    "i = 5\n",
    "if (i):\n",
    "    print(\"In if\")\n",
    "else:\n",
    "    print(\"In else\")"
   ]
  },
  {
   "cell_type": "code",
   "execution_count": 3,
   "id": "6f1486a7-1bc0-4e04-88c6-6e85ccfb4d33",
   "metadata": {},
   "outputs": [
    {
     "name": "stdout",
     "output_type": "stream",
     "text": [
      "In elif\n"
     ]
    }
   ],
   "source": [
    "var = 0\n",
    "if var:\n",
    "    print(\"In if\")\n",
    "elif var == 0:\n",
    "    print(\"In elif\")\n",
    "else:\n",
    "    print(\"In else\")"
   ]
  },
  {
   "cell_type": "code",
   "execution_count": 47,
   "id": "c9b8d0e4-adcd-4000-b0b0-6265897183c8",
   "metadata": {},
   "outputs": [],
   "source": [
    "l = [1, 2, 3, 4, 5]"
   ]
  },
  {
   "cell_type": "raw",
   "id": "7e22e642-ff29-4192-9d34-7962a4ebb986",
   "metadata": {},
   "source": [
    "next(l) # TypeError: 'list' object is not an iterator"
   ]
  },
  {
   "cell_type": "code",
   "execution_count": 44,
   "id": "90491134-87c7-4d7c-97b0-f932fc7b55e9",
   "metadata": {},
   "outputs": [],
   "source": [
    "o = reversed(l) # It does not return a list. It returns a cursor / iterator."
   ]
  },
  {
   "cell_type": "code",
   "execution_count": 45,
   "id": "9ada80bf-c1ef-4c14-9acc-7456b536bab8",
   "metadata": {},
   "outputs": [
    {
     "data": {
      "text/plain": [
       "list_reverseiterator"
      ]
     },
     "execution_count": 45,
     "metadata": {},
     "output_type": "execute_result"
    }
   ],
   "source": [
    "type(o)"
   ]
  },
  {
   "cell_type": "code",
   "execution_count": 57,
   "id": "43465fbc-b489-4828-b613-a271cc716311",
   "metadata": {},
   "outputs": [
    {
     "data": {
      "text/plain": [
       "<list_reverseiterator at 0x7f6774821ac0>"
      ]
     },
     "execution_count": 57,
     "metadata": {},
     "output_type": "execute_result"
    }
   ],
   "source": [
    "o"
   ]
  },
  {
   "cell_type": "code",
   "execution_count": 55,
   "id": "bec3fef6-0813-4cbf-b688-c45f0a26efc5",
   "metadata": {},
   "outputs": [
    {
     "data": {
      "text/plain": [
       "2"
      ]
     },
     "execution_count": 55,
     "metadata": {},
     "output_type": "execute_result"
    }
   ],
   "source": [
    "next(o)"
   ]
  },
  {
   "cell_type": "code",
   "execution_count": 56,
   "id": "f2c8b6d0-83d5-4c26-882a-91059c25d7c4",
   "metadata": {},
   "outputs": [
    {
     "data": {
      "text/plain": [
       "[5, 4, 3, 2, 1]"
      ]
     },
     "execution_count": 56,
     "metadata": {},
     "output_type": "execute_result"
    }
   ],
   "source": [
    "list(reversed(l))"
   ]
  },
  {
   "cell_type": "code",
   "execution_count": 32,
   "id": "a38ac3d4-42b0-4ba8-93a4-e0e9bd45a2b9",
   "metadata": {},
   "outputs": [],
   "source": [
    "l = [1, 2, 3, 4, 5, 0]"
   ]
  },
  {
   "cell_type": "code",
   "execution_count": 33,
   "id": "49824dc8-0c1b-4613-acea-a6d2ba0cec05",
   "metadata": {},
   "outputs": [
    {
     "data": {
      "text/plain": [
       "[0, 1, 2, 3, 4, 5]"
      ]
     },
     "execution_count": 33,
     "metadata": {},
     "output_type": "execute_result"
    }
   ],
   "source": [
    "sorted(l)"
   ]
  },
  {
   "cell_type": "raw",
   "id": "02c056d2-8c00-4830-9848-17a547e3d650",
   "metadata": {},
   "source": [
    "You have to check and validate the return type of a method or function."
   ]
  },
  {
   "cell_type": "code",
   "execution_count": 15,
   "id": "6320d447-a707-4ae5-a4a3-175b8ba00be3",
   "metadata": {},
   "outputs": [
    {
     "data": {
      "text/plain": [
       "7"
      ]
     },
     "execution_count": 15,
     "metadata": {},
     "output_type": "execute_result"
    }
   ],
   "source": [
    "int(7.2) # Equivalent to calculating floor"
   ]
  },
  {
   "cell_type": "code",
   "execution_count": 17,
   "id": "04a46106-7215-47c9-bf67-58b7bba20f71",
   "metadata": {},
   "outputs": [
    {
     "data": {
      "text/plain": [
       "7"
      ]
     },
     "execution_count": 17,
     "metadata": {},
     "output_type": "execute_result"
    }
   ],
   "source": [
    "int(7.9) # Equivalent to calculating floor"
   ]
  },
  {
   "cell_type": "code",
   "execution_count": 18,
   "id": "13f25d9c-a09e-4018-a788-7ba6a4bd35fe",
   "metadata": {},
   "outputs": [
    {
     "name": "stdout",
     "output_type": "stream",
     "text": [
      "2\n",
      "6\n",
      "-5\n",
      "23\n",
      "10\n"
     ]
    }
   ],
   "source": [
    "# Import math library\n",
    "import math\n",
    "\n",
    "# Round a number upward to its nearest integer\n",
    "print(math.ceil(1.4))\n",
    "print(math.ceil(5.3))\n",
    "print(math.ceil(-5.3)) # Lies between -6 and -5. -5 is higher.\n",
    "print(math.ceil(22.6))\n",
    "print(math.ceil(10.0))"
   ]
  },
  {
   "cell_type": "code",
   "execution_count": null,
   "id": "6e82eef2-8e3e-4518-92c9-e35e0b08c3a9",
   "metadata": {},
   "outputs": [],
   "source": [
    "# Return the next higher integer than the decimal itself."
   ]
  },
  {
   "cell_type": "code",
   "execution_count": 19,
   "id": "d5f259cc-6ed8-416b-a24b-acb101a4e355",
   "metadata": {},
   "outputs": [
    {
     "name": "stdout",
     "output_type": "stream",
     "text": [
      "1\n",
      "5\n",
      "-6\n",
      "22\n",
      "10\n"
     ]
    }
   ],
   "source": [
    "# Import math library\n",
    "import math\n",
    "\n",
    "# Round a number downward to its nearest integer\n",
    "print(math.floor(1.4))\n",
    "print(math.floor(5.3))\n",
    "print(math.floor(-5.3))\n",
    "print(math.floor(22.6))\n",
    "print(math.floor(10.0))"
   ]
  },
  {
   "cell_type": "code",
   "execution_count": null,
   "id": "a94e3b60-5b7a-43dc-a295-3ac0b8d03f80",
   "metadata": {},
   "outputs": [],
   "source": []
  },
  {
   "cell_type": "code",
   "execution_count": null,
   "id": "15d8c213-2147-4ce4-8254-9e22deef17e5",
   "metadata": {},
   "outputs": [],
   "source": []
  },
  {
   "cell_type": "code",
   "execution_count": null,
   "id": "1cda00e1-d530-4889-b09e-faa348e18466",
   "metadata": {},
   "outputs": [],
   "source": []
  },
  {
   "cell_type": "code",
   "execution_count": null,
   "id": "071da8b3-ad56-4150-a07d-4aadff7799a1",
   "metadata": {},
   "outputs": [],
   "source": []
  },
  {
   "cell_type": "code",
   "execution_count": null,
   "id": "d65da2b6-41fc-4fc5-a64c-cdfb652fa118",
   "metadata": {},
   "outputs": [],
   "source": []
  },
  {
   "cell_type": "code",
   "execution_count": null,
   "id": "703780f2-c586-4f91-871b-a3eca50c1ed1",
   "metadata": {},
   "outputs": [],
   "source": []
  },
  {
   "cell_type": "code",
   "execution_count": null,
   "id": "2ed7ee6b-cb4b-4722-8508-471b0631fcbf",
   "metadata": {},
   "outputs": [],
   "source": []
  },
  {
   "cell_type": "code",
   "execution_count": 22,
   "id": "03b19502-93d3-4dbd-9077-e8af82d23c6e",
   "metadata": {},
   "outputs": [],
   "source": [
    "greek = ['alpha', 'beta', 'gamma']"
   ]
  },
  {
   "cell_type": "code",
   "execution_count": 23,
   "id": "9906d8f9-5724-43e0-8f86-ebfcd37c145b",
   "metadata": {},
   "outputs": [
    {
     "data": {
      "text/plain": [
       "'gamma'"
      ]
     },
     "execution_count": 23,
     "metadata": {},
     "output_type": "execute_result"
    }
   ],
   "source": [
    "max(greek)"
   ]
  },
  {
   "cell_type": "code",
   "execution_count": 31,
   "id": "756daa17-8317-4657-bd85-10f344d166ec",
   "metadata": {},
   "outputs": [
    {
     "ename": "ValueError",
     "evalue": "invalid literal for int() with base 10: '5.9'",
     "output_type": "error",
     "traceback": [
      "\u001b[0;31m---------------------------------------------------------------------------\u001b[0m",
      "\u001b[0;31mValueError\u001b[0m                                Traceback (most recent call last)",
      "\u001b[0;32m/tmp/ipykernel_8406/2034839917.py\u001b[0m in \u001b[0;36m<module>\u001b[0;34m\u001b[0m\n\u001b[1;32m      1\u001b[0m \u001b[0mint\u001b[0m\u001b[0;34m(\u001b[0m\u001b[0;36m5.9\u001b[0m\u001b[0;34m)\u001b[0m\u001b[0;34m\u001b[0m\u001b[0;34m\u001b[0m\u001b[0m\n\u001b[0;32m----> 2\u001b[0;31m \u001b[0mint\u001b[0m\u001b[0;34m(\u001b[0m\u001b[0;34m'5.9'\u001b[0m\u001b[0;34m)\u001b[0m \u001b[0;31m# ValueError: invalid literal for int() with base 10: '5.9'\u001b[0m\u001b[0;34m\u001b[0m\u001b[0;34m\u001b[0m\u001b[0m\n\u001b[0m",
      "\u001b[0;31mValueError\u001b[0m: invalid literal for int() with base 10: '5.9'"
     ]
    }
   ],
   "source": [
    "int(5.9)\n",
    "int('5.9') # ValueError: invalid literal for int() with base 10: '5.9'"
   ]
  },
  {
   "cell_type": "code",
   "execution_count": null,
   "id": "cfc8d23f-a3bb-42af-882f-6684cb30cef1",
   "metadata": {},
   "outputs": [],
   "source": []
  },
  {
   "cell_type": "code",
   "execution_count": null,
   "id": "948e01a7-ff4c-42f8-a71a-11797087cb07",
   "metadata": {},
   "outputs": [],
   "source": []
  },
  {
   "cell_type": "code",
   "execution_count": 58,
   "id": "2366df90-20ac-4cc9-85ef-534d776f7745",
   "metadata": {},
   "outputs": [],
   "source": [
    "s1 = 'mystring'\n",
    "s2 = 'mystring'"
   ]
  },
  {
   "cell_type": "code",
   "execution_count": 59,
   "id": "a5d04ca1-338d-49e1-95e9-0fd0caaf74a0",
   "metadata": {},
   "outputs": [
    {
     "data": {
      "text/plain": [
       "True"
      ]
     },
     "execution_count": 59,
     "metadata": {},
     "output_type": "execute_result"
    }
   ],
   "source": [
    "s1 is s2"
   ]
  },
  {
   "cell_type": "code",
   "execution_count": 60,
   "id": "df1f5f3f-159c-4846-8097-eee9bb26928d",
   "metadata": {},
   "outputs": [
    {
     "data": {
      "text/plain": [
       "140082311787504"
      ]
     },
     "execution_count": 60,
     "metadata": {},
     "output_type": "execute_result"
    }
   ],
   "source": [
    "id(s1)"
   ]
  },
  {
   "cell_type": "code",
   "execution_count": 61,
   "id": "2bbe4b45-036a-4572-8a68-b82ed5ae7874",
   "metadata": {},
   "outputs": [
    {
     "data": {
      "text/plain": [
       "140082311787504"
      ]
     },
     "execution_count": 61,
     "metadata": {},
     "output_type": "execute_result"
    }
   ],
   "source": [
    "id(s2)"
   ]
  },
  {
   "cell_type": "code",
   "execution_count": 62,
   "id": "41a2137b-1b01-4241-8589-e67dc2f00824",
   "metadata": {},
   "outputs": [],
   "source": [
    "l1 = ['apple', 'orange']\n",
    "l2 = ['apple', 'orange']"
   ]
  },
  {
   "cell_type": "code",
   "execution_count": 63,
   "id": "55169f15-23ea-42ea-a013-51e147d07389",
   "metadata": {},
   "outputs": [
    {
     "data": {
      "text/plain": [
       "False"
      ]
     },
     "execution_count": 63,
     "metadata": {},
     "output_type": "execute_result"
    }
   ],
   "source": [
    "l1 is l2"
   ]
  },
  {
   "cell_type": "code",
   "execution_count": 64,
   "id": "196ffa0c-cc6e-4bf4-9239-9d0bac1a6fc7",
   "metadata": {},
   "outputs": [],
   "source": [
    "import math"
   ]
  },
  {
   "cell_type": "code",
   "execution_count": null,
   "id": "4f5c805b-f5a5-4d65-9275-2fc9f0a68b8d",
   "metadata": {},
   "outputs": [],
   "source": [
    "math.log"
   ]
  },
  {
   "cell_type": "code",
   "execution_count": null,
   "id": "167c5386-029d-40a1-ad68-68adb9faa048",
   "metadata": {},
   "outputs": [],
   "source": []
  },
  {
   "cell_type": "code",
   "execution_count": 3,
   "id": "9a59a88f-0939-43e7-81c5-8e377c198c88",
   "metadata": {},
   "outputs": [
    {
     "name": "stdin",
     "output_type": "stream",
     "text": [
      "Enter the side of the cube: 5\n"
     ]
    }
   ],
   "source": [
    "side = int(input(\"Enter the side of the cube:\"))"
   ]
  },
  {
   "cell_type": "code",
   "execution_count": 4,
   "id": "d58afb09-626f-45c9-a213-9df1fa350b1d",
   "metadata": {},
   "outputs": [],
   "source": [
    "v = pow(side, 3)"
   ]
  },
  {
   "cell_type": "code",
   "execution_count": 6,
   "id": "912b2cb9-e128-455c-90c9-ba03dd028606",
   "metadata": {},
   "outputs": [
    {
     "name": "stdout",
     "output_type": "stream",
     "text": [
      "125\n"
     ]
    }
   ],
   "source": [
    "print(v)"
   ]
  },
  {
   "cell_type": "code",
   "execution_count": null,
   "id": "dae93dc0-4e86-4015-a7da-04b70fcaaff4",
   "metadata": {},
   "outputs": [],
   "source": []
  },
  {
   "cell_type": "code",
   "execution_count": 7,
   "id": "a35b413e-2d8f-4e0d-b55d-36e690b10105",
   "metadata": {},
   "outputs": [],
   "source": [
    "l = [2, 6, 2, 4, 3, 1, 9, 7]"
   ]
  },
  {
   "cell_type": "code",
   "execution_count": 8,
   "id": "2bed3360-6cd3-40d4-a8e9-d50e0418fde1",
   "metadata": {},
   "outputs": [
    {
     "data": {
      "text/plain": [
       "9"
      ]
     },
     "execution_count": 8,
     "metadata": {},
     "output_type": "execute_result"
    }
   ],
   "source": [
    "max(l)"
   ]
  },
  {
   "cell_type": "code",
   "execution_count": 9,
   "id": "4513583e-9663-4446-9ec5-f06780b54b55",
   "metadata": {},
   "outputs": [
    {
     "data": {
      "text/plain": [
       "1"
      ]
     },
     "execution_count": 9,
     "metadata": {},
     "output_type": "execute_result"
    }
   ],
   "source": [
    "min(l)"
   ]
  },
  {
   "cell_type": "code",
   "execution_count": 10,
   "id": "f4cc4416-0ef9-4a4e-9622-4349db3266a4",
   "metadata": {},
   "outputs": [
    {
     "data": {
      "text/plain": [
       "34"
      ]
     },
     "execution_count": 10,
     "metadata": {},
     "output_type": "execute_result"
    }
   ],
   "source": [
    "sum(l)"
   ]
  },
  {
   "cell_type": "code",
   "execution_count": 11,
   "id": "f87afbd6-6b97-49d1-bbcf-83afcde74960",
   "metadata": {},
   "outputs": [
    {
     "data": {
      "text/plain": [
       "[1, 2, 2, 3, 4, 6, 7, 9]"
      ]
     },
     "execution_count": 11,
     "metadata": {},
     "output_type": "execute_result"
    }
   ],
   "source": [
    "sorted(l)"
   ]
  },
  {
   "cell_type": "code",
   "execution_count": 19,
   "id": "4ae7ab9b-4614-44b8-87db-2204e518c40b",
   "metadata": {},
   "outputs": [
    {
     "data": {
      "text/plain": [
       "[9, 7, 6, 4, 3, 2, 2, 1]"
      ]
     },
     "execution_count": 19,
     "metadata": {},
     "output_type": "execute_result"
    }
   ],
   "source": [
    "sorted(l, reverse = True)"
   ]
  },
  {
   "cell_type": "code",
   "execution_count": 12,
   "id": "b56ebe1b-41e1-420f-be74-92550cbab7b0",
   "metadata": {},
   "outputs": [
    {
     "data": {
      "text/plain": [
       "[7, 9, 1, 3, 4, 2, 6, 2]"
      ]
     },
     "execution_count": 12,
     "metadata": {},
     "output_type": "execute_result"
    }
   ],
   "source": [
    "list(reversed(l))"
   ]
  },
  {
   "cell_type": "code",
   "execution_count": 15,
   "id": "5b6bdf08-2fcc-4632-9de5-8d1b3a6d4165",
   "metadata": {},
   "outputs": [
    {
     "data": {
      "text/plain": [
       "[0, 1, 2, 3, 4, 5, 6, 7, 8, 9]"
      ]
     },
     "execution_count": 15,
     "metadata": {},
     "output_type": "execute_result"
    }
   ],
   "source": [
    "list(range(10))"
   ]
  },
  {
   "cell_type": "code",
   "execution_count": 20,
   "id": "d4cd3d0c-2cae-4ffd-8311-0fd4fa9bea2d",
   "metadata": {},
   "outputs": [],
   "source": [
    "m = ['alpha', 'beta', 'gamma', 'delta', 'epsilon']"
   ]
  },
  {
   "cell_type": "code",
   "execution_count": 21,
   "id": "71d738a7-accc-4454-b558-c6cbe374d356",
   "metadata": {},
   "outputs": [
    {
     "data": {
      "text/plain": [
       "[(0, 'alpha'), (1, 'beta'), (2, 'gamma'), (3, 'delta'), (4, 'epsilon')]"
      ]
     },
     "execution_count": 21,
     "metadata": {},
     "output_type": "execute_result"
    }
   ],
   "source": [
    "list(enumerate(m))"
   ]
  },
  {
   "cell_type": "code",
   "execution_count": 22,
   "id": "8061efbe-5d52-43b2-8d96-5776490728fa",
   "metadata": {},
   "outputs": [
    {
     "data": {
      "text/plain": [
       "['alpha', 'beta', 'delta', 'epsilon', 'gamma']"
      ]
     },
     "execution_count": 22,
     "metadata": {},
     "output_type": "execute_result"
    }
   ],
   "source": [
    "sorted(m)"
   ]
  },
  {
   "cell_type": "code",
   "execution_count": 23,
   "id": "1212e259-3a50-44c8-838a-212c329c22e1",
   "metadata": {},
   "outputs": [
    {
     "data": {
      "text/plain": [
       "97"
      ]
     },
     "execution_count": 23,
     "metadata": {},
     "output_type": "execute_result"
    }
   ],
   "source": [
    "ord('a')"
   ]
  },
  {
   "cell_type": "code",
   "execution_count": 24,
   "id": "20581bf3-5665-481b-bf1b-7deda2713322",
   "metadata": {},
   "outputs": [
    {
     "data": {
      "text/plain": [
       "103"
      ]
     },
     "execution_count": 24,
     "metadata": {},
     "output_type": "execute_result"
    }
   ],
   "source": [
    "ord('g')"
   ]
  },
  {
   "cell_type": "code",
   "execution_count": 25,
   "id": "a118763e-c0ed-461c-ad9b-e5d98f323665",
   "metadata": {},
   "outputs": [
    {
     "data": {
      "text/plain": [
       "['gamma', 'epsilon', 'delta', 'beta', 'alpha']"
      ]
     },
     "execution_count": 25,
     "metadata": {},
     "output_type": "execute_result"
    }
   ],
   "source": [
    "sorted(m, reverse = True)"
   ]
  },
  {
   "cell_type": "code",
   "execution_count": null,
   "id": "9882d673-b620-400c-a035-2e222b4fafe7",
   "metadata": {},
   "outputs": [],
   "source": []
  },
  {
   "cell_type": "code",
   "execution_count": null,
   "id": "433d2b9e-d142-4be0-8d13-095bd76ec78e",
   "metadata": {},
   "outputs": [],
   "source": []
  },
  {
   "cell_type": "code",
   "execution_count": 27,
   "id": "305e3f1f-fb2a-46f3-8aba-a8409785a2b6",
   "metadata": {},
   "outputs": [
    {
     "name": "stdout",
     "output_type": "stream",
     "text": [
      "3.141592653589793\n"
     ]
    }
   ],
   "source": [
    "import math # Standard Python Package\n",
    "print(math.pi)"
   ]
  },
  {
   "cell_type": "code",
   "execution_count": 32,
   "id": "985c9813-0b4b-46ce-99d8-bd278e8a2858",
   "metadata": {},
   "outputs": [
    {
     "name": "stdin",
     "output_type": "stream",
     "text": [
      "Enter the radius: 0.5\n"
     ]
    }
   ],
   "source": [
    "radius = float(input(\"Enter the radius:\"))"
   ]
  },
  {
   "cell_type": "code",
   "execution_count": 33,
   "id": "3e1756de-248d-48cb-91dd-2f168e3735d1",
   "metadata": {},
   "outputs": [],
   "source": [
    "perimeter = 2 * math.pi * radius"
   ]
  },
  {
   "cell_type": "code",
   "execution_count": 34,
   "id": "50e3e00a-89d1-4810-84a0-32af11c5e5b2",
   "metadata": {},
   "outputs": [
    {
     "data": {
      "text/plain": [
       "3.141592653589793"
      ]
     },
     "execution_count": 34,
     "metadata": {},
     "output_type": "execute_result"
    }
   ],
   "source": [
    "perimeter"
   ]
  },
  {
   "cell_type": "code",
   "execution_count": null,
   "id": "785d3eff-9d3b-4318-b621-41ba0cf2484d",
   "metadata": {},
   "outputs": [],
   "source": []
  },
  {
   "cell_type": "code",
   "execution_count": 35,
   "id": "5f5a0e5f-6d44-439a-81fd-48448af0d51c",
   "metadata": {},
   "outputs": [
    {
     "data": {
      "text/plain": [
       "7.5"
      ]
     },
     "execution_count": 35,
     "metadata": {},
     "output_type": "execute_result"
    }
   ],
   "source": [
    "15/2"
   ]
  },
  {
   "cell_type": "code",
   "execution_count": 36,
   "id": "fa49231a-4369-43dd-87a3-5e83ca1a79fa",
   "metadata": {},
   "outputs": [
    {
     "data": {
      "text/plain": [
       "7"
      ]
     },
     "execution_count": 36,
     "metadata": {},
     "output_type": "execute_result"
    }
   ],
   "source": [
    "math.floor(7.5)"
   ]
  },
  {
   "cell_type": "code",
   "execution_count": 37,
   "id": "359167fc-e101-446c-abb3-b805d4847ed1",
   "metadata": {},
   "outputs": [
    {
     "data": {
      "text/plain": [
       "7"
      ]
     },
     "execution_count": 37,
     "metadata": {},
     "output_type": "execute_result"
    }
   ],
   "source": [
    "15//2"
   ]
  },
  {
   "cell_type": "code",
   "execution_count": null,
   "id": "4a79df0d-5a8f-441f-a3f3-9e32910d18bf",
   "metadata": {},
   "outputs": [],
   "source": []
  },
  {
   "cell_type": "code",
   "execution_count": 38,
   "id": "3f0c408d-2f99-4149-bae9-e45c83688de9",
   "metadata": {},
   "outputs": [
    {
     "data": {
      "text/plain": [
       "26"
      ]
     },
     "execution_count": 38,
     "metadata": {},
     "output_type": "execute_result"
    }
   ],
   "source": [
    "80//3"
   ]
  },
  {
   "cell_type": "code",
   "execution_count": 39,
   "id": "df85add5-b89d-4cc4-bfde-ed0bea9250d4",
   "metadata": {},
   "outputs": [
    {
     "data": {
      "text/plain": [
       "26.666666666666668"
      ]
     },
     "execution_count": 39,
     "metadata": {},
     "output_type": "execute_result"
    }
   ],
   "source": [
    "80/3"
   ]
  },
  {
   "cell_type": "code",
   "execution_count": 40,
   "id": "f28930f2-e0a8-4bdf-abb2-4f8b135ab2d2",
   "metadata": {},
   "outputs": [
    {
     "data": {
      "text/plain": [
       "26"
      ]
     },
     "execution_count": 40,
     "metadata": {},
     "output_type": "execute_result"
    }
   ],
   "source": [
    "math.floor(26.666)"
   ]
  },
  {
   "cell_type": "code",
   "execution_count": 41,
   "id": "af24e563-3402-44f9-b3c2-4f7b627d20cc",
   "metadata": {},
   "outputs": [],
   "source": [
    "a = 'aneesh'"
   ]
  },
  {
   "cell_type": "code",
   "execution_count": 43,
   "id": "4e5299f4-7aa7-4f92-b64e-dcb0e854ad38",
   "metadata": {},
   "outputs": [
    {
     "data": {
      "text/plain": [
       "'aneeshaneesh'"
      ]
     },
     "execution_count": 43,
     "metadata": {},
     "output_type": "execute_result"
    }
   ],
   "source": [
    "a * 2"
   ]
  },
  {
   "cell_type": "code",
   "execution_count": 44,
   "id": "03e4aa5c-1798-4ba1-b22a-bc959196906e",
   "metadata": {},
   "outputs": [],
   "source": [
    "b = 'shridhar'"
   ]
  },
  {
   "cell_type": "code",
   "execution_count": 45,
   "id": "21f26780-4849-4949-bfd7-da654f7f3885",
   "metadata": {},
   "outputs": [
    {
     "data": {
      "text/plain": [
       "'aneeshshridhar'"
      ]
     },
     "execution_count": 45,
     "metadata": {},
     "output_type": "execute_result"
    }
   ],
   "source": [
    "a + b"
   ]
  },
  {
   "cell_type": "code",
   "execution_count": null,
   "id": "8ff90f9a-b110-4b58-801a-834219863e9b",
   "metadata": {},
   "outputs": [],
   "source": []
  },
  {
   "cell_type": "code",
   "execution_count": null,
   "id": "6b28db48-c96b-48c4-b300-36a4c15e3c70",
   "metadata": {},
   "outputs": [],
   "source": []
  },
  {
   "cell_type": "code",
   "execution_count": 46,
   "id": "c18e09f9-0fa5-4f5c-a16a-c07adf120190",
   "metadata": {},
   "outputs": [],
   "source": [
    "s1 = 'aneesh'"
   ]
  },
  {
   "cell_type": "code",
   "execution_count": 47,
   "id": "32cfde92-aac7-4408-ade1-8b5a9cf28bd3",
   "metadata": {},
   "outputs": [],
   "source": [
    "s2 = 'aneesh'"
   ]
  },
  {
   "cell_type": "code",
   "execution_count": 48,
   "id": "e7f67a77-42f7-4a66-84ec-e599259e13ec",
   "metadata": {},
   "outputs": [
    {
     "data": {
      "text/plain": [
       "140417245340848"
      ]
     },
     "execution_count": 48,
     "metadata": {},
     "output_type": "execute_result"
    }
   ],
   "source": [
    "id(s1)"
   ]
  },
  {
   "cell_type": "code",
   "execution_count": 49,
   "id": "2b837bef-0b20-497e-92f1-17380a5cb7df",
   "metadata": {},
   "outputs": [
    {
     "data": {
      "text/plain": [
       "140417245340848"
      ]
     },
     "execution_count": 49,
     "metadata": {},
     "output_type": "execute_result"
    }
   ],
   "source": [
    "id(s2)"
   ]
  },
  {
   "cell_type": "code",
   "execution_count": 50,
   "id": "be0f1d53-3d49-4248-8340-efdb3eb7a84a",
   "metadata": {},
   "outputs": [
    {
     "data": {
      "text/plain": [
       "True"
      ]
     },
     "execution_count": 50,
     "metadata": {},
     "output_type": "execute_result"
    }
   ],
   "source": [
    "s1 is s2"
   ]
  },
  {
   "cell_type": "code",
   "execution_count": 51,
   "id": "863cff75-d92c-44cc-86bc-1847d71de64c",
   "metadata": {},
   "outputs": [],
   "source": [
    "l1 = ['aneesh', 'shridhar']"
   ]
  },
  {
   "cell_type": "code",
   "execution_count": 52,
   "id": "00bd151a-a60e-4161-a4b6-a662c73c4e20",
   "metadata": {},
   "outputs": [],
   "source": [
    "l2 = ['aneesh', 'shridhar']"
   ]
  },
  {
   "cell_type": "code",
   "execution_count": 53,
   "id": "6ac91efc-6027-4335-8538-8153ec4c1fdc",
   "metadata": {},
   "outputs": [
    {
     "data": {
      "text/plain": [
       "140417246346432"
      ]
     },
     "execution_count": 53,
     "metadata": {},
     "output_type": "execute_result"
    }
   ],
   "source": [
    "id(l1)"
   ]
  },
  {
   "cell_type": "code",
   "execution_count": 54,
   "id": "9095e3fb-e7fd-453f-a72b-fbda01584d76",
   "metadata": {},
   "outputs": [
    {
     "data": {
      "text/plain": [
       "140416986681856"
      ]
     },
     "execution_count": 54,
     "metadata": {},
     "output_type": "execute_result"
    }
   ],
   "source": [
    "id(l2)"
   ]
  },
  {
   "cell_type": "code",
   "execution_count": 55,
   "id": "bf857c24-5a97-49cf-98f9-3499258034c9",
   "metadata": {},
   "outputs": [
    {
     "data": {
      "text/plain": [
       "False"
      ]
     },
     "execution_count": 55,
     "metadata": {},
     "output_type": "execute_result"
    }
   ],
   "source": [
    "l1 is l2"
   ]
  },
  {
   "cell_type": "code",
   "execution_count": 56,
   "id": "04713976-1ad0-4a5d-8dbb-b0931ec9bbae",
   "metadata": {},
   "outputs": [
    {
     "data": {
      "text/plain": [
       "['aneesh', 'sridhar']"
      ]
     },
     "execution_count": 56,
     "metadata": {},
     "output_type": "execute_result"
    }
   ],
   "source": [
    "l1"
   ]
  },
  {
   "cell_type": "code",
   "execution_count": 57,
   "id": "1980cbce-02d1-4d0d-9f2a-c000637567ae",
   "metadata": {},
   "outputs": [
    {
     "data": {
      "text/plain": [
       "False"
      ]
     },
     "execution_count": 57,
     "metadata": {},
     "output_type": "execute_result"
    }
   ],
   "source": [
    "'ashish' in l1"
   ]
  },
  {
   "cell_type": "code",
   "execution_count": 58,
   "id": "9aaa49df-e200-41e6-8c62-e75e4c377cb7",
   "metadata": {},
   "outputs": [
    {
     "data": {
      "text/plain": [
       "True"
      ]
     },
     "execution_count": 58,
     "metadata": {},
     "output_type": "execute_result"
    }
   ],
   "source": [
    "'aneesh' in l1"
   ]
  },
  {
   "cell_type": "code",
   "execution_count": 59,
   "id": "621bee5c-3f60-435b-81bb-63cdefe97d91",
   "metadata": {},
   "outputs": [
    {
     "data": {
      "text/plain": [
       "'0b1010'"
      ]
     },
     "execution_count": 59,
     "metadata": {},
     "output_type": "execute_result"
    }
   ],
   "source": [
    "bin(10)"
   ]
  },
  {
   "cell_type": "code",
   "execution_count": 60,
   "id": "0b4fe506-7683-4449-9dbd-d298abe5a6b2",
   "metadata": {},
   "outputs": [
    {
     "data": {
      "text/plain": [
       "'0b1011'"
      ]
     },
     "execution_count": 60,
     "metadata": {},
     "output_type": "execute_result"
    }
   ],
   "source": [
    "bin(11)"
   ]
  },
  {
   "cell_type": "code",
   "execution_count": 61,
   "id": "38d55a86-0620-426b-947e-90b6db94dc21",
   "metadata": {},
   "outputs": [
    {
     "data": {
      "text/plain": [
       "10"
      ]
     },
     "execution_count": 61,
     "metadata": {},
     "output_type": "execute_result"
    }
   ],
   "source": [
    "10 & 11"
   ]
  },
  {
   "cell_type": "code",
   "execution_count": 62,
   "id": "f19c884c-0bff-445b-b9c8-bcaceb675586",
   "metadata": {},
   "outputs": [
    {
     "data": {
      "text/plain": [
       "-6"
      ]
     },
     "execution_count": 62,
     "metadata": {},
     "output_type": "execute_result"
    }
   ],
   "source": [
    "~5"
   ]
  },
  {
   "cell_type": "code",
   "execution_count": 63,
   "id": "468e96c0-23db-4370-87aa-23516f2a2da6",
   "metadata": {},
   "outputs": [
    {
     "data": {
      "text/plain": [
       "-8"
      ]
     },
     "execution_count": 63,
     "metadata": {},
     "output_type": "execute_result"
    }
   ],
   "source": [
    "~7"
   ]
  },
  {
   "cell_type": "code",
   "execution_count": 64,
   "id": "18abdeaa-ff4c-4c59-a168-1e6d4d09294f",
   "metadata": {},
   "outputs": [
    {
     "data": {
      "text/plain": [
       "-5"
      ]
     },
     "execution_count": 64,
     "metadata": {},
     "output_type": "execute_result"
    }
   ],
   "source": [
    "~4"
   ]
  },
  {
   "cell_type": "code",
   "execution_count": 65,
   "id": "17a1e539-5101-459d-b094-c80e9f033beb",
   "metadata": {},
   "outputs": [
    {
     "data": {
      "text/plain": [
       "-6"
      ]
     },
     "execution_count": 65,
     "metadata": {},
     "output_type": "execute_result"
    }
   ],
   "source": [
    "~5 "
   ]
  },
  {
   "cell_type": "code",
   "execution_count": null,
   "id": "28a220c8-b279-4045-8ed5-bc3a520df95b",
   "metadata": {},
   "outputs": [],
   "source": []
  },
  {
   "cell_type": "code",
   "execution_count": 3,
   "id": "aec1fc0e-4de9-45c2-ae3d-394817d0e8f6",
   "metadata": {},
   "outputs": [],
   "source": [
    "l = list(range(0, 10))"
   ]
  },
  {
   "cell_type": "code",
   "execution_count": 5,
   "id": "4a42de8f-465f-4cd3-9463-20687a929cf4",
   "metadata": {},
   "outputs": [
    {
     "data": {
      "text/plain": [
       "[9, 8, 7, 6, 5, 4, 3, 2, 1, 0]"
      ]
     },
     "execution_count": 5,
     "metadata": {},
     "output_type": "execute_result"
    }
   ],
   "source": [
    "list(reversed(l))"
   ]
  },
  {
   "cell_type": "code",
   "execution_count": 7,
   "id": "95bd17b5-3cfe-4780-8de8-87b056ba0658",
   "metadata": {},
   "outputs": [
    {
     "name": "stdin",
     "output_type": "stream",
     "text": [
      "Enter the side:  2\n"
     ]
    },
    {
     "name": "stdout",
     "output_type": "stream",
     "text": [
      "8.0\n"
     ]
    }
   ],
   "source": [
    "s = input(\"Enter the side: \") # input() gives you a string\n",
    "\n",
    "s = float(s) # Type casting builtin for getting the float value of r\n",
    "\n",
    "volume = pow(s,3) # Computation\n",
    "\n",
    "print(volume)"
   ]
  },
  {
   "cell_type": "code",
   "execution_count": 8,
   "id": "f0fcb738-99a6-4311-bd1d-009699f8ebc2",
   "metadata": {},
   "outputs": [],
   "source": [
    "l = [5, 1, 6, 0, 2]"
   ]
  },
  {
   "cell_type": "code",
   "execution_count": 9,
   "id": "5be2aaa6-7b30-4908-845f-3d9f0ec32165",
   "metadata": {},
   "outputs": [
    {
     "data": {
      "text/plain": [
       "[0, 1, 2, 5, 6]"
      ]
     },
     "execution_count": 9,
     "metadata": {},
     "output_type": "execute_result"
    }
   ],
   "source": [
    "sorted(l)"
   ]
  },
  {
   "cell_type": "code",
   "execution_count": 10,
   "id": "ce2183aa-1322-4011-a53a-e462390239f4",
   "metadata": {},
   "outputs": [
    {
     "data": {
      "text/plain": [
       "[5, 1, 6, 0, 2]"
      ]
     },
     "execution_count": 10,
     "metadata": {},
     "output_type": "execute_result"
    }
   ],
   "source": [
    "l"
   ]
  },
  {
   "cell_type": "code",
   "execution_count": 11,
   "id": "68b52935-dc4a-4132-8e62-6b114b7bbe4c",
   "metadata": {},
   "outputs": [
    {
     "data": {
      "text/plain": [
       "[2, 0, 6, 1, 5]"
      ]
     },
     "execution_count": 11,
     "metadata": {},
     "output_type": "execute_result"
    }
   ],
   "source": [
    "list(reversed(l))"
   ]
  },
  {
   "cell_type": "code",
   "execution_count": 12,
   "id": "4fd20860-5a14-4dc4-aa03-cda8bedeebbd",
   "metadata": {},
   "outputs": [],
   "source": [
    "k = ['alpha', 'beta', 'gamma', 'delta']"
   ]
  },
  {
   "cell_type": "code",
   "execution_count": 14,
   "id": "24a26a1c-95f6-4c09-89b6-8b1a817ec94e",
   "metadata": {},
   "outputs": [
    {
     "data": {
      "text/plain": [
       "[(5, 'alpha'), (1, 'beta'), (6, 'gamma'), (0, 'delta')]"
      ]
     },
     "execution_count": 14,
     "metadata": {},
     "output_type": "execute_result"
    }
   ],
   "source": [
    "list(zip(l, k))"
   ]
  },
  {
   "cell_type": "code",
   "execution_count": 16,
   "id": "08261139-2c34-4923-bb40-afc44565c030",
   "metadata": {},
   "outputs": [
    {
     "data": {
      "text/plain": [
       "['alpha', 'beta', 'gamma', 'delta']"
      ]
     },
     "execution_count": 16,
     "metadata": {},
     "output_type": "execute_result"
    }
   ],
   "source": [
    "k"
   ]
  },
  {
   "cell_type": "code",
   "execution_count": 18,
   "id": "32f6b1fd-b3ce-4176-b9d3-ce30b6840239",
   "metadata": {},
   "outputs": [
    {
     "data": {
      "text/plain": [
       "[(0, 'alpha'), (1, 'beta'), (2, 'gamma'), (3, 'delta')]"
      ]
     },
     "execution_count": 18,
     "metadata": {},
     "output_type": "execute_result"
    }
   ],
   "source": [
    "list(enumerate(k))"
   ]
  },
  {
   "cell_type": "code",
   "execution_count": null,
   "id": "ff1a1908-9efe-403d-b73c-d8f4ef323363",
   "metadata": {},
   "outputs": [],
   "source": []
  }
 ],
 "metadata": {
  "kernelspec": {
   "display_name": "Python 3 (ipykernel)",
   "language": "python",
   "name": "python3"
  },
  "language_info": {
   "codemirror_mode": {
    "name": "ipython",
    "version": 3
   },
   "file_extension": ".py",
   "mimetype": "text/x-python",
   "name": "python",
   "nbconvert_exporter": "python",
   "pygments_lexer": "ipython3",
   "version": "3.9.13"
  }
 },
 "nbformat": 4,
 "nbformat_minor": 5
}
