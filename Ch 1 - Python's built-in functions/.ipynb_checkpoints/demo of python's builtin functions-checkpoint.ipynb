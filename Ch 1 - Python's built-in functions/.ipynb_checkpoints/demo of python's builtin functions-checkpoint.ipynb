{
 "cells": [
  {
   "cell_type": "code",
   "execution_count": 1,
   "id": "3cf4ab78-8784-4f8b-97c1-20a46f9ac9ac",
   "metadata": {},
   "outputs": [],
   "source": [
    "i = 5"
   ]
  },
  {
   "cell_type": "code",
   "execution_count": 2,
   "id": "0236edad-7fd6-4c77-8896-996efc023493",
   "metadata": {},
   "outputs": [
    {
     "name": "stdout",
     "output_type": "stream",
     "text": [
      "5\n"
     ]
    }
   ],
   "source": [
    "print(i)"
   ]
  },
  {
   "cell_type": "code",
   "execution_count": 3,
   "id": "74299f34-eac4-48a9-901c-ca9b72cb17ae",
   "metadata": {},
   "outputs": [
    {
     "data": {
      "text/plain": [
       "int"
      ]
     },
     "execution_count": 3,
     "metadata": {},
     "output_type": "execute_result"
    }
   ],
   "source": [
    "type(i)"
   ]
  },
  {
   "cell_type": "code",
   "execution_count": 4,
   "id": "5eb42cf2-3a87-472e-abd1-d433f0895b00",
   "metadata": {},
   "outputs": [],
   "source": [
    "j = 5.2"
   ]
  },
  {
   "cell_type": "code",
   "execution_count": 5,
   "id": "2d38a60b-6b2a-47b7-b398-ae94be8eaad0",
   "metadata": {},
   "outputs": [
    {
     "data": {
      "text/plain": [
       "float"
      ]
     },
     "execution_count": 5,
     "metadata": {},
     "output_type": "execute_result"
    }
   ],
   "source": [
    "type(j)"
   ]
  },
  {
   "cell_type": "code",
   "execution_count": 6,
   "id": "2192e32c-c3fe-4772-8d31-7035ec410d47",
   "metadata": {},
   "outputs": [],
   "source": [
    "k = '6.4'"
   ]
  },
  {
   "cell_type": "code",
   "execution_count": 7,
   "id": "e6b48f66-d0f5-43b7-a5a5-3f5003de9ae6",
   "metadata": {},
   "outputs": [
    {
     "data": {
      "text/plain": [
       "str"
      ]
     },
     "execution_count": 7,
     "metadata": {},
     "output_type": "execute_result"
    }
   ],
   "source": [
    "type(k)"
   ]
  },
  {
   "cell_type": "code",
   "execution_count": 8,
   "id": "a1421185-0d7c-48ed-90ef-10ab6394c9c8",
   "metadata": {},
   "outputs": [],
   "source": [
    "l = float(k)"
   ]
  },
  {
   "cell_type": "code",
   "execution_count": 9,
   "id": "71aafa2f-bf7d-452d-98f2-40314c89a624",
   "metadata": {},
   "outputs": [
    {
     "data": {
      "text/plain": [
       "float"
      ]
     },
     "execution_count": 9,
     "metadata": {},
     "output_type": "execute_result"
    }
   ],
   "source": [
    "type(l)"
   ]
  },
  {
   "cell_type": "raw",
   "id": "5ab8889e-5ef6-4910-95b9-ba4cfeb68551",
   "metadata": {},
   "source": [
    "m = 'alpha'\n",
    "float(m) # ValueError: could not convert string to float: 'alpha'"
   ]
  },
  {
   "cell_type": "code",
   "execution_count": null,
   "id": "c5d3906c-2065-4f65-a692-1746252fcb32",
   "metadata": {},
   "outputs": [],
   "source": []
  },
  {
   "cell_type": "code",
   "execution_count": null,
   "id": "ba0638e9-be77-4101-a9f4-5c0b609ab936",
   "metadata": {},
   "outputs": [],
   "source": []
  },
  {
   "cell_type": "code",
   "execution_count": null,
   "id": "263e75a5-931c-4abb-86d0-eccb2273749e",
   "metadata": {},
   "outputs": [],
   "source": []
  },
  {
   "cell_type": "code",
   "execution_count": 47,
   "id": "c9b8d0e4-adcd-4000-b0b0-6265897183c8",
   "metadata": {},
   "outputs": [],
   "source": [
    "l = [1, 2, 3, 4, 5]"
   ]
  },
  {
   "cell_type": "raw",
   "id": "7e22e642-ff29-4192-9d34-7962a4ebb986",
   "metadata": {},
   "source": [
    "next(l) # TypeError: 'list' object is not an iterator"
   ]
  },
  {
   "cell_type": "code",
   "execution_count": 44,
   "id": "90491134-87c7-4d7c-97b0-f932fc7b55e9",
   "metadata": {},
   "outputs": [],
   "source": [
    "o = reversed(l) # It does not return a list. It returns a cursor / iterator."
   ]
  },
  {
   "cell_type": "code",
   "execution_count": 45,
   "id": "9ada80bf-c1ef-4c14-9acc-7456b536bab8",
   "metadata": {},
   "outputs": [
    {
     "data": {
      "text/plain": [
       "list_reverseiterator"
      ]
     },
     "execution_count": 45,
     "metadata": {},
     "output_type": "execute_result"
    }
   ],
   "source": [
    "type(o)"
   ]
  },
  {
   "cell_type": "code",
   "execution_count": 57,
   "id": "43465fbc-b489-4828-b613-a271cc716311",
   "metadata": {},
   "outputs": [
    {
     "data": {
      "text/plain": [
       "<list_reverseiterator at 0x7f6774821ac0>"
      ]
     },
     "execution_count": 57,
     "metadata": {},
     "output_type": "execute_result"
    }
   ],
   "source": [
    "o"
   ]
  },
  {
   "cell_type": "code",
   "execution_count": 55,
   "id": "bec3fef6-0813-4cbf-b688-c45f0a26efc5",
   "metadata": {},
   "outputs": [
    {
     "data": {
      "text/plain": [
       "2"
      ]
     },
     "execution_count": 55,
     "metadata": {},
     "output_type": "execute_result"
    }
   ],
   "source": [
    "next(o)"
   ]
  },
  {
   "cell_type": "code",
   "execution_count": 56,
   "id": "f2c8b6d0-83d5-4c26-882a-91059c25d7c4",
   "metadata": {},
   "outputs": [
    {
     "data": {
      "text/plain": [
       "[5, 4, 3, 2, 1]"
      ]
     },
     "execution_count": 56,
     "metadata": {},
     "output_type": "execute_result"
    }
   ],
   "source": [
    "list(reversed(l))"
   ]
  },
  {
   "cell_type": "code",
   "execution_count": 32,
   "id": "a38ac3d4-42b0-4ba8-93a4-e0e9bd45a2b9",
   "metadata": {},
   "outputs": [],
   "source": [
    "l = [1, 2, 3, 4, 5, 0]"
   ]
  },
  {
   "cell_type": "code",
   "execution_count": 33,
   "id": "49824dc8-0c1b-4613-acea-a6d2ba0cec05",
   "metadata": {},
   "outputs": [
    {
     "data": {
      "text/plain": [
       "[0, 1, 2, 3, 4, 5]"
      ]
     },
     "execution_count": 33,
     "metadata": {},
     "output_type": "execute_result"
    }
   ],
   "source": [
    "sorted(l)"
   ]
  },
  {
   "cell_type": "raw",
   "id": "02c056d2-8c00-4830-9848-17a547e3d650",
   "metadata": {},
   "source": [
    "You have to check and validate the return type of a method or function."
   ]
  },
  {
   "cell_type": "code",
   "execution_count": 15,
   "id": "6320d447-a707-4ae5-a4a3-175b8ba00be3",
   "metadata": {},
   "outputs": [
    {
     "data": {
      "text/plain": [
       "7"
      ]
     },
     "execution_count": 15,
     "metadata": {},
     "output_type": "execute_result"
    }
   ],
   "source": [
    "int(7.2) # Equivalent to calculating floor"
   ]
  },
  {
   "cell_type": "code",
   "execution_count": 17,
   "id": "04a46106-7215-47c9-bf67-58b7bba20f71",
   "metadata": {},
   "outputs": [
    {
     "data": {
      "text/plain": [
       "7"
      ]
     },
     "execution_count": 17,
     "metadata": {},
     "output_type": "execute_result"
    }
   ],
   "source": [
    "int(7.9) # Equivalent to calculating floor"
   ]
  },
  {
   "cell_type": "code",
   "execution_count": 18,
   "id": "13f25d9c-a09e-4018-a788-7ba6a4bd35fe",
   "metadata": {},
   "outputs": [
    {
     "name": "stdout",
     "output_type": "stream",
     "text": [
      "2\n",
      "6\n",
      "-5\n",
      "23\n",
      "10\n"
     ]
    }
   ],
   "source": [
    "# Import math library\n",
    "import math\n",
    "\n",
    "# Round a number upward to its nearest integer\n",
    "print(math.ceil(1.4))\n",
    "print(math.ceil(5.3))\n",
    "print(math.ceil(-5.3)) # Lies between -6 and -5. -5 is higher.\n",
    "print(math.ceil(22.6))\n",
    "print(math.ceil(10.0))"
   ]
  },
  {
   "cell_type": "code",
   "execution_count": null,
   "id": "6e82eef2-8e3e-4518-92c9-e35e0b08c3a9",
   "metadata": {},
   "outputs": [],
   "source": [
    "# Return the next higher integer than the decimal itself."
   ]
  },
  {
   "cell_type": "code",
   "execution_count": 19,
   "id": "d5f259cc-6ed8-416b-a24b-acb101a4e355",
   "metadata": {},
   "outputs": [
    {
     "name": "stdout",
     "output_type": "stream",
     "text": [
      "1\n",
      "5\n",
      "-6\n",
      "22\n",
      "10\n"
     ]
    }
   ],
   "source": [
    "# Import math library\n",
    "import math\n",
    "\n",
    "# Round a number downward to its nearest integer\n",
    "print(math.floor(1.4))\n",
    "print(math.floor(5.3))\n",
    "print(math.floor(-5.3))\n",
    "print(math.floor(22.6))\n",
    "print(math.floor(10.0))"
   ]
  },
  {
   "cell_type": "code",
   "execution_count": null,
   "id": "a94e3b60-5b7a-43dc-a295-3ac0b8d03f80",
   "metadata": {},
   "outputs": [],
   "source": []
  },
  {
   "cell_type": "code",
   "execution_count": null,
   "id": "703780f2-c586-4f91-871b-a3eca50c1ed1",
   "metadata": {},
   "outputs": [],
   "source": []
  },
  {
   "cell_type": "code",
   "execution_count": null,
   "id": "2ed7ee6b-cb4b-4722-8508-471b0631fcbf",
   "metadata": {},
   "outputs": [],
   "source": []
  },
  {
   "cell_type": "code",
   "execution_count": 22,
   "id": "03b19502-93d3-4dbd-9077-e8af82d23c6e",
   "metadata": {},
   "outputs": [],
   "source": [
    "greek = ['alpha', 'beta', 'gamma']"
   ]
  },
  {
   "cell_type": "code",
   "execution_count": 23,
   "id": "9906d8f9-5724-43e0-8f86-ebfcd37c145b",
   "metadata": {},
   "outputs": [
    {
     "data": {
      "text/plain": [
       "'gamma'"
      ]
     },
     "execution_count": 23,
     "metadata": {},
     "output_type": "execute_result"
    }
   ],
   "source": [
    "max(greek)"
   ]
  },
  {
   "cell_type": "code",
   "execution_count": 31,
   "id": "756daa17-8317-4657-bd85-10f344d166ec",
   "metadata": {},
   "outputs": [
    {
     "ename": "ValueError",
     "evalue": "invalid literal for int() with base 10: '5.9'",
     "output_type": "error",
     "traceback": [
      "\u001b[0;31m---------------------------------------------------------------------------\u001b[0m",
      "\u001b[0;31mValueError\u001b[0m                                Traceback (most recent call last)",
      "\u001b[0;32m/tmp/ipykernel_8406/2034839917.py\u001b[0m in \u001b[0;36m<module>\u001b[0;34m\u001b[0m\n\u001b[1;32m      1\u001b[0m \u001b[0mint\u001b[0m\u001b[0;34m(\u001b[0m\u001b[0;36m5.9\u001b[0m\u001b[0;34m)\u001b[0m\u001b[0;34m\u001b[0m\u001b[0;34m\u001b[0m\u001b[0m\n\u001b[0;32m----> 2\u001b[0;31m \u001b[0mint\u001b[0m\u001b[0;34m(\u001b[0m\u001b[0;34m'5.9'\u001b[0m\u001b[0;34m)\u001b[0m \u001b[0;31m# ValueError: invalid literal for int() with base 10: '5.9'\u001b[0m\u001b[0;34m\u001b[0m\u001b[0;34m\u001b[0m\u001b[0m\n\u001b[0m",
      "\u001b[0;31mValueError\u001b[0m: invalid literal for int() with base 10: '5.9'"
     ]
    }
   ],
   "source": [
    "int(5.9)\n",
    "int('5.9') # ValueError: invalid literal for int() with base 10: '5.9'"
   ]
  },
  {
   "cell_type": "code",
   "execution_count": null,
   "id": "cfc8d23f-a3bb-42af-882f-6684cb30cef1",
   "metadata": {},
   "outputs": [],
   "source": []
  },
  {
   "cell_type": "code",
   "execution_count": null,
   "id": "948e01a7-ff4c-42f8-a71a-11797087cb07",
   "metadata": {},
   "outputs": [],
   "source": []
  },
  {
   "cell_type": "code",
   "execution_count": 58,
   "id": "2366df90-20ac-4cc9-85ef-534d776f7745",
   "metadata": {},
   "outputs": [],
   "source": [
    "s1 = 'mystring'\n",
    "s2 = 'mystring'"
   ]
  },
  {
   "cell_type": "code",
   "execution_count": 59,
   "id": "a5d04ca1-338d-49e1-95e9-0fd0caaf74a0",
   "metadata": {},
   "outputs": [
    {
     "data": {
      "text/plain": [
       "True"
      ]
     },
     "execution_count": 59,
     "metadata": {},
     "output_type": "execute_result"
    }
   ],
   "source": [
    "s1 is s2"
   ]
  },
  {
   "cell_type": "code",
   "execution_count": 60,
   "id": "df1f5f3f-159c-4846-8097-eee9bb26928d",
   "metadata": {},
   "outputs": [
    {
     "data": {
      "text/plain": [
       "140082311787504"
      ]
     },
     "execution_count": 60,
     "metadata": {},
     "output_type": "execute_result"
    }
   ],
   "source": [
    "id(s1)"
   ]
  },
  {
   "cell_type": "code",
   "execution_count": 61,
   "id": "2bbe4b45-036a-4572-8a68-b82ed5ae7874",
   "metadata": {},
   "outputs": [
    {
     "data": {
      "text/plain": [
       "140082311787504"
      ]
     },
     "execution_count": 61,
     "metadata": {},
     "output_type": "execute_result"
    }
   ],
   "source": [
    "id(s2)"
   ]
  },
  {
   "cell_type": "code",
   "execution_count": 62,
   "id": "41a2137b-1b01-4241-8589-e67dc2f00824",
   "metadata": {},
   "outputs": [],
   "source": [
    "l1 = ['apple', 'orange']\n",
    "l2 = ['apple', 'orange']"
   ]
  },
  {
   "cell_type": "code",
   "execution_count": 63,
   "id": "55169f15-23ea-42ea-a013-51e147d07389",
   "metadata": {},
   "outputs": [
    {
     "data": {
      "text/plain": [
       "False"
      ]
     },
     "execution_count": 63,
     "metadata": {},
     "output_type": "execute_result"
    }
   ],
   "source": [
    "l1 is l2"
   ]
  },
  {
   "cell_type": "code",
   "execution_count": null,
   "id": "196ffa0c-cc6e-4bf4-9239-9d0bac1a6fc7",
   "metadata": {},
   "outputs": [],
   "source": []
  }
 ],
 "metadata": {
  "kernelspec": {
   "display_name": "Python 3 (ipykernel)",
   "language": "python",
   "name": "python3"
  },
  "language_info": {
   "codemirror_mode": {
    "name": "ipython",
    "version": 3
   },
   "file_extension": ".py",
   "mimetype": "text/x-python",
   "name": "python",
   "nbconvert_exporter": "python",
   "pygments_lexer": "ipython3",
   "version": "3.9.13"
  }
 },
 "nbformat": 4,
 "nbformat_minor": 5
}
