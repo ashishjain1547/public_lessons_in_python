{
 "cells": [
  {
   "cell_type": "code",
   "execution_count": 1,
   "id": "e4aa889c-1550-4904-9197-7ac90bb26e8b",
   "metadata": {},
   "outputs": [
    {
     "name": "stdin",
     "output_type": "stream",
     "text": [
      "Enter an integer 5\n"
     ]
    }
   ],
   "source": [
    "i = input(\"Enter an integer\")"
   ]
  },
  {
   "cell_type": "code",
   "execution_count": 2,
   "id": "a808cbee-73ed-4a89-9e41-78e9025f63e7",
   "metadata": {},
   "outputs": [
    {
     "data": {
      "text/plain": [
       "str"
      ]
     },
     "execution_count": 2,
     "metadata": {},
     "output_type": "execute_result"
    }
   ],
   "source": [
    "type(i)"
   ]
  },
  {
   "cell_type": "code",
   "execution_count": 3,
   "id": "7c8763ee-6980-4575-93cf-9c7f0964385e",
   "metadata": {},
   "outputs": [
    {
     "data": {
      "text/plain": [
       "True"
      ]
     },
     "execution_count": 3,
     "metadata": {},
     "output_type": "execute_result"
    }
   ],
   "source": [
    "bool(i)"
   ]
  },
  {
   "cell_type": "code",
   "execution_count": 4,
   "id": "07775539-c060-4743-a6fe-9f488dba4695",
   "metadata": {},
   "outputs": [
    {
     "data": {
      "text/plain": [
       "5"
      ]
     },
     "execution_count": 4,
     "metadata": {},
     "output_type": "execute_result"
    }
   ],
   "source": [
    "int(i)"
   ]
  },
  {
   "cell_type": "code",
   "execution_count": 5,
   "id": "6eae52b8-2b73-4c1e-a444-da2d418dad68",
   "metadata": {},
   "outputs": [],
   "source": [
    "j = int(i)"
   ]
  },
  {
   "cell_type": "code",
   "execution_count": 6,
   "id": "4204f8ab-efbb-49bc-be55-2f75bd824e6a",
   "metadata": {},
   "outputs": [
    {
     "data": {
      "text/plain": [
       "int"
      ]
     },
     "execution_count": 6,
     "metadata": {},
     "output_type": "execute_result"
    }
   ],
   "source": [
    "type(j)"
   ]
  },
  {
   "cell_type": "code",
   "execution_count": 7,
   "id": "bf34674b-208b-418c-94b4-e01a413e80bd",
   "metadata": {},
   "outputs": [
    {
     "data": {
      "text/plain": [
       "10"
      ]
     },
     "execution_count": 7,
     "metadata": {},
     "output_type": "execute_result"
    }
   ],
   "source": [
    "j + 5"
   ]
  },
  {
   "cell_type": "code",
   "execution_count": 8,
   "id": "b74364ea-3991-41a2-89f8-f24ad4aca91d",
   "metadata": {},
   "outputs": [
    {
     "ename": "TypeError",
     "evalue": "can only concatenate str (not \"int\") to str",
     "output_type": "error",
     "traceback": [
      "\u001b[0;31m---------------------------------------------------------------------------\u001b[0m",
      "\u001b[0;31mTypeError\u001b[0m                                 Traceback (most recent call last)",
      "\u001b[0;32m/tmp/ipykernel_27825/3766518998.py\u001b[0m in \u001b[0;36m<module>\u001b[0;34m\u001b[0m\n\u001b[0;32m----> 1\u001b[0;31m \u001b[0mi\u001b[0m \u001b[0;34m+\u001b[0m \u001b[0;36m5\u001b[0m\u001b[0;34m\u001b[0m\u001b[0;34m\u001b[0m\u001b[0m\n\u001b[0m",
      "\u001b[0;31mTypeError\u001b[0m: can only concatenate str (not \"int\") to str"
     ]
    }
   ],
   "source": [
    "i + 5"
   ]
  },
  {
   "cell_type": "code",
   "execution_count": null,
   "id": "c77c2944-f3b2-4015-ada2-c2f36c9ff1c4",
   "metadata": {},
   "outputs": [],
   "source": []
  },
  {
   "cell_type": "code",
   "execution_count": 9,
   "id": "e4827aa1-2fb7-4bab-8f22-383c07aa59b8",
   "metadata": {},
   "outputs": [],
   "source": [
    "# Take an integer input from the user"
   ]
  },
  {
   "cell_type": "code",
   "execution_count": 10,
   "id": "efdc0c29-4045-4af8-8bd8-e274ba523c62",
   "metadata": {},
   "outputs": [
    {
     "name": "stdin",
     "output_type": "stream",
     "text": [
      "Enter an int: 5\n"
     ]
    }
   ],
   "source": [
    "x = int(input(\"Enter an int:\"))"
   ]
  },
  {
   "cell_type": "code",
   "execution_count": 11,
   "id": "f66a880c-087a-48a9-a44c-e05041b52bea",
   "metadata": {},
   "outputs": [
    {
     "data": {
      "text/plain": [
       "int"
      ]
     },
     "execution_count": 11,
     "metadata": {},
     "output_type": "execute_result"
    }
   ],
   "source": [
    "type(x)"
   ]
  },
  {
   "cell_type": "code",
   "execution_count": 13,
   "id": "e86e587c-3215-490c-9bc4-c6ee970b4c17",
   "metadata": {},
   "outputs": [
    {
     "name": "stdin",
     "output_type": "stream",
     "text": [
      "Enter an int: abc\n"
     ]
    },
    {
     "ename": "ValueError",
     "evalue": "invalid literal for int() with base 10: 'abc'",
     "output_type": "error",
     "traceback": [
      "\u001b[0;31m---------------------------------------------------------------------------\u001b[0m",
      "\u001b[0;31mValueError\u001b[0m                                Traceback (most recent call last)",
      "\u001b[0;32m/tmp/ipykernel_27825/3944983308.py\u001b[0m in \u001b[0;36m<module>\u001b[0;34m\u001b[0m\n\u001b[0;32m----> 1\u001b[0;31m \u001b[0mx\u001b[0m \u001b[0;34m=\u001b[0m \u001b[0mint\u001b[0m\u001b[0;34m(\u001b[0m\u001b[0minput\u001b[0m\u001b[0;34m(\u001b[0m\u001b[0;34m\"Enter an int:\"\u001b[0m\u001b[0;34m)\u001b[0m\u001b[0;34m)\u001b[0m\u001b[0;34m\u001b[0m\u001b[0;34m\u001b[0m\u001b[0m\n\u001b[0m",
      "\u001b[0;31mValueError\u001b[0m: invalid literal for int() with base 10: 'abc'"
     ]
    }
   ],
   "source": [
    "x = int(input(\"Enter an int:\"))"
   ]
  },
  {
   "cell_type": "code",
   "execution_count": 15,
   "id": "71981dd9-f690-4f22-863b-83b597adcad6",
   "metadata": {},
   "outputs": [
    {
     "name": "stdin",
     "output_type": "stream",
     "text": [
      "Enter an number: 5.2\n"
     ]
    }
   ],
   "source": [
    "x = float(input(\"Enter an number:\"))"
   ]
  },
  {
   "cell_type": "code",
   "execution_count": 16,
   "id": "ca0f3dde-7336-4e19-8f32-01ec7b97d91b",
   "metadata": {},
   "outputs": [
    {
     "data": {
      "text/plain": [
       "float"
      ]
     },
     "execution_count": 16,
     "metadata": {},
     "output_type": "execute_result"
    }
   ],
   "source": [
    "type(x)"
   ]
  },
  {
   "cell_type": "code",
   "execution_count": 17,
   "id": "1338b2aa-dbb5-4c30-ba78-6e69bbdda1ac",
   "metadata": {},
   "outputs": [
    {
     "name": "stdin",
     "output_type": "stream",
     "text": [
      "Enter a number: 5.2\n"
     ]
    }
   ],
   "source": [
    "x = input(\"Enter a number:\")"
   ]
  },
  {
   "cell_type": "code",
   "execution_count": 18,
   "id": "3210cfa4-f8be-49e5-9aaa-db1f1e8312d7",
   "metadata": {},
   "outputs": [
    {
     "data": {
      "text/plain": [
       "str"
      ]
     },
     "execution_count": 18,
     "metadata": {},
     "output_type": "execute_result"
    }
   ],
   "source": [
    "type(x)"
   ]
  },
  {
   "cell_type": "code",
   "execution_count": null,
   "id": "a58f1f93-d77e-4ba2-8227-48b3947ecf2f",
   "metadata": {},
   "outputs": [],
   "source": []
  },
  {
   "cell_type": "code",
   "execution_count": 19,
   "id": "72aa00d8-3f70-4f71-b6f6-d37d78f4f149",
   "metadata": {},
   "outputs": [],
   "source": [
    "i = 5"
   ]
  },
  {
   "cell_type": "code",
   "execution_count": 20,
   "id": "ce80732f-de77-4ccd-95cf-c34ba30cc04d",
   "metadata": {},
   "outputs": [
    {
     "data": {
      "text/plain": [
       "True"
      ]
     },
     "execution_count": 20,
     "metadata": {},
     "output_type": "execute_result"
    }
   ],
   "source": [
    "bool(i)"
   ]
  },
  {
   "cell_type": "code",
   "execution_count": 21,
   "id": "79c1c10f-2436-45cf-b712-5beee858aa0c",
   "metadata": {},
   "outputs": [],
   "source": [
    "i = 0"
   ]
  },
  {
   "cell_type": "code",
   "execution_count": 22,
   "id": "1f045f91-4d64-4b2c-86d9-138d2884cf0d",
   "metadata": {},
   "outputs": [
    {
     "data": {
      "text/plain": [
       "False"
      ]
     },
     "execution_count": 22,
     "metadata": {},
     "output_type": "execute_result"
    }
   ],
   "source": [
    "bool(i)"
   ]
  },
  {
   "cell_type": "code",
   "execution_count": 23,
   "id": "309f3ace-aba0-429b-82a9-dc96b0a78b6b",
   "metadata": {},
   "outputs": [],
   "source": [
    "i = 'abc'"
   ]
  },
  {
   "cell_type": "code",
   "execution_count": 24,
   "id": "ca2b7d3c-7806-4c0f-a04e-ac358e1501f9",
   "metadata": {},
   "outputs": [
    {
     "data": {
      "text/plain": [
       "True"
      ]
     },
     "execution_count": 24,
     "metadata": {},
     "output_type": "execute_result"
    }
   ],
   "source": [
    "bool(i)"
   ]
  },
  {
   "cell_type": "code",
   "execution_count": 25,
   "id": "675b097f-5e05-4d77-b4a3-cf4e38b75b52",
   "metadata": {},
   "outputs": [],
   "source": [
    "i = 5.2"
   ]
  },
  {
   "cell_type": "code",
   "execution_count": 26,
   "id": "7a43caaf-965d-4dd4-9a35-9b987a70616f",
   "metadata": {},
   "outputs": [
    {
     "data": {
      "text/plain": [
       "True"
      ]
     },
     "execution_count": 26,
     "metadata": {},
     "output_type": "execute_result"
    }
   ],
   "source": [
    "bool(i)"
   ]
  },
  {
   "cell_type": "code",
   "execution_count": 27,
   "id": "fdb99bc3-55e2-4bd5-9de8-d02c9aa3b503",
   "metadata": {},
   "outputs": [],
   "source": [
    "i = 0"
   ]
  },
  {
   "cell_type": "code",
   "execution_count": 28,
   "id": "c8303948-45f6-47b6-b30d-393fa2bd6ba1",
   "metadata": {},
   "outputs": [
    {
     "data": {
      "text/plain": [
       "False"
      ]
     },
     "execution_count": 28,
     "metadata": {},
     "output_type": "execute_result"
    }
   ],
   "source": [
    "bool(i)"
   ]
  },
  {
   "cell_type": "code",
   "execution_count": 29,
   "id": "ec6b7ce6-391b-4756-85ea-b9610a464205",
   "metadata": {},
   "outputs": [
    {
     "name": "stdout",
     "output_type": "stream",
     "text": [
      "In else\n"
     ]
    }
   ],
   "source": [
    "var = 0\n",
    "if var:\n",
    "    print(\"In if\")\n",
    "else:\n",
    "    print(\"In else\")"
   ]
  },
  {
   "cell_type": "code",
   "execution_count": null,
   "id": "56843189-be41-4064-ae53-80648e7bd106",
   "metadata": {},
   "outputs": [],
   "source": []
  }
 ],
 "metadata": {
  "kernelspec": {
   "display_name": "Python 3 (ipykernel)",
   "language": "python",
   "name": "python3"
  },
  "language_info": {
   "codemirror_mode": {
    "name": "ipython",
    "version": 3
   },
   "file_extension": ".py",
   "mimetype": "text/x-python",
   "name": "python",
   "nbconvert_exporter": "python",
   "pygments_lexer": "ipython3",
   "version": "3.9.13"
  }
 },
 "nbformat": 4,
 "nbformat_minor": 5
}
